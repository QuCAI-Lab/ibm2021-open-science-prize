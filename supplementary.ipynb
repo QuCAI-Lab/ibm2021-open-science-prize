{
 "cells": [
  {
   "cell_type": "markdown",
   "metadata": {
    "id": "Pfy1TS1wxRVW"
   },
   "source": [
    "<!-- Badges: -->\n",
    "[![Donate](https://img.shields.io/badge/Donate-PayPal-green.svg?logo=paypal&style=flat-square)](https://www.paypal.me/CamponogaraViera/100)\n",
    "[![Open In Colab](https://colab.research.google.com/assets/colab-badge.svg)](https://colab.research.google.com/github/QuCAI-Lab/ibm2021-open-science-prize/blob/dev/simulation.ipynb)\n",
    "[![License](https://img.shields.io/github/license/QuCAI-Lab/ibm2021-open-science-prize.svg?logo=CreativeCommons&style=flat-square)](https://github.com/QuCAI-Lab/ibm2021-open-science-prize/blob/dev/LICENSE.md)\n",
    "[![Contributions](https://img.shields.io/badge/contributions-welcome-orange?style=flat-square)](https://github.com/QuCAI-Lab/ibm2021-open-science-prize/pulls)\n",
    "[![Maintenance](https://img.shields.io/badge/Maintained%3F-yes-green.svg)](https://github.com/QuCAI-Lab/ibm2021-open-science-prize/graphs/commit-activity)\n",
    "[![Release](https://img.shields.io/github/release/QuCAI-Lab/ibm2021-open-science-prize.svg)](https://github.com/QuCAI-Lab/ibm2021-open-science-prize/releases)\n",
    "\n",
    "<div align=\"center\">\n",
    "  <h1> <a href=\"https://research.ibm.com/blog/quantum-open-science-prize\">2021 IBM Open Science Prize</a>  </h1>\n",
    "  <h1><b> Supplementary Material </b></h1>\n",
    "  <h3><b> Simulating the XXX Heisenberg Model Hamiltonian for a System of Three Interacting Spin-1/2 Particles on IBM Quantum’s 7-qubit Jakarta Processor </b></h3>\n",
    "</div>\n",
    "<br> \n",
    "\n",
    "<center> <b>Author: ¹Lucas Camponogara Viera</b></center>\n",
    "<center>\n",
    "<b><a target=\"_blank\" href=\"https://en.ntnu.edu.tw/\">¹National Taiwan Normal University - NTNU, Taipei, Taiwan</a></b>.\n",
    "</center>"
   ]
  },
  {
   "cell_type": "markdown",
   "metadata": {
    "id": "egF6hx8y7Fa6"
   },
   "source": [
    "<br>\n",
    "\n",
    "[comment]: <> ()\n",
    "<table class=\"tfo-notebook-buttons\" align=\"head\">\n",
    "  <td>\n",
    "    <a target=\"_blank\" href=\"https://github.com/QuCAI-Lab/ibm2021-open-science-prize\"><img src=\"https://www.tensorflow.org/images/GitHub-Mark-32px.png\" /></a>\n",
    "  </td>\n",
    "</table>\n",
    "\n",
    "<center><a href=\"https://github.com/QuCAI-Lab/ibm2021-open-science-prize\"><b>View on GitHub</b></a></center>\n",
    "\n",
    "    \n"
   ]
  },
  {
   "cell_type": "code",
   "execution_count": 1,
   "metadata": {
    "colab": {
     "base_uri": "https://localhost:8080/",
     "height": 34
    },
    "executionInfo": {
     "elapsed": 314,
     "status": "ok",
     "timestamp": 1650111289989,
     "user": {
      "displayName": "Lucas Camponogara Viera",
      "userId": "13421704742725721901"
     },
     "user_tz": -480
    },
    "id": "K7XSEBSixP7L",
    "outputId": "1430f252-9c07-468d-a2c3-253ca8f3df39"
   },
   "outputs": [
    {
     "data": {
      "application/javascript": [
       "IPython.notebook.set_autosave_interval(30000)"
      ]
     },
     "metadata": {},
     "output_type": "display_data"
    },
    {
     "name": "stdout",
     "output_type": "stream",
     "text": [
      "Autosaving every 30 seconds\n"
     ]
    }
   ],
   "source": [
    "%autosave 30"
   ]
  },
  {
   "cell_type": "markdown",
   "metadata": {
    "id": "E9HgWhuExVGh"
   },
   "source": [
    "---\n",
    "In this Jupyter notebook, the reader will find some of the equations of the quantum simulation presented in the `simulation.ipynb` notebook file. The mathematical framework employed in the remainder of this Jupyter notebook is the contemporary matrix mechanics formalism of quantum mechanics initially developed by Werner Heisenberg, Max Born, and Pascual Jordan in a sequel of articles between 1925 and 1926. Within this formalism, the central pivots of the theory are the physical observables (e.g., spin, electric charge, magnetic flux, position, momentum, etc.) represented by Hermitian operators (self-adjoint matrices) where the corresponding eigenvectors form a set of orthonormal basis for the Hilbert space.\n",
    "\n",
    "---"
   ]
  },
  {
   "cell_type": "markdown",
   "metadata": {
    "id": "fdYp7ZX3fKPF"
   },
   "source": [
    "# &nbsp; <a href=\"https://creativecommons.org/licenses/by/4.0/\"><img valign=\"middle\" src=\"https://img.icons8.com/copyright\" width=\"50\"></a> License"
   ]
  },
  {
   "cell_type": "code",
   "execution_count": 2,
   "metadata": {
    "cellView": "form",
    "id": "wqNaP4k2fKjw"
   },
   "outputs": [],
   "source": [
    "#@title Copyright 2022.\n",
    "# This code is part of heisenberg-model.\n",
    "#\n",
    "# (C) Copyright NTNU QuCAI-Lab, 2022.\n",
    "#\n",
    "# This code is licensed under the Creative Commons Zero v1.0 Universal License. \n",
    "# You may obtain a copy of the License at https://github.com/QuCAI-Lab/ibm2021-open-science-prize/blob/dev/LICENSE.md."
   ]
  },
  {
   "cell_type": "markdown",
   "metadata": {
    "id": "m8xcJoamftJC"
   },
   "source": [
    "# &nbsp; <a href=\"https://colab.research.google.com/\"><img valign=\"middle\" src=\"https://www.tensorflow.org/images/colab_logo_32px.png\" width=\"50\"></a> Pip Install\n",
    "\n",
    "* **Run the following cells only if you are running this Jupyter notebook outside the [heisenberg_model environment](https://github.com/QuCAI-Lab/ibm2021-open-science-prize/blob/dev/environment.yml).**\n",
    "\n",
    "Installing `Qiskit`, `NumPy`, and `pylatexenc`."
   ]
  },
  {
   "cell_type": "code",
   "execution_count": 3,
   "metadata": {
    "colab": {
     "base_uri": "https://localhost:8080/",
     "height": 53
    },
    "executionInfo": {
     "elapsed": 290,
     "status": "ok",
     "timestamp": 1650114540268,
     "user": {
      "displayName": "Lucas Camponogara Viera",
      "userId": "13421704742725721901"
     },
     "user_tz": -480
    },
    "id": "89SU631zhgN5",
    "outputId": "8440729c-b1be-4ccb-9a6c-17ec51b3e22f"
   },
   "outputs": [
    {
     "data": {
      "text/plain": [
       "'\\n# Installing a non-default library\\n\\n!python3 -m pip install <library_name>\\n\\n# Alternative \\n\\n!apt-get -qq install -y <library_name> && python3 -m pip install -U <library_name> \\n\\n# Upgrading an installed library\\n\\n!python3 -m pip install -U --upgrade <library_name> \\n'"
      ]
     },
     "execution_count": 3,
     "metadata": {},
     "output_type": "execute_result"
    }
   ],
   "source": [
    "'''\n",
    "# Installing a non-default library\n",
    "\n",
    "!python3 -m pip install <library_name>\n",
    "\n",
    "# Alternative \n",
    "\n",
    "!apt-get -qq install -y <library_name> && python3 -m pip install -U <library_name> \n",
    "\n",
    "# Upgrading an installed library\n",
    "\n",
    "!python3 -m pip install -U --upgrade <library_name> \n",
    "'''"
   ]
  },
  {
   "cell_type": "code",
   "execution_count": 4,
   "metadata": {},
   "outputs": [
    {
     "name": "stdout",
     "output_type": "stream",
     "text": [
      "22.0.4\n"
     ]
    }
   ],
   "source": [
    "try:\n",
    "  import pip, pkg_resources\n",
    "  pkg_resources.require(\"pip>=21.1.3\") # Latest version: 22.0.4\n",
    "  print(pip.__version__)\n",
    "except:\n",
    "  import subprocess, sys\n",
    "  cmd = \"python3 -m pip install --upgrade pip\"\n",
    "  process = subprocess.Popen(cmd,shell=True,bufsize=1,stdout=subprocess.PIPE,\n",
    "                             stderr=subprocess.STDOUT,encoding='utf-8',errors='replace') \n",
    "  while True:\n",
    "    out = process.stdout.readline()\n",
    "    if out == '' and process.poll() is not None:\n",
    "      break\n",
    "    if out:\n",
    "      print(out.strip(), flush=False)\n",
    "      sys.stdout.flush()\n",
    "  #raise"
   ]
  },
  {
   "cell_type": "code",
   "execution_count": 5,
   "metadata": {},
   "outputs": [
    {
     "name": "stdout",
     "output_type": "stream",
     "text": [
      "pip 22.0.4 from C:\\Users\\Qulab\\.conda\\envs\\heisenberg-model\\lib\\site-packages\\pip (python 3.7)\n",
      "\n"
     ]
    }
   ],
   "source": [
    "#!python3 -m pip install pip==version_number # To downgrade pip.\n",
    "!pip --version"
   ]
  },
  {
   "cell_type": "markdown",
   "metadata": {},
   "source": [
    "**NumPy:**"
   ]
  },
  {
   "cell_type": "code",
   "execution_count": null,
   "metadata": {
    "colab": {
     "base_uri": "https://localhost:8080/"
    },
    "executionInfo": {
     "elapsed": 3277,
     "status": "ok",
     "timestamp": 1650114543821,
     "user": {
      "displayName": "Lucas Camponogara Viera",
      "userId": "13421704742725721901"
     },
     "user_tz": -480
    },
    "id": "GTMpbrJhhpVm",
    "outputId": "dedf0cf2-aa41-439a-8d12-2e977a508f1a"
   },
   "outputs": [],
   "source": [
    "!python3 -m pip install numpy==1.20.1"
   ]
  },
  {
   "cell_type": "markdown",
   "metadata": {},
   "source": [
    "**Qiskit:**"
   ]
  },
  {
   "cell_type": "code",
   "execution_count": null,
   "metadata": {
    "colab": {
     "base_uri": "https://localhost:8080/"
    },
    "executionInfo": {
     "elapsed": 3691,
     "status": "ok",
     "timestamp": 1650114547504,
     "user": {
      "displayName": "Lucas Camponogara Viera",
      "userId": "13421704742725721901"
     },
     "user_tz": -480
    },
    "id": "dk3Wkme2fPeN",
    "outputId": "31389a39-2f56-48fc-b344-0b96092a3a37"
   },
   "outputs": [],
   "source": [
    "!python3 -m pip install qiskit==0.35.0"
   ]
  },
  {
   "cell_type": "markdown",
   "metadata": {},
   "source": [
    "**pylatexenc**:"
   ]
  },
  {
   "cell_type": "code",
   "execution_count": null,
   "metadata": {},
   "outputs": [],
   "source": [
    "# The 'pylatexenc' library is required to use 'MatplotlibDrawer'.\n",
    "\n",
    "!python -m pip install pylatexenc==2.10"
   ]
  },
  {
   "cell_type": "markdown",
   "metadata": {
    "id": "fUO4uIAzPXAA"
   },
   "source": [
    "# &nbsp; <a href=\"#\"><img valign=\"middle\" height=\"45px\" src=\"https://img.icons8.com/python\" width=\"45\" hspace=\"0px\" vspace=\"0px\"></a> Dependencies\n",
    "\n",
    "- Importing modules."
   ]
  },
  {
   "cell_type": "code",
   "execution_count": 6,
   "metadata": {
    "id": "nqt7khF2QiGf"
   },
   "outputs": [],
   "source": [
    "import IPython\n",
    "import qiskit\n",
    "import numpy as np \n",
    "from qiskit import QuantumCircuit, QuantumRegister, transpile\n",
    "from qiskit.circuit.library.standard_gates import U3Gate, RYGate\n",
    "from qiskit.circuit import Parameter\n",
    "import qiskit.quantum_info as qi\n",
    "from qiskit import BasicAer"
   ]
  },
  {
   "cell_type": "code",
   "execution_count": 7,
   "metadata": {},
   "outputs": [
    {
     "name": "stdout",
     "output_type": "stream",
     "text": [
      "2.3.0\n"
     ]
    }
   ],
   "source": [
    "### If using Google Colab, one needs to restart Colab Runtime after pip install. ###\n",
    "\n",
    "try:\n",
    "  import pkg_resources, watermark\n",
    "  pkg_resources.require(\"watermark>=2.3.0\") # Force watermark version.\n",
    "  print(watermark.__version__)\n",
    "except:\n",
    "  import subprocess, sys\n",
    "  if \"google.colab\" in sys.modules:\n",
    "    cmd = \"python3 -m pip install --upgrade watermark\" # Upgrade watermak.\n",
    "\n",
    "    process = subprocess.Popen(cmd,shell=True,bufsize=1,stdout=subprocess.PIPE, \\\n",
    "                              stderr=subprocess.STDOUT,encoding='utf-8',errors='replace') \n",
    "    while True: \n",
    "      out = process.stdout.readline() # The first line of the file.\n",
    "      if out == '' and process.poll() is not None: # Run the loop until condition is True.\n",
    "        break \n",
    "      if out:\n",
    "        print(out.strip(), flush=False) # Removes leading and trailing empty spaces. \n",
    "        sys.stdout.flush()\n",
    "    #raise # To raise the import error. Upgrade will be successful regardless."
   ]
  },
  {
   "cell_type": "code",
   "execution_count": 8,
   "metadata": {},
   "outputs": [
    {
     "name": "stdout",
     "output_type": "stream",
     "text": [
      "Author: LucasCamponogaraViera\n",
      "\n",
      "Github username: QuCAI-Lab\n",
      "\n",
      "Website: https://github.com/QuCAI-Lab/ibm2021-open-science-prize\n",
      "\n",
      "Last updated: 2022-04-27\n",
      "\n",
      "Python implementation: CPython\n",
      "Python version       : 3.7.13\n",
      "IPython version      : 7.32.0\n",
      "\n",
      "Compiler    : MSC v.1916 64 bit (AMD64)\n",
      "OS          : Windows\n",
      "Release     : 10\n",
      "Machine     : AMD64\n",
      "Processor   : Intel64 Family 6 Model 158 Stepping 10, GenuineIntel\n",
      "CPU cores   : 6\n",
      "Architecture: 64bit\n",
      "\n",
      "numpy    : 1.20.1\n",
      "qiskit   : 0.35.0\n",
      "pip      : 22.0.4\n",
      "watermark: 2.3.0\n",
      "IPython  : 7.32.0\n",
      "\n",
      "Watermark: 2.3.0\n",
      "\n"
     ]
    }
   ],
   "source": [
    "# If you get hit by the error \"No module named watermark\", run this cell twice!\n",
    "\n",
    "#%load_ext watermark\n",
    "%reload_ext watermark\n",
    "%watermark -a 'LucasCamponogaraViera' -gu 'QuCAI-Lab' -ws 'https://github.com/QuCAI-Lab/ibm2021-open-science-prize' -w -u -d -v -m -iv"
   ]
  },
  {
   "cell_type": "code",
   "execution_count": 9,
   "metadata": {},
   "outputs": [
    {
     "name": "stdout",
     "output_type": "stream",
     "text": [
      "{'commit_hash': 'e84cee846',\n",
      " 'commit_source': 'installation',\n",
      " 'default_encoding': 'cp950',\n",
      " 'ipython_path': 'C:\\\\Users\\\\Qulab\\\\.conda\\\\envs\\\\heisenberg-model\\\\lib\\\\site-packages\\\\IPython',\n",
      " 'ipython_version': '7.32.0',\n",
      " 'os_name': 'nt',\n",
      " 'platform': 'Windows-10-10.0.19041-SP0',\n",
      " 'sys_executable': 'C:\\\\Users\\\\Qulab\\\\.conda\\\\envs\\\\heisenberg-model\\\\python.exe',\n",
      " 'sys_platform': 'win32',\n",
      " 'sys_version': '3.7.13 (default, Mar 28 2022, 08:03:21) [MSC v.1916 64 bit '\n",
      "                '(AMD64)]'}\n"
     ]
    }
   ],
   "source": [
    "print(IPython.sys_info())"
   ]
  },
  {
   "cell_type": "markdown",
   "metadata": {
    "id": "r-2PDFSKa9-d"
   },
   "source": [
    "# Gate Algebra and Circuit Implementation\n",
    "\n",
    "The bare minimum: examples with NumPY & Qiskit.\n",
    "\n",
    "- Resource: see [Barenco et al.](https://arxiv.org/pdf/quant-ph/9503016.pdf) for a review on elementary gates and gate decomposition."
   ]
  },
  {
   "cell_type": "markdown",
   "metadata": {
    "id": "kJJ82x-_b2r0"
   },
   "source": [
    "Quantum gates are all represented by Unitary matrices, but they might not be Hermitian. Most frequently used quantum gates are Hermitian:\n",
    "\n",
    "- [The Hadamard gate](https://qiskit.org/documentation/stubs/qiskit.circuit.library.HGate.html) (a.k.a H or superposition gate), induces a $\\pi$ rotation about the $X+Z$ axis;\n",
    "- [The CNOT gate](https://qiskit.org/documentation/stubs/qiskit.circuit.library.CXGate.html);\n",
    "- [The SWAP gate](https://qiskit.org/documentation/stubs/qiskit.circuit.library.SwapGate.html);\n",
    "- [The Toffoli gate](https://qiskit.org/documentation/stubs/qiskit.circuit.library.CCXGate.html) (a.k.a CCNOT or deutsch);\n",
    "- Fredkin (CSWAP) gate;\n",
    "- All Pauli gates: [X](https://qiskit.org/documentation/tutorials/circuits/3_summary_of_quantum_operations.html#X:-bit-flip-gate), [Y](https://qiskit.org/documentation/tutorials/circuits/3_summary_of_quantum_operations.html#Y:-bit--and-phase-flip-gate), [Z](https://qiskit.org/documentation/tutorials/circuits/3_summary_of_quantum_operations.html#Z:-phase-flip-gate). \n",
    "\n",
    "However, there are non-hermitian gates such as:\n",
    "\n",
    "- The phase gate [T](https://qiskit.org/documentation/stubs/qiskit.circuit.library.TGate.html) (fourth-root of Pauli-$Z$);\n",
    "- The [phase gate S](https://qiskit.org/documentation/stubs/qiskit.circuit.library.SGate.html) a.k.a as P gate (square-root of Pauli-$Z$).\n",
    "\n",
    "\n"
   ]
  },
  {
   "cell_type": "markdown",
   "metadata": {
    "id": "lSlxZryzjJQX"
   },
   "source": [
    "A universal gate set is such to which any possible gate operation can be reduced to a finite sequence of gates from the set.\n",
    "\n",
    "- The gate set containing the rotation operators $Rx(\\theta)$, $Ry(\\theta)$, $Rz(\\theta)$, the phase shift gate $P(φ)$ and the CNOT gate is a common universal set of quantum gates.\n",
    "\n",
    "- The Clifford + T gate set denoted {CNOT, H, S, T} is another widely used universal gate set.\n",
    "\n",
    "Due to Gottesman–Knill theorem, the Clifford set can be efficiently simulated in a classical computer and, therefore, is the main gate set used to approximate a target quantum circuit in the [CDR error mitigation technique](https://mitiq.readthedocs.io/en/latest/guide/cdr-4-low-level.html). "
   ]
  },
  {
   "cell_type": "markdown",
   "metadata": {
    "id": "R1VTbgUJtE9Z"
   },
   "source": [
    "## Gate Operations"
   ]
  },
  {
   "cell_type": "markdown",
   "metadata": {
    "id": "I5AVhomquCiR"
   },
   "source": [
    "States $|0\\rangle$ and $|1\\rangle$ are in the $Z$-basis (a.k.a computational basis):\n",
    "\n",
    "$$ Z |0\\rangle =  |0\\rangle.$$\n",
    "$$ Z |1\\rangle =  -|1\\rangle.$$\n",
    "\n",
    "This means that $|0\\rangle$ and $|1\\rangle$ are two eigenstates (orthonormal vectors) of the $Z$-gate, i.e, they form a basis set. Each one of these column vectors (kets) represent a classical bit. One can observe that the operation of the $Z$ gate on state $|1\\rangle$ induces a phase represented by the minus sign."
   ]
  },
  {
   "cell_type": "markdown",
   "metadata": {
    "id": "hmm_52wiuS-P"
   },
   "source": [
    "Another basis other then the computational basis is the $X$-basis with eigenvectors $|+\\rangle$ and $|-\\rangle$ given by:\n",
    "\n",
    "$$|\\pm\\rangle = (|0\\rangle\\pm|1\\rangle)/\\sqrt{2}.$$\n",
    "\n",
    "One then has:\n",
    "\n",
    "$$ X |0\\rangle = |1\\rangle.$$ \n",
    "$$X |1\\rangle = |0\\rangle.$$  \n",
    "\n",
    "$$X |+\\rangle = |+\\rangle.$$\n",
    "$$X |-\\rangle = |-\\rangle.$$\n",
    "\n",
    "This means that $|+\\rangle$ and $|-\\rangle$ are two eigenstates of the $X$-gate, i.e, they form a basis set as already mentioned. Each one of these column vectors represent a linear combination (superposition) of two classical bits and, therefore, are named qubits. "
   ]
  },
  {
   "cell_type": "markdown",
   "metadata": {
    "id": "Fb1Fw5XOtIeL"
   },
   "source": [
    "One can use the $H$ (Hadamard) gate to transform the state of the qubit between the $X$ and $Z$ bases:\n",
    "\n",
    "$$H |0\\rangle = |+\\rangle.$$\n",
    "$$H |1\\rangle = |-\\rangle.$$"
   ]
  },
  {
   "cell_type": "markdown",
   "metadata": {
    "id": "NdKmc83NczWl"
   },
   "source": [
    "## General $U3(\\theta, \\phi, \\lambda)$ gate\n",
    "\n"
   ]
  },
  {
   "cell_type": "markdown",
   "metadata": {
    "id": "CGzYeVp1lK8Q"
   },
   "source": [
    "Any arbitrary single qubit unitary U gate can be written in the form:\n",
    "\n",
    "\\begin{align}\n",
    "    U &= e^{i\\alpha}R_{\\hat{n}}(\\theta)=e^{i\\alpha} e^{-i\\theta \\hat{n} \\cdot \\vec{\\sigma}/2}\\\\\n",
    "    &=e^{i\\alpha} \\left(cos\\left(\\frac{\\theta}{2}\\right)I_2-sin\\left(\\frac{\\theta}{2}\\right)(\\hat{n}\\cdot \\vec{\\sigma})\\right),\n",
    "\\end{align}\n",
    "\n",
    "where:\n",
    "- $R_{\\hat{n}}$ is the standard rotation gate;\n",
    "-  $\\hat{n}=(n_x, n_y, n_z)$ is a 3-dimensional unit row vector;\n",
    "- $\\vec{\\sigma}=X \\cdot n_x + Y \\cdot n_y + Z \\cdot n_z$ is a three component vector;\n",
    "- X, Y, and Z are the 2x2 Pauli matrices;\n",
    "- $a$ and $\\theta \\in \\mathbb{R}$ are real-valued constants; \n",
    "- $i^2=-1$ is the imaginary unit.\n",
    "\n",
    "Most used standard rotation gates:\n",
    "\n",
    "\\begin{equation}\n",
    "R_x(\\theta)= \\exp(-iX\\theta/2) = \\begin{bmatrix} \\cos(\\theta/2) & -i\\sin(\\theta/2) \\\\ -i\\sin(\\theta/2) & \\cos(\\theta/2) \\end{bmatrix},\\\\\n",
    "R_y(\\theta) =  \\exp(-iY\\theta/2)= \\begin{bmatrix} \\cos(\\theta/2) & -\\sin(\\theta/2) \\\\ \\sin(\\theta/2) & \\cos(\\theta/2) \\end{bmatrix},\\\\\n",
    "R_z(\\theta) = \\exp(-iZ\\theta/2) = \\begin{bmatrix} e^{-i\\theta/2} & 0 \\\\0 & e^{i\\theta/2}\n",
    "\\end{bmatrix}.\n",
    "\\end{equation}"
   ]
  },
  {
   "cell_type": "markdown",
   "metadata": {
    "id": "gshghqoLpRgZ"
   },
   "source": [
    "The three parameter single qubit $U3$ gate reads:\n",
    "\n",
    "\\begin{equation}\n",
    "U3(\\theta, \\phi, \\lambda) = \\begin{bmatrix} \\cos(\\theta/2) & -e^{i\\lambda}\\sin(\\theta/2) \\\\ e^{i\\phi}\\sin(\\theta/2) & -e^{i\\lambda+i\\phi}\\cos(\\theta/2) \\end{bmatrix},\n",
    "\\end{equation}\n",
    "\n",
    "where:\n",
    "\n",
    "  - The angle $\\lambda$ represents a phase.\n",
    "  - The angle $\\phi$ changes the coherence.\n",
    "  - The angle $\\theta$ performs the rotation around a given axis.\n",
    "\n",
    "Particular gates:\n",
    "  - $X = U3(\\pi, 0, \\pi)$.\n",
    "  - $Y = U3(\\pi, \\pi/2, \\pi/2)$.\n",
    "  - $Z = U3(\\pi,0,0)$.\n",
    "  - $RX(\\theta) = U3(\\theta, -\\pi/2,\\pi/2)$.\n",
    "  - $RY(\\theta) = U3(\\theta, 0,0)$.\n",
    "  - $RZ(\\phi) = U3(0, \\phi,0)$."
   ]
  },
  {
   "cell_type": "markdown",
   "metadata": {
    "id": "_0tZy3SecgKO"
   },
   "source": [
    "## General $C_n^{j}(U_{2^m})$ gate with $n$ control qubits and $m$ target qubits\n",
    "\n"
   ]
  },
  {
   "cell_type": "markdown",
   "metadata": {
    "id": "cCJTc1OcIK5j"
   },
   "source": [
    "A generic single qubit rotation [$CU(\\theta, \\phi, \\lambda, \\gamma)$](https://qiskit.org/documentation/stubs/qiskit.circuit.library.CUGate.html) gate can be written as:\n",
    "\n",
    "\\begin{equation}\n",
    "I\\otimes |0\\rangle\\langle 0\\rangle + e^{i \\gamma } U(\\theta, \\phi, \\lambda, \\gamma) \\otimes |1 \\rangle \\langle 1|,\n",
    "\\end{equation}\n",
    "\n",
    "where $e^{i \\gamma }$ is a global phase."
   ]
  },
  {
   "cell_type": "markdown",
   "metadata": {
    "id": "YqLcyRhDpW4-"
   },
   "source": [
    "Let $U_{2^m}$ be a $2^m$ x $2^m$ unitary matrix and $I_{2^m}$ be a $2^m$ x $2^m$ identity matrix, then a generic multicontrolled gate with $n$ control qubits and $m$ target qubits is given by:\n",
    "\n",
    "\\begin{equation}\n",
    "C_n^{j}(U_{2^m}) = \\sum_{i=0, i\\neq j}^{2^n-1}I_{2^m} \\otimes |i\\rangle\\langle i|+ U_{2^m} \\otimes |j\\rangle\\langle j|.\n",
    "\\end{equation}\n",
    "\n",
    "Particular cases (textbook convention for notations):\n",
    "\n",
    "- $CX = I\\otimes |0\\rangle\\langle 0\\rangle + X \\otimes |1 \\rangle \\langle 1|$.\n",
    "\n",
    "- $CCX = I\\otimes I\\otimes |0\\rangle\\langle 0\\rangle + CX \\otimes |1 \\rangle \\langle 1|$.\n",
    "\n",
    "- $CCCX = I\\otimes I\\otimes I\\otimes |0\\rangle\\langle 0\\rangle + CCX \\otimes |1 \\rangle \\langle 1|$.\n",
    "\n",
    "- $CU3(\\theta, \\phi, \\lambda)$ where $CRY = CU3(\\theta, 0,0)$.\n",
    "\n",
    "In Qiskit's convention, for example, the CX gate writes: $|0\\rangle\\langle 0|\\otimes I +|1\\rangle\\langle 1|\\otimes X$."
   ]
  },
  {
   "cell_type": "markdown",
   "metadata": {
    "id": "sRN-YgSIb3k4"
   },
   "source": [
    "## Gate Decomposition"
   ]
  },
  {
   "cell_type": "markdown",
   "metadata": {
    "id": "FGfZg_y9bG7N"
   },
   "source": [
    "### Single qubit gate decomposition\n",
    "\n",
    "- A single qubit gate U can always be decomposed into:\n",
    "\n",
    "\\begin{equation}\n",
    "U = e^{i\\theta}AXBXC.\n",
    "\\end{equation}\n"
   ]
  },
  {
   "cell_type": "markdown",
   "metadata": {
    "id": "C8QAxw8fbAhh"
   },
   "source": [
    "### Two-qubit gate decomposition\n",
    "\n",
    "A Control-U gate writes:\n",
    "\n",
    "\\begin{equation}\n",
    "C(U) = \\Phi_1(\\theta)A_2C(X)B_2C(X)C_2,\n",
    "\\end{equation}\n",
    "where\n",
    "\\begin{equation}\n",
    "\\Phi_1 = \\begin{pmatrix} 1 & 0 \\\\ 0 & e^{i\\theta} \\end{pmatrix} \\otimes I_{2x2},\n",
    "\\end{equation}\n",
    "\n",
    "is a phase gate applied to the first qubit and $X_2$, $B_2$ and $C_2$ are gates applied to the second qubit."
   ]
  },
  {
   "cell_type": "markdown",
   "metadata": {
    "id": "9mR1-y1FbRb-"
   },
   "source": [
    "### $n$-qubit gate decomposition\n",
    "\n",
    "- Lema for a general $n$-qubit unitary gate $U$ (a gate acting on a wire/qubit from a system of $n$ qubits):\n",
    "\n",
    "If \n",
    "\\begin{equation}\n",
    "U = A_1 \\cdot A_2 \\cdot \\cdots A_n.\n",
    "\\end{equation}\n",
    "\n",
    "then\n",
    "\\begin{equation}\n",
    "C(U) = C(A_1) \\cdot C(A_2) \\cdot \\cdots C(A_n).\n",
    "\\end{equation}"
   ]
  },
  {
   "cell_type": "markdown",
   "metadata": {
    "id": "MNakrDqNeiWt"
   },
   "source": [
    "## Implementations with NumPy and Qiskit  "
   ]
  },
  {
   "cell_type": "markdown",
   "metadata": {
    "id": "BrQr7iP6Re0G"
   },
   "source": [
    "- $U3(\\theta, \\phi, \\lambda)$"
   ]
  },
  {
   "cell_type": "code",
   "execution_count": 7,
   "metadata": {
    "colab": {
     "base_uri": "https://localhost:8080/",
     "height": 63
    },
    "executionInfo": {
     "elapsed": 1326,
     "status": "ok",
     "timestamp": 1650111332337,
     "user": {
      "displayName": "Lucas Camponogara Viera",
      "userId": "13421704742725721901"
     },
     "user_tz": -480
    },
    "id": "FuoODbLyRdrY",
    "outputId": "59356b63-4db9-4584-f10d-c35aacbfc0f4"
   },
   "outputs": [
    {
     "data": {
      "text/html": [
       "<pre style=\"word-wrap: normal;white-space: pre;background: #fff0;line-height: 1.1;font-family: &quot;Courier New&quot;,Courier,monospace\">    ┌───────────────────┐\n",
       "q0: ┤ U3(theta,phi,lam) ├\n",
       "    └───────────────────┘</pre>"
      ],
      "text/plain": [
       "    ┌───────────────────┐\n",
       "q0: ┤ U3(theta,phi,lam) ├\n",
       "    └───────────────────┘"
      ]
     },
     "execution_count": 7,
     "metadata": {},
     "output_type": "execute_result"
    }
   ],
   "source": [
    "'''\n",
    "from qiskit import QuantumCircuit, QuantumRegister\n",
    "from qiskit.circuit.library.standard_gates import U3Gate\n",
    "from qiskit.circuit import Parameter\n",
    "'''\n",
    "\n",
    "theta=Parameter('theta') \n",
    "phi=Parameter('phi') \n",
    "lam=Parameter('lam') \n",
    "\n",
    "qr=QuantumRegister(1)\n",
    "qc = QuantumCircuit(qr)\n",
    "\n",
    "gate=U3Gate(theta, phi, lam, label=None) # Uncomment this line if you need variables as placeholders.\n",
    "#gate=U3Gate(np.pi, 0, 0, label=None) # Comment this line if you need variables as placeholders.\n",
    "qc.append(gate,qr)\n",
    "qc.draw()"
   ]
  },
  {
   "cell_type": "markdown",
   "metadata": {
    "id": "rVEfbELZd5q5"
   },
   "source": [
    "- $CX = I\\otimes |0\\rangle\\langle 0\\rangle + X \\otimes |1 \\rangle \\langle 1|$"
   ]
  },
  {
   "cell_type": "code",
   "execution_count": 8,
   "metadata": {
    "colab": {
     "base_uri": "https://localhost:8080/"
    },
    "executionInfo": {
     "elapsed": 7,
     "status": "ok",
     "timestamp": 1650111332337,
     "user": {
      "displayName": "Lucas Camponogara Viera",
      "userId": "13421704742725721901"
     },
     "user_tz": -480
    },
    "id": "jVJ6piHEjoAX",
    "outputId": "5dac68cb-29d8-4e7a-9d21-90ce28da40cc"
   },
   "outputs": [
    {
     "name": "stdout",
     "output_type": "stream",
     "text": [
      "           \n",
      "q1_0: ──■──\n",
      "      ┌─┴─┐\n",
      "q1_1: ┤ X ├\n",
      "      └───┘\n"
     ]
    },
    {
     "data": {
      "text/plain": [
       "Operator([[1.+0.j, 0.+0.j, 0.+0.j, 0.+0.j],\n",
       "          [0.+0.j, 0.+0.j, 0.+0.j, 1.+0.j],\n",
       "          [0.+0.j, 0.+0.j, 1.+0.j, 0.+0.j],\n",
       "          [0.+0.j, 1.+0.j, 0.+0.j, 0.+0.j]],\n",
       "         input_dims=(2, 2), output_dims=(2, 2))"
      ]
     },
     "execution_count": 8,
     "metadata": {},
     "output_type": "execute_result"
    }
   ],
   "source": [
    "# Qiskit Implementation of CX gate.\n",
    "\n",
    "'''\n",
    "import qiskit.quantum_info as qi\n",
    "'''\n",
    "\n",
    "qr=QuantumRegister(2)\n",
    "qc = QuantumCircuit(qr)\n",
    "qc.cnot(0,1)\n",
    "\n",
    "print(qc.draw())\n",
    "qi.Operator(qc)"
   ]
  },
  {
   "cell_type": "code",
   "execution_count": 9,
   "metadata": {
    "colab": {
     "base_uri": "https://localhost:8080/"
    },
    "executionInfo": {
     "elapsed": 6,
     "status": "ok",
     "timestamp": 1650111332338,
     "user": {
      "displayName": "Lucas Camponogara Viera",
      "userId": "13421704742725721901"
     },
     "user_tz": -480
    },
    "id": "Tk7DsUCFd8pv",
    "outputId": "1d5d58af-5bad-4344-85db-02ed250107b3"
   },
   "outputs": [
    {
     "data": {
      "text/plain": [
       "array([[1., 0., 0., 0.],\n",
       "       [0., 0., 0., 1.],\n",
       "       [0., 0., 1., 0.],\n",
       "       [0., 1., 0., 0.]])"
      ]
     },
     "execution_count": 9,
     "metadata": {},
     "output_type": "execute_result"
    }
   ],
   "source": [
    "# NumPy Implementation of CX gate.\n",
    "\n",
    "'''\n",
    "import numpy as np\n",
    "'''\n",
    "\n",
    "psi_0 = np.array([1, 0])\n",
    "psi_1 = np.array([0, 1])\n",
    "\n",
    "outer0 = np.outer(psi_0, psi_0)\n",
    "outer1 = np.outer(psi_1, psi_1)\n",
    "\n",
    "id=np.identity(2)\n",
    "\n",
    "X=np.array([[0, 1], [1, 0]]) \n",
    "\n",
    "cx = np.kron(id, outer0) + np.kron(X, outer1)\n",
    "cx"
   ]
  },
  {
   "cell_type": "markdown",
   "metadata": {
    "id": "0C7i1h3peTPN"
   },
   "source": [
    "- $CCX = I\\otimes I\\otimes |0\\rangle\\langle 0\\rangle + CX \\otimes |1 \\rangle \\langle 1|$"
   ]
  },
  {
   "cell_type": "code",
   "execution_count": 10,
   "metadata": {
    "colab": {
     "base_uri": "https://localhost:8080/"
    },
    "executionInfo": {
     "elapsed": 642,
     "status": "ok",
     "timestamp": 1650111332974,
     "user": {
      "displayName": "Lucas Camponogara Viera",
      "userId": "13421704742725721901"
     },
     "user_tz": -480
    },
    "id": "KF7mpopbj_WN",
    "outputId": "cac20e7e-f9ce-4c16-f733-59443b7add03"
   },
   "outputs": [
    {
     "name": "stdout",
     "output_type": "stream",
     "text": [
      "           \n",
      "q2_0: ──■──\n",
      "        │  \n",
      "q2_1: ──■──\n",
      "      ┌─┴─┐\n",
      "q2_2: ┤ X ├\n",
      "      └───┘\n"
     ]
    },
    {
     "data": {
      "text/plain": [
       "array([[1.+0.j, 0.+0.j, 0.+0.j, 0.+0.j, 0.+0.j, 0.+0.j, 0.+0.j, 0.+0.j],\n",
       "       [0.+0.j, 1.+0.j, 0.+0.j, 0.+0.j, 0.+0.j, 0.+0.j, 0.+0.j, 0.+0.j],\n",
       "       [0.+0.j, 0.+0.j, 1.+0.j, 0.+0.j, 0.+0.j, 0.+0.j, 0.+0.j, 0.+0.j],\n",
       "       [0.+0.j, 0.+0.j, 0.+0.j, 0.+0.j, 0.+0.j, 0.+0.j, 0.+0.j, 1.-0.j],\n",
       "       [0.+0.j, 0.+0.j, 0.+0.j, 0.+0.j, 1.-0.j, 0.+0.j, 0.+0.j, 0.+0.j],\n",
       "       [0.+0.j, 0.+0.j, 0.+0.j, 0.+0.j, 0.+0.j, 1.-0.j, 0.+0.j, 0.+0.j],\n",
       "       [0.+0.j, 0.+0.j, 0.+0.j, 0.+0.j, 0.+0.j, 0.+0.j, 1.-0.j, 0.+0.j],\n",
       "       [0.+0.j, 0.+0.j, 0.+0.j, 1.+0.j, 0.+0.j, 0.+0.j, 0.+0.j, 0.+0.j]])"
      ]
     },
     "execution_count": 10,
     "metadata": {},
     "output_type": "execute_result"
    }
   ],
   "source": [
    "# Qiskit Implementation of CCX gate.\n",
    "\n",
    "'''\n",
    "from qiskit import QuantumCircuit, QuantumRegister,transpile\n",
    "from qiskit import BasicAer\n",
    "'''\n",
    "\n",
    "backend = BasicAer.get_backend('unitary_simulator')\n",
    "q = QuantumRegister(3)\n",
    "qc = QuantumCircuit(q)\n",
    "qc.ccx(q[0], q[1], q[2])\n",
    "\n",
    "print(qc.draw())\n",
    "job = backend.run(transpile(qc, backend))\n",
    "job.result().get_unitary(qc, decimals=3)"
   ]
  },
  {
   "cell_type": "code",
   "execution_count": 11,
   "metadata": {
    "colab": {
     "base_uri": "https://localhost:8080/"
    },
    "executionInfo": {
     "elapsed": 12,
     "status": "ok",
     "timestamp": 1650111332974,
     "user": {
      "displayName": "Lucas Camponogara Viera",
      "userId": "13421704742725721901"
     },
     "user_tz": -480
    },
    "id": "M1q8zi7feQqc",
    "outputId": "04db81be-097f-44b3-84d2-6381bf5a9af9"
   },
   "outputs": [
    {
     "data": {
      "text/plain": [
       "array([[1., 0., 0., 0., 0., 0., 0., 0.],\n",
       "       [0., 1., 0., 0., 0., 0., 0., 0.],\n",
       "       [0., 0., 1., 0., 0., 0., 0., 0.],\n",
       "       [0., 0., 0., 0., 0., 0., 0., 1.],\n",
       "       [0., 0., 0., 0., 1., 0., 0., 0.],\n",
       "       [0., 0., 0., 0., 0., 1., 0., 0.],\n",
       "       [0., 0., 0., 0., 0., 0., 1., 0.],\n",
       "       [0., 0., 0., 1., 0., 0., 0., 0.]])"
      ]
     },
     "execution_count": 11,
     "metadata": {},
     "output_type": "execute_result"
    }
   ],
   "source": [
    "# NumPy Implementation of CCX gate.\n",
    "\n",
    "id4 = np.kron(id, id)\n",
    "ccx = np.kron(id4, outer0) + np.kron(cx, outer1)\n",
    "ccx"
   ]
  },
  {
   "cell_type": "markdown",
   "metadata": {
    "id": "Sk4QYD6geVNc"
   },
   "source": [
    "- $CCCX = I\\otimes I\\otimes I\\otimes |0\\rangle\\langle 0\\rangle + CCX \\otimes |1 \\rangle \\langle 1|$"
   ]
  },
  {
   "cell_type": "code",
   "execution_count": 12,
   "metadata": {
    "colab": {
     "base_uri": "https://localhost:8080/"
    },
    "executionInfo": {
     "elapsed": 12,
     "status": "ok",
     "timestamp": 1650111332975,
     "user": {
      "displayName": "Lucas Camponogara Viera",
      "userId": "13421704742725721901"
     },
     "user_tz": -480
    },
    "id": "WbAgd0vTeXpc",
    "outputId": "ac4fb136-03ef-4031-ce67-6ed895c4b4af"
   },
   "outputs": [
    {
     "data": {
      "text/plain": [
       "array([[1., 0., 0., 0., 0., 0., 0., 0., 0., 0., 0., 0., 0., 0., 0., 0.],\n",
       "       [0., 1., 0., 0., 0., 0., 0., 0., 0., 0., 0., 0., 0., 0., 0., 0.],\n",
       "       [0., 0., 1., 0., 0., 0., 0., 0., 0., 0., 0., 0., 0., 0., 0., 0.],\n",
       "       [0., 0., 0., 1., 0., 0., 0., 0., 0., 0., 0., 0., 0., 0., 0., 0.],\n",
       "       [0., 0., 0., 0., 1., 0., 0., 0., 0., 0., 0., 0., 0., 0., 0., 0.],\n",
       "       [0., 0., 0., 0., 0., 1., 0., 0., 0., 0., 0., 0., 0., 0., 0., 0.],\n",
       "       [0., 0., 0., 0., 0., 0., 1., 0., 0., 0., 0., 0., 0., 0., 0., 0.],\n",
       "       [0., 0., 0., 0., 0., 0., 0., 0., 0., 0., 0., 0., 0., 0., 0., 1.],\n",
       "       [0., 0., 0., 0., 0., 0., 0., 0., 1., 0., 0., 0., 0., 0., 0., 0.],\n",
       "       [0., 0., 0., 0., 0., 0., 0., 0., 0., 1., 0., 0., 0., 0., 0., 0.],\n",
       "       [0., 0., 0., 0., 0., 0., 0., 0., 0., 0., 1., 0., 0., 0., 0., 0.],\n",
       "       [0., 0., 0., 0., 0., 0., 0., 0., 0., 0., 0., 1., 0., 0., 0., 0.],\n",
       "       [0., 0., 0., 0., 0., 0., 0., 0., 0., 0., 0., 0., 1., 0., 0., 0.],\n",
       "       [0., 0., 0., 0., 0., 0., 0., 0., 0., 0., 0., 0., 0., 1., 0., 0.],\n",
       "       [0., 0., 0., 0., 0., 0., 0., 0., 0., 0., 0., 0., 0., 0., 1., 0.],\n",
       "       [0., 0., 0., 0., 0., 0., 0., 1., 0., 0., 0., 0., 0., 0., 0., 0.]])"
      ]
     },
     "execution_count": 12,
     "metadata": {},
     "output_type": "execute_result"
    }
   ],
   "source": [
    "# NumPy Implementation of CCCX gate.\n",
    "\n",
    "cccx = np.kron(np.identity(8), outer0) + np.kron(ccx, outer1)\n",
    "cccx"
   ]
  },
  {
   "cell_type": "markdown",
   "metadata": {
    "id": "aifqV7VEkfRR"
   },
   "source": [
    "- $CCRY$"
   ]
  },
  {
   "cell_type": "code",
   "execution_count": 13,
   "metadata": {
    "colab": {
     "base_uri": "https://localhost:8080/"
    },
    "executionInfo": {
     "elapsed": 12,
     "status": "ok",
     "timestamp": 1650111332975,
     "user": {
      "displayName": "Lucas Camponogara Viera",
      "userId": "13421704742725721901"
     },
     "user_tz": -480
    },
    "id": "jj44cfWGkj3f",
    "outputId": "4722a728-f7da-49ad-f8a3-a17ee9a6bfac"
   },
   "outputs": [
    {
     "name": "stdout",
     "output_type": "stream",
     "text": [
      "                \n",
      "q12_0: ────■────\n",
      "           │    \n",
      "q12_1: ────■────\n",
      "       ┌───┴───┐\n",
      "q12_2: ┤ Ry(π) ├\n",
      "       └───────┘\n"
     ]
    },
    {
     "data": {
      "text/plain": [
       "Operator([[ 1.+0.j,  0.+0.j,  0.+0.j,  0.+0.j,  0.+0.j,  0.+0.j,  0.+0.j,\n",
       "            0.+0.j],\n",
       "          [ 0.+0.j,  1.+0.j,  0.+0.j,  0.+0.j,  0.+0.j,  0.+0.j,  0.+0.j,\n",
       "            0.+0.j],\n",
       "          [ 0.+0.j,  0.+0.j,  1.+0.j,  0.+0.j,  0.+0.j,  0.+0.j,  0.+0.j,\n",
       "            0.+0.j],\n",
       "          [ 0.+0.j,  0.+0.j,  0.+0.j,  0.+0.j,  0.+0.j,  0.+0.j,  0.+0.j,\n",
       "           -1.+0.j],\n",
       "          [ 0.+0.j,  0.+0.j,  0.+0.j,  0.+0.j,  1.+0.j,  0.+0.j,  0.+0.j,\n",
       "            0.+0.j],\n",
       "          [ 0.+0.j,  0.+0.j,  0.+0.j,  0.+0.j,  0.+0.j,  1.+0.j,  0.+0.j,\n",
       "            0.+0.j],\n",
       "          [ 0.+0.j,  0.+0.j,  0.+0.j,  0.+0.j,  0.+0.j,  0.+0.j,  1.+0.j,\n",
       "            0.+0.j],\n",
       "          [ 0.+0.j,  0.+0.j,  0.+0.j,  1.+0.j,  0.+0.j,  0.+0.j,  0.+0.j,\n",
       "            0.+0.j]],\n",
       "         input_dims=(2, 2, 2), output_dims=(2, 2, 2))"
      ]
     },
     "execution_count": 13,
     "metadata": {},
     "output_type": "execute_result"
    }
   ],
   "source": [
    "# Qiskit Implementation of CCRY gate.\n",
    "\n",
    "'''\n",
    "from qiskit import QuantumCircuit, QuantumRegister\n",
    "from qiskit.circuit.library.standard_gates import RYGate\n",
    "import qiskit.quantum_info as qi\n",
    "'''\n",
    "\n",
    "theta=np.pi\n",
    "qr=QuantumRegister(3)\n",
    "qc = QuantumCircuit(qr)\n",
    "control=RYGate(theta).control(2)\n",
    "qc.append(control,qr)\n",
    "\n",
    "print(qc.draw())\n",
    "qi.Operator(qc)"
   ]
  },
  {
   "cell_type": "markdown",
   "metadata": {
    "id": "IOgrEwpFkkII"
   },
   "source": [
    "- $CCCRY$ (16x16 matrix)"
   ]
  },
  {
   "cell_type": "code",
   "execution_count": 14,
   "metadata": {
    "colab": {
     "base_uri": "https://localhost:8080/"
    },
    "executionInfo": {
     "elapsed": 11,
     "status": "ok",
     "timestamp": 1650111332975,
     "user": {
      "displayName": "Lucas Camponogara Viera",
      "userId": "13421704742725721901"
     },
     "user_tz": -480
    },
    "id": "skD67_KykkPh",
    "outputId": "3a0a4e0e-b52f-458d-84af-6161d9929565"
   },
   "outputs": [
    {
     "name": "stdout",
     "output_type": "stream",
     "text": [
      "                \n",
      "q13_0: ────■────\n",
      "           │    \n",
      "q13_1: ────■────\n",
      "           │    \n",
      "q13_2: ────■────\n",
      "       ┌───┴───┐\n",
      "q13_3: ┤ Ry(π) ├\n",
      "       └───────┘\n"
     ]
    },
    {
     "data": {
      "text/plain": [
       "Operator([[ 1.00000000e+00+0.j,  0.00000000e+00+0.j,  0.00000000e+00+0.j,\n",
       "            0.00000000e+00+0.j,  0.00000000e+00+0.j,  0.00000000e+00+0.j,\n",
       "            0.00000000e+00+0.j,  0.00000000e+00+0.j,  0.00000000e+00+0.j,\n",
       "            0.00000000e+00+0.j,  0.00000000e+00+0.j,  0.00000000e+00+0.j,\n",
       "            0.00000000e+00+0.j,  0.00000000e+00+0.j,  0.00000000e+00+0.j,\n",
       "            0.00000000e+00+0.j],\n",
       "          [ 0.00000000e+00+0.j,  1.00000000e+00+0.j,  0.00000000e+00+0.j,\n",
       "            0.00000000e+00+0.j,  0.00000000e+00+0.j,  0.00000000e+00+0.j,\n",
       "            0.00000000e+00+0.j,  0.00000000e+00+0.j,  0.00000000e+00+0.j,\n",
       "            0.00000000e+00+0.j,  0.00000000e+00+0.j,  0.00000000e+00+0.j,\n",
       "            0.00000000e+00+0.j,  0.00000000e+00+0.j,  0.00000000e+00+0.j,\n",
       "            0.00000000e+00+0.j],\n",
       "          [ 0.00000000e+00+0.j,  0.00000000e+00+0.j,  1.00000000e+00+0.j,\n",
       "            0.00000000e+00+0.j,  0.00000000e+00+0.j,  0.00000000e+00+0.j,\n",
       "            0.00000000e+00+0.j,  0.00000000e+00+0.j,  0.00000000e+00+0.j,\n",
       "            0.00000000e+00+0.j,  0.00000000e+00+0.j,  0.00000000e+00+0.j,\n",
       "            0.00000000e+00+0.j,  0.00000000e+00+0.j,  0.00000000e+00+0.j,\n",
       "            0.00000000e+00+0.j],\n",
       "          [ 0.00000000e+00+0.j,  0.00000000e+00+0.j,  0.00000000e+00+0.j,\n",
       "            1.00000000e+00+0.j,  0.00000000e+00+0.j,  0.00000000e+00+0.j,\n",
       "            0.00000000e+00+0.j,  0.00000000e+00+0.j,  0.00000000e+00+0.j,\n",
       "            0.00000000e+00+0.j,  0.00000000e+00+0.j,  0.00000000e+00+0.j,\n",
       "            0.00000000e+00+0.j,  0.00000000e+00+0.j,  0.00000000e+00+0.j,\n",
       "            0.00000000e+00+0.j],\n",
       "          [ 0.00000000e+00+0.j,  0.00000000e+00+0.j,  0.00000000e+00+0.j,\n",
       "            0.00000000e+00+0.j,  1.00000000e+00+0.j,  0.00000000e+00+0.j,\n",
       "            0.00000000e+00+0.j,  0.00000000e+00+0.j,  0.00000000e+00+0.j,\n",
       "            0.00000000e+00+0.j,  0.00000000e+00+0.j,  0.00000000e+00+0.j,\n",
       "            0.00000000e+00+0.j,  0.00000000e+00+0.j,  0.00000000e+00+0.j,\n",
       "            0.00000000e+00+0.j],\n",
       "          [ 0.00000000e+00+0.j,  0.00000000e+00+0.j,  0.00000000e+00+0.j,\n",
       "            0.00000000e+00+0.j,  0.00000000e+00+0.j,  1.00000000e+00+0.j,\n",
       "            0.00000000e+00+0.j,  0.00000000e+00+0.j,  0.00000000e+00+0.j,\n",
       "            0.00000000e+00+0.j,  0.00000000e+00+0.j,  0.00000000e+00+0.j,\n",
       "            0.00000000e+00+0.j,  2.77555756e-17+0.j,  0.00000000e+00+0.j,\n",
       "            0.00000000e+00+0.j],\n",
       "          [ 0.00000000e+00+0.j,  0.00000000e+00+0.j,  0.00000000e+00+0.j,\n",
       "            0.00000000e+00+0.j,  0.00000000e+00+0.j,  0.00000000e+00+0.j,\n",
       "            1.00000000e+00+0.j,  0.00000000e+00+0.j,  0.00000000e+00+0.j,\n",
       "            0.00000000e+00+0.j,  0.00000000e+00+0.j,  0.00000000e+00+0.j,\n",
       "            0.00000000e+00+0.j,  0.00000000e+00+0.j,  1.38777878e-16+0.j,\n",
       "            0.00000000e+00+0.j],\n",
       "          [ 0.00000000e+00+0.j,  0.00000000e+00+0.j,  0.00000000e+00+0.j,\n",
       "            0.00000000e+00+0.j,  0.00000000e+00+0.j,  0.00000000e+00+0.j,\n",
       "            0.00000000e+00+0.j,  1.66533454e-16+0.j,  0.00000000e+00+0.j,\n",
       "            0.00000000e+00+0.j,  0.00000000e+00+0.j,  0.00000000e+00+0.j,\n",
       "            0.00000000e+00+0.j,  0.00000000e+00+0.j,  0.00000000e+00+0.j,\n",
       "           -1.00000000e+00+0.j],\n",
       "          [ 0.00000000e+00+0.j,  0.00000000e+00+0.j,  0.00000000e+00+0.j,\n",
       "            0.00000000e+00+0.j,  0.00000000e+00+0.j,  0.00000000e+00+0.j,\n",
       "            0.00000000e+00+0.j,  0.00000000e+00+0.j,  1.00000000e+00+0.j,\n",
       "            0.00000000e+00+0.j,  0.00000000e+00+0.j,  0.00000000e+00+0.j,\n",
       "            0.00000000e+00+0.j,  0.00000000e+00+0.j,  0.00000000e+00+0.j,\n",
       "            0.00000000e+00+0.j],\n",
       "          [ 0.00000000e+00+0.j,  0.00000000e+00+0.j,  0.00000000e+00+0.j,\n",
       "            0.00000000e+00+0.j,  0.00000000e+00+0.j,  0.00000000e+00+0.j,\n",
       "            0.00000000e+00+0.j,  0.00000000e+00+0.j,  0.00000000e+00+0.j,\n",
       "            1.00000000e+00+0.j,  0.00000000e+00+0.j,  0.00000000e+00+0.j,\n",
       "            0.00000000e+00+0.j,  0.00000000e+00+0.j,  0.00000000e+00+0.j,\n",
       "            0.00000000e+00+0.j],\n",
       "          [ 0.00000000e+00+0.j,  0.00000000e+00+0.j,  0.00000000e+00+0.j,\n",
       "            0.00000000e+00+0.j,  0.00000000e+00+0.j,  0.00000000e+00+0.j,\n",
       "            0.00000000e+00+0.j,  0.00000000e+00+0.j,  0.00000000e+00+0.j,\n",
       "            0.00000000e+00+0.j,  1.00000000e+00+0.j,  0.00000000e+00+0.j,\n",
       "            0.00000000e+00+0.j,  0.00000000e+00+0.j,  0.00000000e+00+0.j,\n",
       "            0.00000000e+00+0.j],\n",
       "          [ 0.00000000e+00+0.j,  0.00000000e+00+0.j,  0.00000000e+00+0.j,\n",
       "            0.00000000e+00+0.j,  0.00000000e+00+0.j,  0.00000000e+00+0.j,\n",
       "            0.00000000e+00+0.j,  0.00000000e+00+0.j,  0.00000000e+00+0.j,\n",
       "            0.00000000e+00+0.j,  0.00000000e+00+0.j,  1.00000000e+00+0.j,\n",
       "            0.00000000e+00+0.j,  0.00000000e+00+0.j,  0.00000000e+00+0.j,\n",
       "            0.00000000e+00+0.j],\n",
       "          [ 0.00000000e+00+0.j,  0.00000000e+00+0.j,  0.00000000e+00+0.j,\n",
       "            0.00000000e+00+0.j,  0.00000000e+00+0.j,  0.00000000e+00+0.j,\n",
       "            0.00000000e+00+0.j,  0.00000000e+00+0.j,  0.00000000e+00+0.j,\n",
       "            0.00000000e+00+0.j,  0.00000000e+00+0.j,  0.00000000e+00+0.j,\n",
       "            1.00000000e+00+0.j,  0.00000000e+00+0.j,  0.00000000e+00+0.j,\n",
       "            0.00000000e+00+0.j],\n",
       "          [ 0.00000000e+00+0.j,  0.00000000e+00+0.j,  0.00000000e+00+0.j,\n",
       "            0.00000000e+00+0.j,  0.00000000e+00+0.j, -2.77555756e-17+0.j,\n",
       "            0.00000000e+00+0.j,  0.00000000e+00+0.j,  0.00000000e+00+0.j,\n",
       "            0.00000000e+00+0.j,  0.00000000e+00+0.j,  0.00000000e+00+0.j,\n",
       "            0.00000000e+00+0.j,  1.00000000e+00+0.j,  0.00000000e+00+0.j,\n",
       "            0.00000000e+00+0.j],\n",
       "          [ 0.00000000e+00+0.j,  0.00000000e+00+0.j,  0.00000000e+00+0.j,\n",
       "            0.00000000e+00+0.j,  0.00000000e+00+0.j,  0.00000000e+00+0.j,\n",
       "           -1.38777878e-16+0.j,  0.00000000e+00+0.j,  0.00000000e+00+0.j,\n",
       "            0.00000000e+00+0.j,  0.00000000e+00+0.j,  0.00000000e+00+0.j,\n",
       "            0.00000000e+00+0.j,  0.00000000e+00+0.j,  1.00000000e+00+0.j,\n",
       "            0.00000000e+00+0.j],\n",
       "          [ 0.00000000e+00+0.j,  0.00000000e+00+0.j,  0.00000000e+00+0.j,\n",
       "            0.00000000e+00+0.j,  0.00000000e+00+0.j,  0.00000000e+00+0.j,\n",
       "            0.00000000e+00+0.j,  1.00000000e+00+0.j,  0.00000000e+00+0.j,\n",
       "            0.00000000e+00+0.j,  0.00000000e+00+0.j,  0.00000000e+00+0.j,\n",
       "            0.00000000e+00+0.j,  0.00000000e+00+0.j,  0.00000000e+00+0.j,\n",
       "            1.66533454e-16+0.j]],\n",
       "         input_dims=(2, 2, 2, 2), output_dims=(2, 2, 2, 2))"
      ]
     },
     "execution_count": 14,
     "metadata": {},
     "output_type": "execute_result"
    }
   ],
   "source": [
    "# Qiskit Implementation of CCCRY gate.\n",
    "\n",
    "'''\n",
    "from qiskit import QuantumCircuit, QuantumRegister\n",
    "from qiskit.circuit.library.standard_gates import RYGate\n",
    "import qiskit.quantum_info as qi\n",
    "'''\n",
    "\n",
    "theta=np.pi\n",
    "qr=QuantumRegister(4)\n",
    "qc = QuantumCircuit(qr)\n",
    "control=RYGate(theta).control(3)\n",
    "qc.append(control,qr)\n",
    "\n",
    "print(qc.draw())\n",
    "qi.Operator(qc)"
   ]
  },
  {
   "cell_type": "markdown",
   "metadata": {
    "id": "bupirY8vxW5B"
   },
   "source": [
    "# The Heisenberg XXX Spin-1/2 Lattice Model for $N=3$ Three Particles\n"
   ]
  },
  {
   "cell_type": "markdown",
   "metadata": {
    "id": "8U8sSH9d1Y1z"
   },
   "source": [
    "The [Quantum Heisenberg XXX spin-1/2 model](https://en.wikipedia.org/wiki/Quantum_Heisenberg_model#XXX_model) is a particular case of the general [XYZ Quantum Heisenberg Model](https://en.wikipedia.org/wiki/Quantum_Heisenberg_model) when the coupling coefficients are $J_x = J_y = J_z \\doteq J$. The particle interaction of the aforementioned spin model for a system of $N$ quantum spin-1/2 particles arranged in a 1D (one-dimensional) Markov chain, where each particle is represented by a qubit, is given by the following `Hamiltonian operator`:\n",
    "\n",
    "\\begin{eqnarray}\n",
    "h_{\\text{heis}} &=& \\sum_{\\langle jk \\rangle =0}^{N-1} J \\left(\\sigma_x^{(j)}\\sigma_x^{(k)} + \\sigma_y^{(j)}\\sigma_y^{(k)} + \\sigma_z^{(j)}\\sigma_z^{(k)}\\right).\n",
    "\\end{eqnarray}\n",
    "Where: \n",
    "- $J$ is a real-valued [coupling](https://en.m.wikipedia.org/wiki/Coupling_constant) constant that determines the interaction strength.\n",
    "- $\\langle jk \\rangle$ specifies interaction only between nearest neighbor qubits $j$ and $k$ ($j,k \\in \\{0,1,2\\}$).\n",
    "- $\\otimes$ denotes the [tensor product](https://en.wikipedia.org/wiki/Tensor_product#Tensor_product_of_linear_maps) symbol.\n",
    "\n",
    "<br></br>\n",
    "In classical mechanics, the Hamiltonian $H$ corresponds to the sum of kinetic and potential energy of a **time-independent holonomic and monogenic system** \\[[Goldstein, H.](#Ref)]). In quantum mechanics, the Hamiltonian is promoted to a so-called Hermitian operator $\\hat{H}$ represented by a self-adjoint complex matrix within the matrix mechanics formalism."
   ]
  },
  {
   "cell_type": "markdown",
   "metadata": {
    "id": "JU8aVFSn52Rv"
   },
   "source": [
    "The Pauli operators in this 1D spin lattice satisfy the following Lie algebra for the (anti-)commutation relations:\n",
    "\n",
    "\n",
    "\\begin{eqnarray}\n",
    "\\text{commutator: } \\{\\sigma_a^{j}, \\sigma_b^{k} \\} = 2\\delta_{jk}\\delta_{ab}\\sigma_0^{j},\\\\\n",
    "\\end{eqnarray}\n",
    "\\begin{eqnarray}\n",
    "\\text{anti-commutator: }\n",
    "[\\sigma_a^{j}, \\sigma_b^{k}] = 2i\\delta_{jk}\\epsilon_{abc}\\sigma_c^{j},\n",
    "\\end{eqnarray}\n",
    "\n",
    "Where:\n",
    "\n",
    "- $[\\hat{A},\\hat{B}]$ denotes the commutator between operators $\\hat{A}$ and $\\hat{B}$:\n",
    "\\begin{align}\n",
    "[\\hat{A},\\hat{B}]\\doteq\\hat{A}\\hat{B} - \\hat{B}\\hat{A}.\n",
    "\\end{align}\n",
    "- $i=\\sqrt{-1}$ denotes the imaginary unit.\n",
    "- $\\epsilon_{abc}$ denotes the normalized Levi-Civita symbol ($\\epsilon_{xyz}=1$) with $a, b, c \\in \\{x,y,z\\}$:\n",
    "\n",
    "\\begin{align*}\n",
    "\\varepsilon_{abc} \\doteq\n",
    "\\begin{cases}\n",
    "+1 & \\text{for even permutation of }(a,b,c). \\\\\n",
    "-1 & \\text{for odd permutation of } (a,b,c).  \\\\\n",
    "\\;\\;\\,0 & \\text{for any repeated index}.\n",
    "\\end{cases}\n",
    "\\end{align*}\n",
    "\n",
    "- $\\delta_{jk}$ denotes the Kronecker delta:\n",
    "\n",
    "\\begin{eqnarray}\n",
    "\\delta_{jk} \\doteq \\begin{cases}\n",
    "0, & \\mbox{if } j \\ne k, \\\\\n",
    "1, & \\mbox{if } j=k. \\end{cases}\n",
    "\\end{eqnarray}\n",
    "- $\\{\\sigma_x,\\sigma_y,\\sigma_z\\}$ denotes the $SU(2)$ set of [Pauli operators](https://en.wikipedia.org/wiki/Pauli_matrices) (2x2 complex Hermitian and Unitary matrices sharing equal eigenvalues of $\\pm 1$)."
   ]
  },
  {
   "cell_type": "markdown",
   "metadata": {
    "id": "2EFhUpD1EN8d"
   },
   "source": [
    "For the particular case of a system of $N=3$ spin-1/2 particles arranged in a line, and setting $J=1$, one then has:\n",
    "\n",
    "\\begin{eqnarray}\n",
    "h_{\\text{heis}} &=& \\sigma_x^{(0)}\\otimes\\sigma_x^{(1)}\\otimes I^{(2)} + I^{(0)} \\otimes\\sigma_x^{(1)}\\otimes\\sigma_x^{(2)} + \\sigma_y^{(0)}\\otimes\\sigma_y^{(1)}\\otimes I^{(2)} + I^{(0)} \\otimes \\sigma_y^{(1)}\\otimes\\sigma_y^{(2)} + I^{(0)} \\otimes\\sigma_z^{(0)}\\otimes\\sigma_z^{(1)} + I^{(0)}\\otimes\\sigma_z^{(1)}\\otimes\\sigma_z^{(2)}.\n",
    "\\end{eqnarray}\n",
    "\n",
    "However, the convention adopted by the quantum community is the following shorthand notation (omitting the tensor product ($\\otimes$) and the 2x2 identity matrix $I$):\n",
    "\n",
    "\\begin{eqnarray}\n",
    "h_{\\text{heis3}} = \\sigma_x^{(0)}\\sigma_x^{(1)} + \\sigma_x^{(1)}\\sigma_x^{(2)} + \\sigma_y^{(0)}\\sigma_y^{(1)} + \\sigma_y^{(1)}\\sigma_y^{(2)} + \\sigma_z^{(0)}\\sigma_z^{(1)} + \\sigma_z^{(1)}\\sigma_z^{(2)}.\n",
    "\\end{eqnarray}"
   ]
  },
  {
   "cell_type": "markdown",
   "metadata": {
    "id": "HCTVLpJCStKI"
   },
   "source": [
    "# Unitary Evolution Operator"
   ]
  },
  {
   "cell_type": "markdown",
   "metadata": {
    "id": "ZxlkmtWLSwsb"
   },
   "source": [
    "## **System's Dynamics**\n",
    "\n",
    "In quantum mechanics, the dynamics of a system of particles in the position space is determined by the linear partial differential Schrödinger equation:\n",
    "\n",
    "\\begin{eqnarray}\n",
    "i \\hbar \\frac{\\partial \\psi(\\vec{r}, t)}{\\partial t} &= \\hat{H}(t)\\psi(\\vec{r}, t),\n",
    "\\end{eqnarray}\n",
    "\n",
    "where $\\psi(\\vec{r}, t)$ is the wavefunction containing the information about the particle's dynamics in the *position space*. In the Hilbert state (vector) space, solution for $\\hat{U}(t)$ comes from the time-dependent Schrödinger equation:\n",
    "\n",
    "\\begin{eqnarray}\n",
    "i \\hbar\\frac{d}{dt}|\\psi(t)\\rangle= \\hat{H} |\\psi(t)\\rangle.\n",
    "\\end{eqnarray}\n",
    "\n",
    "Solutions for the above equations depends mostly on the characteristic of the Hamiltonian. In the particular case of a **time-independent Hamiltonian** $\\hat{H}(t)\\doteq \\hat{H}$, one would adopt the following convenient separation of variables: $\\psi(\\vec{r},t)=\\phi(\\vec{r})\\chi(t)$. In the state space, however, using Dirac's bra-ket notation, one has: \n",
    "\n",
    "\\begin{equation} \n",
    "i\\hbar \\frac{d}{dt}(\\hat{U}(t) |\\psi(0)\\rangle)=\\hat{H}(t) (\\hat{U}(t) |\\psi(0)\\rangle).\n",
    "\\end{equation}  \n",
    "\n",
    "which is the time-dependent Schrödinger equation of the *time evolution operator*, with initial condition $U(t=0)=I$. One then has:\n",
    "\n",
    "\\begin{equation} \n",
    " \\frac{d}{dt} \\hat{U}(t) = \\frac{-i}{\\hbar}\\hat{H}\\hat{U}(t).\n",
    "\\end{equation}  \n",
    "\n",
    "Using the fact that any Unitary operator can be constructed by means of some Hermitian operator ($\\hat{H}=\\hat{H}^{\\dagger}$), one gets:\n",
    "\n",
    "\\begin{eqnarray}\n",
    "\\hat{U}=e^{-i\\gamma\\hat{H}}.\n",
    "\\end{eqnarray}\n",
    "\n",
    "To show the above is true we prove its unitarity:\n",
    "\n",
    "\\begin{eqnarray}\n",
    "\\hat{U}^{\\dagger}&=&(e^{-i\\gamma\\hat{H}})^{\\dagger}=e^{i\\gamma\\hat{H}^{\\dagger}} = e^{i\\gamma\\hat{H}}, \\\\\n",
    "&\\implies&\n",
    "\\hat{U}\\hat{U}^{\\dagger}=e^{-i\\gamma\\hat{H}}e^{i\\gamma\\hat{H}}=I.\n",
    "\\end{eqnarray}\n",
    "\n",
    "And the closed-form solution thus becomes:\n",
    "\n",
    "\\begin{eqnarray}\n",
    "\\hat{U}(t) = e^{-i\\hat{H}t / \\hbar}.\n",
    "\\end{eqnarray}\n",
    "\n",
    "One can check this result by expanding the exponential function in Taylor series around the point $x_0=0$ (Maclaurin series) and differentiating term by term. The Taylor series is defined as:\n",
    "\n",
    "\\begin{eqnarray}\n",
    "g(x)= \\sum_{n=0}^{\\infty} f^{n}(x_0)\\frac{(x-x_0)^n}{n!},\n",
    "\\end{eqnarray}\n",
    "\n",
    "where $f^{n}$ denotes the n-th derivative of $f$. For $f(x)=f^{n}(x)=e^{x}$ and $e^{x_0=0}=1$, one get:\n",
    "\n",
    "\\begin{eqnarray}\n",
    "e^{i\\gamma\\hat{H}} = \\sum_{n=0}^{\\infty} \\frac{({i\\gamma\\hat{H}})^n}{n!}.\n",
    "\\end{eqnarray}\n",
    "\n",
    "So that:\n",
    "\n",
    "\\begin{eqnarray}\n",
    "i\\hbar \\frac{d}{dt} (e^{-i\\hat{H}t / \\hbar})= i\\hbar\\frac{d}{dt} \\left( 1 - i\\hat{H}t/\\hbar - \\frac{\\hat{H}^2 t^2}{2!\\hbar^2}  + \\cdots + \\frac{(i\\hat{H}t)^n}{n!\\hbar^n} \\approx \\prod_j e^{-i\\hat{H}_jt / \\hbar}\\right) = \\hat{H}.\n",
    "\\end{eqnarray}"
   ]
  },
  {
   "cell_type": "markdown",
   "metadata": {
    "id": "GzqPiRiByOdF"
   },
   "source": [
    "# Time Evolution of the Initial State $|110\\rangle$ under $h_{heis3}$ According to $U_{\\text{heis3}}(\\pi)$\n"
   ]
  },
  {
   "cell_type": "markdown",
   "metadata": {
    "id": "nVDwlzKvfADR"
   },
   "source": [
    "**To see how the state of the quantum system envolves from the initial state $|110\\rangle$ to the final state $U_{\\text{Heis3}}(t=\\pi)|110\\rangle = |\\psi(\\pi)\\rangle$ with probability $|\\langle 110 | U_{\\text{Heis3}}(\\pi) |110\\rangle|^2$, we take a quick step back to review the first and second postulates of quantum mechanics in the ubiquitous Dirac bra-ket notation.**"
   ]
  },
  {
   "cell_type": "markdown",
   "metadata": {
    "id": "pf8qMoVxTrDP"
   },
   "source": [
    "## **Postulate 1 (State Space)**\n",
    "\n",
    "Any isolated (close) physical system is embedded in a complex $d$-dimensional Hilbert space $\\mathcal{H}^d$ known as the *state space* of the system endowed with an inner product $(\\cdot,\\cdot) \\doteq \\langle \\cdot | \\cdot \\rangle$. The system is completely described by a normalized *state vector* $|\\psi\\rangle \\in \\mathcal{H}^d$ which is a unit vector in the system's state space. In the orthonormal basis set $\\{|o_j\\rangle\\}_{j=1}^d$, the state vector reads\n",
    "\\begin{eqnarray}\n",
    "|\\psi\\rangle \\doteq \\sum_{j=1}^d c_j|o_j\\rangle,\n",
    "\\end{eqnarray}\n",
    "where $c_j=\\langle o_j|\\psi\\rangle$ denotes the probability amplitude associated with the preparation of an eigenstate $|o_j\\rangle$.\n",
    "\n"
   ]
  },
  {
   "cell_type": "markdown",
   "metadata": {
    "id": "eoqBYo03KHIz"
   },
   "source": [
    "## **Postulate 2 (Evolution)**\n",
    "\n",
    "A **closed quantum system** evolves over time under a *unitary transformation* such that, in the *Schrödinger picture formalism*, the initial state $|\\psi(0)\\rangle$ of the system evolves after a time $t$ to:\n",
    "\n",
    "\\begin{equation} \n",
    "|\\psi(t)\\rangle=\\hat{U}(t)|\\psi (0)\\rangle,\n",
    "\\end{equation}  \n",
    "according to the action of the propagator $\\hat{U}(t)$ (a Unitary operator). For the particular case of closed systems, the evolution operator $\\hat{U}_t$ is Unitary, however, open systems (systems interacting with its surroundings), in general, have non-Unitary operators.\n",
    "\n",
    "\n",
    "\n",
    "\n",
    "\n"
   ]
  },
  {
   "cell_type": "markdown",
   "metadata": {
    "id": "_2jTzSs6sKG_"
   },
   "source": [
    "## **Probability Over Time $t$**\n",
    "\n",
    "Consider a physical observable represented by a Hermitian ($\\hat{\\mathcal{O}}=\\hat{\\mathcal{O}}^{\\dagger}$) and, therefore, Normal ($ \\hat{\\mathcal{O}}\\hat{\\mathcal{O}}^{\\dagger}=\\hat{\\mathcal{O}}^{\\dagger}\\hat{\\mathcal{O}}$) matrix with real eigenvalues and diagonal representation (spectral decomposition):\n",
    "\\begin{eqnarray}\n",
    "\\hat{\\mathcal{O}} = \\sum_{j=1}^d o_j P_{o_j}= \\sum_{j=1}^d o_j |o_j\\rangle \\langle o_j|,\n",
    "\\end{eqnarray}\n",
    "where $P_{o_j}=|o_j\\rangle \\langle o_j|$ is the projector onto the eigenspace of the observable $\\hat{\\mathcal{O}}$ in some $d$-dimensional orthonormal basis set $\\{|o_j \\rangle\\}_{j=1}^d$ ($\\langle o_j|o_k\\rangle=\\delta_{jk}$) of eigenvectors $|o_j \\rangle$ with eigenvalues $o_j$.\n",
    "\n",
    "For a given quantum system prepared in the state $|\\psi\\rangle \\doteq \\sum_{j=1}^d c_j|o_j\\rangle$, a projective measurement (a.k.a von Neumann measurement) entails the following conditional probability for finding the system in the eigenstate $|o_j\\rangle$ with eigenvalue $o_j$ upon measurement (wave function collapse):\n",
    "\n",
    "\\begin{eqnarray} \n",
    "Pr(o_j|\\psi\\rangle)&=&\\langle \\psi | P^{\\dagger}_{o_j} P_{o_j} |\\psi \\rangle \\\\ \n",
    "&=& \\langle \\psi | P_{o_j}^2 |\\psi \\rangle\\\\\n",
    "&=& \\langle \\psi| (|o_j\\rangle \\langle o_j|o_j\\rangle \\langle o_j|)| \\psi \\rangle\\\\\n",
    "&=&\\delta_{jj}\\langle\\psi|o_j\\rangle \\langle o_j |\\psi\\rangle \\\\ \n",
    "&=& |\\langle \\psi|o_j \\rangle|^2=|\\langle o_j|\\psi \\rangle|^2\\\\\n",
    "&=& \\left|\\langle o_j|\\sum_{k=1}^d c_k |o_k\\rangle\\right|^2\\\\\n",
    "&=&  \\left|\\sum_{k=1}^d c_k \\langle o_j|o_k\\rangle\\right|^2\\\\\n",
    "&=&\\left|\\sum_{k=1}^d c_k \\delta_{jk} \\right|^2 = |c_j|^2.\n",
    "\\end{eqnarray} \n",
    "\n",
    "This result is also known as Born's rule:\n",
    "\n",
    "\\begin{eqnarray}\n",
    "P(|o_j\\rangle) = |\\langle o_j |\\psi \\rangle|^2.\n",
    "\\end{eqnarray}\n",
    "\n",
    "<br></br>\n",
    "If the system has evolved from the initial state $|\\psi(0)\\rangle$ to the final state $|\\psi(t)\\rangle$, then:\n",
    "\n",
    "\\begin{eqnarray}\n",
    "P_t(|o_j\\rangle) &=& |\\langle o_j | \\hat{U}(t) |\\psi(0)\\rangle|^2 \\\\\n",
    "&=& |\\langle o_j |\\psi(t)\\rangle|^2.\n",
    "\\end{eqnarray}\n",
    "\n",
    "<br></br>\n",
    "Therefore, the probability of measuring the initial state $|\\psi(0)\\rangle=|110\\rangle$ over a time window $t=\\pi$ under the **time-independent Hamiltonian** XXX Heisemberg Hamiltonian is:\n",
    "\n",
    "\\begin{eqnarray}\n",
    "P_{t=\\pi}(|110\\rangle) &=& |\\langle 110 | u_{heis3}(t=\\pi) |110\\rangle|^2 \\\\\n",
    "&=& |\\langle 110 |e^{-ih_{heis3}\\pi / \\hbar} |110\\rangle|^2 \\\\\n",
    "&=& |\\langle u_{heis3} \\rangle|^2.\n",
    "\\end{eqnarray}\n",
    "\n",
    "Q.E.D.\n",
    "\n",
    "The last equation is also known to be the modulus squared of the expectation value $\\langle \\hat{U}(t) \\rangle$ of the unitary evolution operator. To see this, we consider the expectation value of a general observable $\\hat{\\mathcal{O}}$:\n",
    "\\begin{align}\n",
    "\\langle \\hat{\\mathcal{O}}\\rangle &=\\sum_{j=1}^d o_j  \\langle \\psi |o_j \\rangle \\langle o_j|\\psi \\rangle \\\\\n",
    "&= \\langle \\psi | \\left(\\sum_{j=1}^d o_j |o_j \\rangle \\langle o_j| \\right) |\\psi \\rangle\\\\\n",
    "&= \\langle \\psi | \\left(\\sum_{j=1}^d o_j P_{o_j} \\right) |\\psi \\rangle\\\\\n",
    "&=\\langle \\psi |\\hat{\\mathcal{O}}|\\psi\\rangle.\n",
    "\\end{align}\n",
    "\n",
    "Upon evolution of the system's state vector ($\\hat{U}(t)|\\psi\\rangle$), the expected value becomes:\n",
    "\n",
    "\\begin{align}\n",
    "\\langle \\psi |U^{\\dagger}\\hat{\\mathcal{O}}\\hat{U}|\\psi\\rangle.\n",
    "\\end{align}\n",
    "\n",
    "Thus, when $\\hat{\\mathcal{O}} = \\hat{U}(t)$ one has:\n",
    "\\begin{align}\n",
    "\\langle \\psi |U^{\\dagger}(t)\\hat{U}(t)\\hat{U}(t)|\\psi\\rangle = \\langle \\psi |\\hat{U}(t)|\\psi\\rangle = \\langle \\hat{U}(t) \\rangle.\n",
    "\\end{align}\n",
    "\n",
    "Q.E.D."
   ]
  },
  {
   "cell_type": "markdown",
   "metadata": {
    "id": "qitwJvl6_zmE"
   },
   "source": [
    "# The Trotter-Susuki formula"
   ]
  },
  {
   "cell_type": "markdown",
   "metadata": {
    "id": "EhSup030wpM3"
   },
   "source": [
    "Consider the following decomposition for a general Hamiltonian $H$:\n",
    "\n",
    "\\begin{align}\n",
    "H = H_a + H_b.\n",
    "\\end{align}\n",
    "\n",
    "If the reduced Hamiltonians commute, i.e, $[H_{a},H_{b}]=\\mathbb{O}$ then the evolution operator is product of the reduced operators:\n",
    "\n",
    "\\begin{align}\n",
    "U = e^{-iHt/ħ} = e^{-iH_{a}t/\\hbar-iH_{b}t/\\hbar} = e^{-iH_{a}t/\\hbar}e^{-iH_{b}t/\\hbar} = U_{a}U_{b} = U_{b}U_{a}.\n",
    "\\end{align}\n",
    "\n",
    "**Theorem (simultaneous diagonalization):**\n",
    "\n",
    "*Suppose $A$ and $B$ are two Hermitian operators. Then $[A, B] = AB-BA$ is equal to the zero matrix (they commute) if and only if there exists an orthonormal basis such that both $A$ and $B$ are diagonal with respect to that basis, i.e, they share the same basis. Therefore, $A$ and $B$ are simultaneously diagonalizable with different eigenvalues.*\n",
    "\n",
    "\n",
    "\n"
   ]
  },
  {
   "cell_type": "markdown",
   "metadata": {
    "id": "t4H5cGC487xA"
   },
   "source": [
    "In the case where $[H_a^{(0,1)},H_b^{(1,2)}]\\ne\\mathbb{O}$, one cannot simply write the evolution operator $U$ as a product of evolution operators, therefore, another method must be adopted. There are several techniques to approximate a time Unitary evolution $\\hat{U}=e^{-i\\hat{H}t/\\hbar}$ into gate operations for quantum simulation, to name a few:\n",
    "\n",
    "1. Trotter-Susuki formula.\n",
    "2. Randomized evolution (Qdrift, density matrix exponentiation).\n",
    "3. Linear combination of unitaries.\n",
    "4. Quantum Walks (Qubitization).\n",
    "\n"
   ]
  },
  {
   "cell_type": "markdown",
   "metadata": {
    "id": "EpjxZsj5JG0n"
   },
   "source": [
    "The Trotter-Susuki formula is defined as (setting $\\hbar\\equiv1$):\n",
    "\n",
    "\\begin{align}\n",
    "U_{Trotter}(t) = e^{-it\\Big(H_a + H_b\\Big)} \\equiv \\lim_{N\\rightarrow\\infty}\\Big(e^{-it H_a/N}e^{-it H_b /N}\\Big)^{N}.\n",
    "\\end{align}\n",
    "\n",
    "Advantages of using Trotterization:\n",
    "\n",
    "- The algorithm is ancilla-free.\n",
    "\n",
    "- It leverages the commutative property of the component Hamiltonians to achieve efficient simulation.\n",
    "\n",
    "- It preserves the locality property of some unidimensional systems with nearest neighbor interactions enabling quantum simulation speed up.\n",
    "\n",
    "\n",
    "\n",
    "\n",
    "\n"
   ]
  },
  {
   "cell_type": "markdown",
   "metadata": {
    "id": "yWzvruE81BCk"
   },
   "source": [
    "# Decomposition of $U_{\\text{Heis3}}(t)$ using Trotterization"
   ]
  },
  {
   "cell_type": "markdown",
   "metadata": {
    "id": "TtVnI-ZryyRZ"
   },
   "source": [
    "Consider the following decomposition for the Hamiltonian $H_{heis3}$:\n",
    "\n",
    "\\begin{align}\n",
    "H_{heis3} = H_a^{(0,1)} + H_b^{(1,2)},\n",
    "\\end{align}\n",
    "where\n",
    "\\begin{align}\n",
    "H_a^{(0,1)}  =\\big(X^{(0)} \\otimes X^{(1)} + Y^{(0)}\\otimes Y^{(1)} + Z^{(0)}\\otimes Z^{(1)}\\big)\\otimes I^{(2)}, \\\\\n",
    "H_b^{(1,2)} =I^{(0)}\\otimes \\big(X^{(1)}\\otimes X^{(2)} +  Y^{(1)}\\otimes Y^{(2)} +  Z^{(1)}\\otimes Z^{(2)}\\big),\n",
    "\\end{align}\n",
    "\n",
    "We note that the pair of operators in the exponential of $U_{Trotter}(t)$ commute, i.e,\n",
    "\n",
    "$$[X\\otimes X,Y\\otimes Y] = [X\\otimes X,Z\\otimes Z] = [Y\\otimes Y,Z\\otimes Z] =\\mathbb{O}.$$\n",
    "\n",
    "One can verify this is true, as follows ($j\\ne k$):\n",
    "\n",
    "\\begin{eqnarray}\n",
    "[\\sigma_{j}\\otimes\\sigma_{j},\\sigma_{k}\\otimes\\sigma_{k}] & = (\\sigma_{j}\\otimes\\sigma_{j}) \\cdot (\\sigma_{k}\\otimes\\sigma_{k}) - (\\sigma_{k}\\otimes\\sigma_{k}) \\cdot (\\sigma_{j}\\otimes\\sigma_{j}),\n",
    "\\end{eqnarray}\n",
    "\n",
    "using $(A\\otimes B)\\cdot(C\\otimes D)=AC\\otimes BD$, one then has\n",
    "\n",
    "\\begin{eqnarray}\n",
    "=\\sigma_{j}\\sigma_{k}\\otimes\\sigma_{j}\\sigma_{k} - \\sigma_{k}\\sigma_{j}\\otimes\\sigma_{k}\\sigma_{j} \n",
    "\\end{eqnarray}\n",
    "\n",
    "and given the $\\mathfrak{su}(2)$ Lie algebra $\\sigma_{j}\\sigma_{k} = \\sigma_{0}\\delta_{jk}+i\\epsilon_{jkl}\\sigma_{l}$, it becomes\n",
    "\n",
    "\\begin{eqnarray}\n",
    "&=& i\\epsilon_{jkl}\\sigma_{l}\\otimes i\\epsilon_{jkl}\\sigma_{l} -i\\epsilon_{kjl}\\sigma_{l}\\otimes i\\epsilon_{kjl}\\sigma_{l} \\\\\n",
    "&=& i^{2}\\epsilon_{jkl}^{2}\\sigma_{l}\\otimes\\sigma_{l} -i^{2}\\epsilon_{kjl}^{2}\\sigma_{l}\\otimes \\sigma_{l} \\\\\n",
    "&=& i^{2}\\epsilon_{jkl}^{2}\\sigma_{l}\\otimes\\sigma_{l} -i^{2}(-\\epsilon_{jkl})^{2}\\sigma_{l}\\otimes \\sigma_{l} \\\\\n",
    "&=& \\mathbb{O}.\n",
    "\\end{eqnarray}\n"
   ]
  },
  {
   "cell_type": "markdown",
   "metadata": {
    "id": "tQtPm3-V4RYl"
   },
   "source": [
    "With the above result in hands, the exponential $e^{-itH_a^{01}} $ can be written in the form:\n",
    "\n",
    "\\begin{eqnarray}\n",
    "e^{-itH_a^{01}} &=& e^{-it(X\\otimes X+ Y\\otimes Y + Z\\otimes Z)\\otimes I} \\\\ \n",
    "&=& e^{-it(X\\otimes X\\otimes I + Y\\otimes Y\\otimes I + Z\\otimes Z\\otimes I)} \\\\\n",
    "&=& e^{-itX\\otimes X\\otimes I}e^{-itY\\otimes Y\\otimes I}e^{-itZ\\otimes Z\\otimes I},\n",
    "\\end{eqnarray}\n",
    "\n",
    "which after using $e^{A\\otimes I} = e^{A}\\otimes I$, one gets\n",
    "\n",
    "\\begin{eqnarray}\n",
    "e^{-itH_a^{01}}&=& \\Big(e^{-itX\\otimes X}\\otimes I\\Big)\\Big(e^{-itY\\otimes Y}\\otimes I\\Big)\\Big(e^{-itZ\\otimes Z}\\otimes I\\Big), \\\\\n",
    "&=& \\Big(e^{-itX\\otimes X}\\Big)\\Big(e^{-itY\\otimes Y}\\Big)\\Big(e^{-itZ\\otimes Z}\\Big)\\otimes I.\n",
    "\\end{eqnarray}\n",
    "\n",
    "And equivalenty for $e^{-itH_b^{12}}$:\n",
    "\n",
    "\\begin{eqnarray}\n",
    "e^{-itH_b^{12}} &= I\\otimes\\Big( e^{-itX\\otimes X}\\Big)\\Big( e^{-itY\\otimes Y}\\Big)\\Big( e^{-itZ\\otimes Z}\\Big).\n",
    "\\end{eqnarray}\n",
    "\n",
    "The unitary evolution operator for the decomposition of $H_{heis3}$ according to the Trotter-Suzuki fomula thus becomes:\n",
    "\n",
    "\\begin{eqnarray}\n",
    "U_{\\text{Heis3}}(t) &=& e^{-itH_{heis3}} = e^{-it\\Big(H_a^{(0,1)} + H_b^{(1,2)}\\Big)} =  \\lim_{N\\rightarrow\\infty}\\Big(e^{-it H_a^{(0,1)}/N}e^{-it H_b^{(1,2)} /N}\\Big)^{N}\\\\\n",
    "&=& \\lim_{N\\rightarrow\\infty}\\left(\\Big(e^{-it X\\otimes X/N}e^{-it Y\\otimes Y/N}e^{-it Z\\otimes Z/N}\\otimes I\\Big)\\Big(I\\otimes e^{-it X\\otimes X/N}e^{-it Y\\otimes Y/N}e^{-it Z \\otimes Z/N}\\Big)\\right)^{N}.\n",
    "\\end{eqnarray}"
   ]
  },
  {
   "cell_type": "markdown",
   "metadata": {
    "id": "t0W4pvCvy8tw"
   },
   "source": [
    "# Transpilation of $U_{\\text{Heis3}}(t)$ Into Quantum Gates"
   ]
  },
  {
   "cell_type": "markdown",
   "metadata": {
    "id": "kLp8owufy9W2"
   },
   "source": [
    "The outline of the Trotterization algorithm a.k.a as product-formula method or splitting method is as follows:\n",
    "\n",
    "**1.** Write the Hamiltonian operator $\\hat{H}$ of the system of interest in the form:\n",
    "\n",
    "\\begin{eqnarray}\n",
    "\\hat{H}= \\sum_{\\gamma=1}^{\\Gamma} \\hat{H}_{\\gamma},\n",
    "\\end{eqnarray}\n",
    "where $\\hat{H}_{\\gamma}$ is itself a Hermitian operator.\n",
    "\n",
    "**2.** Write the unitary evolution operator $U$ in terms of product of exponentials using the first-order Lie-Trotter formula defined as:\n",
    "\n",
    "\\begin{eqnarray}\n",
    "\\mathcal{L}_1(t) = e^{-itH_{1}} \\cdots e^{-itH_{\\Gamma}} = e^{-itH} + O(t^2),\n",
    "\\end{eqnarray}\n",
    "where $O(t^2)$ is the trotter error.\n",
    "\n",
    "**3.** Perform $e^{-it\\hat{H}}$ up to some error $\\epsilon$ according to the spectral norm:\n",
    "\n",
    "\\begin{eqnarray}\n",
    "||U-e^{-it\\hat{H}}|| \\leq \\epsilon.\n",
    "\\end{eqnarray}\n",
    "\n",
    "**4.** Define the total cost of the simulation as:\n",
    "\\begin{eqnarray}\n",
    "\\text{total cost} = \\text{no. of steps } \\times \\text{ cost}/\\text{step}.\n",
    "\\end{eqnarray}\n",
    "\n",
    "In step 3, each exponential in the evolution operator $U_{\\text{Heis3}}(t)$ is transpiled into a quantum gate."
   ]
  },
  {
   "cell_type": "markdown",
   "metadata": {
    "id": "SM8y11x3-J1m"
   },
   "source": [
    "## The $e^{-itZZ}$ gate"
   ]
  },
  {
   "cell_type": "markdown",
   "metadata": {
    "id": "dEgaR4z2DmrO"
   },
   "source": [
    "IBM supplementary material provides the following quantum circuit for the $e^{-itZZ}$ gate:"
   ]
  },
  {
   "cell_type": "code",
   "execution_count": 15,
   "metadata": {
    "colab": {
     "base_uri": "https://localhost:8080/",
     "height": 94
    },
    "executionInfo": {
     "elapsed": 11,
     "status": "ok",
     "timestamp": 1650111332976,
     "user": {
      "displayName": "Lucas Camponogara Viera",
      "userId": "13421704742725721901"
     },
     "user_tz": -480
    },
    "id": "7pUykyDoAjYs",
    "outputId": "37f62164-1a87-4b53-a772-7cef61fafd19"
   },
   "outputs": [
    {
     "data": {
      "text/html": [
       "<pre style=\"word-wrap: normal;white-space: pre;background: #fff0;line-height: 1.1;font-family: &quot;Courier New&quot;,Courier,monospace\">                          \n",
       "q_0: ──■───────────────■──\n",
       "     ┌─┴─┐┌─────────┐┌─┴─┐\n",
       "q_1: ┤ X ├┤ Rz(2*t) ├┤ X ├\n",
       "     └───┘└─────────┘└───┘</pre>"
      ],
      "text/plain": [
       "                          \n",
       "q_0: ──■───────────────■──\n",
       "     ┌─┴─┐┌─────────┐┌─┴─┐\n",
       "q_1: ┤ X ├┤ Rz(2*t) ├┤ X ├\n",
       "     └───┘└─────────┘└───┘"
      ]
     },
     "execution_count": 15,
     "metadata": {},
     "output_type": "execute_result"
    }
   ],
   "source": [
    "# e^{(-itZZ)}\n",
    "\n",
    "'''\n",
    "from qiskit import QuantumCircuit\n",
    "from qiskit.circuit import Parameter\n",
    "'''\n",
    "\n",
    "t = Parameter('t')\n",
    "qc = QuantumCircuit(2)\n",
    "qc.cnot(0,1)\n",
    "qc.rz(2 * t, 1)\n",
    "qc.cnot(0,1)\n",
    "#qc.draw(output='mpl') # Requires 'pip install pylatexenc' library to use 'MatplotlibDrawer'.\n",
    "qc.draw()"
   ]
  },
  {
   "cell_type": "markdown",
   "metadata": {
    "id": "E4p8FcXo-IBY"
   },
   "source": [
    "**Verification:**\n",
    "\n",
    "We first note that $RZ(2t) = e^{-itZ}$ (see chapter \"Gate Algebra and Circuit Implementation\"). One then has:\n",
    "\n",
    "\\begin{eqnarray}\n",
    "CX^{01}\\big(I\\otimes RZ(2t)\\big)CX^{01} =\n",
    "CX^{01}\\big(I\\otimes e^{-itZ}\\big)CX^{01}\\\\ \n",
    "\\end{eqnarray}\n",
    "\n",
    "From the aforementioned chapter, using the equation for a generic CU gate one can write $CX^{01} = I\\otimes |0\\rangle\\langle 0\\rangle + X \\otimes |1 \\rangle \\langle 1|$. However, in Qiskit’s convention this gate writes $CX^{01}=|0\\rangle\\langle 0|\\otimes I +|1\\rangle\\langle 1|\\otimes X$. One then has:\n",
    "\n",
    "\\begin{eqnarray}\n",
    "CX^{01}\\big(I\\otimes e^{-itZ}\\big)CX^{01}=(|0\\rangle\\langle 0|\\otimes I +|1\\rangle\\langle 1|\\otimes X)\\big(I\\otimes e^{-itZ}\\big)\\big(|0\\rangle\\langle 0|\\otimes I +|1\\rangle\\langle 1|\\otimes X \\big).\n",
    "\\end{eqnarray}\n",
    "\n",
    "From here, one should note that since each term between a tensor product is a matrix, the distributivity property for matrix product with respect to matrix addition yelds:\n",
    "\n",
    "$$\\big(I\\otimes e^{-itZ}\\big)\\big(|0\\rangle\\langle 0|\\otimes I +|1\\rangle\\langle 1|\\otimes X \\big) = \\big(I\\otimes e^{-itZ}\\big) \\big(|0\\rangle\\langle 0|\\otimes I\\big) + \\big(I\\otimes e^{-itZ}\\big)\\big(|1\\rangle\\langle 1|\\otimes X \\big),$$\n",
    "\n",
    "Using $(A\\otimes B)\\cdot(C\\otimes D)=A\\cdot C\\otimes B\\cdot D$, the last term becomes:\n",
    "\n",
    "$$\\big(I \\cdot |0\\rangle\\langle 0|\\otimes e^{-itZ} + I \\cdot |1\\rangle\\langle 1|\\otimes e^{-itZ}X \\big) = \\big(|0\\rangle\\langle 0|\\otimes e^{-itZ} + |1\\rangle\\langle 1|\\otimes e^{-itZ}X \\big) .$$ \n",
    "\n",
    "The final steps carry on as follows:\n",
    "\n",
    "\\begin{eqnarray}\n",
    "CX^{01}\\big(I\\otimes e^{-itZ}\\big)CX^{01} &=& \\big(|0\\rangle\\langle 0|\\otimes I +|1\\rangle\\langle 1|\\otimes X \\big)\\big(|0\\rangle\\langle 0|\\otimes e^{-itZ} +|1\\rangle\\langle 1|\\otimes e^{-itZ}X \\big) \\\\\n",
    "&=& |0\\rangle\\langle 0|\\otimes e^{-itZ} +|1\\rangle\\langle 1|\\otimes Xe^{-itZ}X \\\\ \n",
    "&=& |0\\rangle\\langle 0|\\otimes \\big(e^{-it}|0\\rangle\\langle 0|+e^{it}|1\\rangle\\langle 1|\\big) +|1\\rangle\\langle 1|\\otimes X \\big(e^{-it}|0\\rangle\\langle 0|+e^{it}|1\\rangle\\langle 1|\\big)X,\n",
    "\\end{eqnarray}\n",
    "\n",
    "and noting the operation $X|0\\rangle = |1\\rangle$, one finally gets:\n",
    "\n",
    "\\begin{eqnarray}\n",
    "CX^{01}\\big(I\\otimes e^{-itZ}\\big)CX^{01}&=& |0\\rangle\\langle 0|\\otimes \\big(e^{-it}|0\\rangle\\langle 0|+e^{it}|1\\rangle\\langle 1|\\big) +|1\\rangle\\langle 1|\\otimes \\big(e^{-it}|1\\rangle\\langle 1|+e^{it}|0\\rangle\\langle 0|\\big) \\\\\n",
    "&=& e^{-it}|00\\rangle\\langle 00| + e^{it}|01\\rangle\\langle 01| + e^{-it}|11\\rangle\\langle 11| + e^{it}|10\\rangle\\langle 10| \\\\\n",
    "&=& e^{-itZZ}.\n",
    "\\end{eqnarray}\n"
   ]
  },
  {
   "cell_type": "markdown",
   "metadata": {
    "id": "oPXl4jCU-SrS"
   },
   "source": [
    "## The $e^{-itXX}$ gate"
   ]
  },
  {
   "cell_type": "markdown",
   "metadata": {
    "id": "5mLJIk2lD6c3"
   },
   "source": [
    "IBM supplementary material provides the following quantum circuit for $e^{-itXX}$:"
   ]
  },
  {
   "cell_type": "code",
   "execution_count": 16,
   "metadata": {
    "colab": {
     "base_uri": "https://localhost:8080/",
     "height": 94
    },
    "executionInfo": {
     "elapsed": 10,
     "status": "ok",
     "timestamp": 1650111332976,
     "user": {
      "displayName": "Lucas Camponogara Viera",
      "userId": "13421704742725721901"
     },
     "user_tz": -480
    },
    "id": "FMY8BYH_BS_c",
    "outputId": "96129a50-8758-47af-b71c-3bff6f499e97"
   },
   "outputs": [
    {
     "data": {
      "text/html": [
       "<pre style=\"word-wrap: normal;white-space: pre;background: #fff0;line-height: 1.1;font-family: &quot;Courier New&quot;,Courier,monospace\">     ┌─────────┐                     ┌──────────┐\n",
       "q_0: ┤ Ry(π/2) ├──■───────────────■──┤ Ry(-π/2) ├\n",
       "     ├─────────┤┌─┴─┐┌─────────┐┌─┴─┐├──────────┤\n",
       "q_1: ┤ Ry(π/2) ├┤ X ├┤ Rz(2*t) ├┤ X ├┤ Ry(-π/2) ├\n",
       "     └─────────┘└───┘└─────────┘└───┘└──────────┘</pre>"
      ],
      "text/plain": [
       "     ┌─────────┐                     ┌──────────┐\n",
       "q_0: ┤ Ry(π/2) ├──■───────────────■──┤ Ry(-π/2) ├\n",
       "     ├─────────┤┌─┴─┐┌─────────┐┌─┴─┐├──────────┤\n",
       "q_1: ┤ Ry(π/2) ├┤ X ├┤ Rz(2*t) ├┤ X ├┤ Ry(-π/2) ├\n",
       "     └─────────┘└───┘└─────────┘└───┘└──────────┘"
      ]
     },
     "execution_count": 16,
     "metadata": {},
     "output_type": "execute_result"
    }
   ],
   "source": [
    "# e^{(-itXX)}\n",
    "\n",
    "'''\n",
    "from qiskit import QuantumCircuit\n",
    "from qiskit.circuit import Parameter\n",
    "'''\n",
    "\n",
    "t = Parameter('t')\n",
    "qc = QuantumCircuit(2)\n",
    "qc.ry(np.pi/2,[0,1])\n",
    "qc.cnot(0,1)\n",
    "qc.rz(2 * t, 1)\n",
    "qc.cnot(0,1)\n",
    "qc.ry(-np.pi/2,[0,1])\n",
    "\n",
    "qc.draw()"
   ]
  },
  {
   "cell_type": "markdown",
   "metadata": {
    "id": "kfj_F29DCB2Y"
   },
   "source": [
    "From the fact that $H|0\\rangle = R_y(\\pi/2)|0\\rangle = |+\\rangle = \\frac{1}{\\sqrt{2}}(|0\\rangle+|1\\rangle)$, one equivalent quantum circuit is:"
   ]
  },
  {
   "cell_type": "code",
   "execution_count": 17,
   "metadata": {
    "colab": {
     "base_uri": "https://localhost:8080/",
     "height": 94
    },
    "executionInfo": {
     "elapsed": 597,
     "status": "ok",
     "timestamp": 1650111333564,
     "user": {
      "displayName": "Lucas Camponogara Viera",
      "userId": "13421704742725721901"
     },
     "user_tz": -480
    },
    "id": "21rPcyejCEhf",
    "outputId": "3210efc0-b50e-45e0-88d7-ec12fc3852a3"
   },
   "outputs": [
    {
     "data": {
      "text/html": [
       "<pre style=\"word-wrap: normal;white-space: pre;background: #fff0;line-height: 1.1;font-family: &quot;Courier New&quot;,Courier,monospace\">     ┌───┐                     ┌───┐\n",
       "q_0: ┤ H ├──■───────────────■──┤ H ├\n",
       "     ├───┤┌─┴─┐┌─────────┐┌─┴─┐├───┤\n",
       "q_1: ┤ H ├┤ X ├┤ Rz(2*t) ├┤ X ├┤ H ├\n",
       "     └───┘└───┘└─────────┘└───┘└───┘</pre>"
      ],
      "text/plain": [
       "     ┌───┐                     ┌───┐\n",
       "q_0: ┤ H ├──■───────────────■──┤ H ├\n",
       "     ├───┤┌─┴─┐┌─────────┐┌─┴─┐├───┤\n",
       "q_1: ┤ H ├┤ X ├┤ Rz(2*t) ├┤ X ├┤ H ├\n",
       "     └───┘└───┘└─────────┘└───┘└───┘"
      ]
     },
     "execution_count": 17,
     "metadata": {},
     "output_type": "execute_result"
    }
   ],
   "source": [
    "# Equivalent circuit:\n",
    "\n",
    "qc = QuantumCircuit(2)\n",
    "qc.h([0,1])\n",
    "qc.cx(0, 1)\n",
    "qc.rz(2 * t, 1)\n",
    "qc.cx(0, 1)\n",
    "qc.h([0,1])\n",
    "qc.draw()"
   ]
  },
  {
   "cell_type": "markdown",
   "metadata": {
    "id": "zENoZYv6ZSKl"
   },
   "source": [
    "**Verification:**\n"
   ]
  },
  {
   "cell_type": "markdown",
   "metadata": {
    "id": "b7j1XOai-Uj-"
   },
   "source": [
    "## The $e^{-itYY}$ gate"
   ]
  },
  {
   "cell_type": "markdown",
   "metadata": {
    "id": "8F6ZU3lwD89K"
   },
   "source": [
    "IBM supplementary material provides the following quantum circuit for $e^{-itYY}$:"
   ]
  },
  {
   "cell_type": "code",
   "execution_count": 18,
   "metadata": {
    "colab": {
     "base_uri": "https://localhost:8080/",
     "height": 94
    },
    "executionInfo": {
     "elapsed": 8,
     "status": "ok",
     "timestamp": 1650111333565,
     "user": {
      "displayName": "Lucas Camponogara Viera",
      "userId": "13421704742725721901"
     },
     "user_tz": -480
    },
    "id": "Hhy5c_17ByeX",
    "outputId": "20d74f0a-713a-40c5-c4d7-9e585f24a248"
   },
   "outputs": [
    {
     "data": {
      "text/html": [
       "<pre style=\"word-wrap: normal;white-space: pre;background: #fff0;line-height: 1.1;font-family: &quot;Courier New&quot;,Courier,monospace\">     ┌─────────┐                     ┌──────────┐\n",
       "q_0: ┤ Rx(π/2) ├──■───────────────■──┤ Rx(-π/2) ├\n",
       "     ├─────────┤┌─┴─┐┌─────────┐┌─┴─┐├──────────┤\n",
       "q_1: ┤ Rx(π/2) ├┤ X ├┤ Rz(2*t) ├┤ X ├┤ Rx(-π/2) ├\n",
       "     └─────────┘└───┘└─────────┘└───┘└──────────┘</pre>"
      ],
      "text/plain": [
       "     ┌─────────┐                     ┌──────────┐\n",
       "q_0: ┤ Rx(π/2) ├──■───────────────■──┤ Rx(-π/2) ├\n",
       "     ├─────────┤┌─┴─┐┌─────────┐┌─┴─┐├──────────┤\n",
       "q_1: ┤ Rx(π/2) ├┤ X ├┤ Rz(2*t) ├┤ X ├┤ Rx(-π/2) ├\n",
       "     └─────────┘└───┘└─────────┘└───┘└──────────┘"
      ]
     },
     "execution_count": 18,
     "metadata": {},
     "output_type": "execute_result"
    }
   ],
   "source": [
    "# e^{(-itZZ)}\n",
    "\n",
    "'''\n",
    "from qiskit import QuantumCircuit\n",
    "from qiskit.circuit import Parameter\n",
    "'''\n",
    "\n",
    "t = Parameter('t')\n",
    "qc = QuantumCircuit(2)\n",
    "qc.rx(np.pi/2,[0,1])\n",
    "qc.cnot(0,1)\n",
    "qc.rz(2 * t, 1)\n",
    "qc.cnot(0,1)\n",
    "qc.rx(-np.pi/2,[0,1])\n",
    "\n",
    "qc.draw()"
   ]
  },
  {
   "cell_type": "markdown",
   "metadata": {
    "id": "yfFBS_PsCJ-o"
   },
   "source": [
    "From the fact that $ SH|0\\rangle = R_x(\\pi/2)|0\\rangle) = \\frac{1}{\\sqrt{2}}(|0\\rangle+i|1\\rangle) $, one equivalent quantum circuit is:"
   ]
  },
  {
   "cell_type": "code",
   "execution_count": 19,
   "metadata": {
    "colab": {
     "base_uri": "https://localhost:8080/",
     "height": 94
    },
    "executionInfo": {
     "elapsed": 7,
     "status": "ok",
     "timestamp": 1650111333565,
     "user": {
      "displayName": "Lucas Camponogara Viera",
      "userId": "13421704742725721901"
     },
     "user_tz": -480
    },
    "id": "P7xS9zvKCKYD",
    "outputId": "3bb7bc9a-af11-4bcd-82e4-101401ae220f"
   },
   "outputs": [
    {
     "data": {
      "text/html": [
       "<pre style=\"word-wrap: normal;white-space: pre;background: #fff0;line-height: 1.1;font-family: &quot;Courier New&quot;,Courier,monospace\">     ┌─────┐┌───┐                     ┌───┐┌───┐\n",
       "q_0: ┤ Sdg ├┤ H ├──■───────────────■──┤ H ├┤ S ├\n",
       "     ├─────┤├───┤┌─┴─┐┌─────────┐┌─┴─┐├───┤├───┤\n",
       "q_1: ┤ Sdg ├┤ H ├┤ X ├┤ Rz(2*t) ├┤ X ├┤ H ├┤ S ├\n",
       "     └─────┘└───┘└───┘└─────────┘└───┘└───┘└───┘</pre>"
      ],
      "text/plain": [
       "     ┌─────┐┌───┐                     ┌───┐┌───┐\n",
       "q_0: ┤ Sdg ├┤ H ├──■───────────────■──┤ H ├┤ S ├\n",
       "     ├─────┤├───┤┌─┴─┐┌─────────┐┌─┴─┐├───┤├───┤\n",
       "q_1: ┤ Sdg ├┤ H ├┤ X ├┤ Rz(2*t) ├┤ X ├┤ H ├┤ S ├\n",
       "     └─────┘└───┘└───┘└─────────┘└───┘└───┘└───┘"
      ]
     },
     "execution_count": 19,
     "metadata": {},
     "output_type": "execute_result"
    }
   ],
   "source": [
    "# Equivalent circuit:\n",
    "\n",
    "qc = QuantumCircuit(2)\n",
    "qc.sdg([0,1])\n",
    "qc.h([0,1])\n",
    "qc.cx(0, 1)\n",
    "qc.rz(2 * t, 1)\n",
    "qc.cx(0, 1)\n",
    "qc.h([0,1])\n",
    "qc.s([0,1])\n",
    "qc.draw()"
   ]
  },
  {
   "cell_type": "markdown",
   "metadata": {
    "id": "V_3tkJiHZQj5"
   },
   "source": [
    "**Verification:**\n"
   ]
  },
  {
   "cell_type": "markdown",
   "metadata": {
    "id": "_v4DYg-_1IBi"
   },
   "source": [
    "# State Fidelity"
   ]
  },
  {
   "cell_type": "markdown",
   "metadata": {
    "id": "X9uqfLjV1JWJ"
   },
   "source": [
    "In noisy environments, the evolved quantum state must be represented by a mixed density operator, since noise creates mixed states. The fidelity between two mixed density operators (density matrices) $\\rho$ and $\\sigma$ is:\n",
    "\n",
    "\\begin{align}\n",
    "F(\\rho,\\sigma) = \\left(tr \\sqrt{\\rho^{1/2} \\sigma \\rho^{1/2}}\\right)^2,\n",
    "\\end{align}\n",
    "\n",
    "with $\\rho= p_j\\sum_j|\\psi_{j}\\rangle \\langle \\psi_{j}|$ and $\\sigma=p_k\\sum_k|\\psi_{k}\\rangle \\langle \\psi_{k}|$, where $p_j$ and $p_k$ are the corresponding (eigenvalue) probability distributions.\n",
    "\n",
    "If one of the states is a pure state ($\\rho=|\\psi_{\\rho}\\rangle \\langle \\psi_{\\rho}|$), the above result boils down to the fidelity between a pure and a mixed state:\n",
    "\n",
    "\\begin{align}\n",
    "F(\\sigma, |\\psi_{\\rho}\\rangle) = \\langle\\psi_{\\rho}|\\sigma|\\psi_{\\rho}\\rangle = \\sum_{j,k=0}^{d-1}\\psi_{j}^{*}\\sigma_{j,k}\\psi_{k}.\n",
    "\\end{align}\n",
    "\n",
    "In a noise-free environment, both the evolved state and the target states are pure states, the state fidelity thus becomes:\n",
    "\n",
    "\\begin{align}\n",
    "F(\\rho, \\sigma) = |\\langle\\psi_{\\rho}|\\psi_{\\sigma}\\rangle|^2.\n",
    "\\end{align}"
   ]
  },
  {
   "cell_type": "markdown",
   "metadata": {
    "id": "FG2BFvzoR1Mh"
   },
   "source": [
    "# &nbsp; <a href=\"#\"><img valign=\"middle\" height=\"45px\" src=\"https://img.icons8.com/book\" width=\"45\" hspace=\"0px\" vspace=\"0px\"></a> References<a name=\"Ref\" />"
   ]
  },
  {
   "cell_type": "markdown",
   "metadata": {
    "id": "lTRHOvEiR3Tj"
   },
   "source": [
    "\\[1] Nielsen MA, Chuang IL. 2010. Quantum Computation and Quantum Information. New York: [Cambridge Univ. Press.](https://doi.org/10.1017/CBO9780511976667) 10th Anniv. Ed. Chapter 4.7.2: The quantum simulation algorithm, pg. 207, Theorem 4.3: (Trotter formula). Chapter 9.2.2: Fidelity, pg. 409.\n",
    "  \n",
    "\\[2] Griffiths, David J., and Darrell F. Schroeter. Introduction to quantum mechanics. Cambridge University Press, 2018.\n",
    "\n",
    "\\[3] [ibmq-qsim-challenge.ipynb](https://github.com/qiskit-community/open-science-prize-2021/blob/main/ibmq-qsim-challenge.ipynb).\n",
    "\n",
    "\\[4] [ibmq-qsim-sup-mat.ipynb](https://github.com/qiskit-community/open-science-prize-2021/blob/main/ibmq-qsim-sup-mat.ipynb)."
   ]
  }
 ],
 "metadata": {
  "colab": {
   "authorship_tag": "ABX9TyMhF91uowvWIIq898ltyzbm",
   "collapsed_sections": [
    "fdYp7ZX3fKPF",
    "m8xcJoamftJC",
    "fUO4uIAzPXAA",
    "r-2PDFSKa9-d",
    "R1VTbgUJtE9Z",
    "NdKmc83NczWl",
    "_0tZy3SecgKO",
    "sRN-YgSIb3k4",
    "MNakrDqNeiWt",
    "bupirY8vxW5B",
    "HCTVLpJCStKI",
    "GzqPiRiByOdF",
    "qitwJvl6_zmE",
    "yWzvruE81BCk",
    "t0W4pvCvy8tw",
    "SM8y11x3-J1m",
    "oPXl4jCU-SrS",
    "b7j1XOai-Uj-",
    "_v4DYg-_1IBi",
    "FG2BFvzoR1Mh"
   ],
   "name": "supplementary.ipynb",
   "provenance": []
  },
  "kernelspec": {
   "display_name": "Python 3 (ipykernel)",
   "language": "python",
   "name": "python3"
  },
  "language_info": {
   "codemirror_mode": {
    "name": "ipython",
    "version": 3
   },
   "file_extension": ".py",
   "mimetype": "text/x-python",
   "name": "python",
   "nbconvert_exporter": "python",
   "pygments_lexer": "ipython3",
   "version": "3.8.10"
  }
 },
 "nbformat": 4,
 "nbformat_minor": 1
}
