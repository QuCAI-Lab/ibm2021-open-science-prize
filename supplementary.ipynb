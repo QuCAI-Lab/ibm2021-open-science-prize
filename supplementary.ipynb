{
 "cells": [
  {
   "cell_type": "markdown",
   "metadata": {
    "id": "Pfy1TS1wxRVW"
   },
   "source": [
    "<!-- Badges: -->\n",
    "[![Donate](https://img.shields.io/badge/Donate-PayPal-green.svg?logo=paypal&style=flat-square)](https://www.paypal.me/CamponogaraViera/100)\n",
    "[![Open In Colab](https://colab.research.google.com/assets/colab-badge.svg)](https://colab.research.google.com/github/QuCAI-Lab/ibm2021-open-science-prize/blob/dev/simulation.ipynb)\n",
    "[![License](https://img.shields.io/github/license/QuCAI-Lab/ibm2021-open-science-prize.svg?logo=CreativeCommons&style=flat-square)](https://github.com/QuCAI-Lab/ibm2021-open-science-prize/blob/dev/LICENSE.md)\n",
    "[![Contributions](https://img.shields.io/badge/contributions-welcome-orange?style=flat-square)](https://github.com/QuCAI-Lab/ibm2021-open-science-prize/pulls)\n",
    "[![Maintenance](https://img.shields.io/badge/Maintained%3F-yes-green.svg)](https://github.com/QuCAI-Lab/ibm2021-open-science-prize/graphs/commit-activity)\n",
    "[![Release](https://img.shields.io/github/release/QuCAI-Lab/ibm2021-open-science-prize.svg)](https://github.com/QuCAI-Lab/ibm2021-open-science-prize/releases)\n",
    "\n",
    "<div align=\"center\">\n",
    "  <h1> <a href=\"https://research.ibm.com/blog/quantum-open-science-prize\">2021 IBM Open Science Prize</a>  </h1>\n",
    "  <h1><b> Supplementary Material </b></h1>\n",
    "  <h3><b> Simulating the XXX Heisenberg Model Hamiltonian for a System of Three Interacting Spin-1/2 Particles on IBM Quantum’s 7-qubit Jakarta Processor </b></h3>\n",
    "</div>\n",
    "<br> \n",
    "\n",
    "<center> <b>Author: ¹Lucas Camponogara Viera</b></center>\n",
    "<center>\n",
    "<b><a target=\"_blank\" href=\"https://en.ntnu.edu.tw/\">¹National Taiwan Normal University - NTNU, Taipei, Taiwan</a></b>.\n",
    "</center>"
   ]
  },
  {
   "cell_type": "markdown",
   "metadata": {
    "id": "egF6hx8y7Fa6"
   },
   "source": [
    "<br>\n",
    "\n",
    "<table class=\"tfo-notebook-buttons\" align=\"head\">\n",
    "  <td>\n",
    "    <a target=\"_blank\" href=\"https://github.com/QuCAI-Lab/ibm2021-open-science-prize\"><img src=\"https://www.tensorflow.org/images/GitHub-Mark-32px.png\" /></a>\n",
    "  </td>\n",
    "</table>"
   ]
  },
  {
   "cell_type": "code",
   "execution_count": 2,
   "metadata": {
    "colab": {
     "base_uri": "https://localhost:8080/",
     "height": 34
    },
    "executionInfo": {
     "elapsed": 9,
     "status": "ok",
     "timestamp": 1654398044643,
     "user": {
      "displayName": "Lucas Camponogara Viera",
      "userId": "14322290658374940800"
     },
     "user_tz": -480
    },
    "id": "K7XSEBSixP7L",
    "outputId": "6671743c-5acf-4996-e726-9c5481bb9732"
   },
   "outputs": [
    {
     "data": {
      "application/javascript": [
       "IPython.notebook.set_autosave_interval(30000)"
      ]
     },
     "metadata": {},
     "output_type": "display_data"
    },
    {
     "name": "stdout",
     "output_type": "stream",
     "text": [
      "Autosaving every 30 seconds\n"
     ]
    }
   ],
   "source": [
    "%autosave 30"
   ]
  },
  {
   "cell_type": "markdown",
   "metadata": {
    "id": "E9HgWhuExVGh"
   },
   "source": [
    "---\n",
    "In this Jupyter notebook, the reader will find some of the equations of the quantum simulation presented in the `simulation.ipynb` notebook file and beyond. The mathematical framework employed in the remainder of this Jupyter notebook is the contemporary matrix mechanics formalism of quantum mechanics initially developed by Werner Heisenberg, Max Born, and Pascual Jordan in a sequel of articles between 1925 and 1926. Within this formalism, the central pivots of the theory are the physical observables (e.g., spin, electric charge, magnetic flux, position, momentum, etc.) represented by Hermitian operators (self-adjoint matrices) where the corresponding eigenvectors form a set of orthonormal basis for the Hilbert space.\n",
    "\n",
    "---"
   ]
  },
  {
   "cell_type": "markdown",
   "metadata": {
    "id": "72IOow2hGRDa"
   },
   "source": [
    "# Table of Contents\n",
    "\n",
    "- **[Complex Analysis](#complex)**\n",
    "  - Complex numbers\n",
    "  - Complex functions\n",
    "\n",
    "- **[Linear Algebra](#algebra)**\n",
    "  - Matrices\n",
    "  - Pauli Operators\n",
    "  - Properties of complex and square matrices\n",
    "  - Matrix exponential\n",
    "  - Linear independence of eigenvectors\n",
    "  - Diagonalization of Operators\n",
    "- **[Postulates of quantum mechanics](#postulates)**\n",
    "  - Postulate 1 (State Space)\n",
    "  - Postulate 2 (Evolution)\n",
    "  - Postulate 3 (Measurement)\n",
    "  - Postulate 4 (Composite State)\n",
    "- **[System's Dynamics: Schrödinger equation](#dynamics)**\n",
    " - Wave Mechanics formalism\n",
    " - Matrix Mechanics formalism\n",
    "- **[Solution for the Schrödinger equation](#solutions)**\n",
    "- **[Gate Algebra and Circuit Implementation](#gates)**\n",
    "  - Gate Operations\n",
    "  - General $U3(\\theta, \\phi, \\lambda)$ single-qubit gate\n",
    "  - General $R_{\\hat{n}}(\\theta)$ single-qubit gate\n",
    "  - General $U(\\alpha, \\beta, \\gamma, \\delta)$ single-qubit gate\n",
    "  - General General $C_n^{j}(U_{2^m})$ gate with $n$ control qubits and $m$ target qubits\n",
    "  - Gate Identities\n",
    "  - Gate Decomposition\n",
    "  - Gate implementation with NumPy and Qiskit\n",
    "- **[The Heisenberg XXX Spin-1/2 Lattice Model for  N=3  Three Particles](#model)**\n",
    "- **[Time Evolution of the initial state  |110⟩  under  hheis3  according to  Uheis3(t=π)](#evolution)**\n",
    "  - Probability Over Time  t.\n",
    "- **[The Trotter-Susuki formula](#trotter)**\n",
    "- **[Decomposition of  UHeis3(t)  using Trotterization](#decomp)**\n",
    "- **[Transpilation of  UHeis3(t)  Into Quantum Gates](#transp)**\n",
    "  - The  e−itZZ  gate\n",
    "  - The  e−itXX  gate\n",
    "  - The  e−itYY  gate\n",
    "- **[State Fidelity](#fid)**\n",
    "- **[References](#ref)**\n",
    "\n"
   ]
  },
  {
   "cell_type": "markdown",
   "metadata": {
    "id": "fdYp7ZX3fKPF"
   },
   "source": [
    "# &nbsp; <a href=\"https://creativecommons.org/licenses/by/4.0/\"><img valign=\"middle\" src=\"https://img.icons8.com/copyright\" width=\"50\"></a> License"
   ]
  },
  {
   "cell_type": "code",
   "execution_count": 3,
   "metadata": {
    "cellView": "form",
    "executionInfo": {
     "elapsed": 7,
     "status": "ok",
     "timestamp": 1654398044643,
     "user": {
      "displayName": "Lucas Camponogara Viera",
      "userId": "14322290658374940800"
     },
     "user_tz": -480
    },
    "id": "wqNaP4k2fKjw"
   },
   "outputs": [],
   "source": [
    "#@title Copyright 2022.\n",
    "# This code is part of heisenberg-model.\n",
    "#\n",
    "# (C) Copyright NTNU QuCAI-Lab, 2022.\n",
    "#\n",
    "# This code is licensed under the Creative Commons Zero v1.0 Universal License. \n",
    "# You may obtain a copy of the License at https://github.com/QuCAI-Lab/ibm2021-open-science-prize/blob/dev/LICENSE.md."
   ]
  },
  {
   "cell_type": "markdown",
   "metadata": {
    "id": "m8xcJoamftJC"
   },
   "source": [
    "# &nbsp; <a href=\"https://colab.research.google.com/\"><img valign=\"middle\" src=\"https://www.tensorflow.org/images/colab_logo_32px.png\" width=\"50\"></a> Pip Install\n",
    "\n",
    "* **Run the following cells only if you are running this Jupyter notebook outside the [heisenberg_model environment](https://github.com/QuCAI-Lab/ibm2021-open-science-prize/blob/dev/environment.yml).**\n",
    "\n",
    "Installing `Qiskit`, `NumPy`, and `pylatexenc`."
   ]
  },
  {
   "cell_type": "code",
   "execution_count": 33,
   "metadata": {
    "colab": {
     "base_uri": "https://localhost:8080/",
     "height": 53
    },
    "executionInfo": {
     "elapsed": 228,
     "status": "ok",
     "timestamp": 1654398163076,
     "user": {
      "displayName": "Lucas Camponogara Viera",
      "userId": "14322290658374940800"
     },
     "user_tz": -480
    },
    "id": "89SU631zhgN5",
    "outputId": "dce7f0a4-f367-429a-a5df-321e7ef3a0a1"
   },
   "outputs": [
    {
     "data": {
      "application/vnd.google.colaboratory.intrinsic+json": {
       "type": "string"
      },
      "text/plain": [
       "'\\n# Installing a non-default library\\n\\n!python3 -m pip install <library_name>\\n\\n# Alternative \\n\\n!apt-get -qq install -y <library_name> && python3 -m pip install -U <library_name> \\n\\n# Upgrading an installed library\\n\\n!python3 -m pip install -U --upgrade <library_name> \\n'"
      ]
     },
     "execution_count": 33,
     "metadata": {},
     "output_type": "execute_result"
    }
   ],
   "source": [
    "'''\n",
    "# Installing a non-default library\n",
    "\n",
    "!python3 -m pip install <library_name>\n",
    "\n",
    "# Alternative \n",
    "\n",
    "!apt-get -qq install -y <library_name> && python3 -m pip install -U <library_name> \n",
    "\n",
    "# Upgrading an installed library\n",
    "\n",
    "!python3 -m pip install -U --upgrade <library_name> \n",
    "'''"
   ]
  },
  {
   "cell_type": "code",
   "execution_count": 34,
   "metadata": {
    "colab": {
     "base_uri": "https://localhost:8080/"
    },
    "executionInfo": {
     "elapsed": 372,
     "status": "ok",
     "timestamp": 1654398163667,
     "user": {
      "displayName": "Lucas Camponogara Viera",
      "userId": "14322290658374940800"
     },
     "user_tz": -480
    },
    "id": "ZjCipVImrby_",
    "outputId": "853d1262-d1e7-4325-d5af-ef7f4b1e966b"
   },
   "outputs": [
    {
     "name": "stdout",
     "output_type": "stream",
     "text": [
      "21.1.3\n"
     ]
    }
   ],
   "source": [
    "try:\n",
    "  import pip, pkg_resources\n",
    "  pkg_resources.require(\"pip>=21.1.3\") # Latest version: 22.0.4\n",
    "  print(pip.__version__)\n",
    "except:\n",
    "  import subprocess, sys\n",
    "  cmd = \"python3 -m pip install --upgrade pip\"\n",
    "  process = subprocess.Popen(cmd,shell=True,bufsize=1,stdout=subprocess.PIPE,\n",
    "                             stderr=subprocess.STDOUT,encoding='utf-8',errors='replace') \n",
    "  while True:\n",
    "    out = process.stdout.readline()\n",
    "    if out == '' and process.poll() is not None:\n",
    "      break\n",
    "    if out:\n",
    "      print(out.strip(), flush=False)\n",
    "      sys.stdout.flush()\n",
    "  #raise"
   ]
  },
  {
   "cell_type": "code",
   "execution_count": 35,
   "metadata": {
    "colab": {
     "base_uri": "https://localhost:8080/"
    },
    "executionInfo": {
     "elapsed": 295,
     "status": "ok",
     "timestamp": 1654398163959,
     "user": {
      "displayName": "Lucas Camponogara Viera",
      "userId": "14322290658374940800"
     },
     "user_tz": -480
    },
    "id": "o_jBOJf5rbzD",
    "outputId": "9f5714ec-7505-448d-cbd6-da59d2cd6684"
   },
   "outputs": [
    {
     "name": "stdout",
     "output_type": "stream",
     "text": [
      "pip 21.1.3 from /usr/local/lib/python3.7/dist-packages/pip (python 3.7)\n"
     ]
    }
   ],
   "source": [
    "#!python3 -m pip install pip==version_number # To downgrade pip.\n",
    "!pip --version"
   ]
  },
  {
   "cell_type": "markdown",
   "metadata": {
    "id": "T_NqS0U8rbzG"
   },
   "source": [
    "**NumPy:**"
   ]
  },
  {
   "cell_type": "code",
   "execution_count": 36,
   "metadata": {
    "colab": {
     "base_uri": "https://localhost:8080/"
    },
    "executionInfo": {
     "elapsed": 3553,
     "status": "ok",
     "timestamp": 1654398167511,
     "user": {
      "displayName": "Lucas Camponogara Viera",
      "userId": "14322290658374940800"
     },
     "user_tz": -480
    },
    "id": "GTMpbrJhhpVm",
    "outputId": "c5df4e4b-34a2-4d01-aa99-af345b40360e"
   },
   "outputs": [
    {
     "name": "stdout",
     "output_type": "stream",
     "text": [
      "Looking in indexes: https://pypi.org/simple, https://us-python.pkg.dev/colab-wheels/public/simple/\n",
      "Requirement already satisfied: numpy==1.20.1 in /usr/local/lib/python3.7/dist-packages (1.20.1)\n"
     ]
    }
   ],
   "source": [
    "!python3 -m pip install numpy==1.20.1"
   ]
  },
  {
   "cell_type": "markdown",
   "metadata": {
    "id": "aaeNe3xWrbzJ"
   },
   "source": [
    "**Qiskit:**"
   ]
  },
  {
   "cell_type": "code",
   "execution_count": 37,
   "metadata": {
    "colab": {
     "base_uri": "https://localhost:8080/"
    },
    "executionInfo": {
     "elapsed": 3838,
     "status": "ok",
     "timestamp": 1654398171346,
     "user": {
      "displayName": "Lucas Camponogara Viera",
      "userId": "14322290658374940800"
     },
     "user_tz": -480
    },
    "id": "dk3Wkme2fPeN",
    "outputId": "a0a80b3e-7465-4af0-b4d4-43428cd11860"
   },
   "outputs": [
    {
     "name": "stdout",
     "output_type": "stream",
     "text": [
      "Looking in indexes: https://pypi.org/simple, https://us-python.pkg.dev/colab-wheels/public/simple/\n",
      "Requirement already satisfied: qiskit==0.35.0 in /usr/local/lib/python3.7/dist-packages (0.35.0)\n",
      "Requirement already satisfied: qiskit-aer==0.10.3 in /usr/local/lib/python3.7/dist-packages (from qiskit==0.35.0) (0.10.3)\n",
      "Requirement already satisfied: qiskit-ibmq-provider==0.18.3 in /usr/local/lib/python3.7/dist-packages (from qiskit==0.35.0) (0.18.3)\n",
      "Requirement already satisfied: qiskit-ignis==0.7.0 in /usr/local/lib/python3.7/dist-packages (from qiskit==0.35.0) (0.7.0)\n",
      "Requirement already satisfied: qiskit-terra==0.20.0 in /usr/local/lib/python3.7/dist-packages (from qiskit==0.35.0) (0.20.0)\n",
      "Requirement already satisfied: scipy>=1.0 in /usr/local/lib/python3.7/dist-packages (from qiskit-aer==0.10.3->qiskit==0.35.0) (1.7.3)\n",
      "Requirement already satisfied: numpy>=1.16.3 in /usr/local/lib/python3.7/dist-packages (from qiskit-aer==0.10.3->qiskit==0.35.0) (1.20.1)\n",
      "Requirement already satisfied: python-dateutil>=2.8.0 in /usr/local/lib/python3.7/dist-packages (from qiskit-ibmq-provider==0.18.3->qiskit==0.35.0) (2.8.2)\n",
      "Requirement already satisfied: websocket-client>=1.0.1 in /usr/local/lib/python3.7/dist-packages (from qiskit-ibmq-provider==0.18.3->qiskit==0.35.0) (1.3.2)\n",
      "Requirement already satisfied: urllib3>=1.21.1 in /usr/local/lib/python3.7/dist-packages (from qiskit-ibmq-provider==0.18.3->qiskit==0.35.0) (1.24.3)\n",
      "Requirement already satisfied: requests>=2.19 in /usr/local/lib/python3.7/dist-packages (from qiskit-ibmq-provider==0.18.3->qiskit==0.35.0) (2.23.0)\n",
      "Requirement already satisfied: requests-ntlm>=1.1.0 in /usr/local/lib/python3.7/dist-packages (from qiskit-ibmq-provider==0.18.3->qiskit==0.35.0) (1.1.0)\n",
      "Requirement already satisfied: setuptools>=40.1.0 in /usr/local/lib/python3.7/dist-packages (from qiskit-ignis==0.7.0->qiskit==0.35.0) (57.4.0)\n",
      "Requirement already satisfied: retworkx>=0.8.0 in /usr/local/lib/python3.7/dist-packages (from qiskit-ignis==0.7.0->qiskit==0.35.0) (0.11.0)\n",
      "Requirement already satisfied: symengine>=0.9 in /usr/local/lib/python3.7/dist-packages (from qiskit-terra==0.20.0->qiskit==0.35.0) (0.9.2)\n",
      "Requirement already satisfied: psutil>=5 in /usr/local/lib/python3.7/dist-packages (from qiskit-terra==0.20.0->qiskit==0.35.0) (5.4.8)\n",
      "Requirement already satisfied: python-constraint>=1.4 in /usr/local/lib/python3.7/dist-packages (from qiskit-terra==0.20.0->qiskit==0.35.0) (1.4.0)\n",
      "Requirement already satisfied: sympy>=1.3 in /usr/local/lib/python3.7/dist-packages (from qiskit-terra==0.20.0->qiskit==0.35.0) (1.7.1)\n",
      "Requirement already satisfied: stevedore>=3.0.0 in /usr/local/lib/python3.7/dist-packages (from qiskit-terra==0.20.0->qiskit==0.35.0) (3.5.0)\n",
      "Requirement already satisfied: ply>=3.10 in /usr/local/lib/python3.7/dist-packages (from qiskit-terra==0.20.0->qiskit==0.35.0) (3.11)\n",
      "Requirement already satisfied: dill>=0.3 in /usr/local/lib/python3.7/dist-packages (from qiskit-terra==0.20.0->qiskit==0.35.0) (0.3.5.1)\n",
      "Requirement already satisfied: tweedledum<2.0,>=1.1 in /usr/local/lib/python3.7/dist-packages (from qiskit-terra==0.20.0->qiskit==0.35.0) (1.1.1)\n",
      "Requirement already satisfied: six>=1.5 in /usr/local/lib/python3.7/dist-packages (from python-dateutil>=2.8.0->qiskit-ibmq-provider==0.18.3->qiskit==0.35.0) (1.15.0)\n",
      "Requirement already satisfied: certifi>=2017.4.17 in /usr/local/lib/python3.7/dist-packages (from requests>=2.19->qiskit-ibmq-provider==0.18.3->qiskit==0.35.0) (2022.5.18.1)\n",
      "Requirement already satisfied: chardet<4,>=3.0.2 in /usr/local/lib/python3.7/dist-packages (from requests>=2.19->qiskit-ibmq-provider==0.18.3->qiskit==0.35.0) (3.0.4)\n",
      "Requirement already satisfied: idna<3,>=2.5 in /usr/local/lib/python3.7/dist-packages (from requests>=2.19->qiskit-ibmq-provider==0.18.3->qiskit==0.35.0) (2.10)\n",
      "Requirement already satisfied: cryptography>=1.3 in /usr/local/lib/python3.7/dist-packages (from requests-ntlm>=1.1.0->qiskit-ibmq-provider==0.18.3->qiskit==0.35.0) (37.0.2)\n",
      "Requirement already satisfied: ntlm-auth>=1.0.2 in /usr/local/lib/python3.7/dist-packages (from requests-ntlm>=1.1.0->qiskit-ibmq-provider==0.18.3->qiskit==0.35.0) (1.5.0)\n",
      "Requirement already satisfied: cffi>=1.12 in /usr/local/lib/python3.7/dist-packages (from cryptography>=1.3->requests-ntlm>=1.1.0->qiskit-ibmq-provider==0.18.3->qiskit==0.35.0) (1.15.0)\n",
      "Requirement already satisfied: pycparser in /usr/local/lib/python3.7/dist-packages (from cffi>=1.12->cryptography>=1.3->requests-ntlm>=1.1.0->qiskit-ibmq-provider==0.18.3->qiskit==0.35.0) (2.21)\n",
      "Requirement already satisfied: importlib-metadata>=1.7.0 in /usr/local/lib/python3.7/dist-packages (from stevedore>=3.0.0->qiskit-terra==0.20.0->qiskit==0.35.0) (4.11.4)\n",
      "Requirement already satisfied: pbr!=2.1.0,>=2.0.0 in /usr/local/lib/python3.7/dist-packages (from stevedore>=3.0.0->qiskit-terra==0.20.0->qiskit==0.35.0) (5.9.0)\n",
      "Requirement already satisfied: zipp>=0.5 in /usr/local/lib/python3.7/dist-packages (from importlib-metadata>=1.7.0->stevedore>=3.0.0->qiskit-terra==0.20.0->qiskit==0.35.0) (3.8.0)\n",
      "Requirement already satisfied: typing-extensions>=3.6.4 in /usr/local/lib/python3.7/dist-packages (from importlib-metadata>=1.7.0->stevedore>=3.0.0->qiskit-terra==0.20.0->qiskit==0.35.0) (4.2.0)\n",
      "Requirement already satisfied: mpmath>=0.19 in /usr/local/lib/python3.7/dist-packages (from sympy>=1.3->qiskit-terra==0.20.0->qiskit==0.35.0) (1.2.1)\n"
     ]
    }
   ],
   "source": [
    "!python3 -m pip install qiskit==0.35.0"
   ]
  },
  {
   "cell_type": "markdown",
   "metadata": {
    "id": "yTZZR5ShrbzM"
   },
   "source": [
    "**pylatexenc**:"
   ]
  },
  {
   "cell_type": "code",
   "execution_count": 38,
   "metadata": {
    "colab": {
     "base_uri": "https://localhost:8080/"
    },
    "executionInfo": {
     "elapsed": 4449,
     "status": "ok",
     "timestamp": 1654398175793,
     "user": {
      "displayName": "Lucas Camponogara Viera",
      "userId": "14322290658374940800"
     },
     "user_tz": -480
    },
    "id": "KSmf-ygcrbzN",
    "outputId": "25464961-5548-491d-a9ae-fbd34ca0a2d5"
   },
   "outputs": [
    {
     "name": "stdout",
     "output_type": "stream",
     "text": [
      "Looking in indexes: https://pypi.org/simple, https://us-python.pkg.dev/colab-wheels/public/simple/\n",
      "Requirement already satisfied: pylatexenc==2.10 in /usr/local/lib/python3.7/dist-packages (2.10)\n"
     ]
    }
   ],
   "source": [
    "# The 'pylatexenc' library is required to use 'MatplotlibDrawer'.\n",
    "\n",
    "!python -m pip install pylatexenc==2.10"
   ]
  },
  {
   "cell_type": "markdown",
   "metadata": {
    "id": "fUO4uIAzPXAA"
   },
   "source": [
    "# &nbsp; <a href=\"#\"><img valign=\"middle\" height=\"45px\" src=\"https://img.icons8.com/python\" width=\"45\" hspace=\"0px\" vspace=\"0px\"></a> Dependencies\n",
    "\n",
    "- Importing modules."
   ]
  },
  {
   "cell_type": "code",
   "execution_count": 4,
   "metadata": {
    "executionInfo": {
     "elapsed": 3,
     "status": "ok",
     "timestamp": 1654398175794,
     "user": {
      "displayName": "Lucas Camponogara Viera",
      "userId": "14322290658374940800"
     },
     "user_tz": -480
    },
    "id": "nqt7khF2QiGf"
   },
   "outputs": [],
   "source": [
    "import IPython\n",
    "import qiskit\n",
    "import numpy as np \n",
    "from qiskit import QuantumCircuit, QuantumRegister, transpile\n",
    "from qiskit.circuit.library.standard_gates import U3Gate, RYGate\n",
    "from qiskit.circuit import Parameter\n",
    "import qiskit.quantum_info as qi\n",
    "from qiskit import BasicAer"
   ]
  },
  {
   "cell_type": "code",
   "execution_count": 5,
   "metadata": {
    "colab": {
     "base_uri": "https://localhost:8080/"
    },
    "executionInfo": {
     "elapsed": 689,
     "status": "ok",
     "timestamp": 1654398176481,
     "user": {
      "displayName": "Lucas Camponogara Viera",
      "userId": "14322290658374940800"
     },
     "user_tz": -480
    },
    "id": "foDKCjDZrbzQ",
    "outputId": "b267b685-fb46-4664-e4c3-f6baf0c602ea"
   },
   "outputs": [
    {
     "name": "stdout",
     "output_type": "stream",
     "text": [
      "2.3.0\n"
     ]
    }
   ],
   "source": [
    "### If using Google Colab, one needs to restart Colab Runtime after pip install. ###\n",
    "\n",
    "try:\n",
    "  import pkg_resources, watermark\n",
    "  pkg_resources.require(\"watermark>=2.3.0\") # Force watermark version.\n",
    "  print(watermark.__version__)\n",
    "except:\n",
    "  import subprocess, sys\n",
    "  if \"google.colab\" in sys.modules:\n",
    "    cmd = \"python3 -m pip install --upgrade watermark\" # Upgrade watermak.\n",
    "\n",
    "    process = subprocess.Popen(cmd,shell=True,bufsize=1,stdout=subprocess.PIPE, \\\n",
    "                              stderr=subprocess.STDOUT,encoding='utf-8',errors='replace') \n",
    "    while True: \n",
    "      out = process.stdout.readline() # The first line of the file.\n",
    "      if out == '' and process.poll() is not None: # Run the loop until condition is True.\n",
    "        break \n",
    "      if out:\n",
    "        print(out.strip(), flush=False) # Removes leading and trailing empty spaces. \n",
    "        sys.stdout.flush()\n",
    "    #raise # To raise the import error. Upgrade will be successful regardless."
   ]
  },
  {
   "cell_type": "code",
   "execution_count": 6,
   "metadata": {
    "colab": {
     "base_uri": "https://localhost:8080/"
    },
    "executionInfo": {
     "elapsed": 3,
     "status": "ok",
     "timestamp": 1654398176481,
     "user": {
      "displayName": "Lucas Camponogara Viera",
      "userId": "14322290658374940800"
     },
     "user_tz": -480
    },
    "id": "6LJeK0ZirbzR",
    "outputId": "90b6a09b-8d65-4b59-b24c-5effcfe69fac"
   },
   "outputs": [
    {
     "name": "stdout",
     "output_type": "stream",
     "text": [
      "Author: LucasCamponogaraViera\n",
      "\n",
      "Github username: QuCAI-Lab\n",
      "\n",
      "Website: https://github.com/QuCAI-Lab/ibm2021-open-science-prize\n",
      "\n",
      "Last updated: 2022-06-07\n",
      "\n",
      "Python implementation: CPython\n",
      "Python version       : 3.7.13\n",
      "IPython version      : 7.34.0\n",
      "\n",
      "Compiler    : MSC v.1916 64 bit (AMD64)\n",
      "OS          : Windows\n",
      "Release     : 10\n",
      "Machine     : AMD64\n",
      "Processor   : Intel64 Family 6 Model 165 Stepping 5, GenuineIntel\n",
      "CPU cores   : 20\n",
      "Architecture: 64bit\n",
      "\n",
      "qiskit   : 0.35.0\n",
      "watermark: 2.3.0\n",
      "IPython  : 7.34.0\n",
      "numpy    : 1.20.1\n",
      "\n",
      "Watermark: 2.3.0\n",
      "\n"
     ]
    }
   ],
   "source": [
    "# If you get hit by the error \"No module named watermark\", run this cell twice!\n",
    "\n",
    "#%load_ext watermark\n",
    "%reload_ext watermark\n",
    "%watermark -a 'LucasCamponogaraViera' -gu 'QuCAI-Lab' -ws 'https://github.com/QuCAI-Lab/ibm2021-open-science-prize' -w -u -d -v -m -iv"
   ]
  },
  {
   "cell_type": "code",
   "execution_count": 7,
   "metadata": {
    "colab": {
     "base_uri": "https://localhost:8080/"
    },
    "executionInfo": {
     "elapsed": 2,
     "status": "ok",
     "timestamp": 1654398176481,
     "user": {
      "displayName": "Lucas Camponogara Viera",
      "userId": "14322290658374940800"
     },
     "user_tz": -480
    },
    "id": "EWbImiDCrbzS",
    "outputId": "ba9b96aa-3edc-459b-bc38-2d264f2b2be3"
   },
   "outputs": [
    {
     "name": "stdout",
     "output_type": "stream",
     "text": [
      "{'commit_hash': 'fcc71cc32',\n",
      " 'commit_source': 'installation',\n",
      " 'default_encoding': 'cp1252',\n",
      " 'ipython_path': 'C:\\\\Users\\\\User\\\\anaconda3\\\\envs\\\\heisenberg-model\\\\lib\\\\site-packages\\\\IPython',\n",
      " 'ipython_version': '7.34.0',\n",
      " 'os_name': 'nt',\n",
      " 'platform': 'Windows-10-10.0.19041-SP0',\n",
      " 'sys_executable': 'C:\\\\Users\\\\User\\\\anaconda3\\\\envs\\\\heisenberg-model\\\\python.exe',\n",
      " 'sys_platform': 'win32',\n",
      " 'sys_version': '3.7.13 (default, Mar 28 2022, 08:03:21) [MSC v.1916 64 bit '\n",
      "                '(AMD64)]'}\n"
     ]
    }
   ],
   "source": [
    "print(IPython.sys_info())"
   ]
  },
  {
   "cell_type": "markdown",
   "metadata": {
    "id": "a473k4egBbAP"
   },
   "source": [
    "# Complex Analysis<a name=\"complex\" />  "
   ]
  },
  {
   "cell_type": "markdown",
   "metadata": {
    "id": "axj2mIbX-ii0"
   },
   "source": [
    "## Complex numbers\n"
   ]
  },
  {
   "cell_type": "markdown",
   "metadata": {
    "id": "q7mJ6Wgkfrve"
   },
   "source": [
    "\n",
    "A complex number $z \\in \\mathbb{C}$ is an object defined as:\n",
    "\n",
    "\\begin{eqnarray}\n",
    "z \\equiv \\Re(z)+i\\Im(z),\n",
    "\\end{eqnarray}\n",
    "\n",
    "where:\n",
    "\n",
    "- $\\Im(z) \\in \\mathbb{R}$ is the imaginary part.\n",
    "- $\\Re(z) \\in \\mathbb{R}$ is the real part.\n",
    "- $i \\equiv \\sqrt{-1} \\therefore i^2=-1$ is the imaginary unit.\n",
    "\n",
    "**Conjugate**\n",
    "\n",
    "The conjugate of a complex number is defined as:\n",
    "\n",
    "\\begin{eqnarray}\n",
    "z^* \\equiv \\Re(z)-i\\Im(z),\n",
    "\\end{eqnarray}\n",
    "\n",
    "**Modulus**\n",
    "\n",
    "The modulus of a complex number is defined as:\n",
    "\n",
    "\\begin{eqnarray}\n",
    "|z| \\equiv \\sqrt{zz^*} &=& \\sqrt{(\\Re(z)+i\\Im(z))(\\Re(z)-i\\Im(z))} \\\\ \n",
    "&=& \\sqrt{\\Re(z)\\Re(z)-i\\Re(z)\\Im(z)+i\\Im(z)\\Re(z)-i^{2}\\Im(z)\\Im(z)} \\\\\n",
    "&=& \\sqrt{\\Re(z)\\Re(z)-i^{2}\\Im(z)\\Im(z)} \\\\ \n",
    "&=& \\sqrt{\\Re(z)^{2}+\\Im(z)^{2}} \\\\ \n",
    "\\therefore zz^* &=& |z|^2.\n",
    "\\end{eqnarray}\n",
    "\n",
    "\n",
    "**Properties**\n",
    "\n",
    "- 1) $z_1 \\pm z_2=\\Re(z_1\\pm z_2)+i\\Im(z_1\\pm z_2)$.\n",
    "- 2) $z_1z_2=\\Re(z_1z_2)+i\\Im(z_1z_2).$\n",
    "- 3) $\\frac{z_1}{z_2} = \\Re(z_1/z_2)+i\\Im(z_1/z_2).$\n",
    "- 4) $z+z^* = 2 \\Re(z)$.\n",
    "- 5) $z-z^* = 2i \\Im(z)$.\n",
    "- 6) $(z_1\\pm z_2)^*=z_1^* \\pm z_2^*.$\n",
    "- 7) $(z_1z_2)^*=z_1^*z_2^*.$\n",
    "- 8) $|z_1z_2|=|z_1||z_2|.$\n",
    "- 9) $\\left|\\frac{z_1}{z_2}\\right|=\\frac{|z_1|}{|z_2|}.$\n",
    "- 10) $|z_1+z_2|^2 = |z_1|^{2}+|z_2|^{2}+ 2\\bigg[\\Re(z_1)\\Re(z_2)+\\Im(z_1)\\Im(z_2)\\bigg].$\n",
    "\n",
    "**Complex Plane**\n",
    "\n",
    "A complex vector (a.k.a phasor) denoted $\\vec{z}$ in the bidimensional cartesian complex plane has the form:\n",
    "\n",
    "\\begin{eqnarray}\n",
    "\\vec{z} \\equiv \\Re(z) \\hat{e}_1 + \\Im(z)\\hat{e}_2,\n",
    "\\end{eqnarray}\n",
    "where:\n",
    "\n",
    "- $\\Re(z) \\equiv x = |\\vec{z}|\\cos(\\theta) \\in \\mathbb{R}$ is the x-axis coordinate.\n",
    "- $\\Im(z) \\equiv y = |\\vec{z}|\\sin(\\theta) \\in \\mathbb{R}$ is the y-axis coordinate.\n",
    "- $\\hat{e}_i$ denotes the right-handed orthonormal vector (a.k.a versor) satisfying $\\hat{e}_i\\cdot\\hat{e}_j=\\delta_{ij}$. One convention is $\\hat{e}_i=\\hat{i}$ and $\\hat{e}_2 = \\hat{j}$.\n",
    "\n",
    "Adopting the aforementioned convention, the **polar form** of the **complex vector** takes the form:\n",
    "\n",
    "\\begin{eqnarray}\n",
    "\\vec{z} \\equiv \\Re(z) \\hat{i} +\\Im(z) \\hat{j}=|\\vec{z}|\\cos(\\theta)\\hat{i}+|\\vec{z}|\\sin(\\theta)\\hat{j} = |\\vec{z}|(\\cos(\\theta)\\hat{i}+\\sin(\\theta)\\hat{j}) \\doteq r\\hat{r}.\n",
    "\\end{eqnarray}\n",
    "\n",
    "The **polar form** of the **complex number** takes the form:\n",
    "\n",
    "\\begin{eqnarray}\n",
    "z \\equiv \\Re(z)+i\\Im(z)=|\\vec{z}|\\cos(\\theta)+i|\\vec{z}|\\sin(\\theta) = |\\vec{z}|(\\cos(\\theta)+i\\sin(\\theta))=|\\vec{z}|e^{i\\theta}.\n",
    "\\end{eqnarray}\n",
    "\n",
    "And the modulus become:\n",
    "\n",
    "$$|z|=|\\vec{z}| = \\sqrt{\\vec{z} \\cdot \\vec{z}} = \\sqrt{x^2+y^2}.$$\n"
   ]
  },
  {
   "cell_type": "markdown",
   "metadata": {
    "id": "I7zuu_sM-T8o"
   },
   "source": [
    "## Complex functions\n"
   ]
  },
  {
   "cell_type": "markdown",
   "metadata": {
    "id": "VdiQldKRBbQP"
   },
   "source": [
    "\n",
    "The Taylor series around the point $x=x_0$ is defined as:\n",
    "\n",
    "\\begin{eqnarray}\n",
    "g(x)|_{x_0}= \\sum_{n=0}^{\\infty} f^{n}(x_0)\\frac{(x-x_0)^n}{n!},\n",
    "\\end{eqnarray}\n",
    "\n",
    "where $f^{n}(x_0) = \\frac{\\partial^n f(x_0)}{\\partial x^n}$ denotes the n-th derivative of $f(x)$ evaluated at the point $x=x_0$. In the particular case of $x_0=0$, the Taylor series becomes the [Maclaurin series](https://mathworld.wolfram.com/MaclaurinSeries.html).\n",
    "\n",
    "From the above Taylor series, it is possible to expand any complex function $f:\\mathbb{C}\\rightarrow\\mathbb{C}$. In particular, the complex exponential function with complex number $z \\equiv x+iy$, can be expanded around $x_0=0$ in the form:\n",
    "\n",
    "\\begin{eqnarray}\n",
    "e^{z}=\\sum_{n=0}^{\\infty}\\frac{z^{n}}{n!} = 1+z+\\frac{z^{2}}{2}+\\frac{z^{3}}{3!}+\\cdots+\\frac{z^{n}}{n!},\n",
    "\\end{eqnarray}\n",
    "\n",
    "which is not itself a polynomial, but the limit of a sequence of polynomials.\n",
    "\n",
    "From the above result, the Euler formula is derived as:\n",
    "\n",
    "\\begin{eqnarray}\n",
    "e^{i\\theta}=\\sum_{n=0}^{\\infty}\\frac{(i\\theta)^{n}}{n!} &=& 1+(i\\theta)+\\frac{(i\\theta)^{2}}{2}+\\frac{(i\\theta)^{3}}{3!}+\\frac{(i\\theta)^{4}}{4!}+\\frac{(i\\theta)^{5}}{5!}+\\cdots+\\frac{(i\\theta)^{n}}{n!} \\\\\n",
    "&=& \\left(1-\\frac{\\theta^{2}}{2}+\\frac{\\theta^{4}}{4!}+\\cdots+\\right) +i\\left(\\theta-\\frac{\\theta^{3}}{3!}+\\frac{\\theta^{5}}{5!}+\\cdots+\\right) \\\\\n",
    "&=& \\cos(\\theta)+i\\sin(\\theta).\n",
    "\\end{eqnarray}\n",
    "\n",
    "For complex numbers $z_1, z_2 \\in \\mathbb{C}$ and real numbers $r_1, r_2 \\in \\mathbb{R}$, the following properties hold:\n",
    "\n",
    "- 1) $e^{r_1+r_2} = e^{r_1} e^{r_2}$.\n",
    "- 2) $e^{r_1+ir_2} = e^{r_1} e^{ir_2}$.\n",
    "- 3) $e^{z_1+z_2} = e^{z_1} e^{z_2}$.\n",
    "- 4) $z_1z_2=r_1e^{i\\theta_1}r_2e^{i\\theta_2}=r_1r_2e^{i(\\theta_1+\\theta_2)}$.\n"
   ]
  },
  {
   "cell_type": "markdown",
   "metadata": {
    "id": "sBKl6PQG0reK"
   },
   "source": [
    "# Linear Algebra<a name=\"algebra\" />  "
   ]
  },
  {
   "cell_type": "markdown",
   "metadata": {
    "id": "07UywDI72qs7"
   },
   "source": [
    "## Matrices\n"
   ]
  },
  {
   "cell_type": "markdown",
   "metadata": {
    "id": "54b-GhX-0tpg"
   },
   "source": [
    "**1)** A square matrix $A$ is **Invertible** (a.k.a nonsingular or nondegenerate) if there exists a square matrix $B$ such that:\n",
    "\n",
    "$$AB=BA=I \\implies B=A^{-1},$$\n",
    "\n",
    "where $B$ is called the inverse matrix of $A$. Non-square matrices do not have an inverse.\n",
    "\n",
    "**The invertible matrix theorem** *A matrix is non-invertible (a.k.a singular or degenerate) if, and only if, 0 (zero) is an eigenvalue of the matrix.*\n",
    "\n",
    "Nonrigorous proof: since the product of the eigenvalues is equal to the matrix determinant, if one eigenvalue is zero, the determinant is zero, hence no inverse exists. The converse is also true: if a matrix has zero determinant, the matrix has no inverse.\n",
    "\n",
    "\n",
    "**2)** A square matrix $A$ is **Involutory** if it satisfies:\n",
    "\n",
    "$$A=A^{-1}\\implies AA^{-1}=A^{2}=I.$$\n",
    "\n",
    "The eigenvalues of an Involutory matrix are $\\pm 1$. The determinant of an Involutory matrix over any field is $\\pm 1$. A matrix that is both Hermitian and Unitary at the same time is an Involutory matrix. The converse is not true, i.e, a Normal matrix is not always Hermitian and Unitary, as one can find a counterexample. The 2x2 Pauli matrices are all Involutory.\n",
    "\n",
    "\n",
    "**3)** A real-valued square matrix $A$ is **Orthogonal** if:\n",
    "\n",
    "$$AA^T=A^TA =I \\implies A^T=A^{-1}.$$ \n",
    "\n",
    "In the component form:\n",
    "\n",
    "$$a_{ij}=(a^{-1})_{ji}.$$\n",
    "\n",
    "An Orthogonal matrix is Invertible and Unitary over the field of the real numbers. These matrices preserve the inner product, i.e, they form a group denoted $O(n)$ of unitary transformations. The determinant of an Orthogonal matrix is $\\pm 1$. The group of Orthogonal matrices with $det A=1$ is known as the special group $SO(n)$ of rotation matrices.\n",
    "\n",
    "\n",
    "**4)** A complex-valued square matrix $U$ is **Unitary** if it satisfies:\n",
    "    \n",
    "$$U^{-1}=U^{\\dagger}\\implies U^{\\dagger}U=UU^{\\dagger}=UU^{-1}=I.$$\n",
    "\n",
    "Furthermore, the row and column vectors of a Unitary matrix are orthonormal, i.e, they form an orthonormal basis. All the eigenvalues of a Unitary matrix have modulus (absolute value) equal to 1, i.e, they lie on the unit circle of the complex plane, hence they can be written in the form $\\lambda=e^{i\\theta}$ for some real-valued number $\\theta$. A unitary matrix whose entries are all real numbers is an Orthogonal matrix. Moreover, Unitary matrices preserve the inner product.\n",
    "\n",
    "\n",
    "**5)** A real-valued square matrix $A$ is **Symmetric** if:\n",
    "\n",
    "$$A^T=A \\implies a_{ji}=a_{ij}.$$\n",
    "\n",
    "\n",
    "**6)** A complex-valued square matrix $H$ is **Hermitian** if:\n",
    "\n",
    "$$H=H^{\\dagger}.$$\n",
    "\n",
    "The eigenvalues of a Hermitian matrix are all real. An Hermitian matrix whose entries are all real numbers is a Symmetric matrix.\n",
    "\n",
    "\n",
    "**7)** A complex square matrix $A$ is **Normal** if it commutes with its adjoint (a.k.a conjugate transpose or Hermitian conjugate):\n",
    "\n",
    "$$[A,A^{\\dagger}]=AA^{\\dagger}-A^{\\dagger}A=\\mathbb{O}.$$\n",
    "\n",
    "Hermitian and Unitary matrices are always Normal. From the spectral theorem, all Normal matrices are diagonalizable and, therefore, Hermitian and Unitary matrices are as well. A Normal matrix is Unitary iff all of its eigenvalues (the matrix spectrum) lie on the unit circle of the complex plane, i.e, they have modulus 1. Moreover, a Normal matrix is Hermitian iff all its eigenvalues are real.\n",
    "\n",
    "\n",
    "**8)** A square matrix $A$ is **Idempotent** if:\n",
    "\n",
    "$$A^2=A.$$"
   ]
  },
  {
   "cell_type": "markdown",
   "metadata": {
    "id": "0lMX0FzmSD4j"
   },
   "source": [
    "**Spectral decomposition theorem for Normal matrices** *Any Normal operator $\\hat{\\mathcal{O}}$ on a $n$-dimensional vector space $V$ is unitarily diagonalizable with respect to some orthonormal basis for $V$. Conversely, any unitarily diagonalizable operator is normal.*\n",
    "\n",
    "It follows that a Normal operator has a spectral decomposition of the form:\n",
    "\n",
    "\\begin{eqnarray}\n",
    "\\hat{\\mathcal{O}} = \\sum_{j=1}^n o_j |o_j\\rangle \\langle o_j|,\n",
    "\\end{eqnarray}\n",
    "where $\\{|o_j \\rangle \\}|_{j=1}^n$ is a basis set of $n$ linearly independent orthonormal eigenvectors of $\\hat{\\mathcal{O}}$ with eigenvalues $o_j$.\n",
    "\n",
    "**Note1:** the above theorem does not imply that any diagonalizable operator is Normal, this is only true for unitary diagonalization. There are matrices which are not Normal, but are diagonalizable by orthogonal operators (orthogonally diagonalizable). See the `spectral theorem for Symmetric matrices` for more information.\n",
    "\n",
    "**Note2:** more on matrix diagonalization (criteria and method) in the following section `\"Diagonalization of Operators\"`."
   ]
  },
  {
   "cell_type": "markdown",
   "metadata": {
    "id": "OLN5rNripiRJ"
   },
   "source": [
    "## Pauli Operators\n"
   ]
  },
  {
   "cell_type": "markdown",
   "metadata": {
    "id": "E9g9-ylogYBS"
   },
   "source": [
    "\n",
    "The set of Pauli operators $\\{\\sigma_j\\}|_{j=1}^3$ is a set of 2x2 complex-valued matrices that are each Hermitian, Unitary and, therefore, Involutory and Normal. Each matrix can be defined as:\n",
    "\n",
    "\\begin{eqnarray}\n",
    "\\sigma_j \\equiv \n",
    "\\begin{pmatrix}\n",
    "\\delta_{j3} & \\delta_{j1} - i \\delta_{j2} \\\\\n",
    "\\delta_{j1} + i \\delta_{j2} & -\\delta_{j3}\n",
    "\\end{pmatrix}.\n",
    "\\end{eqnarray}\n",
    "\n",
    "Where $\\delta_{jk}$ is the Kronecker delta defined as:\n",
    "\n",
    "\\begin{eqnarray}\n",
    "\\delta_{jk} \\equiv \\begin{cases}\n",
    "0, & \\mbox{if } j \\ne k. \\\\\n",
    "1, & \\mbox{if } j=k. \\end{cases}\n",
    "\\end{eqnarray}\n",
    "\n",
    "With that:\n",
    "\n",
    "\\begin{eqnarray}\n",
    "\\sigma_{j=1} \\equiv X &=& \n",
    "\\begin{pmatrix}\n",
    "0 & 1 \\\\\n",
    "1 & 0\n",
    "\\end{pmatrix}, \\\\\n",
    "\\sigma_{j=2} \\equiv Y &=&\n",
    "\\begin{pmatrix}\n",
    "0 & -i \\\\\n",
    "i & 0\n",
    "\\end{pmatrix}, \\\\\n",
    "\\sigma_{j=3} \\equiv Z &=& \n",
    "\\begin{pmatrix}\n",
    "1 & 0 \\\\\n",
    "0 & -1\n",
    "\\end{pmatrix} .\n",
    "\\end{eqnarray}\n",
    "\n",
    "\n"
   ]
  },
  {
   "cell_type": "markdown",
   "metadata": {
    "id": "oQsXBmq_prpN"
   },
   "source": [
    "## Properties of complex and square matrices\n"
   ]
  },
  {
   "cell_type": "markdown",
   "metadata": {
    "id": "qnPzSRz418KT"
   },
   "source": [
    "For distinct square and complex matrices $A$ and $B$, identity matrix $I$, real valued numbers $\\alpha$, $\\beta \\in \\mathbb{R}$, and nonnegative integer $n \\in \\mathbb{Z}^{0+}$:\n",
    "\n",
    "\\begin{eqnarray}\n",
    "A^0&=&I.\\\\\n",
    "A^{\\alpha}A^{\\beta}&=&A^{\\alpha+\\beta} \\text{ (Product of powers property)}.\\\\\n",
    "(A^{\\alpha})^\\beta&=&A^{\\alpha\\beta}.\\\\\n",
    "(AB)^n &=& \\prod_{j=1}^n (AB)_j = (AB)_1(AB)_2\\cdots (AB)_n, \\forall n \\in \\mathbb{Z}^{0+}.\\\\\n",
    "(AB)^n &=& A^n B^n = B^n A^n\\text{ iff } [A,B]=\\mathbb{O}.\\\\\n",
    "(AB)^{\\dagger}&=&B^{\\dagger}A^{\\dagger}.\\\\\n",
    "det(AB)&=&det(BA)=det(A)det(B).\\\\\n",
    "\\end{eqnarray}\n",
    "\n",
    "The adjoint operation is anti-linear:\n",
    "\n",
    "$$\\Big(\\sum_j \\lambda_j A_j \\Big)^{\\dagger} = \\sum_j \\lambda_j^{*} A_j^{\\dagger}.$$\n",
    "\n",
    "It follows that:\n",
    "\n",
    "$$(A+B)^{\\dagger}=A^{\\dagger}+B^{\\dagger}.$$\n",
    "\n",
    "The following regards the integer power of an Involutory matrix. Given an Involutory matrix $A$ and an integer $n \\in \\mathbb{Z}^{0+}$:\n",
    "\n",
    "\\begin{eqnarray}\n",
    "A^{2n}&=&(A^2)^n=I^n=I \\text{ (even power)}, \\\\\n",
    "A^{2n+1} &=& A \\text{ (odd power)}.\n",
    "\\end{eqnarray}\n",
    "\n",
    "Given a diagonal matrix $D$ and a unitary matrix $U$:\n",
    "\n",
    "\\begin{eqnarray}\n",
    "(UDU^{\\dagger})^n &=& UD(U^{\\dagger}U)D(U^{\\dagger}\\cdots U)DU^{\\dagger}=UD^n U^{\\dagger}.\n",
    "\\end{eqnarray}"
   ]
  },
  {
   "cell_type": "markdown",
   "metadata": {
    "id": "C9VTx1Ym-ZGc"
   },
   "source": [
    "## Matrix exponential\n"
   ]
  },
  {
   "cell_type": "markdown",
   "metadata": {
    "id": "EGvYhPHD05Pd"
   },
   "source": [
    "The taylor series for a complex matrix $A$ reads:\n",
    "\n",
    "\\begin{eqnarray}\n",
    "e^{A}=\\sum_{n=0}^{\\infty}\\frac{A^{n}}{n!} = I +A+\\frac{A^{2}}{2}+\\frac{A^{3}}{3!}+\\cdots+\\frac{A^{n}}{n!}.\n",
    "\\end{eqnarray}\n",
    "\n",
    "The corresponding Euler formula for matrix exponential considering a Involutory matrix $A$, such that $A^2=I$, is as follows:\n",
    "\n",
    "\\begin{eqnarray}\n",
    "e^{\\pm i\\theta A} &=& I \\pm i\\theta A + \\frac{(i\\theta A)^2}{2!} + \\frac{(\\pm i\\theta A)^3}{3!} + \\frac{(i\\theta A)^4}{4!} +  \\frac{(\\pm i\\theta A)^5}{5!} + \\cdots + \\frac{(\\pm i\\theta A)^n}{n!}\\\\\n",
    "&=& I \\pm i\\theta A - \\frac{(\\theta A)^2}{2!} \\pm \\frac{(i\\theta A)^3}{3!} + \\frac{(\\theta A)^{4}}{4!} \\pm \\frac{(i\\theta A)^5}{5!} + \\cdots + \\frac{(\\pm i\\theta A)^n}{n!} \\\\\n",
    "&=& I \\pm i\\theta A - \\frac{\\theta^2}{2!}I \\pm i \\Bigg(\\frac{-\\theta^3}{3!}\\Bigg) A + \\frac{\\theta^4}{4!} I \\pm i \\frac{\\theta^5}{5!}A + \\cdots +\\\\\n",
    "&=&\\left(1-\\frac{\\theta^{2}}{2}+\\frac{\\theta^{4}}{4!}+\\cdots+\\right) I \\pm i\\left(\\theta-\\frac{\\theta^{3}}{3!}+\\frac{\\theta^{5}}{5!}+\\cdots+\\right)A\\\\\n",
    "&=& \\cos(\\theta) I \\pm i \\sin(\\theta)A.\n",
    "\\end{eqnarray}\n",
    "\n"
   ]
  },
  {
   "cell_type": "markdown",
   "metadata": {
    "id": "xCoLe3F8J0F1"
   },
   "source": [
    "### Properties:\n",
    "\n",
    "- 1) For a diagonal matrix $D$ with eigenvalue $\\lambda$ and eigenstate $|\\psi\\rangle$:\n",
    "\n",
    "$$e^D|\\psi\\rangle=\\sum_{n=0}^\\infty \\frac{D^n |\\psi\\rangle}{n!} = \\sum_{n=0}^\\infty \\frac{\\lambda^n |\\psi\\rangle}{n!}=e^{\\lambda}|\\psi\\rangle.$$\n",
    "\n",
    "Where $$D^n |\\psi\\rangle = D\\cdots D |\\psi\\rangle = D \\cdots \\lambda |\\psi\\rangle = \\lambda \\cdots \\lambda |\\psi\\rangle  = \\lambda^n |\\psi\\rangle,$$\n",
    "\n",
    "follows from the eigenvalue-eigenvector equation $D|\\psi\\rangle = \\lambda |\\psi\\rangle$.\n",
    "\n",
    "\n",
    "\n",
    "- 2) Given a diagonal matrix $D$ and a unitary matrix $U$:\n",
    "\n",
    "\\begin{eqnarray}\n",
    "e^{\\theta (UDU^{\\dagger})}= Ue^{\\theta D}U^{\\dagger}.\n",
    "\\end{eqnarray}\n",
    "\n",
    "*Proof:*\n",
    "\n",
    "\\begin{eqnarray}\n",
    "e^{\\theta (UDU^{\\dagger})} &=& \\sum_{n=0}^\\infty \\frac{(\\theta U D U^{\\dagger} )^n}{n!} \\\\\n",
    "&=& \\sum_{n=0}^\\infty \\frac{U \\theta^n D^n U^{\\dagger}}{n!}\\\\\n",
    "&=& U \\Bigg( \\sum_{n=0}^\\infty \\frac{(\\theta D)^n}{n!} \\Bigg) U^{\\dagger}\\\\\n",
    "&=& Ue^{\\theta D}U^{\\dagger},\n",
    "\\end{eqnarray}\n",
    "\n",
    "where it was used $(UDU^{\\dagger})^n = UD(U^{\\dagger}U)D(U^{\\dagger}\\cdots U)DU^{\\dagger}=UD^n U^{\\dagger}$.\n"
   ]
  },
  {
   "cell_type": "markdown",
   "metadata": {
    "id": "vHorlVY-KATm"
   },
   "source": [
    "- 3) Given a complex square matrix $A$ and identity matrix $I$:\n",
    "\n",
    "\\begin{eqnarray}\n",
    "e^{A} &=& lim_{N\\rightarrow \\infty} \\left(I+ \\frac{A}{N}\\right)^N \\\\\n",
    "e^{A\\otimes I} &=& e^{A}\\otimes I.\n",
    "\\end{eqnarray}\n",
    "\n",
    "\n",
    "- 4) If two square matrices $A$ and $B$ commute, i.e, $[A, B] = \\mathbb{O}$:\n",
    "\n",
    "\\begin{eqnarray}\n",
    "e^{iA}e^{iB} = e^{i(A+B)}.\n",
    "\\end{eqnarray}\n",
    "\n",
    "- 5) If two square matrices $A$ and $B$ do not commute, i.e, $[A, B] \\neq \\mathbb{O}$:\n",
    "\n",
    "\\begin{eqnarray}\n",
    "e^{iA}e^{iB} \\neq e^{i(A+B)}, \\\\\n",
    "e^{iA/n}e^{iB/n} \\approx e^{i(A+B)/n},\n",
    "\\end{eqnarray}\n",
    "\n",
    "for a small slice $n$ with approximation error scaling as $1/n^2$.\n",
    "\n",
    "\n",
    "- 6) Jacobi’s formula:\n",
    "\n",
    "$$ \\det (e^{A}) = e^{tr(A)}.$$\n",
    "\n",
    "\n",
    "- 7) Golden-Thompson inequality for Symmetric or Hermitian matrices $A$ and $B$:\n",
    "\n",
    "$$tr (e^{(A+B)}) \\leq tr (e^{A}e^{B}).$$\n",
    "\n",
    "- 8) $e^\\mathbb{O} = I.$\n",
    "\n",
    "- 9) $(e^{A})^T = e^{(A^T)}.$"
   ]
  },
  {
   "cell_type": "markdown",
   "metadata": {
    "id": "e7tm0hMlFGAk"
   },
   "source": [
    "## Linear independence of eigenvectors"
   ]
  },
  {
   "cell_type": "markdown",
   "metadata": {
    "id": "BqxP6Rt8FDGV"
   },
   "source": [
    "**Theorem** Let $A: V \\rightarrow V$ be a linear operator (a mapping) with $A$ an $n$x$n$ square matrix on a space $V$ of dimension $\\dim V(A)=n$. If $A$ has $n$ distinct eigenvalues, then it has a set of $n$ linearly independent eigenvectors that form a basis for $V$. \n",
    "\n",
    "**Definition (Algebraic multiplicity)** Let $A$ be an $n$x$n$ square matrix with $n$ possibly repeated eigenvalues $\\lambda_1, \\cdots, \\lambda_n$ as solutions (root) of the characteristic polynomial equation\n",
    "\n",
    "$$det(\\lambda I-A) = (\\lambda-\\lambda_1) \\cdot, ... , \\cdot (\\lambda - \\lambda_n) = 0.$$\n",
    "\n",
    "The algebraic multiplicity of an eigenvalue $\\lambda_n$ denoted $\\mu(\\lambda_n) \\in \\mathbb{N}$ is the number of times it is a root of the characteristic polynomial equation.\n",
    "\n",
    "**Definition (Geometric multiplicity)** Let $A$ be an $n$x$n$ matrix with some eigenvalue $\\lambda_n$. The geometric multiplicity of $\\lambda_n$ of $A$ associated with eigenspace $E_n$ and denoted $\\dim E_n (A) \\in \\mathbb{N}$ is the number of linearly independent eigenvectors of $E_n$, i.e, the dimension (cardinality) of $E_n$.\n",
    "\n",
    "**Defective eigenvalues:** when the geometric multiplicity is strictly less than the algebraic multiplicity.\n",
    "\n",
    "**Non-defective eigenvalues:** when the geometric multiplicity is equal to the algebraic multiplicity.\n",
    "\n",
    "**Proposition** If an $n$x$n$ square matrix $A$ has at least one defective eigenvalue, then it is impossible to find a set of $n$ linearly independent eigenvectors.\n",
    "\n",
    "**Proposition** If an $n$x$n$ square matrix $A$ has repeated eigenvalues, and they are not defective, then it is possible to find a set of $n$ linearly independent eigenvectors."
   ]
  },
  {
   "cell_type": "markdown",
   "metadata": {
    "id": "pSsrc-eX0SHO"
   },
   "source": [
    "## Diagonalization of Operators\n",
    "\n",
    "- Criteria for diagonalizability, and eigendecomposition.\n"
   ]
  },
  {
   "cell_type": "markdown",
   "metadata": {
    "id": "USXHZ8ic6HJu"
   },
   "source": [
    "### Criteria for diagonalizability\n",
    "\n",
    "**Proposition** An $n$x$n$ square matrix with $n$ distinct eigenvalues is always diagonalizable.\n",
    "\n",
    "**Theorem** Let $A: V \\rightarrow V$ be a linear operator (a mapping) with $A$ an $n$x$n$ square matrix on a space $V$ of dimension $\\dim V(A)=n$. Each eigenvalue $\\lambda_n$ of $A$ has a corresponding eigenspace $E_n$ of dimension $\\dim E_n (A)$. $A$ is said to be diagonalizable if and only if the sum of the dimensions of its eigenspaces is equal to $n$, i.e, if there are $n$ linearly independent eigenvectors that form a basis for $V$.\n",
    "\n",
    "The above theorem is valid over an arbitrary field, not limited to $\\mathbb{R}$ and $\\mathbb{C}$. Another equivalent definition is the following. An $n$x$n$ square matrix $A$ is diagonalizable iff\n",
    "\n",
    "$$\\dim E_n (A) = \\mu(\\lambda_n).$$ \n",
    "\n",
    "The above identity is voiced: the dimension of the eigenspace $E_n$ of $A$ corresponding to the eigenvalue $\\lambda_n$ is equal to the algebraic multiplicity of $\\lambda_n$ for every eigenvalue of $A$. \n",
    "\n",
    "Where:\n",
    "\n",
    "- $\\mu(\\lambda_n)$ is the algebraic multiplicity of the eigenvalue $\\lambda_n$, i.e, the number of times it is a root of the characteristic polynomial equation.\n",
    "- $\\dim E_{n} (A)$ is the geometric multiplicity of the eigenvalue $\\lambda_n$ of $A$, i.e, the number of linearly independent eigenvectors of the associated eigenspace $E_n$, which is also the dimension (cardinality) of $E_n$. \n",
    "\n",
    "**Key takeaways:**\n",
    "\n",
    "- A matrix **can be** diagonalized even if it has repeated eigenvalues.\n",
    "- A matrix may be diagonalizable over the field $\\mathbb{C}$, but may not be over the field $\\mathbb{R}$.\n",
    "- Diagonalizability **is not** related to invertibility, but rather to linear independence."
   ]
  },
  {
   "cell_type": "markdown",
   "metadata": {
    "id": "l2hytKpHejUL"
   },
   "source": [
    "\n",
    "### Eigendecomposition\n",
    "\n",
    "A diagonalizable square matrix $A$ can always be decomposed into a product of a diagonal matrix $D$ and a Unitary matrix $U$: \n",
    "\n",
    "$$A=UDU^{-1} \\implies D = U^{-1}AU.$$\n",
    "\n",
    "If A is Hermitian, then\n",
    "\n",
    "$$A=UDU^{\\dagger} \\implies D = U^{\\dagger}AU,$$\n",
    "\n",
    "where $A = UDU^{\\dagger}$ is known as the eigenvalue decomposition of $A$. The columns of $U$ are the eigenvectors of $A$, and $D$ is a diagonal matrix whose diagonal elements are the eigenvalues of $A$. \n",
    "\n",
    "The transformation $U^{\\dagger}AU=D$ converts $A$ into a diagonal matrix $D$. Here, $U$ is the change-of-basis matrix that represents the operator $A$ in the canonical basis. The matrices $A$ and $D$ are similar in the sense that they represent the same operator in different basis.\n",
    "\n",
    "This relation can be translated to the following definition: a linear operator $A: V \\rightarrow V$ is diagonalizable if there is a basis of $V$ formed by the eigenvectors of $A$."
   ]
  },
  {
   "cell_type": "markdown",
   "metadata": {
    "id": "XdWMm1vR_OAJ"
   },
   "source": [
    "# Postulates of quantum mechanics<a name=\"postulates\" />  \n",
    "\n",
    "- Matrix Mechanics formalism using Dirac bra-ket notation."
   ]
  },
  {
   "cell_type": "markdown",
   "metadata": {
    "id": "1dQeZv-L_RqK"
   },
   "source": [
    "## **Postulate 1 (State Space)**\n",
    "\n",
    "\n",
    "Any **isolated (close)** quantum system is completely described by a normalized *state vector* $|\\psi\\rangle$ which is a unit vector embedded in a complex Hilbert space $|\\psi\\rangle \\in \\mathcal{H}$ known as the *state space* of the system endowed with an inner product $(\\cdot,\\cdot) \\doteq \\langle \\cdot | \\cdot \\rangle$.\n",
    "\n",
    "<br></br>\n",
    "\n",
    "- **First case: Discrete Spectrum.**\n",
    "\n",
    "When the spectrum of the eigenvalues are discrete, the state $|\\psi\\rangle$ of the quantum system is embedded in a Hilbert space $\\mathcal{H}$ of dimension $d=\\dim \\mathcal{H}$. In a complete and discrete orthonormal basis $\\{|o_j\\rangle\\}_{j=1}^d$, the state vector reads\n",
    "\n",
    "\\begin{eqnarray}\n",
    "|\\psi\\rangle \\doteq \\sum_{j=1}^d c_j|o_j\\rangle.\n",
    "\\end{eqnarray}\n",
    "\n",
    "The inner product for orthonormal eigenstates becomes \n",
    "\n",
    "$$\\langle o_j|o_k\\rangle = \\delta_{jk},$$\n",
    "\n",
    "and the probability amplitude $c_j$ associated with the eigenstate $|o_j\\rangle$ is obtained via the Fourier trick \n",
    "\n",
    "$$c_j=\\langle o_j|\\psi\\rangle.$$ \n",
    "\n",
    "- **Second case: Continuous Spectrum.**\n",
    "\n",
    "When the spectrum of the eigenvalues are continous, the state $|\\psi\\rangle$ of the quantum system is embedded in a infinite-dimensional Hilbert space $|\\psi\\rangle \\in \\mathcal{H}$  whose orthonormal basis $\\{|q\\rangle \\}$ is formed by an uncountably infinite set of orthonormal vectors. In this particular case, the state of the quantum system in this basis reads:\n",
    "\n",
    "\\begin{eqnarray}\n",
    "|\\psi\\rangle \\doteq \\int \\psi_{q} |q\\rangle d_{q},\n",
    "\\end{eqnarray}\n",
    "\n",
    "which is a linear combination given in terms of an integral, rather than a sum (See Ref. [2], Section 3.2.3, pg. 103). The inner product thus becomes the Dirac delta distribution\n",
    "\n",
    "\\begin{eqnarray}\n",
    "\\langle q |q'\\rangle  = \\delta (q-q'), \n",
    "\\end{eqnarray}\n",
    "\n",
    "and the analogous Fourier trick gives the complex-valued scalar wave function $\\psi_{q}$ as the probability amplitude:\n",
    "\n",
    "\\begin{eqnarray}\n",
    "\\psi_{q} = \\langle q |\\psi \\rangle.\n",
    "\\end{eqnarray}\n",
    "\n",
    "Note that $\\psi_q$ is the standard wave function of the ubiquitous Schrodinger equation of wave mechanics, often denote by $\\psi(q)$ or $\\psi(x)$ if in the position space."
   ]
  },
  {
   "cell_type": "markdown",
   "metadata": {
    "id": "S9EbvVXx_YpK"
   },
   "source": [
    "## **Postulate 2 (Evolution)**\n",
    "\n",
    "The evolution of a **closed quantum system** over time is described by a *unitary transformation* given by the action of the propagator $\\hat{U}_t\\equiv\\hat{U}(t)$ known as the Unitary time evolution operator. Therefore, the global state $|\\psi_t\\rangle$ of the system at time $t$ has evolved from the initial state $|\\psi_0\\rangle$ at time $t=0$ according to:\n",
    "\n",
    "\\begin{equation} \n",
    "|\\psi_t\\rangle=\\hat{U}_t|\\psi_0\\rangle.\n",
    "\\end{equation}  \n",
    "\n",
    "**Note:** in the particular case of closed systems, the evolution operator $\\hat{U}_t$ of the system's global state $|\\psi\\rangle$ is Unitary, however, open quantum systems (systems interacting with its surroundings) described by mixed states, in general, have non-Unitary operators describing the evolution of its subsystems.\n",
    "\n",
    "\n",
    "\n",
    "\n",
    "\n"
   ]
  },
  {
   "cell_type": "markdown",
   "metadata": {
    "id": "9PZ9sOr9B5oC"
   },
   "source": [
    "## **Postulate 3 (Measurement)**\n",
    "\n",
    "Measurements of a quantum system are described by a collection \\{$M_m$\\} of *measurement operators* acting on the state space of the system with $m$ possible measurement outcomes. If the quantum system is prepared in a general state $|\\psi\\rangle$, the probability associated with a measurement outcome $o_m$ is:\n",
    "\n",
    "\\begin{equation} \n",
    "Pr(o_m)\\doteq\\langle \\psi | M^{\\dagger}_{m} M_{m} |\\psi \\rangle,\n",
    "\\end{equation} \n",
    "\n",
    "and the state of the system immediately after the measurement of the eigenvalue $o_m$ will be:\n",
    "\n",
    "\\begin{align} \n",
    "    |\\psi_{o_m} \\rangle= \\frac{M_{m} |\\psi \\rangle}{\\sqrt{\\langle \\psi | M^{\\dagger}_{m} M_{m} |\\psi \\rangle}}. \n",
    "\\end{align}\n",
    "\n",
    "The measurement operators satisfy the completeness relation:\n",
    "\n",
    "\\begin{equation} \n",
    "\\sum_{m} M_{m}^{\\dagger} M_{m} = I,\n",
    "\\end{equation}\n",
    "\n",
    "meaning that probabilities must sum to one, i.e, $|\\psi\\rangle$ is normalized:\n",
    "\n",
    "\\begin{equation} \n",
    "\\sum_{m} Pr(o_m) = \\sum_{m} \\langle \\psi | M^{\\dagger}_{m} M_{m} |\\psi \\rangle = 1.\n",
    "\\end{equation}  "
   ]
  },
  {
   "cell_type": "markdown",
   "metadata": {
    "id": "29l2z2xgDTZj"
   },
   "source": [
    "## **Postulate 4 (Composite State)**\n",
    "\n",
    "Consider a quantum system composed of $N$ arbitrary subsystems, where subsystem $s$ is prepared in a qudit state $|\\psi_{s}\\rangle = \\sum_{j=1}^{d_s} c_{j_s} |o_{j}\\rangle_s$ embedded in a $d_s$-dimensional Hilbert space $\\mathcal{H}_s^{d_s}$ with orthonormal basis $\\{|o_{j}\\rangle_s \\}|_{j=1}^{d_s}$. The Hilbert state space $\\mathcal{H}^{d}_{1\\cdots N}$ of the composite physical system is given by the tensor product of its constituent Hilbert spaces (the state space of its subsystems or component physical systems): $\\mathcal{H}^{d}_{1\\cdots N}=\\otimes_{s=1}^N \\mathcal{H}_s^{d_s}=\\mathcal{H}_1^{d_1} \\otimes \\mathcal{H}_2^{d_2} \\otimes \\cdots \\otimes \\mathcal{H}_N^{d_N}$, where $d=\\prod_{s=1}^N d_s$ is the dimension of the composite space. And the corresponding orthonormal basis of the composite state space is obtained from the tensor product between the basis of each constituent state space: $\\{|o_{j}\\rangle \\}|_{j=1}^{d}=\\{|o_{j}\\rangle_s \\otimes \\cdot\\cdot\\cdot \\otimes|o_{k}\\rangle_N \\}|_{j,\\cdots,k=1}^{d_s,\\cdots,d_N}$. "
   ]
  },
  {
   "cell_type": "markdown",
   "metadata": {
    "id": "HCTVLpJCStKI"
   },
   "source": [
    "# System's dynamics: Schrödinger equation<a name=\"dynamics\" />  \n",
    "\n",
    "- **Wave Mechanics** and **Matrix Mechanics** formalisms."
   ]
  },
  {
   "cell_type": "markdown",
   "metadata": {
    "id": "LpoS-zbneiaY"
   },
   "source": [
    "## Wave Mechanics formalism\n"
   ]
  },
  {
   "cell_type": "markdown",
   "metadata": {
    "id": "Wa8VbsqFrbzi"
   },
   "source": [
    "In the wave mechanics formalism of quantum mechanics, the dynamics of a system of particles is determined by the linear partial differential and time-dependent Schrödinger equation, which in the position representation reads:\n",
    "\n",
    "\\begin{eqnarray}\n",
    "i \\hbar \\frac{\\partial \\Psi(\\vec{r}, t)}{\\partial t} &= \\hat{H}(t)\\Psi(\\vec{r}, t).\n",
    "\\end{eqnarray}\n",
    "\n",
    "Where: \n",
    "\n",
    "- $\\Psi(\\vec{r}, t) \\doteq \\Psi(x, y, z, t): \\mathbb{R}^{4}\\rightarrow\\mathbb{C}$ is the complex valued scalar wavefunction containing the information about the particle's dynamics in the *position space* of continuous spectrum. The spectrum is the set of all eigenvalues of a given operator.\n",
    "- $\\hat{H}(t)$ is the Hamiltonian of the system, i.e, the sum of its kinetic and potential energy.\n",
    "- $i$ is the imaginary unit.\n",
    "- $\\hbar$ is the reduced Planck constante a.k.a quantum of action.\n",
    "\n",
    "The Schrödinger equation can also be written in the form:\n",
    "\n",
    "\\begin{eqnarray}\n",
    "{i\\hbar\\partial_{t}\\Psi(\\vec{q},t)=\\left(-\\frac{\\hbar^{2}}{2m} \\nabla^{2}_{\\vec{q}}+V(\\vec{q},t) \\right) \\Psi(\\vec{q},t)}.\n",
    "\\end{eqnarray}\n",
    "\n",
    "Where:\n",
    "\n",
    "- $\\partial_t \\equiv \\frac{\\partial}{\\partial_t}$.\n",
    "- $\\nabla^2_{\\vec{q}}$ is the second-order differential Laplace operator in generalized coordinates $q_j|_{j=1}^3$. \n",
    "- $V(\\vec{q}, t)$ is the time-dependent potential energy.\n",
    "\n",
    "The Laplace operator is defined as the divergence ($\\vec{\\nabla} \\cdot $) of the gradient ($\\vec{\\nabla} \\Phi$) and, therefore, it is a scalar operator and contrasts with the gradient which is a vector operator acting on a scalar field (function) $\\Phi$. \n",
    "\n",
    "- The gradient operator in **generalized coordinates**. Given a scalar field $\\Phi=\\Phi(q_1, q_2, q_3)$,\n",
    "\n",
    "$$\\vec{\\nabla}_{\\vec{q}} \\Phi = \\frac{\\partial \\Phi}{h_j\\partial q_j} \\hat{e}_j =  \\frac{1}{h_1}\\frac{\\partial \\Phi}{\\partial q_1} \\hat{e}_1 + \\frac{1}{h_2}\\frac{\\partial \\Phi}{\\partial q_2} \\hat{e}_2 + \\frac{1}{h_3}\\frac{\\partial \\Phi}{\\partial q_3} \\hat{e}_3.$$\n",
    "\n",
    "- The divergence operator in **generalized coordinates**. Given a vectorial field $\\vec{A}=A(q_1, q_2, q_3)= A_1 \\hat{e}_1+A_2 \\hat{e}_2+A_3 \\hat{e}_3$,\n",
    "\n",
    "$$\\vec{\\nabla}_{\\vec{q}} \\cdot \\vec{A} =  \\frac{1}{h_1 h_2 h_3} \\bigg[\\frac{\\partial (A_1 h_2 h_3)}{\\partial q_1} + \\frac{\\partial (A_2 h_1 h_3)}{\\partial q_2} + \\frac{\\partial (A_3 h_1 h_2)}{\\partial q_3} \\bigg].$$\n",
    "\n",
    "\n",
    "- The Laplace operator in **Cartesian coordinates**. Given a scalar field $\\Phi=\\Phi(x, y, z)$,\n",
    "\n",
    "$$\\nabla^2_{\\vec{r}} \\Phi = \\vec{\\nabla} \\cdot \\vec{\\nabla}(\\Phi) = \\partial_{rr} \\Phi = \\sum_{j=1}^3\\frac{\\partial^2 \\Phi}{\\partial r_j^2} = \\frac{\\partial^2 \\Phi}{\\partial x^2}+ \\frac{\\partial^2 \\Phi}{\\partial y^2} + \\frac{\\partial^2 \\Phi}{\\partial z^2}.$$"
   ]
  },
  {
   "cell_type": "markdown",
   "metadata": {
    "id": "x-_HQ2XgefUI"
   },
   "source": [
    "## Matrix Mechanics formalism\n"
   ]
  },
  {
   "cell_type": "markdown",
   "metadata": {
    "id": "62S9pGZ1dcew"
   },
   "source": [
    "In the Hilbert state space (statevector) formalism (a.k.a qubit representation), the time-dependent Schrödinger equation reads:\n",
    "\n",
    "\\begin{eqnarray}\n",
    "i \\hbar\\frac{d}{dt}|\\psi(t)\\rangle= \\hat{H} |\\psi(t)\\rangle,\n",
    "\\end{eqnarray}\n",
    "\n",
    "where $|\\psi\\rangle$ is the state of the quantum system in a linear superposition (combination) according to definitions for either a continuous or a discrete case as provided in the section `\"Postulates of quantum mechanics\"`.\n"
   ]
  },
  {
   "cell_type": "markdown",
   "metadata": {
    "id": "M8ZZFYFe9Uh7"
   },
   "source": [
    "### Schrödinger Picture (S-P)\n",
    "\n",
    "In the **Schrödinger picture** (S-P) (representation), the evolution of the initial state $|\\psi_{t=0}^S\\rangle\\equiv|\\psi(t=0)\\rangle$ over a time $t$ is given by:\n",
    "\n",
    "\\begin{equation} \n",
    "|\\psi_t^S\\rangle=\\hat{U}_t|\\psi_0^S\\rangle. \\tag{1}\n",
    "\\end{equation}  \n",
    "\n",
    "While the operator describing a certain physical observable remains constant in time:\n",
    "\n",
    "\\begin{equation} \n",
    "\\hat{O}_t^S=\\hat{O}_0^S=\\sum_{j=1}^d o_j |o_j^S\\rangle\\langle o_j^S|. \\tag{2}\n",
    "\\end{equation}  \n",
    "\n",
    "### Heisenberg Picture (H-P)\n",
    "\n",
    "In the **Heisenberg picture** (H-P), the operator describing a certain physical observable evolves over a time $t$ according to:\n",
    "\n",
    "\\begin{eqnarray} \n",
    "\\hat{O}_t^H &=& \\sum_{j=1}^d o_j |o_j^H (t)\\rangle\\langle o_j^H (t)| = \\sum_{j=1}^d o_j \\hat{U}_{t}^{\\dagger}|o_j^S\\rangle\\langle o_j^S|\\hat{U}_t = \\hat{U}_t^{\\dagger}\\sum_{j=1}^d o_j|o_j^S\\rangle\\langle o_j^S|\\hat{U}_t \\\\\n",
    "&=& \\hat{U}_t^{\\dagger} \\hat{O}_0^S \\hat{U}_t.\n",
    "\\end{eqnarray} \n",
    "\n",
    "where\n",
    "\n",
    "\\begin{equation} \n",
    "|o_j^H(t)\\rangle = \\hat{U}_t^{\\dagger}|o_j^S\\rangle. \\tag{3}\n",
    "\\end{equation}  \n",
    "\n",
    "While the global state $|\\psi\\rangle$ of the quantum system remains constant:\n",
    "\n",
    "\\begin{equation} \n",
    "|\\psi_t^H\\rangle = |\\psi_0^S\\rangle. \\tag{4}\n",
    "\\end{equation}  \n",
    "\n",
    "Regardless of the picture used, H-P or S-P, solution for $\\hat{U}_t$ is obtained solving the Schrödinger equation of the time evolution operator:\n",
    "\n",
    "\\begin{equation} \n",
    "i\\hbar \\partial_t \\hat{U}_t = \\hat{H}_t\\hat{U}_t. \\tag{5}\n",
    "\\end{equation}  \n",
    "\n",
    "From equations (1) and (5), one can verify the equivalent Schrödinger equation for the quantum state, as follows:\n",
    "\n",
    "\\begin{equation} \n",
    "i\\hbar \\partial_t |\\psi_t\\rangle = i\\hbar \\partial_t (\\hat{U}_t |\\psi_0\\rangle) = (i\\hbar \\partial_t \\hat{U}_t)|\\psi_0\\rangle = \\hat{H}_t \\hat{U}_t|\\psi_0\\rangle= \\hat{H}_t|\\psi_t\\rangle. \\tag{6}\n",
    "\\end{equation}  \n",
    "\n",
    "Where:\n",
    "- $\\partial_t \\equiv \\frac{\\partial}{\\partial_t}$."
   ]
  },
  {
   "cell_type": "markdown",
   "metadata": {
    "id": "l6fBHb8k2VV5"
   },
   "source": [
    "# Solution for the Schrödinger equation<a name=\"solutions\" />  \n",
    "\n",
    "- Matrix exponentiation."
   ]
  },
  {
   "cell_type": "markdown",
   "metadata": {
    "id": "ZxlkmtWLSwsb"
   },
   "source": [
    "Solution for the Schrödinger equation of the time-dependent evolution operator $\\hat{U}(t)$ depends mostly on the characteristic of the Hamiltonian $\\hat{H}$. In the matrix mechanics formalism, the Sch. eq. in the S-P writes\n",
    "\n",
    "\\begin{equation} \n",
    "i\\hbar \\frac{d}{dt}(\\hat{U}(t) |\\psi(0)\\rangle)=\\hat{H}(t) (\\hat{U}(t) |\\psi(0)\\rangle).\n",
    "\\end{equation}  \n",
    "\n",
    "One then has:\n",
    "\n",
    "\\begin{equation} \n",
    " \\frac{d}{dt} \\hat{U}(t) = \\frac{-i}{\\hbar}\\hat{H}\\hat{U}(t).\n",
    "\\end{equation}  \n",
    "\n",
    "A know fact from linear algebra is that any Unitary operator can be constructed by means of some Hermitian operator and a real number $\\gamma$:\n",
    "\n",
    "\\begin{eqnarray}\n",
    "\\hat{U}=e^{-i\\gamma\\hat{H}}.\n",
    "\\end{eqnarray}\n",
    "\n",
    "To show the above is true, one can prove its unitarity:\n",
    "\n",
    "\\begin{eqnarray}\n",
    "\\hat{U}^{\\dagger}&=&(e^{-i\\gamma\\hat{H}})^{\\dagger}=e^{i\\gamma\\hat{H}^{\\dagger}} = e^{i\\gamma\\hat{H}}, \\\\\n",
    "&\\implies&\n",
    "\\hat{U}\\hat{U}^{\\dagger}=e^{-i\\gamma\\hat{H}}e^{i\\gamma\\hat{H}}=I,\n",
    "\\end{eqnarray}\n",
    "\n",
    "where it was used the property: $(e^{z\\hat{A}})^{\\dagger} = e^{(z\\hat{A})^{\\dagger}}=e^{\\hat{A}^{\\dagger}z^{\\dagger}}=e^{z^{\\dagger}\\hat{A}^{\\dagger}}$, for a complex number $z$ and matrix $\\hat{A}$.\n",
    "\n",
    "In the particular case of a **time-independent Hamiltonian (conservative system)**, the above relation can be used to write the closed-form solution as:\n",
    "\n",
    "\\begin{eqnarray}\n",
    "\\hat{U}(t) = e^{-i\\hat{H}t / \\hbar}.\n",
    "\\end{eqnarray}\n",
    "\n",
    "One can check this result by expanding the exponential function in Taylor series around the point $x_0=0$ (Maclaurin series) and differentiating term by term. The Maclauring series for $f(x)=e^{i\\gamma\\hat{H}}$ with $e^{\\displaystyle{0}}=I$ is:\n",
    "\n",
    "\\begin{eqnarray}\n",
    "e^{i\\gamma\\hat{H}} = \\sum_{n=0}^{\\infty} \\frac{({i\\gamma\\hat{H}})^n}{n!} = I+i\\gamma \\hat{H}+\\frac{(i\\gamma \\hat{H})^2}{2}+\\frac{(i\\gamma \\hat{H})^3}{3!}+\\cdots +\\frac{(i\\gamma \\hat{H})^n}{n!}.\n",
    "\\end{eqnarray}\n",
    "\n",
    "So that for $\\gamma=-t/\\hbar$:\n",
    "\n",
    "\\begin{eqnarray}\n",
    "\\frac{d}{dt} (e^{-i\\hat{H}t / \\hbar})&=&\\frac{d}{dt} \\left( I - i\\hat{H}t/\\hbar - \\frac{\\hat{H}^2 t^2}{2\\hbar^2}  + \\cdots + \\frac{(-i\\hat{H}t)^n}{n!\\hbar^n}\\right)  \\\\\n",
    "&=& \\left(0 -i\\hat{H}/\\hbar - \\frac{\\hat{H}^2t}{\\hbar^2} + \\cdots + \\frac{n(-i\\hat{H})^nt^{n-1}}{n!\\hbar^n}\\right), \\\\\n",
    "&=&  \\frac{-i}{\\hbar}\\hat{H} \\left(I - \\frac{i\\hat{H}t}{\\hbar} + \\cdots + \\frac{(-i\\hat{H})^{n-1}t^{n-1}}{(n-1)!\\hbar^{n-1}}\\right), \\text{ defining } k \\equiv n-1\\\\\n",
    "\\\\\n",
    "&=&  \\frac{-i}{\\hbar}\\hat{H} \\left(I - \\frac{i\\hat{H}t}{\\hbar} + \\cdots + \\frac{(-i\\hat{H}t)^{k}}{k!\\hbar^{k}}\\right)\\\\\n",
    "&=& \\frac{-i}{\\hbar}\\hat{H}e^{-i\\hat{H}t / \\hbar},\n",
    "\\end{eqnarray}\n",
    "\n",
    "where it was used: $\\frac{n}{n!}=\\frac{n}{n(n-1)!}=\\frac{1}{(n-1)!}$."
   ]
  },
  {
   "cell_type": "markdown",
   "metadata": {
    "id": "LNPULr2frbzj"
   },
   "source": [
    "Note that for $\\hat{H}=\\sum_{j}^n \\hat{H}_j$, in general, $[\\hat{H}_j, \\hat{H}_k] \\neq 0$, and thus $e^{-i\\hat{H} \\cdot t} \\neq \\prod_j e^{-i\\hat{H}_j \\cdot t}$. That is to say:\n",
    "\n",
    "$$e^{-i\\hat{H}t} = e^{-i\\hat{H}_1\\cdot t} \\cdot e^{-i\\hat{H}_2\\cdot t} \\cdots e^{-i\\hat{H}_n\\cdot t} \\text{ iff } [\\hat{H}_j, \\hat{H}_k]=0.$$"
   ]
  },
  {
   "cell_type": "markdown",
   "metadata": {
    "id": "dHP_Oiwvrbzj"
   },
   "source": [
    "Another way of looking at the problem of solving differential equations is to consider the first order approximation (see Ref. [1], Sec. 4.7.2):\n",
    "\n",
    "\\begin{eqnarray}\n",
    "|\\psi(t+\\Delta t)\\rangle &\\approx& |\\psi(t)\\rangle + \\Delta t \\frac{d}{dt} |\\psi(t)\\rangle\\\\\n",
    "&=& (I-\\frac{i}{\\hbar}\\hat{H}\\Delta t)|\\psi(t)\\rangle.\n",
    "\\end{eqnarray} \n",
    "\n",
    "The approximation to high order can be obtained considering small time evolutions ($t<<1$):\n",
    "\n",
    "\\begin{eqnarray}\n",
    "|\\psi(t)\\rangle &\\approx& (I-\\frac{i}{\\hbar}\\hat{H} t)|\\psi(0)\\rangle \\\\\n",
    "&=& (I-\\frac{i t}{2\\hbar}\\hat{H} )(I-\\frac{it}{2\\hbar}\\hat{H})|\\psi(0)\\rangle.\n",
    "\\end{eqnarray} \n",
    "\n",
    "Such that \n",
    "\\begin{eqnarray}\n",
    "|\\psi(t)\\rangle &=& lim_{N\\rightarrow \\infty} (I-\\frac{it}{N\\hbar}\\hat{H})^N|\\psi(0)\\rangle \\\\ \n",
    "&=& e^{-i\\hat{H}t/\\hbar} |\\psi(0)\\rangle.\n",
    "\\end{eqnarray} \n",
    "\n",
    "Where it was used: $e^{\\hat{A}} = lim_{N\\rightarrow \\infty} (I+ \\frac{\\hat{A}}{N})^N$."
   ]
  },
  {
   "cell_type": "markdown",
   "metadata": {
    "id": "r-2PDFSKa9-d"
   },
   "source": [
    "# Gate Algebra and Circuit Implementation<a name=\"gates\" />  \n",
    "\n",
    "The bare minimum with implementations in NumPY & Qiskit."
   ]
  },
  {
   "cell_type": "markdown",
   "metadata": {
    "id": "kJJ82x-_b2r0"
   },
   "source": [
    "Quantum gates are all represented by Unitary matrices, but they might not be Hermitian. Most frequently used quantum gates are Hermitian:\n",
    "\n",
    "- [The Hadamard gate](https://qiskit.org/documentation/stubs/qiskit.circuit.library.HGate.html) (a.k.a H or superposition gate), induces a $\\pi$ rotation about the $X+Z$ axis;\n",
    "- [The CNOT gate](https://qiskit.org/documentation/stubs/qiskit.circuit.library.CXGate.html) (a.k.a $CX$);\n",
    "- [The SWAP gate](https://qiskit.org/documentation/stubs/qiskit.circuit.library.SwapGate.html);\n",
    "- [The Toffoli gate](https://qiskit.org/documentation/stubs/qiskit.circuit.library.CCXGate.html) (a.k.a CCNOT or Deutsch);\n",
    "- Fredkin (CSWAP) gate;\n",
    "- All Pauli gates: [X](https://qiskit.org/documentation/tutorials/circuits/3_summary_of_quantum_operations.html#X:-bit-flip-gate), [Y](https://qiskit.org/documentation/tutorials/circuits/3_summary_of_quantum_operations.html#Y:-bit--and-phase-flip-gate), [Z](https://qiskit.org/documentation/tutorials/circuits/3_summary_of_quantum_operations.html#Z:-phase-flip-gate). \n",
    "\n",
    "However, there are non-hermitian gates such as:\n",
    "\n",
    "- The [phase gate T](https://qiskit.org/documentation/stubs/qiskit.circuit.library.TGate.html) (a.k.a pi/8 or fourth-root of Pauli-$Z$);\n",
    "- The [phase gate S](https://qiskit.org/documentation/stubs/qiskit.circuit.library.SGate.html) a.k.a P gate (square-root of Pauli-$Z$).\n"
   ]
  },
  {
   "cell_type": "markdown",
   "metadata": {
    "id": "lSlxZryzjJQX"
   },
   "source": [
    "A universal gate set is such to which any possible gate operation can be reduced to a finite sequence of gates from the set.\n",
    "\n",
    "- The gate set containing the standard Non-clifford rotation gate operators $R_x(\\theta)$, $R_y(\\theta)$, $R_z(\\theta)$, the phase shift gate $P(φ)$ and the CNOT gate is a common universal set of quantum gates.\n",
    "\n",
    "- The Clifford + phase T (pi/8) gate set denoted {H, S, CNOT, T} is another widely used universal gate set. (See Ref. [1], Chap. 10 for fault-tolerant constructions of those gates).\n",
    "\n",
    "Due to [Gottesman–Knill theorem](https://en.wikipedia.org/wiki/Gottesman%E2%80%93Knill_theorem), the Clifford set can be efficiently simulated in a classical computer and, therefore, is the main gate set used to approximate a target quantum circuit in the [CDR error mitigation technique](https://mitiq.readthedocs.io/en/latest/guide/cdr-4-low-level.html). "
   ]
  },
  {
   "cell_type": "code",
   "execution_count": 13,
   "metadata": {
    "executionInfo": {
     "elapsed": 6,
     "status": "ok",
     "timestamp": 1654398106882,
     "user": {
      "displayName": "Lucas Camponogara Viera",
      "userId": "14322290658374940800"
     },
     "user_tz": -480
    },
    "id": "fDIaVjDVZPU6"
   },
   "outputs": [],
   "source": [
    "import numpy as np\n",
    "\n",
    "'''Defining Gates.'''\n",
    "\n",
    "zero = np.array([1,0]) # |0>.\n",
    "one = np.array([0,1]) # |1>.\n",
    "outer0 = np.outer(zero, zero) # |0><0|.\n",
    "outer1 = np.outer(one, one) # |1><1|.\n",
    "sigma0 = np.identity(2) # Identity.\n",
    "sigma1 = np.array([[0,1],[1,0]]) # Pauli-X.\n",
    "sigma2 = np.array([[0,-1j],[1j,0]]) # Pauli-Y.\n",
    "sigma3 = np.array([[1,0],[0,-1]]) # Pauli-Z.\n",
    "had = (1/np.sqrt(2))*np.array([[1,1],[1,-1]]) # Hadamard.\n",
    "CNOT=np.kron(sigma0, outer0) + np.kron(sigma1, outer1) # CNOT gate."
   ]
  },
  {
   "cell_type": "code",
   "execution_count": 14,
   "metadata": {
    "colab": {
     "base_uri": "https://localhost:8080/"
    },
    "executionInfo": {
     "elapsed": 6,
     "status": "ok",
     "timestamp": 1654398106882,
     "user": {
      "displayName": "Lucas Camponogara Viera",
      "userId": "14322290658374940800"
     },
     "user_tz": -480
    },
    "id": "Drn8ov-1kbvP",
    "outputId": "9ce72264-7d9d-4209-8dd7-5808e7cccdbe"
   },
   "outputs": [
    {
     "name": "stdout",
     "output_type": "stream",
     "text": [
      "The X, Y, Z, H, and CNOT gates have been verified to be Unitary and Hermitian!\n"
     ]
    }
   ],
   "source": [
    "'''\n",
    "Checking whether some Gates are Unitary and Hermitian.\n",
    "\n",
    "Let * denote the complex conjugate (dagger).\n",
    "Hermitian: A=A*.  \n",
    "Unitary: AA*=A*A=I.\n",
    "If a complex matrix A is both Unitary and Hermitian, then AA*=AA=I (Involutory).\n",
    "'''\n",
    "\n",
    "# np.dot(gate, gate) == gate@gate # >> True\n",
    "\n",
    "try:\n",
    "  if all(((gate@gate).round() == sigma0).all() for gate in [sigma1, sigma2, sigma3, had]) and (CNOT@CNOT == np.identity(4)).all():\n",
    "    print('The X, Y, Z, H, and CNOT gates have been verified to be Unitary and Hermitian!')\n",
    "  else:\n",
    "    print('Gate error!')\n",
    "except:\n",
    "  print(\"Bad coding practice!\")"
   ]
  },
  {
   "cell_type": "markdown",
   "metadata": {
    "id": "R1VTbgUJtE9Z"
   },
   "source": [
    "## Gate Operations"
   ]
  },
  {
   "cell_type": "markdown",
   "metadata": {
    "id": "I5AVhomquCiR"
   },
   "source": [
    "### Pauli-Z gate\n",
    "\n",
    "Let $Z$ denote the Pauli-$Z$ operator. Let $|0\\rangle$ and $|1\\rangle$ be column vectors (kets), each one representing the state of a classical bit. The action of the $Z$ gate on each state is:\n",
    "\n",
    "$$ Z |0\\rangle =  |0\\rangle,$$\n",
    "$$ Z |1\\rangle =  -|1\\rangle.$$\n",
    "\n",
    "This means that \n",
    "\n",
    "$$|0\\rangle = \\begin{bmatrix} 1 \\\\ 0 \\end{bmatrix},$$\n",
    "\n",
    "and \n",
    "\n",
    "$$|1\\rangle = \\begin{bmatrix} 0 \\\\ 1 \\end{bmatrix}, $$\n",
    "\n",
    "are the two eigenstates of the $Z$-gate, i.e, they form the ubiquitous orthonormal basis set known as canonical basis or computational basis. Why? Because they satisfy the eigenvalue-eigenvector equation:\n",
    "\n",
    "$$\\hat{O} |o_j\\rangle = o_j |o_j\\rangle.$$\n",
    "\n",
    "One can observe that the action of the $Z$ gate on state $|1\\rangle$ induces a phase factor represented by the minus sign. Due to this phase factor, the $Z$ gate is also known as the \"phase flip matrix\".\n",
    "\n",
    "**Note: the phase flip matrix should not be confused with the phase gate, which is a totally different gate.**\n",
    "\n",
    "Other useful states are the following superposition states defined as linear combination (superposition) of classical bits $|0\\rangle$ and $|1\\rangle$:\n",
    "\n",
    "$$|+\\rangle \\equiv \\frac{1}{\\sqrt{2}}(|0\\rangle+|1\\rangle) = \\frac{1}{\\sqrt{2}}\\begin{bmatrix} 1 \\\\ 1 \\end{bmatrix}.$$\n",
    "\n",
    "$$|-\\rangle \\equiv \\frac{1}{\\sqrt{2}}(|0\\rangle-|1\\rangle) = \\frac{1}{\\sqrt{2}}\\begin{bmatrix} 1 \\\\ -1 \\end{bmatrix}.$$\n",
    "\n",
    "Such that\n",
    "\n",
    "$$Z |+\\rangle \\equiv \\frac{1}{\\sqrt{2}}(Z|0\\rangle+Z|1\\rangle) =\\frac{1}{\\sqrt{2}}(|0\\rangle-|1\\rangle)  = |-\\rangle,$$\n",
    "$$Z |-\\rangle \\equiv \\frac{1}{\\sqrt{2}}(Z|0\\rangle-Z|1\\rangle) = \\frac{1}{\\sqrt{2}}(|0\\rangle+|1\\rangle)=|+\\rangle.$$"
   ]
  },
  {
   "cell_type": "code",
   "execution_count": 15,
   "metadata": {
    "colab": {
     "base_uri": "https://localhost:8080/"
    },
    "executionInfo": {
     "elapsed": 6,
     "status": "ok",
     "timestamp": 1654398106883,
     "user": {
      "displayName": "Lucas Camponogara Viera",
      "userId": "14322290658374940800"
     },
     "user_tz": -480
    },
    "id": "nO8f-La2ZpWe",
    "outputId": "7ff04a87-4df9-42ad-d52b-ea568a633c36"
   },
   "outputs": [
    {
     "data": {
      "text/plain": [
       "(array([1, 0]), array([ 0, -1]))"
      ]
     },
     "execution_count": 15,
     "metadata": {},
     "output_type": "execute_result"
    }
   ],
   "source": [
    "# Implementation\n",
    "\n",
    "sigma3@zero, sigma3@one # Z|0>, Z|1>"
   ]
  },
  {
   "cell_type": "code",
   "execution_count": 16,
   "metadata": {
    "colab": {
     "base_uri": "https://localhost:8080/"
    },
    "executionInfo": {
     "elapsed": 6,
     "status": "ok",
     "timestamp": 1654398106883,
     "user": {
      "displayName": "Lucas Camponogara Viera",
      "userId": "14322290658374940800"
     },
     "user_tz": -480
    },
    "id": "E21rOvAQzCkX",
    "outputId": "33ecb352-92c8-4d2f-8926-11e47d8c73db"
   },
   "outputs": [
    {
     "data": {
      "text/plain": [
       "(array([ 0.70710678, -0.70710678]), array([0.70710678, 0.70710678]))"
      ]
     },
     "execution_count": 16,
     "metadata": {},
     "output_type": "execute_result"
    }
   ],
   "source": [
    "sigma3@(had@zero), sigma3@(had@one) # Z|+>, Z|->"
   ]
  },
  {
   "cell_type": "markdown",
   "metadata": {
    "id": "Fb1Fw5XOtIeL"
   },
   "source": [
    "### Hadamard gate\n",
    "\n",
    "Let $H$ denote the Hadamard operator. The action of the Hadamard gate $H$ is as follows:\n",
    "\n",
    "$$H |0\\rangle = \\frac{1}{\\sqrt{2}}\\Big(|0\\rangle+|1\\rangle\\Big) = |+\\rangle.$$\n",
    "$$H |1\\rangle = \\frac{1}{\\sqrt{2}}\\Big(|0\\rangle-|1\\rangle\\Big) = |-\\rangle.$$\n",
    "\\begin{eqnarray}\n",
    "H |+\\rangle &=& \\frac{1}{\\sqrt{2}}(H|0\\rangle+H|1\\rangle)=\\frac{1}{2}\\Big[\\Big(|0\\rangle+|1\\rangle \\Big)+ \\Big(|0\\rangle-|1\\rangle\\Big)\\Big]=|0\\rangle,\\\\\n",
    "&=& H(H|0\\rangle) = |0\\rangle.\n",
    "\\end{eqnarray}\n",
    "\\begin{eqnarray}\n",
    "H|-\\rangle &=&\\frac{1}{\\sqrt{2}} (H|0\\rangle-H|1\\rangle)=\\frac{1}{2}\\Big[\\Big(|0\\rangle+|1\\rangle\\Big)-\\Big(|0\\rangle-|1\\rangle\\Big)\\Big]=|1\\rangle,\\\\\n",
    "&=& H(H|1\\rangle) = |1\\rangle.\n",
    "\\end{eqnarray}\n",
    "\n",
    "Therefore, the Hadamard gate transforms the state of the qubit between the $X$ and $Z$ bases. Moreover, due to the first two relations, the Hadamard gate is also known as \"superposition gate\"."
   ]
  },
  {
   "cell_type": "code",
   "execution_count": 17,
   "metadata": {
    "colab": {
     "base_uri": "https://localhost:8080/"
    },
    "executionInfo": {
     "elapsed": 5,
     "status": "ok",
     "timestamp": 1654398106883,
     "user": {
      "displayName": "Lucas Camponogara Viera",
      "userId": "14322290658374940800"
     },
     "user_tz": -480
    },
    "id": "CDEkpx-2Z8te",
    "outputId": "ef629add-076e-4297-acaf-376be961fcb7"
   },
   "outputs": [
    {
     "data": {
      "text/plain": [
       "(array([0.70710678, 0.70710678]),\n",
       " array([ 0.70710678, -0.70710678]),\n",
       " array([1., 0.]),\n",
       " array([0., 1.]))"
      ]
     },
     "execution_count": 17,
     "metadata": {},
     "output_type": "execute_result"
    }
   ],
   "source": [
    "# Implementation\n",
    "\n",
    "had@zero, had@one, had@(had@zero), had@(had@one) # H|0>, H|1>, H|+>, H|->"
   ]
  },
  {
   "cell_type": "markdown",
   "metadata": {
    "id": "hmm_52wiuS-P"
   },
   "source": [
    "### Pauli-X gate\n",
    "\n",
    "The action of the Pauli-$X$ gate is:\n",
    "\n",
    "$$ X |0\\rangle = |1\\rangle.$$ \n",
    "$$X |1\\rangle = |0\\rangle.$$  \n",
    "\n",
    "Furthermore:\n",
    "\n",
    "$$X |+\\rangle = \\frac{1}{\\sqrt{2}}(X|0\\rangle+X|1\\rangle)=\\frac{1}{\\sqrt{2}}(|1\\rangle+|0\\rangle)=|+\\rangle.$$\n",
    "$$X |-\\rangle = \\frac{1}{\\sqrt{2}}(X|0\\rangle-X|1\\rangle) =\\frac{1}{\\sqrt{2}}(|1\\rangle-|0\\rangle)=-|-\\rangle.$$\n",
    "\n",
    "This means that $|+\\rangle$ and $|-\\rangle$ are two eigenstates of the $X$-gate, i.e, they form an orthonormal basis set a.k.a the $X$-basis."
   ]
  },
  {
   "cell_type": "code",
   "execution_count": 18,
   "metadata": {
    "colab": {
     "base_uri": "https://localhost:8080/"
    },
    "executionInfo": {
     "elapsed": 3,
     "status": "ok",
     "timestamp": 1654398107268,
     "user": {
      "displayName": "Lucas Camponogara Viera",
      "userId": "14322290658374940800"
     },
     "user_tz": -480
    },
    "id": "IGqovHRltB8u",
    "outputId": "8f2874d6-22d9-4886-f5d1-7254a93374b7"
   },
   "outputs": [
    {
     "data": {
      "text/plain": [
       "(array([0, 1]),\n",
       " array([1, 0]),\n",
       " array([0.70710678, 0.70710678]),\n",
       " array([-0.70710678,  0.70710678]))"
      ]
     },
     "execution_count": 18,
     "metadata": {},
     "output_type": "execute_result"
    }
   ],
   "source": [
    "# Implementation\n",
    "\n",
    "sigma1@zero, sigma1@one, sigma1@(had@zero), sigma1@(had@one) # X|0>, X|1>, X|+>, X|->"
   ]
  },
  {
   "cell_type": "markdown",
   "metadata": {
    "id": "ORtAvG1JmnVa"
   },
   "source": [
    "### Pauli-Y gate\n",
    "\n",
    "The action of the Pauli-$Y$ gate is:\n",
    "\n",
    "$$ Y |0\\rangle = i|1\\rangle.$$ \n",
    "$$ Y |1\\rangle = -i|0\\rangle.$$  \n",
    "\n",
    "The two eigenstates of the $Y$-gate are:\n",
    "\n",
    "$$|+y\\rangle \\equiv |\\oplus\\rangle = \\frac{1}{\\sqrt{2}}(|0\\rangle+i|1\\rangle) = \\frac{1}{\\sqrt{2}}\\begin{bmatrix} 1 \\\\ i \\end{bmatrix},$$\n",
    "\n",
    "and\n",
    "\n",
    "$$|-y\\rangle \\equiv |\\ominus\\rangle = \\frac{1}{\\sqrt{2}}(|0\\rangle-i|1\\rangle) = \\frac{1}{\\sqrt{2}}\\begin{bmatrix} 1 \\\\ -i \\end{bmatrix}.$$\n"
   ]
  },
  {
   "cell_type": "code",
   "execution_count": 19,
   "metadata": {
    "colab": {
     "base_uri": "https://localhost:8080/"
    },
    "executionInfo": {
     "elapsed": 2,
     "status": "ok",
     "timestamp": 1654398107268,
     "user": {
      "displayName": "Lucas Camponogara Viera",
      "userId": "14322290658374940800"
     },
     "user_tz": -480
    },
    "id": "j3D5sK6dnmFx",
    "outputId": "a3abb6de-224f-44df-bcf5-f6fd58d5b596"
   },
   "outputs": [
    {
     "data": {
      "text/plain": [
       "(array([0.+0.j, 0.+1.j]), array([0.-1.j, 0.+0.j]))"
      ]
     },
     "execution_count": 19,
     "metadata": {},
     "output_type": "execute_result"
    }
   ],
   "source": [
    "# Implementation\n",
    "\n",
    "sigma2@zero, sigma2@one # Y|0>, Y|1>."
   ]
  },
  {
   "cell_type": "markdown",
   "metadata": {
    "id": "NdKmc83NczWl"
   },
   "source": [
    "## General $U3(\\theta, \\phi, \\lambda)$ single-qubit gate\n",
    "\n"
   ]
  },
  {
   "cell_type": "markdown",
   "metadata": {
    "id": "gshghqoLpRgZ"
   },
   "source": [
    "The three-parameter single qubit $U3(\\theta, \\phi, \\lambda)$ gate reads:\n",
    "\n",
    "\\begin{equation}\n",
    "U3(\\theta, \\phi, \\lambda) = \\begin{bmatrix} \\cos(\\theta/2) & -e^{i\\lambda}\\sin(\\theta/2) \\\\ e^{i\\phi}\\sin(\\theta/2) & e^{i\\lambda+i\\phi}\\cos(\\theta/2) \\end{bmatrix},\n",
    "\\end{equation}\n",
    "\n",
    "where:\n",
    "\n",
    "  - $0\\leq\\lambda < 2\\pi$ represents a phase.\n",
    "  - $0\\leq \\phi < 2\\pi$ changes the coherence.\n",
    "  - $0\\leq \\theta \\leq \\pi$ performs the rotation around a given axis.\n",
    "\n",
    "Particular gates:\n",
    "  - $X = U3(\\pi, 0, \\pi)$.\n",
    "  - $Y = U3(\\pi, \\pi/2, \\pi/2)$.\n",
    "  - $Z = U3(\\pi,0,0)$.\n",
    "  - $H=U(\\pi/2,0,\\pi)$.\n",
    "  - $P=U(0,0,\\lambda)$.\n",
    "  - $R_x(\\theta) = U3(\\theta, -\\pi/2,\\pi/2)$.\n",
    "  - $R_y(\\theta) = U3(\\theta, 0,0)$.\n",
    "  - $R_z(\\phi) = U3(0, \\phi,0)$.\n",
    "\n"
   ]
  },
  {
   "cell_type": "markdown",
   "metadata": {
    "id": "WMprqPHHTk8W"
   },
   "source": [
    "## General $R_{\\hat{n}}(\\theta)$ single-qubit gate"
   ]
  },
  {
   "cell_type": "markdown",
   "metadata": {
    "id": "GwKMQ0f2TjMS"
   },
   "source": [
    "Given an operator $A=\\hat{n}\\cdot \\hat{\\sigma}$ and a real valued Euler angle $\\gamma = \\theta/2$, any single qubit standard rotation gate can be defined as:\n",
    "\n",
    "$$ R_{\\hat{n}}(\\theta) \\equiv e^{\\pm i(\\hat{n} \\cdot \\vec{\\sigma})\\theta /2}= \\cos(\\theta/2) I \\pm i \\sin(\\theta/2)(\\hat{n}\\cdot \\hat{\\sigma}).$$\n",
    "\n",
    "Where:\n",
    "- $\\hat{n}=n_x\\hat{e}_x, n_y\\hat{e}_y, n_z\\hat{e}_z$ is a 3-dimensional unit vector.\n",
    "- $\\hat{e}_i$ denotes the right-handed orthonormal vector (a.k.a versor) satisfying $\\hat{e}_i\\cdot\\hat{e}_j=\\delta_{ij}$.\n",
    "- $\\vec{\\sigma}=\\sigma_1 \\hat{e}_x + \\sigma_2 \\hat{e}_y + \\sigma_3 \\hat{e}_z$ is the three-component Pauli vector with $\\sigma_j|_{j=1}^3 \\in \\{X, Y, Z\\}$.\n",
    "- $X$, $Y$, and $Z$ are the 2x2 Pauli operators (Hermitian, involutory and unitary matrices).\n",
    "- $\\hat{n}\\cdot \\vec{\\sigma}=n_xX+n_yY+n_zZ$.\n",
    "- $i^2=-1$ is the imaginary unit."
   ]
  },
  {
   "cell_type": "markdown",
   "metadata": {
    "id": "wJHO__0bbABw"
   },
   "source": [
    "Most used single qubit standard rotation gates (non-Clifford gates):\n",
    "\n",
    "\\begin{equation}\n",
    "R_x(\\theta)=R_{(1,0,0)}(\\theta)= \\exp(\\pm iX\\theta/2) = cos(\\theta/2)I\\pm isin(\\theta/2)X = \\begin{bmatrix} \\cos(\\theta/2) & \\pm i\\sin(\\theta/2) \\\\ \\pm i\\sin(\\theta/2) & \\cos(\\theta/2) \\end{bmatrix},\n",
    "\\end{equation}\n",
    "\n",
    "\\begin{equation}\n",
    "R_y(\\theta)=R_{(0,1,0)}(\\theta) = \\exp(\\pm iY\\theta/2) = cos(\\theta/2)I\\pm isin(\\theta/2)Y = \\begin{bmatrix} \\cos(\\theta/2) & \\pm\\sin(\\theta/2) \\\\ \\mp \\sin(\\theta/2) & \\cos(\\theta/2) \\end{bmatrix},\n",
    "\\end{equation}\n",
    "\n",
    "\\begin{equation}\n",
    "R_z(\\phi)=R_{(0,0,1)}(\\theta) = \\exp(\\pm iZ\\phi/2) = cos(\\theta/2)I\\pm isin(\\theta/2)Z = \\begin{bmatrix} e^{\\pm i\\phi/2} & 0 \\\\0 & \\mp e^{i\\phi/2}\n",
    "\\end{bmatrix}.\n",
    "\\end{equation}"
   ]
  },
  {
   "cell_type": "markdown",
   "metadata": {
    "id": "dQGhhXgeSQok"
   },
   "source": [
    "## General $U(\\alpha, \\beta, \\gamma, \\delta)$ single-qubit gate\n"
   ]
  },
  {
   "cell_type": "markdown",
   "metadata": {
    "id": "CGzYeVp1lK8Q"
   },
   "source": [
    "Any arbitrary single qubit unitary gate can be written in the form:\n",
    "\n",
    "\\begin{align}\n",
    "U(\\theta) &= e^{i\\alpha}R_{\\hat{n}}(\\theta)=e^{i\\alpha} e^{-i\\theta (\\hat{n} \\cdot \\vec{\\sigma})/2}\\\\\n",
    "&=e^{i\\alpha} \\left(cos\\left(\\frac{\\theta}{2}\\right)I_2-sin\\left(\\frac{\\theta}{2}\\right)(\\hat{n}\\cdot \\vec{\\sigma})\\right) \\\\\n",
    "&= \\begin{bmatrix} \\cos(\\theta/2)-in_z\\sin(\\theta/2) & -n_y \\sin(\\theta/2)-in_x\\sin(\\theta/2) \\\\ n_y\\sin(\\theta/2)-in_x\\sin(\\theta/2) & \\cos(\\theta/2)+in_z\\sin(\\theta/2) \\end{bmatrix}.\n",
    "\\end{align}\n",
    "\n",
    "\n",
    "Moreover, a general single qubit unitary gate can also be written as:\n",
    "\n",
    "\\begin{eqnarray}\n",
    "  U(\\alpha, \\beta, \\gamma, \\delta) &=& e^{i\\alpha}R_{\\hat{n}}(\\beta)R_{\\hat{m}}(\\gamma)R_{\\hat{n}}(\\delta), \\\\\n",
    "  U &=& \\begin{bmatrix} e^{i(\\alpha-\\beta/2-\\delta/2)} \\cos(\\gamma/2) & -e^{i(\\alpha-\\beta/2+\\delta/2)}\\sin(\\gamma/2) \\\\ e^{i(\\alpha+\\beta/2-\\delta/2)}\\sin(\\gamma/2) & e^{i(\\alpha+\\beta/2+\\delta/2)}\\cos(\\gamma/2) \\end{bmatrix}.\n",
    "\\end{eqnarray}\n",
    "\n",
    "Where:\n",
    "- $R_{\\hat{n}}$ is the standard rotation gate (non-Clifford gate).\n",
    "- $\\alpha$, $\\beta$, $\\gamma$, $\\delta$ and $\\theta \\in \\mathbb{R}$ are real-valued constants (Euler angles).\n"
   ]
  },
  {
   "cell_type": "markdown",
   "metadata": {
    "id": "_0tZy3SecgKO"
   },
   "source": [
    "## General $C_n^{j}(U_{2^m})$ gate with $n$ control qubits and $m$ target qubits\n",
    "\n"
   ]
  },
  {
   "cell_type": "markdown",
   "metadata": {
    "id": "cCJTc1OcIK5j"
   },
   "source": [
    "A generic single qubit rotation [$CU(\\theta, \\phi, \\lambda, \\gamma)$](https://qiskit.org/documentation/stubs/qiskit.circuit.library.CUGate.html) gate can be written as:\n",
    "\n",
    "\\begin{equation}\n",
    "I\\otimes |0\\rangle\\langle 0\\rangle + e^{i \\gamma } U(\\theta, \\phi, \\lambda, \\gamma) \\otimes |1 \\rangle \\langle 1|,\n",
    "\\end{equation}\n",
    "\n",
    "where $e^{i \\gamma }$ is a global phase."
   ]
  },
  {
   "cell_type": "markdown",
   "metadata": {
    "id": "YqLcyRhDpW4-"
   },
   "source": [
    "Let $U_{2^m}$ be a $2^m$ x $2^m$ unitary matrix and $I_{2^m}$ be a $2^m$ x $2^m$ identity matrix, then a generic multicontrolled gate with $n$ control qubits and $m$ target qubits is given by:\n",
    "\n",
    "\\begin{equation}\n",
    "C_n^{j}(U_{2^m}) = \\sum_{i=0, i\\neq j}^{2^n-1}I_{2^m} \\otimes |i\\rangle\\langle i|+ U_{2^m} \\otimes |j\\rangle\\langle j|.\n",
    "\\end{equation}\n",
    "\n",
    "Particular cases (Qiskit's little endian convention):\n",
    "\n",
    "- $CU3(\\theta, \\phi, \\lambda) \\equiv C_1(U_{2})$ where $CRY = CU3(\\theta, 0,0)$.\n",
    "\n",
    "- (CNOT Gate) $CX \\equiv C_1(U_{2}) = I\\otimes |0\\rangle\\langle 0\\rangle + X \\otimes |1 \\rangle \\langle 1|$. The action of the CX gate can be represented by: $|a,b\\rangle \\rightarrow |a,a\\oplus b\\rangle$.\n",
    "\n",
    "- (Toffoli Gate) $CCX \\equiv C_2(U_{2}) = I\\otimes I\\otimes |0\\rangle\\langle 0\\rangle + CX \\otimes |1 \\rangle \\langle 1|$.\n",
    "\n",
    "- $CCCX \\equiv C_3(U_{2}) = I\\otimes I\\otimes I\\otimes |0\\rangle\\langle 0\\rangle + CCX \\otimes |1 \\rangle \\langle 1|$.\n",
    "\n",
    "The $\\oplus$ symbol denotes the classical exclusive-OR (XOR) operation (a.k.a direct sum).\n",
    "\n",
    "In textbook convention, for example, the CX (CNOT) gate reads: $|0\\rangle\\langle 0|\\otimes I +|1\\rangle\\langle 1|\\otimes X$."
   ]
  },
  {
   "cell_type": "markdown",
   "metadata": {
    "id": "x47uHPz7zETd"
   },
   "source": [
    "## Gate Identities"
   ]
  },
  {
   "cell_type": "markdown",
   "metadata": {
    "id": "4g6fQJYbsoLy"
   },
   "source": [
    "\n",
    "\n",
    "- 1) $X^2=Y^2=Z^2=-iXYZ=I$ (Involutory square matrices).\n",
    "- 2) $ZX=iY=-XZ$ (Anti-commutation).\n",
    "- 3) $ZXZ=-X$.\n",
    "- 4) $ZYZ=-Y$.\n",
    "- 5) $HXH=Z$.\n",
    "- 6) $HZH=X$.\n",
    "- 7) $SXS^{\\dagger}=Y$.\n",
    "- 8) $SYS^{\\dagger}=-X$.\n",
    "- 9) $SZS^{\\dagger}=Z$.\n",
    "\n",
    "\n",
    "- 10) $Z=P(\\pi)$.\n",
    "- 11) $S=Z^{1/2} = P(\\pi/2)$.\n",
    "- 12) $S^2=SS=Z^{1/2}Z^{1/2}=Z = P(\\pi)$.\n",
    "- 13) $T=S^{1/2}=Z^{1/4}=P(\\pi/4)$.\n",
    "\n",
    "For $\\sigma_j\\in \\{X,Y,Z\\}$:\n",
    "- 14) $R_{j}(\\theta)= e^{\\pm i\\frac{\\theta}{2} (\\sigma_j)}$.\n",
    "- 15) $R_{j}(\\theta)\\otimes I_2= e^{\\pm i\\frac{\\theta}{2}(\\sigma_j \\otimes I_2)}$.\n",
    "- 16) $R_{j}(-\\theta)=R_{j}(\\theta)^{\\dagger}$.\n",
    "\n",
    "\n",
    "- 17) $UR_x(\\theta)U^{\\dagger}=e^{i\\frac{\\theta}{2}(UXU^{\\dagger})}$ (Conjugation by Unitary).\n",
    "- 18) $(H\\otimes H) CNOT_{(0,1)}(H\\otimes H) = CNOT_{(1,0)}$ (Conjugation by Hadamard a.k.a Phase kickback).\n",
    "- 19) $(I_2 \\otimes S)e^{i\\frac{\\theta}{2} (X\\otimes X)}(I_2 \\otimes S^{\\dagger})=e^{i\\frac{\\theta}{2} (X\\otimes Y)}$ (Conjugation by $S$).\n",
    "\n",
    "\n",
    "- 20) $ CNOT_{(j,k)}(X\\otimes I_2) CNOT_{(j,k)} = X \\otimes X$ (Conjugation by CNOT).\n",
    "\n",
    "Plugging (15) into (17) and using (20):\n",
    "- 21) $CNOT_{(j,k)} (R_x(\\theta)\\otimes I_2)CNOT_{(j,k)}=e^{i\\frac{\\theta}{2} CNOT_{(j,k)}(X\\otimes I_2)CNOT_{(j,k)}}=e^{i\\frac{\\theta}{2}(X\\otimes X)}$."
   ]
  },
  {
   "cell_type": "markdown",
   "metadata": {
    "id": "oUf9pDuQ8f5G"
   },
   "source": [
    "Identity 21 represents the transpilation procedure that converts a 2-qubit gate into a 2-qubit circuit. It can be extended as follows:\n",
    "\n",
    "\\begin{equation}\n",
    "R_{xx}(\\theta)=e^{\\pm i\\frac{\\theta}{2}(X\\otimes X)}=cos\\left(\\frac{\\theta}{2}\\right)(I_2\\otimes I_2)\\pm sin\\left(\\frac{\\theta}{2}\\right)(X\\otimes X),\\\\\n",
    "R_{yy}(\\theta)= e^{\\pm i\\frac{\\theta}{2}(Y\\otimes Y)}=cos\\left(\\frac{\\theta}{2}\\right)(I_2\\otimes I_2)\\pm sin\\left(\\frac{\\theta}{2}\\right)(Y\\otimes Y),\\\\\n",
    "R_{zz}(\\theta) = e^{\\pm i\\frac{\\theta}{2}(Z\\otimes Z)}=cos\\left(\\frac{\\theta}{2}\\right)(I_2\\otimes I_2)\\pm sin\\left(\\frac{\\theta}{2}\\right)(Z\\otimes Z).\n",
    "\\end{equation}"
   ]
  },
  {
   "cell_type": "markdown",
   "metadata": {
    "id": "sRN-YgSIb3k4"
   },
   "source": [
    "## Gate Decomposition"
   ]
  },
  {
   "cell_type": "markdown",
   "metadata": {
    "id": "FGfZg_y9bG7N"
   },
   "source": [
    "### Single qubit gate decomposition:\n",
    "\n",
    "- A Unitary gate U acting on a single qubit can always be decomposed into (See Ref. [1] Corollary 4.2 on page 176, or [Barenco et al.](https://journals.aps.org/pra/abstract/10.1103/PhysRevA.52.3457) Lemma 4.3):\n",
    "\n",
    "\\begin{equation}\n",
    "U = e^{i\\alpha}AXBXC,\n",
    "\\end{equation}\n",
    "\n",
    "where $\\alpha$ is a overall phase factor and $ABC=I$ for unitary operators $A$, $B$, and $C \\in SU(2)$ acting on a single qubit.\n",
    "\n",
    "- Z-Y-Z Decomposition for a single qubit unitary gate U (See [Barenco et al.](https://journals.aps.org/pra/abstract/10.1103/PhysRevA.52.3457)):\n",
    "\n",
    "\\begin{equation}\n",
    "U = e^{i\\alpha}R_z(\\beta)R_y(\\gamma)R_z(\\delta),\n",
    "\\end{equation}\n",
    "\n",
    "where $\\alpha$, $\\beta$, $\\gamma$ and $\\delta$ are real-valued numbers.\n",
    "\n",
    "- X-Y-X Decomposition obtained via similarity transformation:\n",
    "\n",
    "\\begin{eqnarray}\n",
    "U &=& R_x(\\beta)R_y(\\gamma)R_x(\\delta)\\\\\n",
    "\\implies V &=& CUC^{\\dagger} = R_z(\\beta)R_y(\\gamma)R_z(\\delta),\n",
    "\\end{eqnarray}\n",
    "\n",
    "- V-Z Decomposition:\n",
    "\n",
    "\\begin{equation}\n",
    "U = e^{i\\alpha}R_z(\\beta)V^{\\dagger}R_z(\\gamma)VR_z(\\delta).\n",
    "\\end{equation}\n",
    "\n",
    "Where:\n",
    "\n",
    "- $V=X^{1/2}$ is the square root of $X$.\n",
    "- $C = S^{\\dagger}$.\n",
    "- $R_z(\\theta)=V^{\\dagger}R_y(\\theta)V$."
   ]
  },
  {
   "cell_type": "markdown",
   "metadata": {
    "id": "C8QAxw8fbAhh"
   },
   "source": [
    "### Two-qubit gate decomposition:\n",
    "\n",
    "A Control-U gate writes:\n",
    "\n",
    "\\begin{equation}\n",
    "C(U) = \\Phi_1(\\theta)A_2C(X)B_2C(X)C_2,\n",
    "\\end{equation}\n",
    "where\n",
    "\\begin{equation}\n",
    "\\Phi_1 = \\begin{pmatrix} 1 & 0 \\\\ 0 & e^{i\\theta} \\end{pmatrix} \\otimes I_{2x2},\n",
    "\\end{equation}\n",
    "\n",
    "is a phase gate applied to the first qubit and $A_2$, $B_2$ and $C_2$ are gates applied to the second qubit."
   ]
  },
  {
   "cell_type": "markdown",
   "metadata": {
    "id": "MNakrDqNeiWt"
   },
   "source": [
    "## Gate implementation with NumPy and Qiskit  "
   ]
  },
  {
   "cell_type": "markdown",
   "metadata": {
    "id": "BrQr7iP6Re0G"
   },
   "source": [
    "- $U3(\\theta, \\phi, \\lambda)$"
   ]
  },
  {
   "cell_type": "code",
   "execution_count": 20,
   "metadata": {
    "colab": {
     "base_uri": "https://localhost:8080/",
     "height": 0
    },
    "executionInfo": {
     "elapsed": 1184,
     "status": "ok",
     "timestamp": 1654398108450,
     "user": {
      "displayName": "Lucas Camponogara Viera",
      "userId": "14322290658374940800"
     },
     "user_tz": -480
    },
    "id": "FuoODbLyRdrY",
    "outputId": "d1c27084-5a88-4768-83f7-46228f72284a"
   },
   "outputs": [
    {
     "data": {
      "text/html": [
       "<pre style=\"word-wrap: normal;white-space: pre;background: #fff0;line-height: 1.1;font-family: &quot;Courier New&quot;,Courier,monospace\">    ┌───────────────────┐\n",
       "q0: ┤ U3(theta,phi,lam) ├\n",
       "    └───────────────────┘</pre>"
      ],
      "text/plain": [
       "    ┌───────────────────┐\n",
       "q0: ┤ U3(theta,phi,lam) ├\n",
       "    └───────────────────┘"
      ]
     },
     "execution_count": 20,
     "metadata": {},
     "output_type": "execute_result"
    }
   ],
   "source": [
    "'''\n",
    "from qiskit import QuantumCircuit, QuantumRegister\n",
    "from qiskit.circuit.library.standard_gates import U3Gate\n",
    "from qiskit.circuit import Parameter\n",
    "'''\n",
    "\n",
    "theta=Parameter('theta') \n",
    "phi=Parameter('phi') \n",
    "lam=Parameter('lam') \n",
    "\n",
    "qr=QuantumRegister(1)\n",
    "qc = QuantumCircuit(qr)\n",
    "\n",
    "gate=U3Gate(theta, phi, lam, label=None) # Uncomment this line if you need variables as placeholders.\n",
    "#gate=U3Gate(np.pi, 0, 0, label=None) # Comment this line if you need variables as placeholders.\n",
    "qc.append(gate,qr)\n",
    "qc.draw()"
   ]
  },
  {
   "cell_type": "markdown",
   "metadata": {
    "id": "rVEfbELZd5q5"
   },
   "source": [
    "- $CX = I\\otimes |0\\rangle\\langle 0\\rangle + X \\otimes |1 \\rangle \\langle 1|$"
   ]
  },
  {
   "cell_type": "code",
   "execution_count": 21,
   "metadata": {
    "colab": {
     "base_uri": "https://localhost:8080/"
    },
    "executionInfo": {
     "elapsed": 3,
     "status": "ok",
     "timestamp": 1654398108450,
     "user": {
      "displayName": "Lucas Camponogara Viera",
      "userId": "14322290658374940800"
     },
     "user_tz": -480
    },
    "id": "jVJ6piHEjoAX",
    "outputId": "3aae9c4c-663e-4810-b3b6-aab42b01b519"
   },
   "outputs": [
    {
     "name": "stdout",
     "output_type": "stream",
     "text": [
      "           \n",
      "q1_0: ──■──\n",
      "      ┌─┴─┐\n",
      "q1_1: ┤ X ├\n",
      "      └───┘\n"
     ]
    },
    {
     "data": {
      "text/plain": [
       "Operator([[1.+0.j, 0.+0.j, 0.+0.j, 0.+0.j],\n",
       "          [0.+0.j, 0.+0.j, 0.+0.j, 1.+0.j],\n",
       "          [0.+0.j, 0.+0.j, 1.+0.j, 0.+0.j],\n",
       "          [0.+0.j, 1.+0.j, 0.+0.j, 0.+0.j]],\n",
       "         input_dims=(2, 2), output_dims=(2, 2))"
      ]
     },
     "execution_count": 21,
     "metadata": {},
     "output_type": "execute_result"
    }
   ],
   "source": [
    "# Qiskit Implementation of CX (CNOT) gate.\n",
    "\n",
    "'''\n",
    "import qiskit.quantum_info as qi\n",
    "'''\n",
    "\n",
    "qr=QuantumRegister(2)\n",
    "qc = QuantumCircuit(qr)\n",
    "qc.cnot(0,1)\n",
    "\n",
    "print(qc.draw())\n",
    "qi.Operator(qc)"
   ]
  },
  {
   "cell_type": "code",
   "execution_count": 22,
   "metadata": {
    "colab": {
     "base_uri": "https://localhost:8080/"
    },
    "executionInfo": {
     "elapsed": 3,
     "status": "ok",
     "timestamp": 1654398108451,
     "user": {
      "displayName": "Lucas Camponogara Viera",
      "userId": "14322290658374940800"
     },
     "user_tz": -480
    },
    "id": "Tk7DsUCFd8pv",
    "outputId": "22d8490b-fdf9-45c6-f2bd-67e04d43fc68"
   },
   "outputs": [
    {
     "data": {
      "text/plain": [
       "array([[1., 0., 0., 0.],\n",
       "       [0., 0., 0., 1.],\n",
       "       [0., 0., 1., 0.],\n",
       "       [0., 1., 0., 0.]])"
      ]
     },
     "execution_count": 22,
     "metadata": {},
     "output_type": "execute_result"
    }
   ],
   "source": [
    "# NumPy Implementation of CX (CNOT) gate.\n",
    "\n",
    "'''\n",
    "import numpy as np\n",
    "'''\n",
    "\n",
    "psi_0 = np.array([1, 0])\n",
    "psi_1 = np.array([0, 1])\n",
    "\n",
    "outer0 = np.outer(psi_0, psi_0)\n",
    "outer1 = np.outer(psi_1, psi_1)\n",
    "\n",
    "id=np.identity(2)\n",
    "\n",
    "X=np.array([[0, 1], [1, 0]]) \n",
    "\n",
    "cx = np.kron(id, outer0) + np.kron(X, outer1)\n",
    "cx"
   ]
  },
  {
   "cell_type": "markdown",
   "metadata": {
    "id": "0C7i1h3peTPN"
   },
   "source": [
    "- $CCX = I\\otimes I\\otimes |0\\rangle\\langle 0\\rangle + CX \\otimes |1 \\rangle \\langle 1|$"
   ]
  },
  {
   "cell_type": "code",
   "execution_count": 23,
   "metadata": {
    "colab": {
     "base_uri": "https://localhost:8080/"
    },
    "executionInfo": {
     "elapsed": 852,
     "status": "ok",
     "timestamp": 1654398109300,
     "user": {
      "displayName": "Lucas Camponogara Viera",
      "userId": "14322290658374940800"
     },
     "user_tz": -480
    },
    "id": "KF7mpopbj_WN",
    "outputId": "33b64cc2-69d1-45f3-b200-48aeff690aee"
   },
   "outputs": [
    {
     "name": "stdout",
     "output_type": "stream",
     "text": [
      "           \n",
      "q2_0: ──■──\n",
      "        │  \n",
      "q2_1: ──■──\n",
      "      ┌─┴─┐\n",
      "q2_2: ┤ X ├\n",
      "      └───┘\n"
     ]
    },
    {
     "data": {
      "text/plain": [
       "array([[1.-0.j, 0.+0.j, 0.+0.j, 0.+0.j, 0.+0.j, 0.+0.j, 0.+0.j, 0.+0.j],\n",
       "       [0.+0.j, 1.-0.j, 0.+0.j, 0.+0.j, 0.+0.j, 0.+0.j, 0.+0.j, 0.+0.j],\n",
       "       [0.+0.j, 0.+0.j, 1.-0.j, 0.+0.j, 0.+0.j, 0.+0.j, 0.+0.j, 0.+0.j],\n",
       "       [0.+0.j, 0.+0.j, 0.+0.j, 0.+0.j, 0.+0.j, 0.+0.j, 0.+0.j, 1.-0.j],\n",
       "       [0.+0.j, 0.+0.j, 0.+0.j, 0.+0.j, 1.-0.j, 0.+0.j, 0.+0.j, 0.+0.j],\n",
       "       [0.+0.j, 0.+0.j, 0.+0.j, 0.+0.j, 0.+0.j, 1.-0.j, 0.+0.j, 0.+0.j],\n",
       "       [0.+0.j, 0.+0.j, 0.+0.j, 0.+0.j, 0.+0.j, 0.+0.j, 1.-0.j, 0.+0.j],\n",
       "       [0.+0.j, 0.+0.j, 0.+0.j, 1.-0.j, 0.+0.j, 0.+0.j, 0.+0.j, 0.+0.j]])"
      ]
     },
     "execution_count": 23,
     "metadata": {},
     "output_type": "execute_result"
    }
   ],
   "source": [
    "# Qiskit Implementation of CCX gate a.k.a Toffoli gate.\n",
    "\n",
    "'''\n",
    "from qiskit import QuantumCircuit, QuantumRegister,transpile\n",
    "from qiskit import BasicAer\n",
    "'''\n",
    "\n",
    "backend = BasicAer.get_backend('unitary_simulator')\n",
    "q = QuantumRegister(3)\n",
    "qc = QuantumCircuit(q)\n",
    "qc.ccx(q[0], q[1], q[2])\n",
    "\n",
    "print(qc.draw())\n",
    "job = backend.run(transpile(qc, backend))\n",
    "job.result().get_unitary(qc, decimals=3)"
   ]
  },
  {
   "cell_type": "code",
   "execution_count": 24,
   "metadata": {
    "colab": {
     "base_uri": "https://localhost:8080/"
    },
    "executionInfo": {
     "elapsed": 5,
     "status": "ok",
     "timestamp": 1654398109300,
     "user": {
      "displayName": "Lucas Camponogara Viera",
      "userId": "14322290658374940800"
     },
     "user_tz": -480
    },
    "id": "M1q8zi7feQqc",
    "outputId": "ad360ce1-d0b0-42e6-955f-00b44fa0d965"
   },
   "outputs": [
    {
     "data": {
      "text/plain": [
       "array([[1., 0., 0., 0., 0., 0., 0., 0.],\n",
       "       [0., 1., 0., 0., 0., 0., 0., 0.],\n",
       "       [0., 0., 1., 0., 0., 0., 0., 0.],\n",
       "       [0., 0., 0., 0., 0., 0., 0., 1.],\n",
       "       [0., 0., 0., 0., 1., 0., 0., 0.],\n",
       "       [0., 0., 0., 0., 0., 1., 0., 0.],\n",
       "       [0., 0., 0., 0., 0., 0., 1., 0.],\n",
       "       [0., 0., 0., 1., 0., 0., 0., 0.]])"
      ]
     },
     "execution_count": 24,
     "metadata": {},
     "output_type": "execute_result"
    }
   ],
   "source": [
    "# NumPy Implementation of CCX gate a.k.a Toffoli gate.\n",
    "\n",
    "id4 = np.kron(id, id)\n",
    "ccx = np.kron(id4, outer0) + np.kron(cx, outer1)\n",
    "ccx"
   ]
  },
  {
   "cell_type": "markdown",
   "metadata": {
    "id": "Sk4QYD6geVNc"
   },
   "source": [
    "- $CCCX = I\\otimes I\\otimes I\\otimes |0\\rangle\\langle 0\\rangle + CCX \\otimes |1 \\rangle \\langle 1|$"
   ]
  },
  {
   "cell_type": "code",
   "execution_count": 25,
   "metadata": {
    "colab": {
     "base_uri": "https://localhost:8080/"
    },
    "executionInfo": {
     "elapsed": 3,
     "status": "ok",
     "timestamp": 1654398109301,
     "user": {
      "displayName": "Lucas Camponogara Viera",
      "userId": "14322290658374940800"
     },
     "user_tz": -480
    },
    "id": "WbAgd0vTeXpc",
    "outputId": "25eb3beb-d0c8-496e-d151-46ce63048fd7"
   },
   "outputs": [
    {
     "data": {
      "text/plain": [
       "array([[1., 0., 0., 0., 0., 0., 0., 0., 0., 0., 0., 0., 0., 0., 0., 0.],\n",
       "       [0., 1., 0., 0., 0., 0., 0., 0., 0., 0., 0., 0., 0., 0., 0., 0.],\n",
       "       [0., 0., 1., 0., 0., 0., 0., 0., 0., 0., 0., 0., 0., 0., 0., 0.],\n",
       "       [0., 0., 0., 1., 0., 0., 0., 0., 0., 0., 0., 0., 0., 0., 0., 0.],\n",
       "       [0., 0., 0., 0., 1., 0., 0., 0., 0., 0., 0., 0., 0., 0., 0., 0.],\n",
       "       [0., 0., 0., 0., 0., 1., 0., 0., 0., 0., 0., 0., 0., 0., 0., 0.],\n",
       "       [0., 0., 0., 0., 0., 0., 1., 0., 0., 0., 0., 0., 0., 0., 0., 0.],\n",
       "       [0., 0., 0., 0., 0., 0., 0., 0., 0., 0., 0., 0., 0., 0., 0., 1.],\n",
       "       [0., 0., 0., 0., 0., 0., 0., 0., 1., 0., 0., 0., 0., 0., 0., 0.],\n",
       "       [0., 0., 0., 0., 0., 0., 0., 0., 0., 1., 0., 0., 0., 0., 0., 0.],\n",
       "       [0., 0., 0., 0., 0., 0., 0., 0., 0., 0., 1., 0., 0., 0., 0., 0.],\n",
       "       [0., 0., 0., 0., 0., 0., 0., 0., 0., 0., 0., 1., 0., 0., 0., 0.],\n",
       "       [0., 0., 0., 0., 0., 0., 0., 0., 0., 0., 0., 0., 1., 0., 0., 0.],\n",
       "       [0., 0., 0., 0., 0., 0., 0., 0., 0., 0., 0., 0., 0., 1., 0., 0.],\n",
       "       [0., 0., 0., 0., 0., 0., 0., 0., 0., 0., 0., 0., 0., 0., 1., 0.],\n",
       "       [0., 0., 0., 0., 0., 0., 0., 1., 0., 0., 0., 0., 0., 0., 0., 0.]])"
      ]
     },
     "execution_count": 25,
     "metadata": {},
     "output_type": "execute_result"
    }
   ],
   "source": [
    "# NumPy Implementation of CCCX gate.\n",
    "\n",
    "cccx = np.kron(np.identity(8), outer0) + np.kron(ccx, outer1)\n",
    "cccx"
   ]
  },
  {
   "cell_type": "markdown",
   "metadata": {
    "id": "aifqV7VEkfRR"
   },
   "source": [
    "- $CCRY = I\\otimes I\\otimes |0\\rangle\\langle 0\\rangle + CRY \\otimes |1 \\rangle \\langle 1|$"
   ]
  },
  {
   "cell_type": "code",
   "execution_count": 26,
   "metadata": {
    "colab": {
     "base_uri": "https://localhost:8080/"
    },
    "executionInfo": {
     "elapsed": 3,
     "status": "ok",
     "timestamp": 1654398109301,
     "user": {
      "displayName": "Lucas Camponogara Viera",
      "userId": "14322290658374940800"
     },
     "user_tz": -480
    },
    "id": "jj44cfWGkj3f",
    "outputId": "00daa187-8c8b-4098-b64f-eb56f9cdce89"
   },
   "outputs": [
    {
     "name": "stdout",
     "output_type": "stream",
     "text": [
      "                \n",
      "q12_0: ────■────\n",
      "           │    \n",
      "q12_1: ────■────\n",
      "       ┌───┴───┐\n",
      "q12_2: ┤ Ry(π) ├\n",
      "       └───────┘\n"
     ]
    },
    {
     "data": {
      "text/plain": [
       "Operator([[ 1.00000000e+00+0.j,  0.00000000e+00+0.j,  0.00000000e+00+0.j,\n",
       "            0.00000000e+00+0.j,  0.00000000e+00+0.j,  0.00000000e+00+0.j,\n",
       "            0.00000000e+00+0.j,  0.00000000e+00+0.j],\n",
       "          [ 0.00000000e+00+0.j,  1.00000000e+00+0.j,  0.00000000e+00+0.j,\n",
       "            0.00000000e+00+0.j,  0.00000000e+00+0.j,  0.00000000e+00+0.j,\n",
       "            0.00000000e+00+0.j,  0.00000000e+00+0.j],\n",
       "          [ 0.00000000e+00+0.j,  0.00000000e+00+0.j,  1.00000000e+00+0.j,\n",
       "            0.00000000e+00+0.j,  0.00000000e+00+0.j,  0.00000000e+00+0.j,\n",
       "            0.00000000e+00+0.j,  0.00000000e+00+0.j],\n",
       "          [ 0.00000000e+00+0.j,  0.00000000e+00+0.j,  0.00000000e+00+0.j,\n",
       "            2.22044605e-16+0.j,  0.00000000e+00+0.j,  0.00000000e+00+0.j,\n",
       "            0.00000000e+00+0.j, -1.00000000e+00+0.j],\n",
       "          [ 0.00000000e+00+0.j,  0.00000000e+00+0.j,  0.00000000e+00+0.j,\n",
       "            0.00000000e+00+0.j,  1.00000000e+00+0.j,  0.00000000e+00+0.j,\n",
       "            0.00000000e+00+0.j,  0.00000000e+00+0.j],\n",
       "          [ 0.00000000e+00+0.j,  0.00000000e+00+0.j,  0.00000000e+00+0.j,\n",
       "            0.00000000e+00+0.j,  0.00000000e+00+0.j,  1.00000000e+00+0.j,\n",
       "            0.00000000e+00+0.j,  0.00000000e+00+0.j],\n",
       "          [ 0.00000000e+00+0.j,  0.00000000e+00+0.j,  0.00000000e+00+0.j,\n",
       "            0.00000000e+00+0.j,  0.00000000e+00+0.j,  0.00000000e+00+0.j,\n",
       "            1.00000000e+00+0.j,  0.00000000e+00+0.j],\n",
       "          [ 0.00000000e+00+0.j,  0.00000000e+00+0.j,  0.00000000e+00+0.j,\n",
       "            1.00000000e+00+0.j,  0.00000000e+00+0.j,  0.00000000e+00+0.j,\n",
       "            0.00000000e+00+0.j,  2.22044605e-16+0.j]],\n",
       "         input_dims=(2, 2, 2), output_dims=(2, 2, 2))"
      ]
     },
     "execution_count": 26,
     "metadata": {},
     "output_type": "execute_result"
    }
   ],
   "source": [
    "# Qiskit Implementation of CCRY gate.\n",
    "\n",
    "'''\n",
    "from qiskit import QuantumCircuit, QuantumRegister\n",
    "from qiskit.circuit.library.standard_gates import RYGate\n",
    "import qiskit.quantum_info as qi\n",
    "'''\n",
    "\n",
    "theta=np.pi\n",
    "qr=QuantumRegister(3)\n",
    "qc = QuantumCircuit(qr)\n",
    "control=RYGate(theta).control(2)\n",
    "qc.append(control,qr)\n",
    "\n",
    "print(qc.draw())\n",
    "qi.Operator(qc)"
   ]
  },
  {
   "cell_type": "markdown",
   "metadata": {
    "id": "IOgrEwpFkkII"
   },
   "source": [
    "- $CCCRY = I\\otimes I\\otimes I\\otimes |0\\rangle\\langle 0\\rangle + CCRY \\otimes |1 \\rangle \\langle 1|$ (16x16 matrix)"
   ]
  },
  {
   "cell_type": "code",
   "execution_count": 27,
   "metadata": {
    "colab": {
     "base_uri": "https://localhost:8080/"
    },
    "executionInfo": {
     "elapsed": 470,
     "status": "ok",
     "timestamp": 1654398109769,
     "user": {
      "displayName": "Lucas Camponogara Viera",
      "userId": "14322290658374940800"
     },
     "user_tz": -480
    },
    "id": "skD67_KykkPh",
    "outputId": "e8d21cae-af4c-40be-d278-c67f6b9ae9d7"
   },
   "outputs": [
    {
     "name": "stdout",
     "output_type": "stream",
     "text": [
      "                \n",
      "q13_0: ────■────\n",
      "           │    \n",
      "q13_1: ────■────\n",
      "           │    \n",
      "q13_2: ────■────\n",
      "       ┌───┴───┐\n",
      "q13_3: ┤ Ry(π) ├\n",
      "       └───────┘\n"
     ]
    },
    {
     "data": {
      "text/plain": [
       "Operator([[ 1.00000000e+00+0.j,  0.00000000e+00+0.j,  0.00000000e+00+0.j,\n",
       "            0.00000000e+00+0.j,  0.00000000e+00+0.j,  0.00000000e+00+0.j,\n",
       "            0.00000000e+00+0.j,  0.00000000e+00+0.j,  0.00000000e+00+0.j,\n",
       "            0.00000000e+00+0.j,  0.00000000e+00+0.j,  0.00000000e+00+0.j,\n",
       "            0.00000000e+00+0.j,  0.00000000e+00+0.j,  0.00000000e+00+0.j,\n",
       "            0.00000000e+00+0.j],\n",
       "          [ 0.00000000e+00+0.j,  1.00000000e+00+0.j,  0.00000000e+00+0.j,\n",
       "            0.00000000e+00+0.j,  0.00000000e+00+0.j,  0.00000000e+00+0.j,\n",
       "            0.00000000e+00+0.j,  0.00000000e+00+0.j,  0.00000000e+00+0.j,\n",
       "            0.00000000e+00+0.j,  0.00000000e+00+0.j,  0.00000000e+00+0.j,\n",
       "            0.00000000e+00+0.j,  0.00000000e+00+0.j,  0.00000000e+00+0.j,\n",
       "            0.00000000e+00+0.j],\n",
       "          [ 0.00000000e+00+0.j,  0.00000000e+00+0.j,  1.00000000e+00+0.j,\n",
       "            0.00000000e+00+0.j,  0.00000000e+00+0.j,  0.00000000e+00+0.j,\n",
       "            0.00000000e+00+0.j,  0.00000000e+00+0.j,  0.00000000e+00+0.j,\n",
       "            0.00000000e+00+0.j,  0.00000000e+00+0.j,  0.00000000e+00+0.j,\n",
       "            0.00000000e+00+0.j,  0.00000000e+00+0.j,  0.00000000e+00+0.j,\n",
       "            0.00000000e+00+0.j],\n",
       "          [ 0.00000000e+00+0.j,  0.00000000e+00+0.j,  0.00000000e+00+0.j,\n",
       "            1.00000000e+00+0.j,  0.00000000e+00+0.j,  0.00000000e+00+0.j,\n",
       "            0.00000000e+00+0.j,  0.00000000e+00+0.j,  0.00000000e+00+0.j,\n",
       "            0.00000000e+00+0.j,  0.00000000e+00+0.j,  0.00000000e+00+0.j,\n",
       "            0.00000000e+00+0.j,  0.00000000e+00+0.j,  0.00000000e+00+0.j,\n",
       "            0.00000000e+00+0.j],\n",
       "          [ 0.00000000e+00+0.j,  0.00000000e+00+0.j,  0.00000000e+00+0.j,\n",
       "            0.00000000e+00+0.j,  1.00000000e+00+0.j,  0.00000000e+00+0.j,\n",
       "            0.00000000e+00+0.j,  0.00000000e+00+0.j,  0.00000000e+00+0.j,\n",
       "            0.00000000e+00+0.j,  0.00000000e+00+0.j,  0.00000000e+00+0.j,\n",
       "            0.00000000e+00+0.j,  0.00000000e+00+0.j,  0.00000000e+00+0.j,\n",
       "            0.00000000e+00+0.j],\n",
       "          [ 0.00000000e+00+0.j,  0.00000000e+00+0.j,  0.00000000e+00+0.j,\n",
       "            0.00000000e+00+0.j,  0.00000000e+00+0.j,  1.00000000e+00+0.j,\n",
       "            0.00000000e+00+0.j,  0.00000000e+00+0.j,  0.00000000e+00+0.j,\n",
       "            0.00000000e+00+0.j,  0.00000000e+00+0.j,  0.00000000e+00+0.j,\n",
       "            0.00000000e+00+0.j,  2.77555756e-17+0.j,  0.00000000e+00+0.j,\n",
       "            0.00000000e+00+0.j],\n",
       "          [ 0.00000000e+00+0.j,  0.00000000e+00+0.j,  0.00000000e+00+0.j,\n",
       "            0.00000000e+00+0.j,  0.00000000e+00+0.j,  0.00000000e+00+0.j,\n",
       "            1.00000000e+00+0.j,  0.00000000e+00+0.j,  0.00000000e+00+0.j,\n",
       "            0.00000000e+00+0.j,  0.00000000e+00+0.j,  0.00000000e+00+0.j,\n",
       "            0.00000000e+00+0.j,  0.00000000e+00+0.j,  1.38777878e-16+0.j,\n",
       "            0.00000000e+00+0.j],\n",
       "          [ 0.00000000e+00+0.j,  0.00000000e+00+0.j,  0.00000000e+00+0.j,\n",
       "            0.00000000e+00+0.j,  0.00000000e+00+0.j,  0.00000000e+00+0.j,\n",
       "            0.00000000e+00+0.j,  1.66533454e-16+0.j,  0.00000000e+00+0.j,\n",
       "            0.00000000e+00+0.j,  0.00000000e+00+0.j,  0.00000000e+00+0.j,\n",
       "            0.00000000e+00+0.j,  0.00000000e+00+0.j,  0.00000000e+00+0.j,\n",
       "           -1.00000000e+00+0.j],\n",
       "          [ 0.00000000e+00+0.j,  0.00000000e+00+0.j,  0.00000000e+00+0.j,\n",
       "            0.00000000e+00+0.j,  0.00000000e+00+0.j,  0.00000000e+00+0.j,\n",
       "            0.00000000e+00+0.j,  0.00000000e+00+0.j,  1.00000000e+00+0.j,\n",
       "            0.00000000e+00+0.j,  0.00000000e+00+0.j,  0.00000000e+00+0.j,\n",
       "            0.00000000e+00+0.j,  0.00000000e+00+0.j,  0.00000000e+00+0.j,\n",
       "            0.00000000e+00+0.j],\n",
       "          [ 0.00000000e+00+0.j,  0.00000000e+00+0.j,  0.00000000e+00+0.j,\n",
       "            0.00000000e+00+0.j,  0.00000000e+00+0.j,  0.00000000e+00+0.j,\n",
       "            0.00000000e+00+0.j,  0.00000000e+00+0.j,  0.00000000e+00+0.j,\n",
       "            1.00000000e+00+0.j,  0.00000000e+00+0.j,  0.00000000e+00+0.j,\n",
       "            0.00000000e+00+0.j,  0.00000000e+00+0.j,  0.00000000e+00+0.j,\n",
       "            0.00000000e+00+0.j],\n",
       "          [ 0.00000000e+00+0.j,  0.00000000e+00+0.j,  0.00000000e+00+0.j,\n",
       "            0.00000000e+00+0.j,  0.00000000e+00+0.j,  0.00000000e+00+0.j,\n",
       "            0.00000000e+00+0.j,  0.00000000e+00+0.j,  0.00000000e+00+0.j,\n",
       "            0.00000000e+00+0.j,  1.00000000e+00+0.j,  0.00000000e+00+0.j,\n",
       "            0.00000000e+00+0.j,  0.00000000e+00+0.j,  0.00000000e+00+0.j,\n",
       "            0.00000000e+00+0.j],\n",
       "          [ 0.00000000e+00+0.j,  0.00000000e+00+0.j,  0.00000000e+00+0.j,\n",
       "            0.00000000e+00+0.j,  0.00000000e+00+0.j,  0.00000000e+00+0.j,\n",
       "            0.00000000e+00+0.j,  0.00000000e+00+0.j,  0.00000000e+00+0.j,\n",
       "            0.00000000e+00+0.j,  0.00000000e+00+0.j,  1.00000000e+00+0.j,\n",
       "            0.00000000e+00+0.j,  0.00000000e+00+0.j,  0.00000000e+00+0.j,\n",
       "            0.00000000e+00+0.j],\n",
       "          [ 0.00000000e+00+0.j,  0.00000000e+00+0.j,  0.00000000e+00+0.j,\n",
       "            0.00000000e+00+0.j,  0.00000000e+00+0.j,  0.00000000e+00+0.j,\n",
       "            0.00000000e+00+0.j,  0.00000000e+00+0.j,  0.00000000e+00+0.j,\n",
       "            0.00000000e+00+0.j,  0.00000000e+00+0.j,  0.00000000e+00+0.j,\n",
       "            1.00000000e+00+0.j,  0.00000000e+00+0.j,  0.00000000e+00+0.j,\n",
       "            0.00000000e+00+0.j],\n",
       "          [ 0.00000000e+00+0.j,  0.00000000e+00+0.j,  0.00000000e+00+0.j,\n",
       "            0.00000000e+00+0.j,  0.00000000e+00+0.j, -2.77555756e-17+0.j,\n",
       "            0.00000000e+00+0.j,  0.00000000e+00+0.j,  0.00000000e+00+0.j,\n",
       "            0.00000000e+00+0.j,  0.00000000e+00+0.j,  0.00000000e+00+0.j,\n",
       "            0.00000000e+00+0.j,  1.00000000e+00+0.j,  0.00000000e+00+0.j,\n",
       "            0.00000000e+00+0.j],\n",
       "          [ 0.00000000e+00+0.j,  0.00000000e+00+0.j,  0.00000000e+00+0.j,\n",
       "            0.00000000e+00+0.j,  0.00000000e+00+0.j,  0.00000000e+00+0.j,\n",
       "           -1.38777878e-16+0.j,  0.00000000e+00+0.j,  0.00000000e+00+0.j,\n",
       "            0.00000000e+00+0.j,  0.00000000e+00+0.j,  0.00000000e+00+0.j,\n",
       "            0.00000000e+00+0.j,  0.00000000e+00+0.j,  1.00000000e+00+0.j,\n",
       "            0.00000000e+00+0.j],\n",
       "          [ 0.00000000e+00+0.j,  0.00000000e+00+0.j,  0.00000000e+00+0.j,\n",
       "            0.00000000e+00+0.j,  0.00000000e+00+0.j,  0.00000000e+00+0.j,\n",
       "            0.00000000e+00+0.j,  1.00000000e+00+0.j,  0.00000000e+00+0.j,\n",
       "            0.00000000e+00+0.j,  0.00000000e+00+0.j,  0.00000000e+00+0.j,\n",
       "            0.00000000e+00+0.j,  0.00000000e+00+0.j,  0.00000000e+00+0.j,\n",
       "            1.66533454e-16+0.j]],\n",
       "         input_dims=(2, 2, 2, 2), output_dims=(2, 2, 2, 2))"
      ]
     },
     "execution_count": 27,
     "metadata": {},
     "output_type": "execute_result"
    }
   ],
   "source": [
    "# Qiskit Implementation of CCCRY gate.\n",
    "\n",
    "'''\n",
    "from qiskit import QuantumCircuit, QuantumRegister\n",
    "from qiskit.circuit.library.standard_gates import RYGate\n",
    "import qiskit.quantum_info as qi\n",
    "'''\n",
    "\n",
    "theta=np.pi\n",
    "qr=QuantumRegister(4)\n",
    "qc = QuantumCircuit(qr)\n",
    "control=RYGate(theta).control(3)\n",
    "qc.append(control,qr)\n",
    "\n",
    "print(qc.draw())\n",
    "qi.Operator(qc)"
   ]
  },
  {
   "cell_type": "markdown",
   "metadata": {
    "id": "bupirY8vxW5B"
   },
   "source": [
    "# The Heisenberg XXX Spin-1/2 Lattice Model for $N=3$ Three Particles<a name=\"model\" />  \n"
   ]
  },
  {
   "cell_type": "markdown",
   "metadata": {
    "id": "8U8sSH9d1Y1z"
   },
   "source": [
    "The [Quantum Heisenberg XXX spin-1/2 model](https://en.wikipedia.org/wiki/Quantum_Heisenberg_model#XXX_model) is a particular case of the general [XYZ Quantum Heisenberg Model](https://en.wikipedia.org/wiki/Quantum_Heisenberg_model) when the coupling coefficients are $J_x = J_y = J_z \\doteq J$. The particle interaction of the aforementioned spin model for a system of $N$ quantum spin-1/2 particles arranged in a 1D (one-dimensional) Markov chain, where each particle is represented by a qubit, is given by the following `Hamiltonian operator`:\n",
    "\n",
    "\\begin{eqnarray}\n",
    "h_{\\text{heis}} &=& \\sum_{\\langle jk \\rangle =0}^{N-1} J \\left(\\sigma_x^{(j)}\\sigma_x^{(k)} + \\sigma_y^{(j)}\\sigma_y^{(k)} + \\sigma_z^{(j)}\\sigma_z^{(k)}\\right).\n",
    "\\end{eqnarray}\n",
    "Where: \n",
    "- $J$ is a real-valued [coupling](https://en.m.wikipedia.org/wiki/Coupling_constant) constant that determines the interaction strength.\n",
    "- $\\langle jk \\rangle$ specifies interaction only between nearest neighbor qubits $j$ and $k$ ($j,k \\in \\{0,1,2\\}$).\n",
    "- $\\otimes$ denotes the [tensor product](https://en.wikipedia.org/wiki/Tensor_product#Tensor_product_of_linear_maps) symbol.\n",
    "\n",
    "<br></br>\n",
    "In classical mechanics, the Hamiltonian $H$ corresponds to the sum of kinetic and potential energy of a **time-independent holonomic and monogenic system** \\[[Goldstein, H.](#Ref)]). In quantum mechanics, the Hamiltonian is promoted to a so-called Hermitian operator $\\hat{H}$ represented by a self-adjoint complex matrix within the matrix mechanics formalism."
   ]
  },
  {
   "cell_type": "markdown",
   "metadata": {
    "id": "JU8aVFSn52Rv"
   },
   "source": [
    "The Pauli operators in this 1D spin lattice satisfy the following Lie algebra for the (anti-)commutation relations:\n",
    "\n",
    "\n",
    "\\begin{eqnarray}\n",
    "\\text{commutator: } \\{\\sigma_a^{j}, \\sigma_b^{k} \\} = 2\\delta_{jk}\\delta_{ab}\\sigma_0^{j},\\\\\n",
    "\\end{eqnarray}\n",
    "\\begin{eqnarray}\n",
    "\\text{anti-commutator: }\n",
    "[\\sigma_a^{j}, \\sigma_b^{k}] = 2i\\delta_{jk}\\epsilon_{abc}\\sigma_c^{j},\n",
    "\\end{eqnarray}\n",
    "\n",
    "Where:\n",
    "\n",
    "- $[\\hat{A},\\hat{B}]$ denotes the bilinear skew-symmetric map $[,]: \\mathcal{g} x \\mathcal{g} \\rightarrow \\mathcal{g}$ (a.k.a commutator) between operators $\\hat{A}$ and $\\hat{B}$:\n",
    "\n",
    "\\begin{align}\n",
    "[\\hat{A},\\hat{B}]\\doteq\\hat{A}\\hat{B} - \\hat{B}\\hat{A}.\n",
    "\\end{align}\n",
    "- $i=\\sqrt{-1}$ denotes the imaginary unit.\n",
    "- $\\epsilon_{abc}$ denotes the normalized Levi-Civita symbol ($\\epsilon_{xyz}=1$) with $a, b, c \\in \\{x,y,z\\}$:\n",
    "\n",
    "\\begin{align*}\n",
    "\\varepsilon_{abc} \\doteq\n",
    "\\begin{cases}\n",
    "+1 & \\text{for even permutation of }(a,b,c). \\\\\n",
    "-1 & \\text{for odd permutation of } (a,b,c).  \\\\\n",
    "\\;\\;\\,0 & \\text{for any repeated index}.\n",
    "\\end{cases}\n",
    "\\end{align*}\n",
    "\n",
    "- $\\delta_{jk}$ denotes the Kronecker delta:\n",
    "\n",
    "\\begin{eqnarray}\n",
    "\\delta_{jk} \\doteq \\begin{cases}\n",
    "0, & \\mbox{if } j \\ne k, \\\\\n",
    "1, & \\mbox{if } j=k. \\end{cases}\n",
    "\\end{eqnarray}\n",
    "- $\\{\\sigma_x,\\sigma_y,\\sigma_z\\}$ denotes the $SU(2)$ set of [Pauli operators](https://en.wikipedia.org/wiki/Pauli_matrices) (2x2 complex Hermitian and Unitary matrices sharing equal eigenvalues of $\\pm 1$)."
   ]
  },
  {
   "cell_type": "markdown",
   "metadata": {
    "id": "2EFhUpD1EN8d"
   },
   "source": [
    "For the particular case of a system of $N=3$ spin-1/2 particles arranged in a line, and setting $J=1$, one then has:\n",
    "\n",
    "\\begin{eqnarray}\n",
    "h_{\\text{heis}} &=& \\sigma_x^{(0)}\\otimes\\sigma_x^{(1)}\\otimes I^{(2)} + I^{(0)} \\otimes\\sigma_x^{(1)}\\otimes\\sigma_x^{(2)} + \\sigma_y^{(0)}\\otimes\\sigma_y^{(1)}\\otimes I^{(2)} + I^{(0)} \\otimes \\sigma_y^{(1)}\\otimes\\sigma_y^{(2)} + I^{(0)} \\otimes\\sigma_z^{(0)}\\otimes\\sigma_z^{(1)} + I^{(0)}\\otimes\\sigma_z^{(1)}\\otimes\\sigma_z^{(2)}.\n",
    "\\end{eqnarray}\n",
    "\n",
    "However, the convention adopted by the quantum community is the following shorthand notation (omitting the tensor product ($\\otimes$) and the 2x2 identity matrix $I$):\n",
    "\n",
    "\\begin{eqnarray}\n",
    "h_{\\text{heis3}} = \\sigma_x^{(0)}\\sigma_x^{(1)} + \\sigma_x^{(1)}\\sigma_x^{(2)} + \\sigma_y^{(0)}\\sigma_y^{(1)} + \\sigma_y^{(1)}\\sigma_y^{(2)} + \\sigma_z^{(0)}\\sigma_z^{(1)} + \\sigma_z^{(1)}\\sigma_z^{(2)}.\n",
    "\\end{eqnarray}"
   ]
  },
  {
   "cell_type": "markdown",
   "metadata": {
    "id": "GzqPiRiByOdF"
   },
   "source": [
    "# Time Evolution of the initial state $|110\\rangle$ under $h_{heis3}$ according to $U_{\\text{heis3}}(t=\\pi)$<a name=\"evolution\" />  \n"
   ]
  },
  {
   "cell_type": "markdown",
   "metadata": {
    "id": "nVDwlzKvfADR"
   },
   "source": [
    "To see how the state of the quantum system envolves from the initial state $|110\\rangle$ to the final state $U_{\\text{Heis3}}(t=\\pi)|110\\rangle = |\\psi(\\pi)\\rangle$ with probability $|\\langle 110 | U_{\\text{Heis3}}(\\pi) |110\\rangle|^2$, one should recall the first and second postulates of quantum mechanics in the ubiquitous Dirac bra-ket notation."
   ]
  },
  {
   "cell_type": "markdown",
   "metadata": {
    "id": "_2jTzSs6sKG_"
   },
   "source": [
    "## **Probability Over Time $t$**\n",
    "\n",
    "Consider a physical observable, which is always represented by a Hermitian ($\\hat{\\mathcal{O}}=\\hat{\\mathcal{O}}^{\\dagger}$) and, therefore, Normal ($ \\hat{\\mathcal{O}}\\hat{\\mathcal{O}}^{\\dagger}=\\hat{\\mathcal{O}}^{\\dagger}\\hat{\\mathcal{O}}$) operator with real eigenvalues $o_j$. A diagonal representation (See the spectral theorem) can be given by:\n",
    "\\begin{eqnarray}\n",
    "\\hat{\\mathcal{O}} = \\sum_{j=1}^d o_j P_{o_j}= \\sum_{j=1}^d o_j |o_j\\rangle \\langle o_j|.\n",
    "\\end{eqnarray}\n",
    "\n",
    "Where $P_{o_j}=|o_j\\rangle \\langle o_j|$ is the projector onto the eigenspace of the observable $\\hat{\\mathcal{O}}$ in some $d$-dimensional orthonormal basis $\\{|o_j \\rangle\\}|_{j=1}^d$ with an orthonormal set of eigenvectors $|o_j \\rangle$ ($\\langle o_j|o_k\\rangle=\\delta_{jk}$).\n",
    "\n",
    "If the quantum system is prepared in the state $|\\psi\\rangle \\doteq \\sum_{j=1}^d c_j|o_j\\rangle$, a projective measurement (a.k.a von Neumann measurement) entails the following conditional probability for finding the system in the eigenstate $|o_j\\rangle$ with eigenvalue $o_j$:\n",
    "\n",
    "\\begin{eqnarray} \n",
    "Pr(o_j|\\psi\\rangle)&=&\\langle \\psi | P^{\\dagger}_{o_j} P_{o_j} |\\psi \\rangle \\\\ \n",
    "&=& \\langle \\psi | P_{o_j}^2 |\\psi \\rangle\\\\\n",
    "&=& \\langle \\psi| (|o_j\\rangle \\langle o_j|o_j\\rangle \\langle o_j|)| \\psi \\rangle\\\\\n",
    "&=&\\delta_{jj}\\langle\\psi|o_j\\rangle \\langle o_j |\\psi\\rangle \\\\ \n",
    "&=& |\\langle \\psi|o_j \\rangle|^2=|\\langle o_j|\\psi \\rangle|^2\\\\\n",
    "&=& \\left|\\langle o_j|\\sum_{k=1}^d c_k |o_k\\rangle\\right|^2\\\\\n",
    "&=&  \\left|\\sum_{k=1}^d c_k \\langle o_j|o_k\\rangle\\right|^2\\\\\n",
    "&=&\\left|\\sum_{k=1}^d c_k \\delta_{jk} \\right|^2 = |c_j|^2.\n",
    "\\end{eqnarray} \n",
    "\n",
    "This result is also known as Born's rule:\n",
    "\n",
    "\\begin{eqnarray}\n",
    "Pr(|o_j\\rangle) \\doteq |\\langle o_j |\\psi \\rangle|^2 = |c_j|^2.\n",
    "\\end{eqnarray}\n",
    "\n",
    "<br></br>\n",
    "If the system has evolved from the initial state $|\\psi(0)\\rangle$ to the final state $|\\psi(t)\\rangle$, then:\n",
    "\n",
    "\\begin{eqnarray}\n",
    "P_t(|o_j\\rangle) &=& |\\langle o_j | \\hat{U}(t) |\\psi(0)\\rangle|^2 \\\\\n",
    "&=& |\\langle o_j |\\psi(t)\\rangle|^2.\n",
    "\\end{eqnarray}\n",
    "\n",
    "Therefore, the probability of measuring the initial state $|\\psi(0)\\rangle=|110\\rangle$ over a time window $t=\\pi$ under the **time-independent Hamiltonian** XXX Heisemberg Hamiltonian is:\n",
    "\n",
    "\\begin{eqnarray}\n",
    "P_{t=\\pi}(|110\\rangle) &=& |\\langle 110 | u_{heis3}(t=\\pi) |110\\rangle|^2 \\\\\n",
    "&=& |\\langle 110 |e^{-ih_{heis3}\\pi / \\hbar} |110\\rangle|^2.\n",
    "\\end{eqnarray}\n",
    "\n",
    "Q.E.D.\n",
    "\n",
    "This last equation is known as the transition probability. It resembles the modulus squared of the expectation value of an observable $\\hat{O}$ as in $|\\langle \\hat{O}\\rangle|^2$. **However, the evolution operator is not an Hermitian operator and, therefore, it does not describe a physical observable.** Expected value only makes sense for physical observables!\n",
    "\n",
    "The expectation value of a physical observable $\\hat{\\mathcal{O}}$ is:\n",
    "\n",
    "\\begin{align}\n",
    "\\langle \\hat{\\mathcal{O}}\\rangle &=\\sum_{j=1}^d o_j Pr(o_j|\\psi\\rangle) \\\\\n",
    "&=\\sum_{j=1}^d o_j  \\langle \\psi |o_j \\rangle \\langle o_j|\\psi \\rangle \\\\\n",
    "&= \\langle \\psi | \\left(\\sum_{j=1}^d o_j |o_j \\rangle \\langle o_j| \\right) |\\psi \\rangle\\\\\n",
    "&= \\langle \\psi | \\left(\\sum_{j=1}^d o_j P_{o_j} \\right) |\\psi \\rangle\\\\\n",
    "&=\\langle \\psi |\\hat{\\mathcal{O}}|\\psi\\rangle.\n",
    "\\end{align}\n",
    "\n",
    "Upon evolution of the system's state vector ($\\hat{U}(t)|\\psi\\rangle$), the expected value becomes:\n",
    "\n",
    "\\begin{align}\n",
    "\\langle \\psi |U^{\\dagger}\\hat{\\mathcal{O}}\\hat{U}|\\psi\\rangle.\n",
    "\\end{align}"
   ]
  },
  {
   "cell_type": "markdown",
   "metadata": {
    "id": "qitwJvl6_zmE"
   },
   "source": [
    "# The Trotter-Susuki formula<a name=\"trotter\" />  "
   ]
  },
  {
   "cell_type": "markdown",
   "metadata": {
    "id": "EhSup030wpM3"
   },
   "source": [
    "Consider the following decomposition for a general Hamiltonian $\\hat{H}$:\n",
    "\n",
    "\\begin{align}\n",
    "\\hat{H} = \\hat{H}_a + \\hat{H}_b.\n",
    "\\end{align}\n",
    "\n",
    "If the reduced Hamiltonians commute, i.e, $[\\hat{H}_{a},\\hat{H}_{b}]=\\mathbb{O}$, then the evolution operator is a product of reduced evolution operators:\n",
    "\n",
    "\\begin{align}\n",
    "\\hat{U} = e^{-i\\hat{H}t/ħ} = e^{-i\\hat{H}_{a}t/\\hbar-i\\hat{H}_{b}t/\\hbar} = e^{-i\\hat{H}_{a}t/\\hbar}e^{-i\\hat{H}_{b}t/\\hbar} = \\hat{U}_{a}\\hat{U}_{b} = \\hat{U}_{b}\\hat{U}_{a}.\n",
    "\\end{align}\n",
    "\n",
    "\n",
    "\n",
    "\n"
   ]
  },
  {
   "cell_type": "markdown",
   "metadata": {
    "id": "B7kYLGrKL7Cz"
   },
   "source": [
    "**Simultaneous diagonalization theorem** *Suppose $A$ and $B$ are two Hermitian operators. Then $[A, B] = AB-BA =\\mathbb{O}$ is equal to the zero matrix (they commute) if, and only if, there exists an orthonormal basis such that both $A$ and $B$ are diagonal with respect to that basis, i.e, they share the same set of eigenvectors. Therefore, $A$ and $B$ are simultaneously diagonalizable with different eigenvalues.*"
   ]
  },
  {
   "cell_type": "markdown",
   "metadata": {
    "id": "t4H5cGC487xA"
   },
   "source": [
    "In the case where $[H_a^{(0,1)},H_b^{(1,2)}]\\ne\\mathbb{O}$, one cannot simply write the evolution operator $\\hat{U}$ as a product of evolution operators, therefore, another method must be adopted. There are several techniques to approximate a time Unitary evolution $\\hat{U}=e^{-i\\hat{H}t/\\hbar}$ into gate operations for quantum simulation, to name a few:\n",
    "\n",
    "1. Trotter-Susuki formula.\n",
    "2. Randomized evolution (Qdrift, density matrix exponentiation).\n",
    "3. Linear combination of unitaries.\n",
    "4. Quantum Walks (Qubitization).\n",
    "\n"
   ]
  },
  {
   "cell_type": "markdown",
   "metadata": {
    "id": "EpjxZsj5JG0n"
   },
   "source": [
    "The Trotter-Susuki formula is defined as (setting $\\hbar\\equiv1$):\n",
    "\n",
    "\\begin{align}\n",
    "U_{Trotter}(t) = e^{-it\\Big(\\hat{H}_a + \\hat{H}_b\\Big)} \\equiv \\lim_{N\\rightarrow\\infty}\\Big(e^{-it \\hat{H}_a/N}e^{-it \\hat{H}_b /N}\\Big)^{N}.\n",
    "\\end{align}\n",
    "\n",
    "Advantages of using Trotterization:\n",
    "\n",
    "- The algorithm is ancilla-free.\n",
    "\n",
    "- It leverages the commutative property of the component Hamiltonians to achieve efficient simulation.\n",
    "\n",
    "- It preserves the locality property of some unidimensional systems with nearest neighbor interactions enabling quantum simulation speed up.\n",
    "\n",
    "\n",
    "\n",
    "\n",
    "\n"
   ]
  },
  {
   "cell_type": "markdown",
   "metadata": {
    "id": "kLp8owufy9W2"
   },
   "source": [
    "The outline of the Trotterization algorithm a.k.a as product-formula method or splitting method is as follows:\n",
    "\n",
    "**1.** Write the Hamiltonian operator $\\hat{H}$ of the system of interest in the form:\n",
    "\n",
    "\\begin{eqnarray}\n",
    "\\hat{H}= \\sum_{\\gamma=1}^{\\Gamma} \\hat{H}_{\\gamma},\n",
    "\\end{eqnarray}\n",
    "where $\\hat{H}_{\\gamma}$ is itself a Hermitian operator.\n",
    "\n",
    "**2.** Write the unitary evolution operator $U$ in terms of product of exponentials using the first-order Lie-Trotter formula defined as:\n",
    "\n",
    "\\begin{eqnarray}\n",
    "\\mathcal{L}_1(t) = e^{-it \\hat{H}_{1}} \\cdots e^{-it \\hat{H}_{\\Gamma}} = e^{-it \\hat{H}} + O(t^2),\n",
    "\\end{eqnarray}\n",
    "where $O(t^2)$ is the trotter error.\n",
    "\n",
    "**3.** Perform $e^{-it\\hat{H}}$ up to some error $\\epsilon$ according to the spectral norm:\n",
    "\n",
    "\\begin{eqnarray}\n",
    "||\\hat{U}-e^{-it\\hat{H}}|| \\leq \\epsilon.\n",
    "\\end{eqnarray}\n",
    "\n",
    "**4.** Define the total cost of the simulation as:\n",
    "\\begin{eqnarray}\n",
    "\\text{total cost} = \\text{no. of steps } \\times \\text{ cost}/\\text{step}.\n",
    "\\end{eqnarray}\n",
    "\n",
    "In step 3, each exponential in the evolution operator $U_{\\text{Heis3}}(t)$ is transpiled into a quantum gate."
   ]
  },
  {
   "cell_type": "markdown",
   "metadata": {
    "id": "yWzvruE81BCk"
   },
   "source": [
    "# Decomposition of $U_{\\text{Heis3}}(t)$ using Trotterization<a name=\"decomp\" />  "
   ]
  },
  {
   "cell_type": "markdown",
   "metadata": {
    "id": "TtVnI-ZryyRZ"
   },
   "source": [
    "Consider the following decomposition for the Hamiltonian $H_{heis3}$:\n",
    "\n",
    "\\begin{align}\n",
    "H_{heis3} = H_a^{(0,1)} + H_b^{(1,2)},\n",
    "\\end{align}\n",
    "where\n",
    "\\begin{align}\n",
    "H_a^{(0,1)}  =\\big(X^{(0)} \\otimes X^{(1)} + Y^{(0)}\\otimes Y^{(1)} + Z^{(0)}\\otimes Z^{(1)}\\big)\\otimes I^{(2)}, \\\\\n",
    "H_b^{(1,2)} =I^{(0)}\\otimes \\big(X^{(1)}\\otimes X^{(2)} +  Y^{(1)}\\otimes Y^{(2)} +  Z^{(1)}\\otimes Z^{(2)}\\big),\n",
    "\\end{align}\n",
    "\n",
    "We note that the pair of operators in the exponential of $U_{Trotter}(t)$ commute, i.e,\n",
    "\n",
    "$$[X\\otimes X,Y\\otimes Y] = [X\\otimes X,Z\\otimes Z] = [Y\\otimes Y,Z\\otimes Z] =\\mathbb{O}.$$\n",
    "\n",
    "One can verify this is true, as follows ($j\\ne k$):\n",
    "\n",
    "\\begin{eqnarray}\n",
    "[\\sigma_{j}\\otimes\\sigma_{j},\\sigma_{k}\\otimes\\sigma_{k}] & = (\\sigma_{j}\\otimes\\sigma_{j}) \\cdot (\\sigma_{k}\\otimes\\sigma_{k}) - (\\sigma_{k}\\otimes\\sigma_{k}) \\cdot (\\sigma_{j}\\otimes\\sigma_{j}),\n",
    "\\end{eqnarray}\n",
    "\n",
    "using $(A\\otimes B)\\cdot(C\\otimes D)=AC\\otimes BD$, one then has\n",
    "\n",
    "\\begin{eqnarray}\n",
    "[\\sigma_{j}\\otimes\\sigma_{j},\\sigma_{k}\\otimes\\sigma_{k}]=\\sigma_{j}\\sigma_{k}\\otimes\\sigma_{j}\\sigma_{k} - \\sigma_{k}\\sigma_{j}\\otimes\\sigma_{k}\\sigma_{j} \n",
    "\\end{eqnarray}\n",
    "\n",
    "and given the $\\mathfrak{su}(2)$ Lie algebra $\\sigma_{j}\\sigma_{k} = \\sigma_{0}\\delta_{jk}+i\\epsilon_{jkl}\\sigma_{l}$, it becomes\n",
    "\n",
    "\\begin{eqnarray}\n",
    "[\\sigma_{j}\\otimes\\sigma_{j},\\sigma_{k}\\otimes\\sigma_{k}]&=& i\\epsilon_{jkl}\\sigma_{l}\\otimes i\\epsilon_{jkl}\\sigma_{l} -i\\epsilon_{kjl}\\sigma_{l}\\otimes i\\epsilon_{kjl}\\sigma_{l} \\\\\n",
    "&=& i^{2}\\epsilon_{jkl}^{2}\\sigma_{l}\\otimes\\sigma_{l} -i^{2}\\epsilon_{kjl}^{2}\\sigma_{l}\\otimes \\sigma_{l} \\\\\n",
    "&=& i^{2}\\epsilon_{jkl}^{2}\\sigma_{l}\\otimes\\sigma_{l} -i^{2}(-\\epsilon_{jkl})^{2}\\sigma_{l}\\otimes \\sigma_{l} \\\\\n",
    "&=& \\mathbb{O}.\n",
    "\\end{eqnarray}\n"
   ]
  },
  {
   "cell_type": "markdown",
   "metadata": {
    "id": "tQtPm3-V4RYl"
   },
   "source": [
    "With the above result in hands, the exponential $e^{-itH_a^{01}} $ can be written in the form:\n",
    "\n",
    "\\begin{eqnarray}\n",
    "e^{-itH_a^{01}} &=& e^{-it(X\\otimes X+ Y\\otimes Y + Z\\otimes Z)\\otimes I} \\\\ \n",
    "&=& e^{-it(X\\otimes X\\otimes I + Y\\otimes Y\\otimes I + Z\\otimes Z\\otimes I)} \\\\\n",
    "&=& e^{-itX\\otimes X\\otimes I}e^{-itY\\otimes Y\\otimes I}e^{-itZ\\otimes Z\\otimes I},\n",
    "\\end{eqnarray}\n",
    "\n",
    "which after using $e^{A\\otimes I} = e^{A}\\otimes I$, one gets\n",
    "\n",
    "\\begin{eqnarray}\n",
    "e^{-itH_a^{01}}&=& \\Big(e^{-itX\\otimes X}\\otimes I\\Big)\\Big(e^{-itY\\otimes Y}\\otimes I\\Big)\\Big(e^{-itZ\\otimes Z}\\otimes I\\Big), \\\\\n",
    "&=& \\Big(e^{-itX\\otimes X}\\Big)\\Big(e^{-itY\\otimes Y}\\Big)\\Big(e^{-itZ\\otimes Z}\\Big)\\otimes I.\n",
    "\\end{eqnarray}\n",
    "\n",
    "And equivalenty for $e^{-itH_b^{12}}$:\n",
    "\n",
    "\\begin{eqnarray}\n",
    "e^{-itH_b^{12}} &= I\\otimes\\Big( e^{-itX\\otimes X}\\Big)\\Big( e^{-itY\\otimes Y}\\Big)\\Big( e^{-itZ\\otimes Z}\\Big).\n",
    "\\end{eqnarray}\n",
    "\n",
    "The unitary evolution operator for the decomposition of $H_{heis3}$ according to the Trotter-Suzuki fomula thus becomes:\n",
    "\n",
    "\\begin{eqnarray}\n",
    "U_{\\text{Heis3}}(t) &=& e^{-itH_{heis3}} = e^{-it\\Big(H_a^{(0,1)} + H_b^{(1,2)}\\Big)} =  \\lim_{N\\rightarrow\\infty}\\Big(e^{-it H_a^{(0,1)}/N}e^{-it H_b^{(1,2)} /N}\\Big)^{N}\\\\\n",
    "&=& \\lim_{N\\rightarrow\\infty}\\left(\\Big(e^{-it X^0\\otimes X^1/N}e^{-it Y^0\\otimes Y^1/N}e^{-it Z^0\\otimes Z^1/N}\\otimes I\\Big)\\Big(I\\otimes e^{-it X^1\\otimes X^2/N}e^{-it Y^1\\otimes Y^2/N}e^{-it Z^1 \\otimes Z^2/N}\\Big)\\right)^{N}.\n",
    "\\end{eqnarray}\n",
    "\n",
    "Making the definitions\n",
    "\n",
    "\\begin{eqnarray}\n",
    "XX(2t)^{(j,k)}\\equiv e^{-it X^j \\otimes X^k}, \\\\\n",
    "YY(2t)^{(j,k)}\\equiv e^{-it Y^j \\otimes Y^k}, \\\\\n",
    "ZZ(2t)^{(j,k)}\\equiv e^{-it Z^j \\otimes Z^k},\n",
    "\\end{eqnarray}\n",
    "\n",
    "one then has:\n",
    "\n",
    "\\begin{eqnarray}\n",
    "U_{\\text{Heis3}}(t) = \\lim_{N\\rightarrow\\infty}\\Big[\\Big(XX(2t/N)^{(0,1)}YY(2t/N)^{(0,1)}ZZ(2t/N)^{(0,1)}\\otimes I\\Big)\\Big(I\\otimes XX(2t/N)^{(1,2)}YY(2t/N)^{(1,2)}ZZ(2t/N)^{(1,2)}\\Big)\\Big]^{N}.\n",
    "\\end{eqnarray}"
   ]
  },
  {
   "cell_type": "markdown",
   "metadata": {
    "id": "t0W4pvCvy8tw"
   },
   "source": [
    "# Transpilation of $U_{\\text{Heis3}}(t)$ Into Quantum Gates<a name=\"transp\" />  "
   ]
  },
  {
   "cell_type": "markdown",
   "metadata": {
    "id": "3Xr2ISP1rbzp"
   },
   "source": [
    "To build quantum circuits corresponding to unitary evolution operators from exponentials of the form $U=e^{-i\\hat{H}\\Delta t}$, one can use the parity trick (see Ref. [1], Sec. 4.7.3). In the next sections, the provided quantum circuits are verified."
   ]
  },
  {
   "cell_type": "markdown",
   "metadata": {
    "id": "X28dU-KCrbzp"
   },
   "source": [
    "For a Hamiltonian of the form $\\hat{H}=\\sum_j^N \\hat{H}_j = \\sum_j^N \\lambda P_j \\otimes P_j$, with Pauli operators $P_j \\in \\{X, Y, Z\\}$ and constant $\\lambda$, transpilation into quantum gates of each one of the components can be achieved with the following steps:\n",
    "\n",
    "**1) Diagonalize the component Hamiltonian $\\hat{H}_j=\\lambda P_j \\otimes P_j$ in the computational basis:**\n",
    "\n",
    "$$ \\lambda (R_P\\otimes R_P) (Z\\otimes Z) (R_P\\otimes R_P),$$ \n",
    "\n",
    "where $R_P \\in \\{R_x, R_y, R_z \\}$ is a local rotation (one-qubit gate) around the $P$-axis.\n",
    "\n",
    "**2) Compute the parity information (phase shift) in the basis $|ij\\rangle$ (usually implemented with CNOT gates):**\n",
    "\n",
    "$$(P \\otimes P)|ij\\rangle = (-1)^{i \\oplus j }|ij\\rangle,$$ \n",
    "\n",
    "where $\\oplus$ denotes the exclusive-OR symbol that represents the \"direct sum\" in mathematics and the parity in quantum mechanics.\n",
    "\n",
    "**3) Compute the gate that kicks back the right parity (phase) information:**\n",
    "\n",
    "$$e^{-i\\lambda(-1)^{i\\oplus j}\\: Zt}.$$\n",
    "\n",
    "**4) Uncompute the parity information. This is done by applying the Hermitian conjugate of the gate used to compute the parity.**"
   ]
  },
  {
   "cell_type": "markdown",
   "metadata": {
    "id": "SM8y11x3-J1m"
   },
   "source": [
    "## The $e^{-itZZ}$ gate"
   ]
  },
  {
   "cell_type": "markdown",
   "metadata": {
    "id": "StBSa_8gAHe3"
   },
   "source": [
    "The $e^{-itZZ}$ gate (a.k.a [RZZ](https://qiskit.org/documentation/stubs/qiskit.circuit.library.RZZGate.html)) has the following representation:\n",
    "\n",
    "\\begin{equation}\n",
    "R_{zz}(2t)= \\exp(-it Z\\otimes Z)=cos\\left(t\\right)(I_2\\otimes I_2)-sin\\left(t\\right)(Z\\otimes Z).\n",
    "\\end{equation}"
   ]
  },
  {
   "cell_type": "markdown",
   "metadata": {
    "id": "dEgaR4z2DmrO"
   },
   "source": [
    "IBM supplementary material provides the following quantum circuit for the $e^{-itZZ}$ gate:"
   ]
  },
  {
   "cell_type": "code",
   "execution_count": 28,
   "metadata": {
    "colab": {
     "base_uri": "https://localhost:8080/",
     "height": 94
    },
    "executionInfo": {
     "elapsed": 8,
     "status": "ok",
     "timestamp": 1654398109769,
     "user": {
      "displayName": "Lucas Camponogara Viera",
      "userId": "14322290658374940800"
     },
     "user_tz": -480
    },
    "id": "7pUykyDoAjYs",
    "outputId": "dcfe8070-b866-47c8-ed9f-6d0e3abd22b2"
   },
   "outputs": [
    {
     "data": {
      "text/html": [
       "<pre style=\"word-wrap: normal;white-space: pre;background: #fff0;line-height: 1.1;font-family: &quot;Courier New&quot;,Courier,monospace\">                          \n",
       "q_0: ──■───────────────■──\n",
       "     ┌─┴─┐┌─────────┐┌─┴─┐\n",
       "q_1: ┤ X ├┤ Rz(2*t) ├┤ X ├\n",
       "     └───┘└─────────┘└───┘</pre>"
      ],
      "text/plain": [
       "                          \n",
       "q_0: ──■───────────────■──\n",
       "     ┌─┴─┐┌─────────┐┌─┴─┐\n",
       "q_1: ┤ X ├┤ Rz(2*t) ├┤ X ├\n",
       "     └───┘└─────────┘└───┘"
      ]
     },
     "execution_count": 28,
     "metadata": {},
     "output_type": "execute_result"
    }
   ],
   "source": [
    "# e^{(-itZZ)}\n",
    "\n",
    "'''\n",
    "from qiskit import QuantumCircuit\n",
    "from qiskit.circuit import Parameter\n",
    "'''\n",
    "\n",
    "t = Parameter('t')\n",
    "qc = QuantumCircuit(2)\n",
    "qc.cnot(0,1)\n",
    "qc.rz(2 * t, 1)\n",
    "qc.cnot(0,1)\n",
    "#qc.draw(output='mpl') # Requires 'pip install pylatexenc' library to use 'MatplotlibDrawer'.\n",
    "qc.draw()"
   ]
  },
  {
   "cell_type": "markdown",
   "metadata": {
    "id": "E_yeisK3rbzq"
   },
   "source": [
    "The above circuit can be obtained using the parity trick, where the first CNOT gate computes the parity, and the second CNOT gate uncomputes the operation, since the CNOT gate is an Hermitian operator ($\\text{CNOT} \\cdot \\text{CNOT}^{\\dagger} = I$)."
   ]
  },
  {
   "cell_type": "markdown",
   "metadata": {
    "id": "E4p8FcXo-IBY"
   },
   "source": [
    "**Verification:**\n",
    "\n",
    "**1)** This gate is already diagonalized in the Z-basis. \n",
    "\n",
    "**2)** One should check the parity information by computing the action of the $ZZ$ operator:\n",
    "\n",
    "\\begin{eqnarray}\n",
    "ZZ|00\\rangle &=& |00\\rangle, \\\\\n",
    "ZZ|10\\rangle &=& -|10\\rangle, \\\\\n",
    "ZZ|01\\rangle &=& -|01\\rangle, \\\\\n",
    "ZZ|11\\rangle &=& |11\\rangle. \\\\\n",
    "\\end{eqnarray}\n",
    "\n",
    "One can see that a minus sign (phase) is introduced whenever the basis state has odd parity (01 or 10). Therefore, a phase shift will be applied to the system according to $e^{i\\Delta t}$ if the parity of the $n$ qubits in the computational basis is odd, otherwise, the phase shift will be $e^{-i\\Delta t}$ if the parity is even (see Ref. [1], Sec. 4.7.3).\n",
    "\n",
    "**3)** One should recall that $RZ(2t) = e^{-itZ}$ (see Section \"Gate Algebra and Circuit Implementation\" of this supplementary material). \n",
    "\n",
    "**Implementing CNOTs and the $RZ(2t)$ gate for the parity computation circuit from steps 2) to 4):**\n",
    "\n",
    "\\begin{eqnarray}\n",
    "CX^{01}\\big(I\\otimes RZ(2t)\\big)CX^{01} =\n",
    "CX^{01}\\big(I\\otimes e^{-itZ}\\big)CX^{01}\\\\ \n",
    "\\end{eqnarray}\n",
    "\n",
    "From the aforementioned chapter, using the equation for a generic CU gate one can write $CX^{01} = I\\otimes |0\\rangle\\langle 0\\rangle + X \\otimes |1 \\rangle \\langle 1|$. However, in textbook convention this gate reads $CX^{01}=|0\\rangle\\langle 0|\\otimes I +|1\\rangle\\langle 1|\\otimes X$. One then has:\n",
    "\n",
    "\\begin{eqnarray}\n",
    "CX^{01}\\big(I\\otimes e^{-itZ}\\big)CX^{01}=(|0\\rangle\\langle 0|\\otimes I +|1\\rangle\\langle 1|\\otimes X)\\big(I\\otimes e^{-itZ}\\big)\\big(|0\\rangle\\langle 0|\\otimes I +|1\\rangle\\langle 1|\\otimes X \\big).\n",
    "\\end{eqnarray}\n",
    "\n",
    "From here, one should note that since each term between a tensor product is a matrix, the distributivity property for matrix product with respect to matrix addition yelds:\n",
    "\n",
    "$$\\big(I\\otimes e^{-itZ}\\big)\\big(|0\\rangle\\langle 0|\\otimes I +|1\\rangle\\langle 1|\\otimes X \\big) = \\big(I\\otimes e^{-itZ}\\big) \\big(|0\\rangle\\langle 0|\\otimes I\\big) + \\big(I\\otimes e^{-itZ}\\big)\\big(|1\\rangle\\langle 1|\\otimes X \\big),$$\n",
    "\n",
    "Using $(A\\otimes B)\\cdot(C\\otimes D)=A\\cdot C\\otimes B\\cdot D$, the last term becomes:\n",
    "\n",
    "$$\\big(I \\cdot |0\\rangle\\langle 0|\\otimes e^{-itZ} + I \\cdot |1\\rangle\\langle 1|\\otimes e^{-itZ}X \\big) = \\big(|0\\rangle\\langle 0|\\otimes e^{-itZ} + |1\\rangle\\langle 1|\\otimes e^{-itZ}X \\big) .$$ \n",
    "\n",
    "The final steps carry on as follows:\n",
    "\n",
    "\\begin{eqnarray}\n",
    "CX^{01}\\big(I\\otimes e^{-itZ}\\big)CX^{01} &=& \\big(|0\\rangle\\langle 0|\\otimes I +|1\\rangle\\langle 1|\\otimes X \\big)\\big(|0\\rangle\\langle 0|\\otimes e^{-itZ} +|1\\rangle\\langle 1|\\otimes e^{-itZ}X \\big) \\\\\n",
    "&=& |0\\rangle\\langle 0|\\otimes e^{-itZ} +|1\\rangle\\langle 1|\\otimes Xe^{-itZ}X \\\\ \n",
    "&=& |0\\rangle\\langle 0|\\otimes \\big(e^{-it}|0\\rangle\\langle 0|+e^{it}|1\\rangle\\langle 1|\\big) +|1\\rangle\\langle 1|\\otimes X \\big(e^{-it}|0\\rangle\\langle 0|+e^{it}|1\\rangle\\langle 1|\\big)X,\n",
    "\\end{eqnarray}\n",
    "\n",
    "and noting the operation $X|0\\rangle = |1\\rangle$, one finally gets:\n",
    "\n",
    "\\begin{eqnarray}\n",
    "CX^{01}\\big(I\\otimes e^{-itZ}\\big)CX^{01}&=& |0\\rangle\\langle 0|\\otimes \\big(e^{-it}|0\\rangle\\langle 0|+e^{it}|1\\rangle\\langle 1|\\big) +|1\\rangle\\langle 1|\\otimes \\big(e^{-it}|1\\rangle\\langle 1|+e^{it}|0\\rangle\\langle 0|\\big) \\\\\n",
    "&=& e^{-it}|00\\rangle\\langle 00| + e^{it}|01\\rangle\\langle 01| + e^{-it}|11\\rangle\\langle 11| + e^{it}|10\\rangle\\langle 10| \\\\\n",
    "&=& e^{-itZZ}.\n",
    "\\end{eqnarray}\n"
   ]
  },
  {
   "cell_type": "markdown",
   "metadata": {
    "id": "oPXl4jCU-SrS"
   },
   "source": [
    "## The $e^{-itXX}$ gate"
   ]
  },
  {
   "cell_type": "markdown",
   "metadata": {
    "id": "5mLJIk2lD6c3"
   },
   "source": [
    "IBM supplementary material provides the following quantum circuit for $e^{-itXX}$:"
   ]
  },
  {
   "cell_type": "code",
   "execution_count": 29,
   "metadata": {
    "colab": {
     "base_uri": "https://localhost:8080/",
     "height": 0
    },
    "executionInfo": {
     "elapsed": 9,
     "status": "ok",
     "timestamp": 1654398109770,
     "user": {
      "displayName": "Lucas Camponogara Viera",
      "userId": "14322290658374940800"
     },
     "user_tz": -480
    },
    "id": "FMY8BYH_BS_c",
    "outputId": "96740e19-ad06-49d9-f597-550dd927921c"
   },
   "outputs": [
    {
     "data": {
      "text/html": [
       "<pre style=\"word-wrap: normal;white-space: pre;background: #fff0;line-height: 1.1;font-family: &quot;Courier New&quot;,Courier,monospace\">     ┌─────────┐                     ┌──────────┐\n",
       "q_0: ┤ Ry(π/2) ├──■───────────────■──┤ Ry(-π/2) ├\n",
       "     ├─────────┤┌─┴─┐┌─────────┐┌─┴─┐├──────────┤\n",
       "q_1: ┤ Ry(π/2) ├┤ X ├┤ Rz(2*t) ├┤ X ├┤ Ry(-π/2) ├\n",
       "     └─────────┘└───┘└─────────┘└───┘└──────────┘</pre>"
      ],
      "text/plain": [
       "     ┌─────────┐                     ┌──────────┐\n",
       "q_0: ┤ Ry(π/2) ├──■───────────────■──┤ Ry(-π/2) ├\n",
       "     ├─────────┤┌─┴─┐┌─────────┐┌─┴─┐├──────────┤\n",
       "q_1: ┤ Ry(π/2) ├┤ X ├┤ Rz(2*t) ├┤ X ├┤ Ry(-π/2) ├\n",
       "     └─────────┘└───┘└─────────┘└───┘└──────────┘"
      ]
     },
     "execution_count": 29,
     "metadata": {},
     "output_type": "execute_result"
    }
   ],
   "source": [
    "# e^{(-itXX)}\n",
    "\n",
    "'''\n",
    "from qiskit import QuantumCircuit\n",
    "from qiskit.circuit import Parameter\n",
    "'''\n",
    "\n",
    "t = Parameter('t')\n",
    "qc = QuantumCircuit(2)\n",
    "qc.ry(np.pi/2,[0,1])\n",
    "qc.cnot(0,1)\n",
    "qc.rz(2 * t, 1)\n",
    "qc.cnot(0,1)\n",
    "qc.ry(-np.pi/2,[0,1])\n",
    "\n",
    "qc.draw()"
   ]
  },
  {
   "cell_type": "markdown",
   "metadata": {
    "id": "8k--Wn8Krbzs"
   },
   "source": [
    "The above circuit can be obtained using the parity trick and applying a change of basis between Pauli $X$ and $Z$ bases with the Hadamard gate. Since the exponential is not diagonalized in the computational basis (Z-basis), the first pair of Hadamard gates are used to do a basis change (rotation) to the $X$-basis, while the second pair of Hadamard gates change the basis from $X$ back to $Z$ because measurements are made in the Z-basis. The middle circuit then computes the parity."
   ]
  },
  {
   "cell_type": "markdown",
   "metadata": {
    "id": "kfj_F29DCB2Y"
   },
   "source": [
    "From the fact that \n",
    "\n",
    "$$H|0\\rangle = R_y(\\pi/2)|0\\rangle = |+\\rangle = \\frac{1}{\\sqrt{2}}(|0\\rangle+|1\\rangle),$$ \n",
    "\n",
    "and \n",
    "\n",
    "$$H|1\\rangle = R_y(-\\pi/2)|0\\rangle = |-\\rangle = \\frac{1}{\\sqrt{2}}(|0\\rangle-|1\\rangle),$$ \n",
    "\n",
    "one equivalent quantum circuit is:"
   ]
  },
  {
   "cell_type": "code",
   "execution_count": 30,
   "metadata": {
    "colab": {
     "base_uri": "https://localhost:8080/",
     "height": 0
    },
    "executionInfo": {
     "elapsed": 8,
     "status": "ok",
     "timestamp": 1654398109770,
     "user": {
      "displayName": "Lucas Camponogara Viera",
      "userId": "14322290658374940800"
     },
     "user_tz": -480
    },
    "id": "21rPcyejCEhf",
    "outputId": "19051500-3863-452f-8b70-91335a4bf27b"
   },
   "outputs": [
    {
     "data": {
      "text/html": [
       "<pre style=\"word-wrap: normal;white-space: pre;background: #fff0;line-height: 1.1;font-family: &quot;Courier New&quot;,Courier,monospace\">     ┌───┐                     ┌───┐\n",
       "q_0: ┤ H ├──■───────────────■──┤ H ├\n",
       "     ├───┤┌─┴─┐┌─────────┐┌─┴─┐├───┤\n",
       "q_1: ┤ H ├┤ X ├┤ Rz(2*t) ├┤ X ├┤ H ├\n",
       "     └───┘└───┘└─────────┘└───┘└───┘</pre>"
      ],
      "text/plain": [
       "     ┌───┐                     ┌───┐\n",
       "q_0: ┤ H ├──■───────────────■──┤ H ├\n",
       "     ├───┤┌─┴─┐┌─────────┐┌─┴─┐├───┤\n",
       "q_1: ┤ H ├┤ X ├┤ Rz(2*t) ├┤ X ├┤ H ├\n",
       "     └───┘└───┘└─────────┘└───┘└───┘"
      ]
     },
     "execution_count": 30,
     "metadata": {},
     "output_type": "execute_result"
    }
   ],
   "source": [
    "# Equivalent circuit:\n",
    "\n",
    "qc = QuantumCircuit(2)\n",
    "qc.h([0,1])\n",
    "qc.cx(0, 1)\n",
    "qc.rz(2 * t, 1)\n",
    "qc.cx(0, 1)\n",
    "qc.h([0,1])\n",
    "qc.draw()"
   ]
  },
  {
   "cell_type": "markdown",
   "metadata": {
    "id": "zENoZYv6ZSKl"
   },
   "source": [
    "**Verification:**\n",
    "\n"
   ]
  },
  {
   "cell_type": "markdown",
   "metadata": {
    "id": "nz6ldz_j1sYc"
   },
   "source": [
    "One should note that $e^{-itXX}$ is shorthand for $e^{-itX \\otimes X}.$ Also, recall from the spectral decomposition theorem for Normal matrices that any Normal operator $\\hat{O}$ in a Hilbert space $\\mathcal{H}$ of dimension $\\dim \\mathcal{H} =d$ is unitarily diagonalizable and has a spectral (eigenvalue) decomposition in terms of the outer product representation, and in the basis of its eigenvectors, of the form:\n",
    "\n",
    "$$ \\hat{O} = \\sum_{j=1}^{d}= o_j P_{o_j} = \\sum_{j=1}^{d} o_j |o_j \\rangle \\langle o_j|. \\tag{1} $$\n",
    "\n",
    "Where:\n",
    "\n",
    "- $o_j$ and $P_{o_j}$ are the corresponding eigenvalue and projector operator of the observable $\\hat{O}$, respectively. \n",
    "\n",
    "- $\\{o_j\\}|_{j=1}^d$ is a basis set of $d$ linearly independent orthonormal eigenvectors $|o_j\\rangle$ of $\\hat{O}$ with eigenvalue $o_j$.\n",
    "\n",
    "To see this is true, note that:\n",
    "\n",
    "$$ \\Bigg( \\sum_{j=1}^{d} o_j |o_j \\rangle \\langle o_j| \\Bigg) |o_k \\rangle =  \\sum_{j=1}^{d} o_j |o_j \\rangle \\delta_{jk}= o_k |o_k \\rangle = \\hat{O} |o_k \\rangle.$$\n",
    "\n",
    "Moving on... Since Pauli operators are all involutory operators, i.e, their eigenvalues are $o_j = \\pm 1$, one then has \n",
    "\n",
    "$$X = \\sum_{j=1}^{d} x_j |x_j \\rangle \\langle x_j| = |+\\rangle\\langle +|-|-\\rangle\\langle -|. \\tag{2}$$\n",
    "\n",
    "Where $$ |\\pm\\rangle \\equiv \\frac{1}{\\sqrt{2}}(|0\\rangle\\pm|1\\rangle) \\tag{3} $$ \n",
    "\n",
    "denotes the two orthonormal eigenstates (eigenvectors) of the Pauli $X$-gate according to:\n",
    "\n",
    "$$X |+\\rangle = \\frac{1}{\\sqrt{2}}(X|0\\rangle+X|1\\rangle)=\\frac{1}{\\sqrt{2}}(|1\\rangle+|0\\rangle)=|+\\rangle, \\tag{4}$$\n",
    "$$X |-\\rangle = \\frac{1}{\\sqrt{2}}(X|0\\rangle-X|1\\rangle) =\\frac{1}{\\sqrt{2}}(|1\\rangle-|0\\rangle)=-|-\\rangle. \\tag{5}$$\n",
    "\n",
    "With that, one has:\n",
    "\n",
    "\\begin{eqnarray}\n",
    "XX &\\equiv& X\\otimes X = (|+\\rangle\\langle +|-|-\\rangle\\langle -|)\\otimes(|+\\rangle\\langle +|-|-\\rangle\\langle -|) \\tag{6}\\\\\n",
    "&=& (|+\\rangle\\langle +|) \\otimes (|+\\rangle\\langle +|) - (|+\\rangle\\langle +|) \\otimes (|-\\rangle\\langle -|) - (|-\\rangle\\langle -|)\\otimes (|+\\rangle\\langle +|) + (|-\\rangle\\langle -|) \\otimes (|-\\rangle\\langle -|) \\tag{7} \\\\\n",
    "&=& (|++\\rangle\\langle ++|)+(|--\\rangle\\langle --|)-(|+-\\rangle\\langle +-|)+(|-+\\rangle\\langle -+|) \\tag{8} \\\\\n",
    "&\\implies & e^{-itX \\otimes X} = e^{-it}\\bigg(|++\\rangle\\langle ++|+|--\\rangle\\langle --|\\bigg)+e^{it}\\bigg(|+-\\rangle\\langle +-|+|-+\\rangle\\langle -+|\\bigg) \\tag{9}.\n",
    "\\end{eqnarray}\n",
    "\n",
    "- Eq. (7) was obtained from Eq. (6) using the distributive property:\n",
    "\n",
    "$$(|a\\rangle + |b\\rangle)\\otimes(|c\\rangle + |d\\rangle)=|a\\rangle \\otimes |c\\rangle + |a\\rangle \\otimes |d\\rangle + |b\\rangle \\otimes |c\\rangle + |b\\rangle \\otimes |d\\rangle. \\tag{10}$$\n",
    "\n",
    "- Eq. (8) was obtained from Eq. (7) using $(A\\otimes B)(C\\otimes D)=AC\\otimes BD$, or equivalently:\n",
    "\n",
    "$$|a\\rangle \\langle c| \\otimes |b\\rangle \\langle d|  = (|a\\rangle \\otimes |b\\rangle)(\\langle c| \\otimes \\langle d|) \\doteq |ab\\rangle\\langle cd|. \\tag{11}$$\n",
    "\n",
    "- Eq. (9) is left as an exercise (see the next cell for a motivation).\n",
    "\n",
    "Applying a Hadamard gate to change between the $X$ and $Z$ bases ($H|0\\rangle = R_y(\\pi/2)|0\\rangle = |+\\rangle$ and $H|1\\rangle = R_y(-\\pi/2)|0\\rangle = |-\\rangle$), yields\n",
    "\n",
    "\\begin{eqnarray}\n",
    "e^{-itX \\otimes X} &=& e^{-it}\\left[(H\\otimes H)|00\\rangle\\langle 00|(H\\otimes H)+(H\\otimes H)|11\\rangle\\langle 11|(H\\otimes H)\\right]+e^{it}\\left[(H\\otimes H)|01\\rangle\\langle 01|(H\\otimes H)+(H\\otimes H)|10\\rangle\\langle 10|(H\\otimes H)\\right] \\tag{12}\\\\\n",
    "& =& (H\\otimes H)\\left[e^{-it}(|00\\rangle\\langle 00|+|11\\rangle\\langle 11|)+e^{it}(|01\\rangle\\langle 01|+|10\\rangle\\langle 10|)\\right](H\\otimes H) \\tag{13}\\\\\n",
    "& =& (H\\otimes H)e^{-itZ\\otimes Z}(H\\otimes H) \\tag{14}\\\\\n",
    "& =& (H\\otimes H)C_{x}^{01}\\big(I\\otimes e^{-itZ}\\big)C_{x}^{01}(H\\otimes H) \\tag{15}\\\\\n",
    "&  =& (H\\otimes H)C_{x}^{01}\\big(I\\otimes RZ(2t)\\big)C_{x}^{01}(H\\otimes H). \\tag{16}\n",
    "\\end{eqnarray}"
   ]
  },
  {
   "cell_type": "markdown",
   "metadata": {
    "id": "hHQ6YjE5y_Z-"
   },
   "source": [
    "**Note**: *some steps have been omitted. I encourage the reader to verify them.*\n",
    "\n",
    "Specifically, show that:\n",
    "\n",
    "\\begin{eqnarray}\n",
    "(|a\\rangle + |b\\rangle)\\otimes(|c\\rangle + |d\\rangle)&=&|a\\rangle \\otimes |c\\rangle + |a\\rangle \\otimes |d\\rangle + |b\\rangle \\otimes |c\\rangle + |b\\rangle \\otimes |d\\rangle, \\tag{17} \\\\\n",
    "(|a\\rangle \\langle c|) \\otimes (|b\\rangle \\langle d|)  &=& \\big(|a\\rangle \\otimes |b\\rangle\\big)\\big(\\langle c| \\otimes \\langle d|\\big), \\tag{18}\\\\\n",
    "|++\\rangle\\langle ++|&=&(H\\otimes H)|00\\rangle\\langle 00|(H\\otimes H), \\tag{19}\\\\\n",
    "|--\\rangle\\langle --|&=&(H\\otimes H)|11\\rangle\\langle 11|(H\\otimes H), \\tag{20}\\\\\n",
    "|+-\\rangle\\langle +-|&=&(H\\otimes H)|01\\rangle\\langle 01|(H\\otimes H), \\tag{21}\\\\\n",
    "|-+\\rangle\\langle -+|&=&(H\\otimes H)|10\\rangle\\langle 10|(H\\otimes H), \\tag{22}\\\\\n",
    "e^{-itZ\\otimes Z} &=& C_{x}^{01}\\big(I\\otimes e^{-itZ}\\big)C_{x}^{01}, \\tag{23}\\\\\n",
    "e^{-itZ} &=& RZ(2t) \\tag{24}.\n",
    "\\end{eqnarray}\n",
    "\n",
    "You can open a pool request to share your contribution. \n",
    "\n",
    "\n",
    "**Motivation:** To demonstrate Eq. (9), one should recall that if $\\hat{O}$ is a Hermitian or Unitary operator then it is also a Normal operator and, therefore, has a spectral decomposition in terms of the outer product representation in the form $\\hat{O} = \\sum_j o_j|o_j\\rangle \\langle o_j|$ according to the spectral decomposition theorem for Normal matrices. In this case, it is possible to write the operator function (matrix function) on a normal matrix as:\n",
    "\n",
    "$$f(\\hat{O})= \\sum_j f(o_j) |o_j\\rangle \\langle o_j|,$$\n",
    "\n",
    "which is equivalent to (writing $\\hat{O} = UDU^{\\dagger}$)\n",
    "\n",
    "\\begin{eqnarray}\n",
    "f(\\hat{O}) = Uf(D)U^{\\dagger}.\n",
    "\\end{eqnarray}\n",
    "\n",
    "\n",
    "For the exponential function over the field of the complex numbers, it becomes:\n",
    "\n",
    "$$ e^{i\\theta\\hat{O}} = \\sum_{j=1}^n e^{i\\theta o_j} |o_j\\rangle \\langle o_j| = e^{i\\theta o_1} |o_{1}\\rangle \\langle o_{1}| + \\cdots + e^{i\\theta o_n} |o_{n}\\rangle \\langle o_{n}|. \\tag{25}$$\n",
    "\n",
    "To see this is true, recall that the eigenvalues of a matrix are multiplied by a scalar when the matrix is multiplied by the same scalar, while the eigenvectors are left unchanged. One can extend this identity to a tensor product of Normal operators noting that `the tensor product of two Hermitian operators is another Hermitian operator`. With that, one should be able to obtain Eq. (9)."
   ]
  },
  {
   "cell_type": "markdown",
   "metadata": {
    "id": "b7j1XOai-Uj-"
   },
   "source": [
    "## The $e^{-itYY}$ gate"
   ]
  },
  {
   "cell_type": "markdown",
   "metadata": {
    "id": "8F6ZU3lwD89K"
   },
   "source": [
    "IBM supplementary material provides the following quantum circuit for $e^{-itYY}$:"
   ]
  },
  {
   "cell_type": "code",
   "execution_count": 31,
   "metadata": {
    "colab": {
     "base_uri": "https://localhost:8080/",
     "height": 0
    },
    "executionInfo": {
     "elapsed": 8,
     "status": "ok",
     "timestamp": 1654398109770,
     "user": {
      "displayName": "Lucas Camponogara Viera",
      "userId": "14322290658374940800"
     },
     "user_tz": -480
    },
    "id": "Hhy5c_17ByeX",
    "outputId": "a685bea9-ab3a-4d5f-8597-2db678b338ad"
   },
   "outputs": [
    {
     "data": {
      "text/html": [
       "<pre style=\"word-wrap: normal;white-space: pre;background: #fff0;line-height: 1.1;font-family: &quot;Courier New&quot;,Courier,monospace\">     ┌─────────┐                     ┌──────────┐\n",
       "q_0: ┤ Rx(π/2) ├──■───────────────■──┤ Rx(-π/2) ├\n",
       "     ├─────────┤┌─┴─┐┌─────────┐┌─┴─┐├──────────┤\n",
       "q_1: ┤ Rx(π/2) ├┤ X ├┤ Rz(2*t) ├┤ X ├┤ Rx(-π/2) ├\n",
       "     └─────────┘└───┘└─────────┘└───┘└──────────┘</pre>"
      ],
      "text/plain": [
       "     ┌─────────┐                     ┌──────────┐\n",
       "q_0: ┤ Rx(π/2) ├──■───────────────■──┤ Rx(-π/2) ├\n",
       "     ├─────────┤┌─┴─┐┌─────────┐┌─┴─┐├──────────┤\n",
       "q_1: ┤ Rx(π/2) ├┤ X ├┤ Rz(2*t) ├┤ X ├┤ Rx(-π/2) ├\n",
       "     └─────────┘└───┘└─────────┘└───┘└──────────┘"
      ]
     },
     "execution_count": 31,
     "metadata": {},
     "output_type": "execute_result"
    }
   ],
   "source": [
    "# e^{(-itZZ)}\n",
    "\n",
    "'''\n",
    "from qiskit import QuantumCircuit\n",
    "from qiskit.circuit import Parameter\n",
    "'''\n",
    "\n",
    "t = Parameter('t')\n",
    "qc = QuantumCircuit(2)\n",
    "qc.rx(np.pi/2,[0,1])\n",
    "qc.cnot(0,1)\n",
    "qc.rz(2 * t, 1)\n",
    "qc.cnot(0,1)\n",
    "qc.rx(-np.pi/2,[0,1])\n",
    "\n",
    "qc.draw()"
   ]
  },
  {
   "cell_type": "markdown",
   "metadata": {
    "id": "yfFBS_PsCJ-o"
   },
   "source": [
    "From the fact that $ SH|0\\rangle = R_x(\\pi/2)|0\\rangle) = \\frac{1}{\\sqrt{2}}(|0\\rangle+i|1\\rangle) $, one equivalent quantum circuit is:"
   ]
  },
  {
   "cell_type": "markdown",
   "metadata": {
    "id": "lJ4D8ciU3Puo"
   },
   "source": [
    "From the fact that \n",
    "\n",
    "$$SH|0\\rangle = R_x(-\\pi/2)|0\\rangle = |\\oplus\\rangle = \\frac{1}{\\sqrt{2}}(|0\\rangle+i|1\\rangle),$$ \n",
    "\n",
    "and \n",
    "\n",
    "$$SH|1\\rangle = R_x(\\pi/2)|0\\rangle = |\\ominus\\rangle = \\frac{1}{\\sqrt{2}}(|0\\rangle-i|1\\rangle),$$ \n",
    "\n",
    "one equivalent quantum circuit is:"
   ]
  },
  {
   "cell_type": "code",
   "execution_count": 32,
   "metadata": {
    "colab": {
     "base_uri": "https://localhost:8080/",
     "height": 0
    },
    "executionInfo": {
     "elapsed": 7,
     "status": "ok",
     "timestamp": 1654398109770,
     "user": {
      "displayName": "Lucas Camponogara Viera",
      "userId": "14322290658374940800"
     },
     "user_tz": -480
    },
    "id": "P7xS9zvKCKYD",
    "outputId": "b306fcef-4cc3-43c7-927b-7f0dce08dd58"
   },
   "outputs": [
    {
     "data": {
      "text/html": [
       "<pre style=\"word-wrap: normal;white-space: pre;background: #fff0;line-height: 1.1;font-family: &quot;Courier New&quot;,Courier,monospace\">     ┌─────┐┌───┐                     ┌───┐┌───┐\n",
       "q_0: ┤ Sdg ├┤ H ├──■───────────────■──┤ H ├┤ S ├\n",
       "     ├─────┤├───┤┌─┴─┐┌─────────┐┌─┴─┐├───┤├───┤\n",
       "q_1: ┤ Sdg ├┤ H ├┤ X ├┤ Rz(2*t) ├┤ X ├┤ H ├┤ S ├\n",
       "     └─────┘└───┘└───┘└─────────┘└───┘└───┘└───┘</pre>"
      ],
      "text/plain": [
       "     ┌─────┐┌───┐                     ┌───┐┌───┐\n",
       "q_0: ┤ Sdg ├┤ H ├──■───────────────■──┤ H ├┤ S ├\n",
       "     ├─────┤├───┤┌─┴─┐┌─────────┐┌─┴─┐├───┤├───┤\n",
       "q_1: ┤ Sdg ├┤ H ├┤ X ├┤ Rz(2*t) ├┤ X ├┤ H ├┤ S ├\n",
       "     └─────┘└───┘└───┘└─────────┘└───┘└───┘└───┘"
      ]
     },
     "execution_count": 32,
     "metadata": {},
     "output_type": "execute_result"
    }
   ],
   "source": [
    "# Equivalent circuit:\n",
    "\n",
    "qc = QuantumCircuit(2)\n",
    "qc.sdg([0,1])\n",
    "qc.h([0,1])\n",
    "qc.cx(0, 1)\n",
    "qc.rz(2 * t, 1)\n",
    "qc.cx(0, 1)\n",
    "qc.h([0,1])\n",
    "qc.s([0,1])\n",
    "qc.draw()"
   ]
  },
  {
   "cell_type": "markdown",
   "metadata": {
    "id": "V_3tkJiHZQj5"
   },
   "source": [
    "**Verification:**\n"
   ]
  },
  {
   "cell_type": "markdown",
   "metadata": {
    "id": "NKTmSrCK4Czi"
   },
   "source": [
    "One should note that $e^{-itYY}$ is shorthand for $e^{-itY \\otimes Y}$. Following the same thought process as before, one writes the Pauli operator $Y$ in the basis of its eigenvectors:\n",
    "\n",
    "$$Y=|\\oplus\\rangle\\langle \\oplus|-|\\ominus\\rangle\\langle \\ominus|,$$\n",
    "\n",
    "where\n",
    "\n",
    "$$|+y\\rangle \\equiv |\\oplus\\rangle = \\frac{1}{\\sqrt{2}}(|0\\rangle+i|1\\rangle) \\text{ and } |-y\\rangle \\equiv |\\ominus\\rangle = \\frac{1}{\\sqrt{2}}(|0\\rangle-i|1\\rangle).$$\n",
    "\n",
    "Therefore,\n",
    "\n",
    "\\begin{eqnarray}\n",
    "YY &\\equiv& Y \\otimes Y = (|\\oplus\\oplus\\rangle\\langle \\oplus\\oplus|+|\\ominus\\ominus\\rangle\\langle \\ominus\\ominus|)-(|\\oplus\\ominus\\rangle\\langle \\oplus\\ominus|+|\\ominus\\oplus\\rangle\\langle \\ominus\\oplus|) \\\\\n",
    "&\\implies& e^{-itY\\otimes Y} = e^{-it}(|\\oplus\\oplus\\rangle\\langle \\oplus\\oplus|+|\\ominus\\ominus\\rangle\\langle \\ominus\\ominus|) + e^{it}(|\\oplus\\ominus\\rangle\\langle \\oplus\\ominus|+|\\ominus\\oplus\\rangle\\langle \\ominus\\oplus|).\n",
    "\\end{eqnarray}\n",
    "\n",
    "The next step is to apply a basis change, as follows:\n",
    "\n",
    "$$|\\oplus\\rangle = SH|0\\rangle = R_x(-\\pi/2)|0\\rangle  \\text{ and }  |\\ominus\\rangle = SH|1\\rangle = R_x(\\pi/2)|0\\rangle,$$\n",
    "\n",
    "such that\n",
    "\n",
    "\\begin{align}\n",
    "e^{-itY\\otimes Y} & = (S\\otimes S)(H\\otimes H)\\Big(e^{-it}(|00\\rangle\\langle 00|+|11\\rangle\\langle 11|)+e^{it}(|01\\rangle\\langle 01|+|10\\rangle\\langle 10|)\\Big)(H\\otimes H)(S^{\\dagger}\\otimes S^{\\dagger}) \\\\\n",
    "& = (S\\otimes S)(H\\otimes H)e^{-itZ \\otimes Z}(H\\otimes H)(S^{\\dagger}\\otimes S^{\\dagger}) \\\\\n",
    "& = (S\\otimes S)e^{-itX\\otimes X}(S^{\\dagger}\\otimes S^{\\dagger}) \\\\\n",
    "& = (S\\otimes S)(H\\otimes H)C_{x}^{01}\\big(I\\otimes e^{-itZ}\\big)C_{x}^{01}(H\\otimes H)(S^{\\dagger}\\otimes S^{\\dagger}) \\\\\n",
    "& = (S\\otimes S)(H\\otimes H)C_{x}^{01}\\big(I\\otimes RZ(2t)\\big)C_{x}^{01}(H\\otimes H)(S^{\\dagger}\\otimes S^{\\dagger}).\n",
    "\\end{align}"
   ]
  },
  {
   "cell_type": "markdown",
   "metadata": {
    "id": "_v4DYg-_1IBi"
   },
   "source": [
    "# State Fidelity<a name=\"fid\" />  "
   ]
  },
  {
   "cell_type": "markdown",
   "metadata": {
    "id": "X9uqfLjV1JWJ"
   },
   "source": [
    "In noisy environments, the evolved quantum state must be represented by a mixed density operator. The fidelity between two mixed density operators (density matrices) $\\rho$ and $\\sigma$ is:\n",
    "\n",
    "\\begin{align}\n",
    "F(\\rho,\\sigma) = \\left(tr \\sqrt{\\rho^{1/2} \\sigma \\rho^{1/2}}\\right)^2,\n",
    "\\end{align}\n",
    "\n",
    "with $\\rho= p_j\\sum_j|\\psi_{j}\\rangle \\langle \\psi_{j}|$ and $\\sigma=p_k\\sum_k|\\psi_{k}\\rangle \\langle \\psi_{k}|$, where $p_j$ and $p_k$ are the corresponding (eigenvalue) probability distributions.\n",
    "\n",
    "If one of the states is a pure state ($\\rho=|\\psi_{\\rho}\\rangle \\langle \\psi_{\\rho}|$), the above result boils down to the fidelity between a pure and a mixed state:\n",
    "\n",
    "\\begin{align}\n",
    "F(\\sigma, |\\psi_{\\rho}\\rangle) = \\langle\\psi_{\\rho}|\\sigma|\\psi_{\\rho}\\rangle = \\sum_{j,k=0}^{d-1}\\psi_{j}^{*}\\sigma_{j,k}\\psi_{k}.\n",
    "\\end{align}\n",
    "\n",
    "In a noise-free environment, both the evolved state and the target states are pure states, the state fidelity thus becomes:\n",
    "\n",
    "\\begin{align}\n",
    "F(\\rho, \\sigma) = |\\langle\\psi_{\\rho}|\\psi_{\\sigma}\\rangle|^2.\n",
    "\\end{align}"
   ]
  },
  {
   "cell_type": "markdown",
   "metadata": {
    "id": "FG2BFvzoR1Mh"
   },
   "source": [
    "# &nbsp; <a href=\"#\"><img valign=\"middle\" height=\"45px\" src=\"https://img.icons8.com/book\" width=\"45\" hspace=\"0px\" vspace=\"0px\"></a> References<a name=\"ref\" />"
   ]
  },
  {
   "cell_type": "markdown",
   "metadata": {
    "id": "lTRHOvEiR3Tj"
   },
   "source": [
    "\\[1] Nielsen MA, Chuang IL. 2010. Quantum Computation and Quantum Information. New York: [Cambridge Univ. Press.](https://doi.org/10.1017/CBO9780511976667) 10th Anniv. Ed. \n",
    "- Corollary 4.2, pg. 176: Gate decomposition.\n",
    "- Theorem 4.3, pg. 207: Trotter formula. \n",
    "- Chapter 4.7.2, pg. 206: The quantum simulation algorithm. \n",
    "- Chapter 9.2.2, pg. 409: State fidelity.\n",
    "  \n",
    "\\[2] Griffiths, David J., and Darrell F. Schroeter. Introduction to quantum mechanics. Cambridge University Press, 2018.\n",
    "- Section 3.2.3, pg. 103: scalar wave function.\n",
    "\n",
    "\\[3] [ibmq-qsim-challenge.ipynb](https://github.com/qiskit-community/open-science-prize-2021/blob/main/ibmq-qsim-challenge.ipynb).\n",
    "\n",
    "\\[4] [ibmq-qsim-sup-mat.ipynb](https://github.com/qiskit-community/open-science-prize-2021/blob/main/ibmq-qsim-sup-mat.ipynb)."
   ]
  }
 ],
 "metadata": {
  "colab": {
   "collapsed_sections": [
    "72IOow2hGRDa",
    "fdYp7ZX3fKPF",
    "m8xcJoamftJC",
    "fUO4uIAzPXAA",
    "a473k4egBbAP",
    "axj2mIbX-ii0",
    "I7zuu_sM-T8o",
    "sBKl6PQG0reK",
    "07UywDI72qs7",
    "OLN5rNripiRJ",
    "oQsXBmq_prpN",
    "C9VTx1Ym-ZGc",
    "xCoLe3F8J0F1",
    "e7tm0hMlFGAk",
    "pSsrc-eX0SHO",
    "USXHZ8ic6HJu",
    "l2hytKpHejUL",
    "XdWMm1vR_OAJ",
    "1dQeZv-L_RqK",
    "S9EbvVXx_YpK",
    "9PZ9sOr9B5oC",
    "29l2z2xgDTZj",
    "HCTVLpJCStKI",
    "LpoS-zbneiaY",
    "x-_HQ2XgefUI",
    "M8ZZFYFe9Uh7",
    "l6fBHb8k2VV5",
    "r-2PDFSKa9-d",
    "R1VTbgUJtE9Z",
    "I5AVhomquCiR",
    "Fb1Fw5XOtIeL",
    "hmm_52wiuS-P",
    "ORtAvG1JmnVa",
    "NdKmc83NczWl",
    "WMprqPHHTk8W",
    "dQGhhXgeSQok",
    "_0tZy3SecgKO",
    "x47uHPz7zETd",
    "sRN-YgSIb3k4",
    "FGfZg_y9bG7N",
    "C8QAxw8fbAhh",
    "MNakrDqNeiWt",
    "bupirY8vxW5B",
    "GzqPiRiByOdF",
    "_2jTzSs6sKG_",
    "qitwJvl6_zmE",
    "yWzvruE81BCk",
    "t0W4pvCvy8tw",
    "SM8y11x3-J1m",
    "oPXl4jCU-SrS",
    "b7j1XOai-Uj-",
    "_v4DYg-_1IBi",
    "FG2BFvzoR1Mh"
   ],
   "name": "supplementary.ipynb",
   "provenance": []
  },
  "kernelspec": {
   "display_name": "Python 3 (ipykernel)",
   "language": "python",
   "name": "python3"
  },
  "language_info": {
   "codemirror_mode": {
    "name": "ipython",
    "version": 3
   },
   "file_extension": ".py",
   "mimetype": "text/x-python",
   "name": "python",
   "nbconvert_exporter": "python",
   "pygments_lexer": "ipython3",
   "version": "3.7.13"
  },
  "latex_envs": {
   "LaTeX_envs_menu_present": true,
   "autoclose": false,
   "autocomplete": true,
   "bibliofile": "biblio.bib",
   "cite_by": "apalike",
   "current_citInitial": 1,
   "eqLabelWithNumbers": true,
   "eqNumInitial": 1,
   "hotkeys": {
    "equation": "Ctrl-E",
    "itemize": "Ctrl-I"
   },
   "labels_anchors": false,
   "latex_user_defs": false,
   "report_style_numbering": false,
   "user_envs_cfg": false
  }
 },
 "nbformat": 4,
 "nbformat_minor": 1
}
