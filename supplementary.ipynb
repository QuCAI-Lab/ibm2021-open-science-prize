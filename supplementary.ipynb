{
 "cells": [
  {
   "cell_type": "markdown",
   "metadata": {
    "id": "Pfy1TS1wxRVW"
   },
   "source": [
    "<!-- Badges: -->\n",
    "[![Donate](https://img.shields.io/badge/Donate-PayPal-green.svg?logo=paypal&style=flat-square)](https://www.paypal.me/CamponogaraViera/100)\n",
    "[![Open In Colab](https://colab.research.google.com/assets/colab-badge.svg)](https://colab.research.google.com/github/QuCAI-Lab/ibm2021-open-science-prize/blob/dev/simulation.ipynb)\n",
    "[![License](https://img.shields.io/github/license/QuCAI-Lab/ibm2021-open-science-prize.svg?logo=CreativeCommons&style=flat-square)](https://github.com/QuCAI-Lab/ibm2021-open-science-prize/blob/dev/LICENSE.md)\n",
    "[![Contributions](https://img.shields.io/badge/contributions-welcome-orange?style=flat-square)](https://github.com/QuCAI-Lab/ibm2021-open-science-prize/pulls)\n",
    "[![Maintenance](https://img.shields.io/badge/Maintained%3F-yes-green.svg)](https://github.com/QuCAI-Lab/ibm2021-open-science-prize/graphs/commit-activity)\n",
    "[![Release](https://img.shields.io/github/release/QuCAI-Lab/ibm2021-open-science-prize.svg)](https://github.com/QuCAI-Lab/ibm2021-open-science-prize/releases)\n",
    "\n",
    "<div align=\"center\">\n",
    "  <h1> <a target=\"_blank\" href=\"https://research.ibm.com/blog/quantum-open-science-prize\" rel=\"noopener noreferrer\">2021 IBM Open Science Prize</a>  </h1>\n",
    "  <h1><b> Supplementary Material </b></h1>\n",
    "  <h3><b> Simulating the XXX Heisenberg Model Hamiltonian for a System of Three Interacting Spin-1/2 Particles on IBM Quantum’s 7-qubit Jakarta Processor </b></h3>\n",
    "</div>\n",
    "<br> \n",
    "\n",
    "<!-- Author: -->\n",
    "<div align=\"center\">\n",
    "<b>Developer: <a target=\"_blank\" href=\"https://github.com/camponogaraviera\"> ¹Lucas Camponogara Viera</a></b>\n",
    "<br>   \n",
    "<b><a target=\"_blank\" href=\"https://en.ntnu.edu.tw/\" rel=\"noopener noreferrer\">¹National Taiwan Normal University - NTNU, Taipei, Taiwan</a></b>.\n",
    "</div>"
   ]
  },
  {
   "cell_type": "markdown",
   "metadata": {
    "id": "egF6hx8y7Fa6"
   },
   "source": [
    "<br>\n",
    "\n",
    "<table class=\"tfo-notebook-buttons\" align=\"head\">\n",
    "  <td>\n",
    "    <a target=\"_blank\" href=\"https://github.com/QuCAI-Lab/ibm2021-open-science-prize\"><img src=\"https://www.tensorflow.org/images/GitHub-Mark-32px.png\" /></a>\n",
    "  </td>\n",
    "</table>"
   ]
  },
  {
   "cell_type": "code",
   "execution_count": 1,
   "metadata": {
    "colab": {
     "base_uri": "https://localhost:8080/",
     "height": 34
    },
    "executionInfo": {
     "elapsed": 359,
     "status": "ok",
     "timestamp": 1656420553280,
     "user": {
      "displayName": "Lucas Camponogara Viera",
      "userId": "14322290658374940800"
     },
     "user_tz": -480
    },
    "id": "K7XSEBSixP7L",
    "outputId": "126c2d56-09d5-4967-97de-eac8948e5a36"
   },
   "outputs": [
    {
     "data": {
      "application/javascript": [
       "IPython.notebook.set_autosave_interval(30000)"
      ]
     },
     "metadata": {},
     "output_type": "display_data"
    },
    {
     "name": "stdout",
     "output_type": "stream",
     "text": [
      "Autosaving every 30 seconds\n"
     ]
    }
   ],
   "source": [
    "%autosave 30"
   ]
  },
  {
   "cell_type": "markdown",
   "metadata": {
    "id": "E9HgWhuExVGh"
   },
   "source": [
    "---\n",
    "In this Jupyter notebook, the reader will find algebraic derivations regarding the quantum simulation presented in the `simulation.ipynb` notebook file. The mathematical framework employed in the remainder of this Jupyter notebook is the contemporary matrix mechanics formalism of quantum mechanics initially developed by Werner Heisenberg, Max Born, and Pascual Jordan in a sequel of articles between 1925 and 1926. Within this formalism, the central pivots of the theory are the physical observables (e.g., spin, electric charge, magnetic flux, position, momentum, etc.) represented by Hermitian operators (self-adjoint matrices) where the corresponding eigenvectors form a set of orthonormal basis for the Hilbert space.\n",
    "\n",
    "---"
   ]
  },
  {
   "cell_type": "markdown",
   "metadata": {
    "id": "72IOow2hGRDa"
   },
   "source": [
    "# Table of Contents\n",
    "\n",
    "- **[Postulates of quantum mechanics](#postulates)**\n",
    "  - Postulate 1 (State Space)\n",
    "  - Postulate 2 (Evolution)\n",
    "  - Postulate 3 (Measurement)\n",
    "  - Postulate 4 (Composite State)\n",
    "- **[System's Dynamics: Schrödinger equation](#dynamics)**\n",
    " - Wave Mechanics formalism\n",
    " - Matrix Mechanics formalism\n",
    "- **[Solution for the Schrödinger equation](#solutions)**\n",
    "- **[The Heisenberg XXX Spin-1/2 Lattice Model for  N=3  Three Particles](#model)**\n",
    "- **[Time Evolution of the initial state $|110\\rangle$ under $h_{heis3}$ according to $U_{\\text{heis3}}(t=\\pi)$](#evolution)**\n",
    "  - Probability Over Time  t.\n",
    "- **[The Trotter-Susuki formula](#trotter)**\n",
    "- **[Decomposition of $U_{\\text{Heis3}}(t)$ using Trotterization](#decomp)**\n",
    "- **[Transpilation of $U_{\\text{Heis3}}(t)$ Into Quantum Gates](#transp)**\n",
    "  - The  e−itZZ  gate\n",
    "  - The  e−itXX  gate\n",
    "  - The  e−itYY  gate\n",
    "- **[State Fidelity](#fid)**\n",
    "- **[References](#ref)**\n",
    "\n"
   ]
  },
  {
   "cell_type": "markdown",
   "metadata": {
    "id": "fdYp7ZX3fKPF"
   },
   "source": [
    "# &nbsp; <a href=\"https://creativecommons.org/licenses/by/4.0/\"><img valign=\"middle\" src=\"https://img.icons8.com/copyright\" width=\"50\"></a> License"
   ]
  },
  {
   "cell_type": "code",
   "execution_count": null,
   "metadata": {
    "cellView": "form",
    "id": "wqNaP4k2fKjw"
   },
   "outputs": [],
   "source": [
    "#@title Copyright 2022.\n",
    "# This code is part of heisenberg-model.\n",
    "#\n",
    "# (C) Copyright NTNU QuCAI-Lab, 2022.\n",
    "#\n",
    "# This code is licensed under the Creative Commons Zero v1.0 Universal License. \n",
    "# You may obtain a copy of the License at https://github.com/QuCAI-Lab/ibm2021-open-science-prize/blob/dev/LICENSE.md."
   ]
  },
  {
   "cell_type": "markdown",
   "metadata": {
    "id": "m8xcJoamftJC"
   },
   "source": [
    "# &nbsp; <a href=\"https://colab.research.google.com/\"><img valign=\"middle\" src=\"https://www.tensorflow.org/images/colab_logo_32px.png\" width=\"50\"></a> Pip Install\n",
    "\n",
    "* **Run the following cells only if you are running this Jupyter notebook outside the [heisenberg_model environment](https://github.com/QuCAI-Lab/ibm2021-open-science-prize/blob/dev/environment.yml).**\n",
    "\n",
    "Installing `Qiskit`, `NumPy`, and `pylatexenc`."
   ]
  },
  {
   "cell_type": "code",
   "execution_count": null,
   "metadata": {
    "colab": {
     "base_uri": "https://localhost:8080/",
     "height": 53
    },
    "executionInfo": {
     "elapsed": 283,
     "status": "ok",
     "timestamp": 1656420419027,
     "user": {
      "displayName": "Lucas Camponogara Viera",
      "userId": "14322290658374940800"
     },
     "user_tz": -480
    },
    "id": "89SU631zhgN5",
    "outputId": "ac944e1b-9788-4fa7-bf55-4ee114215ba6"
   },
   "outputs": [
    {
     "data": {
      "application/vnd.google.colaboratory.intrinsic+json": {
       "type": "string"
      },
      "text/plain": [
       "'\\n# Installing a non-default library\\n\\n!python3 -m pip install <library_name>\\n\\n# Alternative \\n\\n!apt-get -qq install -y <library_name> && python3 -m pip install -U <library_name> \\n\\n# Upgrading an installed library\\n\\n!python3 -m pip install -U --upgrade <library_name> \\n'"
      ]
     },
     "execution_count": 36,
     "metadata": {},
     "output_type": "execute_result"
    }
   ],
   "source": [
    "'''\n",
    "# Installing a non-default library\n",
    "\n",
    "!python3 -m pip install <library_name>\n",
    "\n",
    "# Alternative \n",
    "\n",
    "!apt-get -qq install -y <library_name> && python3 -m pip install -U <library_name> \n",
    "\n",
    "# Upgrading an installed library\n",
    "\n",
    "!python3 -m pip install -U --upgrade <library_name> \n",
    "'''"
   ]
  },
  {
   "cell_type": "code",
   "execution_count": null,
   "metadata": {
    "colab": {
     "base_uri": "https://localhost:8080/"
    },
    "executionInfo": {
     "elapsed": 295,
     "status": "ok",
     "timestamp": 1656420426019,
     "user": {
      "displayName": "Lucas Camponogara Viera",
      "userId": "14322290658374940800"
     },
     "user_tz": -480
    },
    "id": "ZjCipVImrby_",
    "outputId": "2b07aa3c-e443-4bbd-c65a-cfa209ff44fb"
   },
   "outputs": [
    {
     "name": "stdout",
     "output_type": "stream",
     "text": [
      "21.1.3\n"
     ]
    }
   ],
   "source": [
    "try:\n",
    "  import pip, pkg_resources\n",
    "  pkg_resources.require(\"pip>=21.1.3\") # Latest version: 22.0.4\n",
    "  print(pip.__version__)\n",
    "except:\n",
    "  import subprocess, sys\n",
    "  cmd = \"python3 -m pip install --upgrade pip\"\n",
    "  process = subprocess.Popen(cmd,shell=True,bufsize=1,stdout=subprocess.PIPE,\n",
    "                             stderr=subprocess.STDOUT,encoding='utf-8',errors='replace') \n",
    "  while True:\n",
    "    out = process.stdout.readline()\n",
    "    if out == '' and process.poll() is not None:\n",
    "      break\n",
    "    if out:\n",
    "      print(out.strip(), flush=False)\n",
    "      sys.stdout.flush()\n",
    "  #raise"
   ]
  },
  {
   "cell_type": "code",
   "execution_count": null,
   "metadata": {
    "colab": {
     "base_uri": "https://localhost:8080/"
    },
    "executionInfo": {
     "elapsed": 611,
     "status": "ok",
     "timestamp": 1656420037578,
     "user": {
      "displayName": "Lucas Camponogara Viera",
      "userId": "14322290658374940800"
     },
     "user_tz": -480
    },
    "id": "o_jBOJf5rbzD",
    "outputId": "2fe8644d-b9fc-4906-871e-cebea3c9018b"
   },
   "outputs": [
    {
     "name": "stdout",
     "output_type": "stream",
     "text": [
      "pip 21.1.3 from /usr/local/lib/python3.7/dist-packages/pip (python 3.7)\n"
     ]
    }
   ],
   "source": [
    "#!python3 -m pip install pip==version_number # To downgrade pip.\n",
    "!pip --version"
   ]
  },
  {
   "cell_type": "markdown",
   "metadata": {
    "id": "T_NqS0U8rbzG"
   },
   "source": [
    "**NumPy:**"
   ]
  },
  {
   "cell_type": "code",
   "execution_count": null,
   "metadata": {
    "colab": {
     "base_uri": "https://localhost:8080/"
    },
    "executionInfo": {
     "elapsed": 4513,
     "status": "ok",
     "timestamp": 1656420042090,
     "user": {
      "displayName": "Lucas Camponogara Viera",
      "userId": "14322290658374940800"
     },
     "user_tz": -480
    },
    "id": "GTMpbrJhhpVm",
    "outputId": "3aae7b84-c97f-40ac-9725-0cf3f6b5f616"
   },
   "outputs": [
    {
     "name": "stdout",
     "output_type": "stream",
     "text": [
      "Looking in indexes: https://pypi.org/simple, https://us-python.pkg.dev/colab-wheels/public/simple/\n",
      "Requirement already satisfied: numpy==1.20.1 in /usr/local/lib/python3.7/dist-packages (1.20.1)\n"
     ]
    }
   ],
   "source": [
    "!python3 -m pip install numpy==1.20.1"
   ]
  },
  {
   "cell_type": "markdown",
   "metadata": {
    "id": "aaeNe3xWrbzJ"
   },
   "source": [
    "**Qiskit:**"
   ]
  },
  {
   "cell_type": "code",
   "execution_count": null,
   "metadata": {
    "colab": {
     "base_uri": "https://localhost:8080/"
    },
    "executionInfo": {
     "elapsed": 3949,
     "status": "ok",
     "timestamp": 1656420046037,
     "user": {
      "displayName": "Lucas Camponogara Viera",
      "userId": "14322290658374940800"
     },
     "user_tz": -480
    },
    "id": "dk3Wkme2fPeN",
    "outputId": "7dfe5519-aef8-4b20-9a70-cfe2df3e601a"
   },
   "outputs": [
    {
     "name": "stdout",
     "output_type": "stream",
     "text": [
      "Looking in indexes: https://pypi.org/simple, https://us-python.pkg.dev/colab-wheels/public/simple/\n",
      "Requirement already satisfied: qiskit==0.35.0 in /usr/local/lib/python3.7/dist-packages (0.35.0)\n",
      "Requirement already satisfied: qiskit-aer==0.10.3 in /usr/local/lib/python3.7/dist-packages (from qiskit==0.35.0) (0.10.3)\n",
      "Requirement already satisfied: qiskit-terra==0.20.0 in /usr/local/lib/python3.7/dist-packages (from qiskit==0.35.0) (0.20.0)\n",
      "Requirement already satisfied: qiskit-ignis==0.7.0 in /usr/local/lib/python3.7/dist-packages (from qiskit==0.35.0) (0.7.0)\n",
      "Requirement already satisfied: qiskit-ibmq-provider==0.18.3 in /usr/local/lib/python3.7/dist-packages (from qiskit==0.35.0) (0.18.3)\n",
      "Requirement already satisfied: numpy>=1.16.3 in /usr/local/lib/python3.7/dist-packages (from qiskit-aer==0.10.3->qiskit==0.35.0) (1.20.1)\n",
      "Requirement already satisfied: scipy>=1.0 in /usr/local/lib/python3.7/dist-packages (from qiskit-aer==0.10.3->qiskit==0.35.0) (1.7.3)\n",
      "Requirement already satisfied: urllib3>=1.21.1 in /usr/local/lib/python3.7/dist-packages (from qiskit-ibmq-provider==0.18.3->qiskit==0.35.0) (1.24.3)\n",
      "Requirement already satisfied: requests-ntlm>=1.1.0 in /usr/local/lib/python3.7/dist-packages (from qiskit-ibmq-provider==0.18.3->qiskit==0.35.0) (1.1.0)\n",
      "Requirement already satisfied: websocket-client>=1.0.1 in /usr/local/lib/python3.7/dist-packages (from qiskit-ibmq-provider==0.18.3->qiskit==0.35.0) (1.3.3)\n",
      "Requirement already satisfied: python-dateutil>=2.8.0 in /usr/local/lib/python3.7/dist-packages (from qiskit-ibmq-provider==0.18.3->qiskit==0.35.0) (2.8.2)\n",
      "Requirement already satisfied: requests>=2.19 in /usr/local/lib/python3.7/dist-packages (from qiskit-ibmq-provider==0.18.3->qiskit==0.35.0) (2.23.0)\n",
      "Requirement already satisfied: setuptools>=40.1.0 in /usr/local/lib/python3.7/dist-packages (from qiskit-ignis==0.7.0->qiskit==0.35.0) (57.4.0)\n",
      "Requirement already satisfied: retworkx>=0.8.0 in /usr/local/lib/python3.7/dist-packages (from qiskit-ignis==0.7.0->qiskit==0.35.0) (0.11.0)\n",
      "Requirement already satisfied: psutil>=5 in /usr/local/lib/python3.7/dist-packages (from qiskit-terra==0.20.0->qiskit==0.35.0) (5.4.8)\n",
      "Requirement already satisfied: stevedore>=3.0.0 in /usr/local/lib/python3.7/dist-packages (from qiskit-terra==0.20.0->qiskit==0.35.0) (3.5.0)\n",
      "Requirement already satisfied: sympy>=1.3 in /usr/local/lib/python3.7/dist-packages (from qiskit-terra==0.20.0->qiskit==0.35.0) (1.7.1)\n",
      "Requirement already satisfied: dill>=0.3 in /usr/local/lib/python3.7/dist-packages (from qiskit-terra==0.20.0->qiskit==0.35.0) (0.3.5.1)\n",
      "Requirement already satisfied: symengine>=0.9 in /usr/local/lib/python3.7/dist-packages (from qiskit-terra==0.20.0->qiskit==0.35.0) (0.9.2)\n",
      "Requirement already satisfied: ply>=3.10 in /usr/local/lib/python3.7/dist-packages (from qiskit-terra==0.20.0->qiskit==0.35.0) (3.11)\n",
      "Requirement already satisfied: tweedledum<2.0,>=1.1 in /usr/local/lib/python3.7/dist-packages (from qiskit-terra==0.20.0->qiskit==0.35.0) (1.1.1)\n",
      "Requirement already satisfied: python-constraint>=1.4 in /usr/local/lib/python3.7/dist-packages (from qiskit-terra==0.20.0->qiskit==0.35.0) (1.4.0)\n",
      "Requirement already satisfied: six>=1.5 in /usr/local/lib/python3.7/dist-packages (from python-dateutil>=2.8.0->qiskit-ibmq-provider==0.18.3->qiskit==0.35.0) (1.15.0)\n",
      "Requirement already satisfied: chardet<4,>=3.0.2 in /usr/local/lib/python3.7/dist-packages (from requests>=2.19->qiskit-ibmq-provider==0.18.3->qiskit==0.35.0) (3.0.4)\n",
      "Requirement already satisfied: certifi>=2017.4.17 in /usr/local/lib/python3.7/dist-packages (from requests>=2.19->qiskit-ibmq-provider==0.18.3->qiskit==0.35.0) (2022.6.15)\n",
      "Requirement already satisfied: idna<3,>=2.5 in /usr/local/lib/python3.7/dist-packages (from requests>=2.19->qiskit-ibmq-provider==0.18.3->qiskit==0.35.0) (2.10)\n",
      "Requirement already satisfied: ntlm-auth>=1.0.2 in /usr/local/lib/python3.7/dist-packages (from requests-ntlm>=1.1.0->qiskit-ibmq-provider==0.18.3->qiskit==0.35.0) (1.5.0)\n",
      "Requirement already satisfied: cryptography>=1.3 in /usr/local/lib/python3.7/dist-packages (from requests-ntlm>=1.1.0->qiskit-ibmq-provider==0.18.3->qiskit==0.35.0) (37.0.2)\n",
      "Requirement already satisfied: cffi>=1.12 in /usr/local/lib/python3.7/dist-packages (from cryptography>=1.3->requests-ntlm>=1.1.0->qiskit-ibmq-provider==0.18.3->qiskit==0.35.0) (1.15.0)\n",
      "Requirement already satisfied: pycparser in /usr/local/lib/python3.7/dist-packages (from cffi>=1.12->cryptography>=1.3->requests-ntlm>=1.1.0->qiskit-ibmq-provider==0.18.3->qiskit==0.35.0) (2.21)\n",
      "Requirement already satisfied: pbr!=2.1.0,>=2.0.0 in /usr/local/lib/python3.7/dist-packages (from stevedore>=3.0.0->qiskit-terra==0.20.0->qiskit==0.35.0) (5.9.0)\n",
      "Requirement already satisfied: importlib-metadata>=1.7.0 in /usr/local/lib/python3.7/dist-packages (from stevedore>=3.0.0->qiskit-terra==0.20.0->qiskit==0.35.0) (4.11.4)\n",
      "Requirement already satisfied: zipp>=0.5 in /usr/local/lib/python3.7/dist-packages (from importlib-metadata>=1.7.0->stevedore>=3.0.0->qiskit-terra==0.20.0->qiskit==0.35.0) (3.8.0)\n",
      "Requirement already satisfied: typing-extensions>=3.6.4 in /usr/local/lib/python3.7/dist-packages (from importlib-metadata>=1.7.0->stevedore>=3.0.0->qiskit-terra==0.20.0->qiskit==0.35.0) (4.1.1)\n",
      "Requirement already satisfied: mpmath>=0.19 in /usr/local/lib/python3.7/dist-packages (from sympy>=1.3->qiskit-terra==0.20.0->qiskit==0.35.0) (1.2.1)\n"
     ]
    }
   ],
   "source": [
    "!python3 -m pip install qiskit==0.35.0"
   ]
  },
  {
   "cell_type": "markdown",
   "metadata": {
    "id": "yTZZR5ShrbzM"
   },
   "source": [
    "**pylatexenc**:"
   ]
  },
  {
   "cell_type": "code",
   "execution_count": null,
   "metadata": {
    "colab": {
     "base_uri": "https://localhost:8080/"
    },
    "executionInfo": {
     "elapsed": 3805,
     "status": "ok",
     "timestamp": 1656420049840,
     "user": {
      "displayName": "Lucas Camponogara Viera",
      "userId": "14322290658374940800"
     },
     "user_tz": -480
    },
    "id": "KSmf-ygcrbzN",
    "outputId": "4936f1f4-794e-49ac-9a73-f6eb7f97f735"
   },
   "outputs": [
    {
     "name": "stdout",
     "output_type": "stream",
     "text": [
      "Looking in indexes: https://pypi.org/simple, https://us-python.pkg.dev/colab-wheels/public/simple/\n",
      "Requirement already satisfied: pylatexenc==2.10 in /usr/local/lib/python3.7/dist-packages (2.10)\n"
     ]
    }
   ],
   "source": [
    "# The 'pylatexenc' library is required to use 'MatplotlibDrawer'.\n",
    "\n",
    "!python -m pip install pylatexenc==2.10"
   ]
  },
  {
   "cell_type": "markdown",
   "metadata": {
    "id": "fUO4uIAzPXAA"
   },
   "source": [
    "# &nbsp; <a href=\"#\"><img valign=\"middle\" height=\"45px\" src=\"https://img.icons8.com/python\" width=\"45\" hspace=\"0px\" vspace=\"0px\"></a> Dependencies\n",
    "\n",
    "- Importing modules."
   ]
  },
  {
   "cell_type": "code",
   "execution_count": 3,
   "metadata": {
    "id": "nqt7khF2QiGf"
   },
   "outputs": [],
   "source": [
    "import IPython\n",
    "import qiskit\n",
    "import numpy as np \n",
    "from qiskit import QuantumCircuit\n",
    "from qiskit.circuit import Parameter"
   ]
  },
  {
   "cell_type": "code",
   "execution_count": null,
   "metadata": {
    "colab": {
     "base_uri": "https://localhost:8080/"
    },
    "executionInfo": {
     "elapsed": 3714,
     "status": "ok",
     "timestamp": 1656420352886,
     "user": {
      "displayName": "Lucas Camponogara Viera",
      "userId": "14322290658374940800"
     },
     "user_tz": -480
    },
    "id": "TKkXmdJ7WKrf",
    "outputId": "39945797-371f-4554-f82e-4a5187f86ba5"
   },
   "outputs": [
    {
     "name": "stdout",
     "output_type": "stream",
     "text": [
      "Looking in indexes: https://pypi.org/simple, https://us-python.pkg.dev/colab-wheels/public/simple/\n",
      "Collecting watermark\n",
      "Downloading watermark-2.3.1-py2.py3-none-any.whl (7.2 kB)\n",
      "Requirement already satisfied: ipython in /usr/local/lib/python3.7/dist-packages (from watermark) (5.5.0)\n",
      "Requirement already satisfied: importlib-metadata>=1.4 in /usr/local/lib/python3.7/dist-packages (from watermark) (4.11.4)\n",
      "Requirement already satisfied: zipp>=0.5 in /usr/local/lib/python3.7/dist-packages (from importlib-metadata>=1.4->watermark) (3.8.0)\n",
      "Requirement already satisfied: typing-extensions>=3.6.4 in /usr/local/lib/python3.7/dist-packages (from importlib-metadata>=1.4->watermark) (4.1.1)\n",
      "Requirement already satisfied: pygments in /usr/local/lib/python3.7/dist-packages (from ipython->watermark) (2.6.1)\n",
      "Requirement already satisfied: decorator in /usr/local/lib/python3.7/dist-packages (from ipython->watermark) (4.4.2)\n",
      "Requirement already satisfied: simplegeneric>0.8 in /usr/local/lib/python3.7/dist-packages (from ipython->watermark) (0.8.1)\n",
      "Requirement already satisfied: setuptools>=18.5 in /usr/local/lib/python3.7/dist-packages (from ipython->watermark) (57.4.0)\n",
      "Requirement already satisfied: pickleshare in /usr/local/lib/python3.7/dist-packages (from ipython->watermark) (0.7.5)\n",
      "Requirement already satisfied: traitlets>=4.2 in /usr/local/lib/python3.7/dist-packages (from ipython->watermark) (5.1.1)\n",
      "Requirement already satisfied: prompt-toolkit<2.0.0,>=1.0.4 in /usr/local/lib/python3.7/dist-packages (from ipython->watermark) (1.0.18)\n",
      "Requirement already satisfied: pexpect in /usr/local/lib/python3.7/dist-packages (from ipython->watermark) (4.8.0)\n",
      "Requirement already satisfied: six>=1.9.0 in /usr/local/lib/python3.7/dist-packages (from prompt-toolkit<2.0.0,>=1.0.4->ipython->watermark) (1.15.0)\n",
      "Requirement already satisfied: wcwidth in /usr/local/lib/python3.7/dist-packages (from prompt-toolkit<2.0.0,>=1.0.4->ipython->watermark) (0.2.5)\n",
      "Requirement already satisfied: ptyprocess>=0.5 in /usr/local/lib/python3.7/dist-packages (from pexpect->ipython->watermark) (0.7.0)\n",
      "Installing collected packages: watermark\n",
      "Successfully installed watermark-2.3.1\n"
     ]
    }
   ],
   "source": [
    "### If using Google Colab, one needs to restart Colab Runtime after pip install. ###\n",
    "\n",
    "try:\n",
    "  import pkg_resources, watermark\n",
    "  pkg_resources.require(\"watermark>=2.3.0\") # Force watermark version.\n",
    "  print(watermark.__version__)\n",
    "except:\n",
    "  import subprocess, sys\n",
    "  if \"google.colab\" in sys.modules:\n",
    "    cmd = \"python3 -m pip install --upgrade watermark\" # Upgrade watermak.\n",
    "\n",
    "    process = subprocess.Popen(cmd,shell=True,bufsize=1,stdout=subprocess.PIPE, \\\n",
    "                              stderr=subprocess.STDOUT,encoding='utf-8',errors='replace') \n",
    "    while True: \n",
    "      out = process.stdout.readline() # The first line of the file.\n",
    "      if out == '' and process.poll() is not None: # Run the loop until condition is True.\n",
    "        break \n",
    "      if out:\n",
    "        print(out.strip(), flush=False) # Removes leading and trailing empty spaces. \n",
    "        sys.stdout.flush()\n",
    "    #raise # To raise the import error. Upgrade will be successful regardless."
   ]
  },
  {
   "cell_type": "code",
   "execution_count": null,
   "metadata": {
    "colab": {
     "base_uri": "https://localhost:8080/"
    },
    "executionInfo": {
     "elapsed": 271,
     "status": "ok",
     "timestamp": 1656420397944,
     "user": {
      "displayName": "Lucas Camponogara Viera",
      "userId": "14322290658374940800"
     },
     "user_tz": -480
    },
    "id": "S_43wXb6WDa_",
    "outputId": "74b4420a-e469-47c9-caa3-4d2ad15ff785"
   },
   "outputs": [
    {
     "name": "stdout",
     "output_type": "stream",
     "text": [
      "Author: LucasCamponogaraViera\n",
      "\n",
      "Github username: QuCAI-Lab\n",
      "\n",
      "Website: https://github.com/QuCAI-Lab/ibm2021-open-science-prize\n",
      "\n",
      "Last updated: 2022-06-28\n",
      "\n",
      "Python implementation: CPython\n",
      "Python version       : 3.7.13\n",
      "IPython version      : 5.5.0\n",
      "\n",
      "Compiler    : GCC 7.5.0\n",
      "OS          : Linux\n",
      "Release     : 5.4.188+\n",
      "Machine     : x86_64\n",
      "Processor   : x86_64\n",
      "CPU cores   : 2\n",
      "Architecture: 64bit\n",
      "\n",
      "IPython  : 5.5.0\n",
      "watermark: 2.3.1\n",
      "qiskit   : 0.35.0\n",
      "pip      : 21.1.3\n",
      "sys      : 3.7.13 (default, Apr 24 2022, 01:04:09) \n",
      "[GCC 7.5.0]\n",
      "numpy    : 1.20.1\n",
      "\n",
      "Watermark: 2.3.1\n",
      "\n"
     ]
    }
   ],
   "source": [
    "# If you get hit by the error \"No module named watermark\", run this cell twice!\n",
    "\n",
    "#%load_ext watermark\n",
    "%reload_ext watermark\n",
    "%watermark -a 'LucasCamponogaraViera' -gu 'QuCAI-Lab' -ws 'https://github.com/QuCAI-Lab/ibm2021-open-science-prize' -w -u -d -v -m -iv"
   ]
  },
  {
   "cell_type": "code",
   "execution_count": null,
   "metadata": {
    "colab": {
     "base_uri": "https://localhost:8080/"
    },
    "executionInfo": {
     "elapsed": 292,
     "status": "ok",
     "timestamp": 1656420400008,
     "user": {
      "displayName": "Lucas Camponogara Viera",
      "userId": "14322290658374940800"
     },
     "user_tz": -480
    },
    "id": "EWbImiDCrbzS",
    "outputId": "032a2b13-c80c-4dc6-f962-0eb0c86290a3"
   },
   "outputs": [
    {
     "name": "stdout",
     "output_type": "stream",
     "text": [
      "{'commit_hash': 'b467d487e',\n",
      " 'commit_source': 'installation',\n",
      " 'default_encoding': 'UTF-8',\n",
      " 'ipython_path': '/usr/local/lib/python3.7/dist-packages/IPython',\n",
      " 'ipython_version': '5.5.0',\n",
      " 'os_name': 'posix',\n",
      " 'platform': 'Linux-5.4.188+-x86_64-with-Ubuntu-18.04-bionic',\n",
      " 'sys_executable': '/usr/bin/python3',\n",
      " 'sys_platform': 'linux',\n",
      " 'sys_version': '3.7.13 (default, Apr 24 2022, 01:04:09) \\n[GCC 7.5.0]'}\n"
     ]
    }
   ],
   "source": [
    "print(IPython.sys_info())"
   ]
  },
  {
   "cell_type": "markdown",
   "metadata": {
    "id": "XdWMm1vR_OAJ"
   },
   "source": [
    "# Postulates of quantum mechanics<a name=\"postulates\" />  \n",
    "\n",
    "- Matrix Mechanics formalism using Dirac bra-ket notation."
   ]
  },
  {
   "cell_type": "markdown",
   "metadata": {
    "id": "1dQeZv-L_RqK"
   },
   "source": [
    "## **Postulate 1 (State Space)**\n",
    "\n",
    "\n",
    "Any **isolated (close)** quantum system is completely described by a normalized *state vector* $|\\psi\\rangle$ which is a unit vector embedded in a complex vector space (Hilbert space) $\\mathcal{H}$ known as the *state space* of the system endowed with an inner product $(\\cdot,\\cdot) \\doteq \\langle \\cdot | \\cdot \\rangle$.\n",
    "\n",
    "<br></br>\n",
    "\n",
    "- **First case: Discrete Spectrum.**\n",
    "\n",
    "When the spectrum of the eigenvalues are discrete, the state $|\\psi\\rangle$ of the quantum system is embedded in a Hilbert space $\\mathcal{H}$ of dimension $d=\\dim \\mathcal{H}$. In a complete and discrete orthonormal basis $\\{|o_j\\rangle\\}_{j=1}^d$, the state vector reads\n",
    "\n",
    "\\begin{eqnarray}\n",
    "|\\psi\\rangle \\doteq \\sum_{j=1}^d c_j|o_j\\rangle.\n",
    "\\end{eqnarray}\n",
    "\n",
    "The inner product for orthonormal eigenstates becomes \n",
    "\n",
    "$$\\langle o_j|o_k\\rangle = \\delta_{jk},$$\n",
    "\n",
    "and the probability amplitude $c_j$ associated with the eigenstate $|o_j\\rangle$ is obtained via the Fourier trick \n",
    "\n",
    "$$c_j=\\langle o_j|\\psi\\rangle.$$ \n",
    "\n",
    "- **Second case: Continuous Spectrum.**\n",
    "\n",
    "When the spectrum of the eigenvalues are continous, the state $|\\psi\\rangle$ of the quantum system is embedded in a infinite-dimensional Hilbert space $|\\psi\\rangle \\in \\mathcal{H}$  whose orthonormal basis $\\{|q\\rangle \\}$ is formed by an uncountably infinite set of orthonormal vectors. In this particular case, the state of the quantum system in this basis reads:\n",
    "\n",
    "\\begin{eqnarray}\n",
    "|\\psi\\rangle \\doteq \\int \\psi_{q} |q\\rangle d_{q},\n",
    "\\end{eqnarray}\n",
    "\n",
    "which is a linear combination given in terms of an integral, rather than a sum (See Ref. [2], Section 3.2.3, pg. 103). The inner product thus becomes the Dirac delta distribution\n",
    "\n",
    "\\begin{eqnarray}\n",
    "\\langle q |q'\\rangle  = \\delta (q-q'), \n",
    "\\end{eqnarray}\n",
    "\n",
    "and the analogous Fourier trick gives the complex-valued scalar wave function $\\psi_{q}$ as the probability amplitude:\n",
    "\n",
    "\\begin{eqnarray}\n",
    "\\psi_{q} = \\langle q |\\psi \\rangle.\n",
    "\\end{eqnarray}\n",
    "\n",
    "Note that $\\psi_q$ is the standard wave function of the ubiquitous Schrodinger equation of wave mechanics, often denote by $\\psi(q)$ or $\\psi(x)$ if in the position space."
   ]
  },
  {
   "cell_type": "markdown",
   "metadata": {
    "id": "S9EbvVXx_YpK"
   },
   "source": [
    "## **Postulate 2 (Evolution)**\n",
    "\n",
    "The evolution of a **closed quantum system** over time is described by a *unitary transformation* given by the action of the propagator $\\hat{U}_t\\equiv\\hat{U}(t)$ known as the Unitary time evolution operator. Therefore, the global state $|\\psi_t\\rangle$ of the system at time $t$ has evolved from the initial state $|\\psi_0\\rangle$ at time $t=0$ according to:\n",
    "\n",
    "\\begin{equation} \n",
    "|\\psi_t\\rangle=\\hat{U}_t|\\psi_0\\rangle.\n",
    "\\end{equation}  \n",
    "\n",
    "**Note:** in the particular case of closed systems, the evolution operator $\\hat{U}_t$ of the system's global state $|\\psi\\rangle$ is Unitary, however, open quantum systems (systems interacting with its surroundings) described by mixed states, in general, have non-Unitary operators describing the evolution of its subsystems.\n",
    "\n",
    "\n",
    "\n",
    "\n",
    "\n"
   ]
  },
  {
   "cell_type": "markdown",
   "metadata": {
    "id": "9PZ9sOr9B5oC"
   },
   "source": [
    "## **Postulate 3 (Measurement)**\n",
    "\n",
    "Measurements of a quantum system are described by a collection \\{$M_m$\\} of *measurement operators* acting on the state space of the system with $m$ possible measurement outcomes. If the quantum system is prepared in a general state $|\\psi\\rangle$, the probability associated with a measurement outcome $o_m$ is:\n",
    "\n",
    "\\begin{equation} \n",
    "Pr(o_m)\\doteq\\langle \\psi | M^{\\dagger}_{m} M_{m} |\\psi \\rangle,\n",
    "\\end{equation} \n",
    "\n",
    "and the state of the system immediately after the measurement of the eigenvalue $o_m$ will be:\n",
    "\n",
    "\\begin{align} \n",
    "    |\\psi_{o_m} \\rangle= \\frac{M_{m} |\\psi \\rangle}{\\sqrt{\\langle \\psi | M^{\\dagger}_{m} M_{m} |\\psi \\rangle}}. \n",
    "\\end{align}\n",
    "\n",
    "The measurement operators satisfy the completeness relation:\n",
    "\n",
    "\\begin{equation} \n",
    "\\sum_{m} M_{m}^{\\dagger} M_{m} = \\mathbb{I},\n",
    "\\end{equation}\n",
    "\n",
    "meaning that probabilities must sum to one, i.e, $|\\psi\\rangle$ is normalized:\n",
    "\n",
    "\\begin{equation} \n",
    "\\sum_{m} Pr(o_m) = \\sum_{m} \\langle \\psi | M^{\\dagger}_{m} M_{m} |\\psi \\rangle = 1.\n",
    "\\end{equation}  "
   ]
  },
  {
   "cell_type": "markdown",
   "metadata": {
    "id": "29l2z2xgDTZj"
   },
   "source": [
    "## **Postulate 4 (Composite State)**\n",
    "\n",
    "Consider a quantum system composed of $N$ arbitrary subsystems, where subsystem $s$ is prepared in a qudit state $|\\psi_{s}\\rangle = \\sum_{j=1}^{d_s} c_{j_s} |o_{j}\\rangle_s$ embedded in a $d_s$-dimensional Hilbert space $\\mathcal{H}_s^{d_s}$ with orthonormal basis $\\{|o_{j}\\rangle_s \\}|_{j=1}^{d_s}$. The Hilbert state space $\\mathcal{H}^{d}_{1\\cdots N}$ of the composite physical system is given by the tensor product of its constituent Hilbert spaces (the state space of its subsystems or component physical systems): $\\mathcal{H}^{d}_{1\\cdots N}=\\otimes_{s=1}^N \\mathcal{H}_s^{d_s}=\\mathcal{H}_1^{d_1} \\otimes \\mathcal{H}_2^{d_2} \\otimes \\cdots \\otimes \\mathcal{H}_N^{d_N}$, where $d=\\prod_{s=1}^N d_s$ is the dimension of the composite space. And the corresponding orthonormal basis of the composite state space is obtained from the tensor product between the basis of each constituent state space: $\\{|o_{j}\\rangle \\}|_{j=1}^{d}=\\{|o_{j}\\rangle_s \\otimes \\cdot\\cdot\\cdot \\otimes|o_{k}\\rangle_N \\}|_{j,\\cdots,k=1}^{d_s,\\cdots,d_N}$. "
   ]
  },
  {
   "cell_type": "markdown",
   "metadata": {
    "id": "HCTVLpJCStKI"
   },
   "source": [
    "# System's dynamics: Schrödinger equation<a name=\"dynamics\" />  \n",
    "\n",
    "- **Wave Mechanics** and **Matrix Mechanics** formalisms."
   ]
  },
  {
   "cell_type": "markdown",
   "metadata": {
    "id": "LpoS-zbneiaY"
   },
   "source": [
    "## Wave Mechanics formalism\n"
   ]
  },
  {
   "cell_type": "markdown",
   "metadata": {
    "id": "Wa8VbsqFrbzi"
   },
   "source": [
    "In the wave mechanics formalism of quantum mechanics, the dynamics of a system of particles is determined by the linear partial differential and time-dependent Schrödinger equation, which in the position representation reads:\n",
    "\n",
    "\\begin{eqnarray}\n",
    "i \\hbar \\frac{\\partial \\Psi(\\vec{r}, t)}{\\partial t} &= \\hat{H}(t)\\Psi(\\vec{r}, t).\n",
    "\\end{eqnarray}\n",
    "\n",
    "Where: \n",
    "\n",
    "- $\\Psi(\\vec{r}, t) \\doteq \\Psi(x, y, z, t): \\mathbb{R}^{4}\\rightarrow\\mathbb{C}$ is the complex valued scalar wavefunction containing the information about the particle's dynamics in the *position space* of continuous spectrum. The spectrum is the set of all eigenvalues of a given operator.\n",
    "- $\\hat{H}(t)$ is the Hamiltonian of the system, i.e, the sum of its kinetic and potential energy.\n",
    "- $i$ is the imaginary unit.\n",
    "- $\\hbar$ is the reduced Planck constante a.k.a quantum of action.\n",
    "\n",
    "The Schrödinger equation can also be written in the form:\n",
    "\n",
    "\\begin{eqnarray}\n",
    "{i\\hbar\\partial_{t}\\Psi(\\vec{q},t)=\\left(-\\frac{\\hbar^{2}}{2m} \\nabla^{2}_{\\vec{q}}+V(\\vec{q},t) \\right) \\Psi(\\vec{q},t)}.\n",
    "\\end{eqnarray}\n",
    "\n",
    "Where:\n",
    "\n",
    "- $\\partial_t \\equiv \\frac{\\partial}{\\partial_t}$.\n",
    "- $\\nabla^2_{\\vec{q}}$ is the second-order differential Laplace operator in generalized coordinates $q_j|_{j=1}^3$. \n",
    "- $V(\\vec{q}, t)$ is the time-dependent potential energy.\n",
    "\n",
    "The Laplace operator is defined as the divergence ($\\vec{\\nabla} \\cdot $) of the gradient ($\\vec{\\nabla} \\Phi$) and, therefore, it is a scalar operator and contrasts with the gradient which is a vector operator acting on a scalar field (function) $\\Phi$. \n",
    "\n",
    "- The gradient operator in **generalized coordinates**. Given a scalar field $\\Phi=\\Phi(q_1, q_2, q_3)$,\n",
    "\n",
    "$$\\vec{\\nabla}_{\\vec{q}} \\Phi = \\frac{\\partial \\Phi}{h_j\\partial q_j} \\hat{e}_j =  \\frac{1}{h_1}\\frac{\\partial \\Phi}{\\partial q_1} \\hat{e}_1 + \\frac{1}{h_2}\\frac{\\partial \\Phi}{\\partial q_2} \\hat{e}_2 + \\frac{1}{h_3}\\frac{\\partial \\Phi}{\\partial q_3} \\hat{e}_3.$$\n",
    "\n",
    "- The divergence operator in **generalized coordinates**. Given a vectorial field $\\vec{A}=A(q_1, q_2, q_3)= A_1 \\hat{e}_1+A_2 \\hat{e}_2+A_3 \\hat{e}_3$,\n",
    "\n",
    "$$\\vec{\\nabla}_{\\vec{q}} \\cdot \\vec{A} =  \\frac{1}{h_1 h_2 h_3} \\bigg[\\frac{\\partial (A_1 h_2 h_3)}{\\partial q_1} + \\frac{\\partial (A_2 h_1 h_3)}{\\partial q_2} + \\frac{\\partial (A_3 h_1 h_2)}{\\partial q_3} \\bigg].$$\n",
    "\n",
    "\n",
    "- The Laplace operator in **Cartesian coordinates**. Given a scalar field $\\Phi=\\Phi(x, y, z)$,\n",
    "\n",
    "$$\\nabla^2_{\\vec{r}} \\Phi = \\vec{\\nabla} \\cdot \\vec{\\nabla}(\\Phi) = \\partial_{rr} \\Phi = \\sum_{j=1}^3\\frac{\\partial^2 \\Phi}{\\partial r_j^2} = \\frac{\\partial^2 \\Phi}{\\partial x^2}+ \\frac{\\partial^2 \\Phi}{\\partial y^2} + \\frac{\\partial^2 \\Phi}{\\partial z^2}.$$"
   ]
  },
  {
   "cell_type": "markdown",
   "metadata": {
    "id": "x-_HQ2XgefUI"
   },
   "source": [
    "## Matrix Mechanics formalism\n"
   ]
  },
  {
   "cell_type": "markdown",
   "metadata": {
    "id": "62S9pGZ1dcew"
   },
   "source": [
    "In the Hilbert state space (statevector) formalism (a.k.a qubit representation), the time-dependent Schrödinger equation reads:\n",
    "\n",
    "\\begin{eqnarray}\n",
    "i \\hbar\\frac{d}{dt}|\\psi(t)\\rangle= \\hat{H} |\\psi(t)\\rangle,\n",
    "\\end{eqnarray}\n",
    "\n",
    "where $|\\psi\\rangle$ is the state of the quantum system in a linear superposition (combination) according to definitions for either a continuous or a discrete case as provided in the section `\"Postulates of quantum mechanics\"`.\n"
   ]
  },
  {
   "cell_type": "markdown",
   "metadata": {
    "id": "M8ZZFYFe9Uh7"
   },
   "source": [
    "### Schrödinger Picture (S-P)\n",
    "\n",
    "In the **Schrödinger picture** (S-P) (representation), the evolution of the initial state $|\\psi_{t=0}^S\\rangle\\equiv|\\psi(t=0)\\rangle$ over a time $t$ is given by:\n",
    "\n",
    "\\begin{equation} \n",
    "|\\psi_t^S\\rangle=\\hat{U}_t|\\psi_0^S\\rangle. \\tag{1}\n",
    "\\end{equation}  \n",
    "\n",
    "While the operator describing a certain physical observable remains constant in time:\n",
    "\n",
    "\\begin{equation} \n",
    "\\hat{O}_t^S=\\hat{O}_0^S=\\sum_{j=1}^d o_j |o_j^S\\rangle\\langle o_j^S|. \\tag{2}\n",
    "\\end{equation}  \n",
    "\n",
    "### Heisenberg Picture (H-P)\n",
    "\n",
    "In the **Heisenberg picture** (H-P), the operator describing a certain physical observable evolves over a time $t$ according to:\n",
    "\n",
    "\\begin{eqnarray} \n",
    "\\hat{O}_t^H &=& \\sum_{j=1}^d o_j |o_j^H (t)\\rangle\\langle o_j^H (t)| = \\sum_{j=1}^d o_j \\hat{U}_{t}^{\\dagger}|o_j^S\\rangle\\langle o_j^S|\\hat{U}_t = \\hat{U}_t^{\\dagger}\\sum_{j=1}^d o_j|o_j^S\\rangle\\langle o_j^S|\\hat{U}_t \\\\\n",
    "&=& \\hat{U}_t^{\\dagger} \\hat{O}_0^S \\hat{U}_t.\n",
    "\\end{eqnarray} \n",
    "\n",
    "where\n",
    "\n",
    "\\begin{equation} \n",
    "|o_j^H(t)\\rangle = \\hat{U}_t^{\\dagger}|o_j^S\\rangle. \\tag{3}\n",
    "\\end{equation}  \n",
    "\n",
    "While the global state $|\\psi\\rangle$ of the quantum system remains constant:\n",
    "\n",
    "\\begin{equation} \n",
    "|\\psi_t^H\\rangle = |\\psi_0^S\\rangle. \\tag{4}\n",
    "\\end{equation}  \n",
    "\n",
    "Regardless of the picture used, H-P or S-P, solution for $\\hat{U}_t$ is obtained solving the Schrödinger equation of the time evolution operator:\n",
    "\n",
    "\\begin{equation} \n",
    "i\\hbar \\partial_t \\hat{U}_t = \\hat{H}_t\\hat{U}_t. \\tag{5}\n",
    "\\end{equation}  \n",
    "\n",
    "From equations (1) and (5), one can verify the equivalent Schrödinger equation for the quantum state, as follows:\n",
    "\n",
    "\\begin{equation} \n",
    "i\\hbar \\partial_t |\\psi_t\\rangle = i\\hbar \\partial_t (\\hat{U}_t |\\psi_0\\rangle) = (i\\hbar \\partial_t \\hat{U}_t)|\\psi_0\\rangle = \\hat{H}_t \\hat{U}_t|\\psi_0\\rangle= \\hat{H}_t|\\psi_t\\rangle. \\tag{6}\n",
    "\\end{equation}  \n",
    "\n",
    "Where:\n",
    "- $\\partial_t \\equiv \\frac{\\partial}{\\partial_t}$."
   ]
  },
  {
   "cell_type": "markdown",
   "metadata": {
    "id": "l6fBHb8k2VV5"
   },
   "source": [
    "# Solution for the Schrödinger equation<a name=\"solutions\" />  \n",
    "\n",
    "- Matrix exponentiation."
   ]
  },
  {
   "cell_type": "markdown",
   "metadata": {
    "id": "ZxlkmtWLSwsb"
   },
   "source": [
    "Solution for the Schrödinger equation of the time-dependent evolution operator $\\hat{U}(t)$ depends mostly on the characteristic of the Hamiltonian $\\hat{H}$. In the matrix mechanics formalism, the Sch. eq. in the S-P writes\n",
    "\n",
    "\\begin{equation} \n",
    "i\\hbar \\frac{d}{dt}(\\hat{U}(t) |\\psi(0)\\rangle)=\\hat{H}(t) (\\hat{U}(t) |\\psi(0)\\rangle).\n",
    "\\end{equation}  \n",
    "\n",
    "One then has:\n",
    "\n",
    "\\begin{equation} \n",
    " \\frac{d}{dt} \\hat{U}(t) = \\frac{-i}{\\hbar}\\hat{H}\\hat{U}(t).\n",
    "\\end{equation}  \n",
    "\n",
    "A know fact from linear algebra is that any Unitary operator can be constructed by means of some Hermitian operator and a real number $\\gamma$:\n",
    "\n",
    "\\begin{eqnarray}\n",
    "\\hat{U}=e^{-i\\gamma\\hat{H}}.\n",
    "\\end{eqnarray}\n",
    "\n",
    "To show the above is true, one can prove its unitarity:\n",
    "\n",
    "\\begin{eqnarray}\n",
    "\\hat{U}^{\\dagger}&=&(e^{-i\\gamma\\hat{H}})^{\\dagger}=e^{i\\gamma\\hat{H}^{\\dagger}} = e^{i\\gamma\\hat{H}}, \\\\\n",
    "&\\implies&\n",
    "\\hat{U}\\hat{U}^{\\dagger}=e^{-i\\gamma\\hat{H}}e^{i\\gamma\\hat{H}}=\\mathbb{I},\n",
    "\\end{eqnarray}\n",
    "\n",
    "where it was used the property: $(e^{z\\hat{A}})^{\\dagger} = e^{(z\\hat{A})^{\\dagger}}=e^{\\hat{A}^{\\dagger}z^{\\dagger}}=e^{z^{\\dagger}\\hat{A}^{\\dagger}}$, for a complex number $z$ and matrix $\\hat{A}$.\n",
    "\n",
    "In the particular case of a **time-independent Hamiltonian (conservative system)**, the above relation can be used to write the closed-form solution as:\n",
    "\n",
    "\\begin{eqnarray}\n",
    "\\hat{U}(t) = e^{-i\\hat{H}t / \\hbar}.\n",
    "\\end{eqnarray}\n",
    "\n",
    "One can check this result by expanding the exponential function in Taylor series around the point $x_0=0$ (Maclaurin series) and differentiating term by term. The Maclauring series for $f(x)=e^{i\\gamma\\hat{H}}$ with $e^{\\mathbb{O}}=\\mathbb{I}$ is:\n",
    "\n",
    "\\begin{eqnarray}\n",
    "e^{i\\gamma\\hat{H}} = \\sum_{n=0}^{\\infty} \\frac{({i\\gamma\\hat{H}})^n}{n!} = \\mathbb{I}+i\\gamma \\hat{H}+\\frac{(i\\gamma \\hat{H})^2}{2}+\\frac{(i\\gamma \\hat{H})^3}{3!}+\\cdots +\\frac{(i\\gamma \\hat{H})^n}{n!}.\n",
    "\\end{eqnarray}\n",
    "\n",
    "So that for $\\gamma=-t/\\hbar$:\n",
    "\n",
    "\\begin{eqnarray}\n",
    "\\frac{d}{dt} (e^{-i\\hat{H}t / \\hbar})&=&\\frac{d}{dt} \\left( \\mathbb{I} - i\\hat{H}t/\\hbar - \\frac{\\hat{H}^2 t^2}{2\\hbar^2}  + \\cdots + \\frac{(-i\\hat{H}t)^n}{n!\\hbar^n}\\right)  \\\\\n",
    "&=& \\left(0 -i\\hat{H}/\\hbar - \\frac{\\hat{H}^2t}{\\hbar^2} + \\cdots + \\frac{n(-i\\hat{H})^nt^{n-1}}{n!\\hbar^n}\\right), \\\\\n",
    "&=&  \\frac{-i}{\\hbar}\\hat{H} \\left(\\mathbb{I} - \\frac{i\\hat{H}t}{\\hbar} + \\cdots + \\frac{(-i\\hat{H})^{n-1}t^{n-1}}{(n-1)!\\hbar^{n-1}}\\right), \\text{ defining } k \\equiv n-1\\\\\n",
    "\\\\\n",
    "&=&  \\frac{-i}{\\hbar}\\hat{H} \\left(\\mathbb{I} - \\frac{i\\hat{H}t}{\\hbar} + \\cdots + \\frac{(-i\\hat{H}t)^{k}}{k!\\hbar^{k}}\\right)\\\\\n",
    "&=& \\frac{-i}{\\hbar}\\hat{H}e^{-i\\hat{H}t / \\hbar},\n",
    "\\end{eqnarray}\n",
    "\n",
    "where it was used: $\\frac{n}{n!}=\\frac{n}{n(n-1)!}=\\frac{1}{(n-1)!}$."
   ]
  },
  {
   "cell_type": "markdown",
   "metadata": {
    "id": "LNPULr2frbzj"
   },
   "source": [
    "Note that for $\\hat{H}=\\sum_{j}^n \\hat{H}_j$, in general, $[\\hat{H}_j, \\hat{H}_k] \\neq 0$, and thus $e^{-i\\hat{H} \\cdot t} \\neq \\prod_j e^{-i\\hat{H}_j \\cdot t}$. That is to say:\n",
    "\n",
    "$$e^{-i\\hat{H}t} = e^{-i\\hat{H}_1\\cdot t} \\cdot e^{-i\\hat{H}_2\\cdot t} \\cdots e^{-i\\hat{H}_n\\cdot t} \\text{ iff } [\\hat{H}_j, \\hat{H}_k]=0.$$"
   ]
  },
  {
   "cell_type": "markdown",
   "metadata": {
    "id": "dHP_Oiwvrbzj"
   },
   "source": [
    "Another way of looking at the problem of solving differential equations is to consider the first order approximation (see Ref. [1], Sec. 4.7.2):\n",
    "\n",
    "\\begin{eqnarray}\n",
    "|\\psi(t+\\Delta t)\\rangle &\\approx& |\\psi(t)\\rangle + \\Delta t \\frac{d}{dt} |\\psi(t)\\rangle\\\\\n",
    "&=& (\\mathbb{I}-\\frac{i}{\\hbar}\\hat{H}\\Delta t)|\\psi(t)\\rangle.\n",
    "\\end{eqnarray} \n",
    "\n",
    "The approximation to high order can be obtained considering small time evolutions ($t<<1$):\n",
    "\n",
    "\\begin{eqnarray}\n",
    "|\\psi(t)\\rangle &\\approx& (\\mathbb{I}-\\frac{i}{\\hbar}\\hat{H} t)|\\psi(0)\\rangle \\\\\n",
    "&=& (\\mathbb{I}-\\frac{i t}{2\\hbar}\\hat{H} )(\\mathbb{I}-\\frac{it}{2\\hbar}\\hat{H})|\\psi(0)\\rangle.\n",
    "\\end{eqnarray} \n",
    "\n",
    "Such that \n",
    "\\begin{eqnarray}\n",
    "|\\psi(t)\\rangle &=& lim_{N\\rightarrow \\infty} (\\mathbb{I}-\\frac{it}{N\\hbar}\\hat{H})^N|\\psi(0)\\rangle \\\\ \n",
    "&=& e^{-i\\hat{H}t/\\hbar} |\\psi(0)\\rangle.\n",
    "\\end{eqnarray} \n",
    "\n",
    "Where it was used: $e^{\\hat{A}} = lim_{N\\rightarrow \\infty} (\\mathbb{I}+ \\frac{\\hat{A}}{N})^N$."
   ]
  },
  {
   "cell_type": "markdown",
   "metadata": {
    "id": "bupirY8vxW5B"
   },
   "source": [
    "# The Heisenberg XXX Spin-1/2 Lattice Model for $N=3$ Three Particles<a name=\"model\" />  \n"
   ]
  },
  {
   "cell_type": "markdown",
   "metadata": {
    "id": "8U8sSH9d1Y1z"
   },
   "source": [
    "The [Quantum Heisenberg XXX spin-1/2 model](https://en.wikipedia.org/wiki/Quantum_Heisenberg_model#XXX_model) is a particular case of the general [XYZ Quantum Heisenberg Model](https://en.wikipedia.org/wiki/Quantum_Heisenberg_model) when the coupling coefficients are $J_x = J_y = J_z \\doteq J$. The particle interaction of the aforementioned spin model for a system of $N$ quantum spin-1/2 particles arranged in a 1D (one-dimensional) Markov chain, where each particle is represented by a qubit, is given by the following `Hamiltonian operator`:\n",
    "\n",
    "\\begin{eqnarray}\n",
    "h_{\\text{heis}} &=& \\sum_{\\langle jk \\rangle =0}^{N-1} J \\left(\\sigma_x^{(j)} \\otimes \\sigma_x^{(k)} + \\sigma_y^{(j)} \\otimes \\sigma_y^{(k)} + \\sigma_z^{(j)} \\otimes \\sigma_z^{(k)}\\right).\n",
    "\\end{eqnarray}\n",
    "Where: \n",
    "- $J$ is a real-valued [coupling](https://en.m.wikipedia.org/wiki/Coupling_constant) constant that determines the interaction strength.\n",
    "- $\\langle jk \\rangle$ specifies interaction only between nearest neighbor qubits $j$ and $k$ ($j,k \\in \\{0,1,2\\}$).\n",
    "- $\\otimes$ denotes the [Kronecker product](https://en.wikipedia.org/wiki/Kronecker_product) symbol between two matrices.\n",
    "\n",
    "<br></br>\n",
    "In classical mechanics, the Hamiltonian $H$ corresponds to the sum of kinetic and potential energy of a **time-independent holonomic and monogenic system** \\[Goldstein, H.]. In quantum mechanics, the Hamiltonian is promoted to a so-called Hermitian operator $\\hat{H}$ represented by a self-adjoint complex matrix within the matrix mechanics formalism."
   ]
  },
  {
   "cell_type": "markdown",
   "metadata": {
    "id": "JU8aVFSn52Rv"
   },
   "source": [
    "The Pauli operators in this 1D spin lattice satisfy the following Lie algebra for the (anti-)commutation relations:\n",
    "\n",
    "\n",
    "\\begin{eqnarray}\n",
    "\\text{commutator: } \\{\\sigma_a^{j}, \\sigma_b^{k} \\} = 2\\delta_{jk}\\delta_{ab}\\sigma_0^{j},\\\\\n",
    "\\end{eqnarray}\n",
    "\\begin{eqnarray}\n",
    "\\text{anti-commutator: }\n",
    "[\\sigma_a^{j}, \\sigma_b^{k}] = 2i\\delta_{jk}\\epsilon_{abc}\\sigma_c^{j}.\n",
    "\\end{eqnarray}\n",
    "\n",
    "Where\n",
    "\n",
    "- $[\\hat{A},\\hat{B}]$ denotes the bilinear skew-symmetric map $[,]: \\mathcal{g} x \\mathcal{g} \\rightarrow \\mathcal{g}$ (a.k.a commutator) between operators $\\hat{A}$ and $\\hat{B}$:\n",
    "\n",
    "\\begin{align}\n",
    "[\\hat{A},\\hat{B}]\\doteq\\hat{A}\\hat{B} - \\hat{B}\\hat{A}.\n",
    "\\end{align}\n",
    "- $i=\\sqrt{-1}$ denotes the imaginary unit.\n",
    "- $\\epsilon_{abc}$ denotes the normalized Levi-Civita symbol ($\\epsilon_{xyz}=1$) with $a, b, c \\in \\{x,y,z\\}$:\n",
    "\n",
    "\\begin{align*}\n",
    "\\varepsilon_{abc} \\doteq\n",
    "\\begin{cases}\n",
    "+1 & \\text{for even permutation of }(a,b,c). \\\\\n",
    "-1 & \\text{for odd permutation of } (a,b,c).  \\\\\n",
    "\\;\\;\\,0 & \\text{for any repeated index}.\n",
    "\\end{cases}\n",
    "\\end{align*}\n",
    "\n",
    "- $\\delta_{jk}$ denotes the Kronecker delta:\n",
    "\n",
    "\\begin{eqnarray}\n",
    "\\delta_{jk} \\doteq \\begin{cases}\n",
    "0, & \\mbox{if } j \\ne k, \\\\\n",
    "1, & \\mbox{if } j=k. \\end{cases}\n",
    "\\end{eqnarray}\n",
    "- $\\{\\sigma_x,\\sigma_y,\\sigma_z\\}$ denotes the $SU(2)$ set of [Pauli operators](https://en.wikipedia.org/wiki/Pauli_matrices) (2x2 complex Hermitian and Unitary matrices sharing equal eigenvalues of $\\pm 1$)."
   ]
  },
  {
   "cell_type": "markdown",
   "metadata": {
    "id": "2EFhUpD1EN8d"
   },
   "source": [
    "For the particular case of a system of $N=3$ spin-1/2 particles arranged in a line, and setting $J=1$, one then has:\n",
    "\n",
    "\\begin{eqnarray}\n",
    "h_{\\text{heis}} &=& \\sigma_x^{(0)}\\otimes\\sigma_x^{(1)}\\otimes \\mathbb{I}^{(2)} + \\mathbb{I}^{(0)} \\otimes\\sigma_x^{(1)}\\otimes\\sigma_x^{(2)} + \\sigma_y^{(0)}\\otimes\\sigma_y^{(1)}\\otimes \\mathbb{I}^{(2)} + \\mathbb{I}^{(0)} \\otimes \\sigma_y^{(1)}\\otimes\\sigma_y^{(2)} + \\mathbb{I}^{(0)} \\otimes\\sigma_z^{(0)}\\otimes\\sigma_z^{(1)} + \\mathbb{I}^{(0)}\\otimes\\sigma_z^{(1)}\\otimes\\sigma_z^{(2)}.\n",
    "\\end{eqnarray}\n",
    "\n",
    "However, the convention adopted by the quantum community is the following shorthand notation (omitting the Kronecker product ($\\otimes$) and the 2x2 identity matrix $\\mathbb{I}$):\n",
    "\n",
    "\\begin{eqnarray}\n",
    "h_{\\text{heis3}} = \\sigma_x^{(0)}\\sigma_x^{(1)} + \\sigma_x^{(1)}\\sigma_x^{(2)} + \\sigma_y^{(0)}\\sigma_y^{(1)} + \\sigma_y^{(1)}\\sigma_y^{(2)} + \\sigma_z^{(0)}\\sigma_z^{(1)} + \\sigma_z^{(1)}\\sigma_z^{(2)}.\n",
    "\\end{eqnarray}"
   ]
  },
  {
   "cell_type": "markdown",
   "metadata": {
    "id": "GzqPiRiByOdF"
   },
   "source": [
    "# Time Evolution of the initial state $|110\\rangle$ under $h_{heis3}$ according to $U_{\\text{heis3}}(t=\\pi)$<a name=\"evolution\" />  \n"
   ]
  },
  {
   "cell_type": "markdown",
   "metadata": {
    "id": "nVDwlzKvfADR"
   },
   "source": [
    "To see how the state of the quantum system envolves from the initial state $|110\\rangle$ to the final state $U_{\\text{Heis3}}(t=\\pi)|110\\rangle = |\\psi(\\pi)\\rangle$ with probability $|\\langle 110 | U_{\\text{Heis3}}(\\pi) |110\\rangle|^2$, one should recall the first and second postulates of quantum mechanics in the ubiquitous Dirac bra-ket notation."
   ]
  },
  {
   "cell_type": "markdown",
   "metadata": {
    "id": "_2jTzSs6sKG_"
   },
   "source": [
    "## **Probability Over Time $t$**\n",
    "\n",
    "Consider a physical observable, which is always represented by a Hermitian ($\\hat{\\mathcal{O}}=\\hat{\\mathcal{O}}^{\\dagger}$) and, therefore, Normal ($ \\hat{\\mathcal{O}}\\hat{\\mathcal{O}}^{\\dagger}=\\hat{\\mathcal{O}}^{\\dagger}\\hat{\\mathcal{O}}$) operator with real eigenvalues $o_j$. A diagonal representation (See the spectral decomposition theorem) in terms of the outer product representation can be given by:\n",
    "\\begin{eqnarray}\n",
    "\\hat{\\mathcal{O}} = \\sum_{j=1}^d o_j P_{o_j}= \\sum_{j=1}^d o_j |o_j\\rangle \\langle o_j|.\n",
    "\\end{eqnarray}\n",
    "\n",
    "Where $P_{o_j}=|o_j\\rangle \\langle o_j|$ is the projector onto the eigenspace of the observable $\\hat{\\mathcal{O}}$ in some $d$-dimensional orthonormal basis $\\{|o_j \\rangle\\}|_{j=1}^d$ with an orthonormal set of eigenvectors $|o_j \\rangle$ ($\\langle o_j|o_k\\rangle=\\delta_{jk}$).\n",
    "\n",
    "If the quantum system is prepared in the state $|\\psi\\rangle \\doteq \\sum_{j=1}^d c_j|o_j\\rangle$, a projective measurement (a.k.a von Neumann measurement) entails the following conditional probability for finding the system in the eigenstate $|o_j\\rangle$ with eigenvalue $o_j$:\n",
    "\n",
    "\\begin{eqnarray} \n",
    "Pr(o_j|\\psi\\rangle)&=&\\langle \\psi | P^{\\dagger}_{o_j} P_{o_j} |\\psi \\rangle \\\\ \n",
    "&=& \\langle \\psi | P_{o_j}^2 |\\psi \\rangle\\\\\n",
    "&=& \\langle \\psi| (|o_j\\rangle \\langle o_j|o_j\\rangle \\langle o_j|)| \\psi \\rangle\\\\\n",
    "&=&\\delta_{jj}\\langle\\psi|o_j\\rangle \\langle o_j |\\psi\\rangle \\\\ \n",
    "&=& |\\langle \\psi|o_j \\rangle|^2=|\\langle o_j|\\psi \\rangle|^2\\\\\n",
    "&=& \\left|\\langle o_j|\\sum_{k=1}^d c_k |o_k\\rangle\\right|^2\\\\\n",
    "&=&  \\left|\\sum_{k=1}^d c_k \\langle o_j|o_k\\rangle\\right|^2\\\\\n",
    "&=&\\left|\\sum_{k=1}^d c_k \\delta_{jk} \\right|^2 = |c_j|^2.\n",
    "\\end{eqnarray} \n",
    "\n",
    "This result is also known as Born's rule:\n",
    "\n",
    "\\begin{eqnarray}\n",
    "Pr(|o_j\\rangle) \\doteq |\\langle o_j |\\psi \\rangle|^2 = |c_j|^2.\n",
    "\\end{eqnarray}\n",
    "\n",
    "<br></br>\n",
    "If the system has evolved from the initial state $|\\psi(0)\\rangle$ to the final state $|\\psi(t)\\rangle$, then:\n",
    "\n",
    "\\begin{eqnarray}\n",
    "P_t(|o_j\\rangle) &=& |\\langle o_j | \\hat{U}(t) |\\psi(0)\\rangle|^2 \\\\\n",
    "&=& |\\langle o_j |\\psi(t)\\rangle|^2.\n",
    "\\end{eqnarray}\n",
    "\n",
    "Therefore, the probability of measuring the initial state $|\\psi(0)\\rangle=|110\\rangle$ over a time window $t=\\pi$ under the **time-independent Hamiltonian** XXX Heisemberg Hamiltonian is:\n",
    "\n",
    "\\begin{eqnarray}\n",
    "P_{t=\\pi}(|110\\rangle) &=& |\\langle 110 | u_{heis3}(t=\\pi) |110\\rangle|^2 \\\\\n",
    "&=& |\\langle 110 |e^{-ih_{heis3}\\pi / \\hbar} |110\\rangle|^2.\n",
    "\\end{eqnarray}\n",
    "\n",
    "Q.E.D.\n",
    "\n",
    "This last equation is known as the transition probability. It resembles the modulus squared of the expectation value of an observable $\\hat{O}$ as in $|\\langle \\hat{O}\\rangle|^2$. **However, the evolution operator is not a Hermitian operator and, therefore, it does not describe a physical observable.** Expected value only makes sense for physical observables!\n",
    "\n",
    "The expectation value of a physical observable $\\hat{\\mathcal{O}}$ is:\n",
    "\n",
    "\\begin{align}\n",
    "\\langle \\hat{\\mathcal{O}}\\rangle &=\\sum_{j=1}^d o_j Pr(o_j|\\psi\\rangle) \\\\\n",
    "&=\\sum_{j=1}^d o_j  \\langle \\psi |o_j \\rangle \\langle o_j|\\psi \\rangle \\\\\n",
    "&= \\langle \\psi | \\left(\\sum_{j=1}^d o_j |o_j \\rangle \\langle o_j| \\right) |\\psi \\rangle\\\\\n",
    "&= \\langle \\psi | \\left(\\sum_{j=1}^d o_j P_{o_j} \\right) |\\psi \\rangle\\\\\n",
    "&=\\langle \\psi |\\hat{\\mathcal{O}}|\\psi\\rangle.\n",
    "\\end{align}\n",
    "\n",
    "Upon evolution of the system's state vector ($\\hat{U}(t)|\\psi\\rangle$), the expected value becomes:\n",
    "\n",
    "\\begin{align}\n",
    "\\langle \\psi |U^{\\dagger}\\hat{\\mathcal{O}}\\hat{U}|\\psi\\rangle.\n",
    "\\end{align}"
   ]
  },
  {
   "cell_type": "markdown",
   "metadata": {
    "id": "qitwJvl6_zmE"
   },
   "source": [
    "# The Trotter-Susuki formula<a name=\"trotter\" />  "
   ]
  },
  {
   "cell_type": "markdown",
   "metadata": {
    "id": "EhSup030wpM3"
   },
   "source": [
    "Consider the following decomposition for a general Hamiltonian $\\hat{H}$:\n",
    "\n",
    "\\begin{align}\n",
    "\\hat{H} = \\hat{H}_a + \\hat{H}_b.\n",
    "\\end{align}\n",
    "\n",
    "If the reduced Hamiltonians commute, i.e, $[\\hat{H}_{a},\\hat{H}_{b}]=\\mathbb{O}$, then the evolution operator is a product of reduced evolution operators:\n",
    "\n",
    "\\begin{align}\n",
    "\\hat{U} = e^{-i\\hat{H}t/ħ} = e^{-i\\hat{H}_{a}t/\\hbar-i\\hat{H}_{b}t/\\hbar} = e^{-i\\hat{H}_{a}t/\\hbar}e^{-i\\hat{H}_{b}t/\\hbar} = \\hat{U}_{a}\\hat{U}_{b} = \\hat{U}_{b}\\hat{U}_{a}.\n",
    "\\end{align}\n",
    "\n",
    "\n",
    "\n",
    "\n"
   ]
  },
  {
   "cell_type": "markdown",
   "metadata": {
    "id": "t4H5cGC487xA"
   },
   "source": [
    "In the case where $[H_a^{(0,1)},H_b^{(1,2)}]\\ne\\mathbb{O}$, one cannot simply write the evolution operator $\\hat{U}$ as a product of evolution operators, therefore, another method must be adopted. There are several techniques to approximate a time Unitary evolution $\\hat{U}=e^{-i\\hat{H}t/\\hbar}$ into gate operations for quantum simulation, to name a few:\n",
    "\n",
    "1. Trotter-Susuki formula.\n",
    "2. Randomized evolution (Qdrift, density matrix exponentiation).\n",
    "3. Linear combination of unitaries.\n",
    "4. Quantum Walks (Qubitization).\n",
    "\n"
   ]
  },
  {
   "cell_type": "markdown",
   "metadata": {
    "id": "EpjxZsj5JG0n"
   },
   "source": [
    "The Lie product formula (a.k.a Trotter-Susuki formula) is defined as (setting $\\hbar\\equiv1$):\n",
    "\n",
    "\\begin{align}\n",
    "U_{Trotter}(t) = e^{-it\\Big(\\hat{H}_a + \\hat{H}_b\\Big)} \\equiv \\lim_{N\\rightarrow\\infty}\\Big(e^{-it \\hat{H}_a/N}e^{-it \\hat{H}_b /N}\\Big)^{N}.\n",
    "\\end{align}\n",
    "\n",
    "Advantages of using Trotterization:\n",
    "\n",
    "- The algorithm is ancilla-free.\n",
    "\n",
    "- It leverages the commutative property of the component Hamiltonians to achieve efficient simulation.\n",
    "\n",
    "- It preserves the locality property of some unidimensional systems with nearest neighbor interactions enabling quantum simulation speed up.\n",
    "\n",
    "\n",
    "\n",
    "\n",
    "\n"
   ]
  },
  {
   "cell_type": "markdown",
   "metadata": {
    "id": "kLp8owufy9W2"
   },
   "source": [
    "The outline of the Trotterization algorithm a.k.a as product-formula method or splitting method is as follows:\n",
    "\n",
    "**1.** Write the Hamiltonian operator $\\hat{H}$ of the system of interest in the form:\n",
    "\n",
    "\\begin{eqnarray}\n",
    "\\hat{H}= \\sum_{\\gamma=1}^{\\Gamma} \\hat{H}_{\\gamma},\n",
    "\\end{eqnarray}\n",
    "where $\\hat{H}_{\\gamma}$ is itself a Hermitian operator.\n",
    "\n",
    "**2.** Write the unitary evolution operator $U$ in terms of product of exponentials using the first-order Lie-Trotter formula defined as:\n",
    "\n",
    "\\begin{eqnarray}\n",
    "\\mathcal{L}_1(t) = e^{-it \\hat{H}_{1}} \\cdots e^{-it \\hat{H}_{\\Gamma}} = e^{-it \\hat{H}} + O(t^2),\n",
    "\\end{eqnarray}\n",
    "where $O(t^2)$ is the trotter error.\n",
    "\n",
    "**3.** Perform $e^{-it\\hat{H}}$ up to some error $\\epsilon$ according to the spectral norm:\n",
    "\n",
    "\\begin{eqnarray}\n",
    "||\\hat{U}-e^{-it\\hat{H}}|| \\leq \\epsilon.\n",
    "\\end{eqnarray}\n",
    "\n",
    "**4.** Define the total cost of the simulation as:\n",
    "\\begin{eqnarray}\n",
    "\\text{total cost} = \\text{no. of steps } \\times \\text{ cost}/\\text{step}.\n",
    "\\end{eqnarray}\n",
    "\n",
    "In step 3, each exponential in the evolution operator $U_{\\text{Heis3}}(t)$ is transpiled into a quantum gate."
   ]
  },
  {
   "cell_type": "markdown",
   "metadata": {
    "id": "yWzvruE81BCk"
   },
   "source": [
    "# Decomposition of $U_{\\text{Heis3}}(t)$ using Trotterization<a name=\"decomp\" />  "
   ]
  },
  {
   "cell_type": "markdown",
   "metadata": {
    "id": "TtVnI-ZryyRZ"
   },
   "source": [
    "Consider the following decomposition for the Hamiltonian $H_{heis3}$:\n",
    "\n",
    "\\begin{align}\n",
    "H_{heis3} = H_a^{(0,1)} + H_b^{(1,2)},\n",
    "\\end{align}\n",
    "where\n",
    "\\begin{align}\n",
    "H_a^{(0,1)}  =\\big(X^{(0)} \\otimes X^{(1)} + Y^{(0)}\\otimes Y^{(1)} + Z^{(0)}\\otimes Z^{(1)}\\big)\\otimes \\mathbb{I}^{(2)}, \\\\\n",
    "H_b^{(1,2)} = \\mathbb{I}^{(0)}\\otimes \\big(X^{(1)}\\otimes X^{(2)} +  Y^{(1)}\\otimes Y^{(2)} + Z^{(1)}\\otimes Z^{(2)}\\big),\n",
    "\\end{align}\n",
    "\n",
    "We note that the pair of operators in the exponential of $U_{Trotter}(t)$ commute, i.e,\n",
    "\n",
    "$$[X\\otimes X,Y\\otimes Y] = [X\\otimes X,Z\\otimes Z] = [Y\\otimes Y,Z\\otimes Z] =\\mathbb{O}.$$\n",
    "\n",
    "One can verify this is true, as follows ($j\\ne k$):\n",
    "\n",
    "\\begin{eqnarray}\n",
    "[\\sigma_{j}\\otimes\\sigma_{j},\\sigma_{k}\\otimes\\sigma_{k}] & = (\\sigma_{j}\\otimes\\sigma_{j}) \\cdot (\\sigma_{k}\\otimes\\sigma_{k}) - (\\sigma_{k}\\otimes\\sigma_{k}) \\cdot (\\sigma_{j}\\otimes\\sigma_{j}),\n",
    "\\end{eqnarray}\n",
    "\n",
    "using $(A\\otimes B)\\cdot(C\\otimes D)=AC\\otimes BD$, one then has\n",
    "\n",
    "\\begin{eqnarray}\n",
    "[\\sigma_{j}\\otimes\\sigma_{j},\\sigma_{k}\\otimes\\sigma_{k}]=\\sigma_{j}\\sigma_{k}\\otimes\\sigma_{j}\\sigma_{k} - \\sigma_{k}\\sigma_{j}\\otimes\\sigma_{k}\\sigma_{j} \n",
    "\\end{eqnarray}\n",
    "\n",
    "and given the $\\mathfrak{su}(2)$ Lie algebra $\\sigma_{j}\\sigma_{k} = \\sigma_{0}\\delta_{jk}+i\\epsilon_{jkl}\\sigma_{l}$, it becomes\n",
    "\n",
    "\\begin{eqnarray}\n",
    "[\\sigma_{j}\\otimes\\sigma_{j},\\sigma_{k}\\otimes\\sigma_{k}]&=& i\\epsilon_{jkl}\\sigma_{l}\\otimes i\\epsilon_{jkl}\\sigma_{l} -i\\epsilon_{kjl}\\sigma_{l}\\otimes i\\epsilon_{kjl}\\sigma_{l} \\\\\n",
    "&=& i^{2}\\epsilon_{jkl}^{2}\\sigma_{l}\\otimes\\sigma_{l} -i^{2}\\epsilon_{kjl}^{2}\\sigma_{l}\\otimes \\sigma_{l} \\\\\n",
    "&=& i^{2}\\epsilon_{jkl}^{2}\\sigma_{l}\\otimes\\sigma_{l} -i^{2}(-\\epsilon_{jkl})^{2}\\sigma_{l}\\otimes \\sigma_{l} \\\\\n",
    "&=& \\mathbb{O}.\n",
    "\\end{eqnarray}\n"
   ]
  },
  {
   "cell_type": "markdown",
   "metadata": {
    "id": "tQtPm3-V4RYl"
   },
   "source": [
    "With the above result in hands, the exponential $e^{-itH_a^{01}} $ can be written in the form:\n",
    "\n",
    "\\begin{eqnarray}\n",
    "e^{-itH_a^{01}} &=& e^{-it(X\\otimes X+ Y\\otimes Y + Z\\otimes Z)\\otimes \\mathbb{I}} \\\\ \n",
    "&=& e^{-it(X\\otimes X\\otimes \\mathbb{I} + Y\\otimes Y\\otimes \\mathbb{I} + Z\\otimes Z\\otimes \\mathbb{I})} \\\\\n",
    "&=& e^{-itX\\otimes X\\otimes \\mathbb{I}}e^{-itY\\otimes Y\\otimes \\mathbb{I}}e^{-itZ\\otimes Z\\otimes \\mathbb{I}},\n",
    "\\end{eqnarray}\n",
    "\n",
    "which after using $e^{A\\otimes \\mathbb{I}} = e^{A}\\otimes \\mathbb{I}$ becomes\n",
    "\n",
    "\\begin{eqnarray}\n",
    "e^{-itH_a^{01}}&=& \\Big(e^{-itX\\otimes X}\\otimes \\mathbb{I}\\Big)\\Big(e^{-itY\\otimes Y}\\otimes \\mathbb{I}\\Big)\\Big(e^{-itZ\\otimes Z}\\otimes \\mathbb{I}\\Big), \\\\\n",
    "&=& \\Big(e^{-itX\\otimes X}\\Big)\\Big(e^{-itY\\otimes Y}\\Big)\\Big(e^{-itZ\\otimes Z}\\Big)\\otimes \\mathbb{I}.\n",
    "\\end{eqnarray}\n",
    "\n",
    "And equivalenty for $e^{-itH_b^{12}}$:\n",
    "\n",
    "\\begin{eqnarray}\n",
    "e^{-itH_b^{12}} &= \\mathbb{I}\\otimes\\Big( e^{-itX\\otimes X}\\Big)\\Big( e^{-itY\\otimes Y}\\Big)\\Big( e^{-itZ\\otimes Z}\\Big).\n",
    "\\end{eqnarray}\n",
    "\n",
    "The unitary evolution operator for the decomposition of $H_{heis3}$ according to the Trotter-Suzuki fomula thus becomes:\n",
    "\n",
    "\\begin{eqnarray}\n",
    "U_{\\text{Heis3}}(t) &=& e^{-itH_{heis3}} = e^{-it\\Big(H_a^{(0,1)} + H_b^{(1,2)}\\Big)} = \\lim_{N\\rightarrow\\infty}\\Big(e^{-it H_a^{(0,1)}/N}e^{-it H_b^{(1,2)} /N}\\Big)^{N}\\\\\n",
    "&=& \\lim_{N\\rightarrow\\infty}\\left(\\Big(e^{-it X^0\\otimes X^1/N}e^{-it Y^0\\otimes Y^1/N}e^{-it Z^0\\otimes Z^1/N}\\otimes \\mathbb{I}\\Big)\\Big(\\mathbb{I}\\otimes e^{-it X^1\\otimes X^2/N}e^{-it Y^1\\otimes Y^2/N}e^{-it Z^1 \\otimes Z^2/N}\\Big)\\right)^{N}.\n",
    "\\end{eqnarray}\n",
    "\n",
    "Making the definitions\n",
    "\n",
    "\\begin{eqnarray}\n",
    "XX(2t)^{(j,k)}\\equiv e^{-it X^j \\otimes X^k}, \\\\\n",
    "YY(2t)^{(j,k)}\\equiv e^{-it Y^j \\otimes Y^k}, \\\\\n",
    "ZZ(2t)^{(j,k)}\\equiv e^{-it Z^j \\otimes Z^k},\n",
    "\\end{eqnarray}\n",
    "\n",
    "one then has:\n",
    "\n",
    "\\begin{eqnarray}\n",
    "U_{\\text{Heis3}}(t) = \\lim_{N\\rightarrow\\infty}\\Big[\\Big(XX(2t/N)^{(0,1)}YY(2t/N)^{(0,1)}ZZ(2t/N)^{(0,1)}\\otimes \\mathbb{I}\\Big)\\Big(\\mathbb{I}\\otimes XX(2t/N)^{(1,2)}YY(2t/N)^{(1,2)}ZZ(2t/N)^{(1,2)}\\Big)\\Big]^{N}.\n",
    "\\end{eqnarray}"
   ]
  },
  {
   "cell_type": "markdown",
   "metadata": {
    "id": "t0W4pvCvy8tw"
   },
   "source": [
    "# Transpilation of $U_{\\text{Heis3}}(t)$ Into Quantum Gates<a name=\"transp\" />  "
   ]
  },
  {
   "cell_type": "markdown",
   "metadata": {
    "id": "3Xr2ISP1rbzp"
   },
   "source": [
    "To build quantum circuits corresponding to unitary evolution operators from exponentials of the form $U=e^{-i\\hat{H}\\Delta t}$, one can use the parity trick (see Ref. [[1](#ref1)], Sec. 4.7.3). In the following sections, the quantum circuits provided by IBMQ are verified."
   ]
  },
  {
   "cell_type": "markdown",
   "metadata": {
    "id": "X28dU-KCrbzp"
   },
   "source": [
    "For a Hamiltonian of the form $\\hat{H}=\\sum_j^N \\hat{H}_j = \\sum_j^N \\lambda P_j \\otimes P_j$, with Pauli operators $P_j \\in \\{X, Y, Z\\}$ and constant $\\lambda$, transpilation into quantum gates of each one of the components can be achieved with the following steps (adapted from [[6](#ref6)]):\n",
    "\n",
    "**1) Diagonalize the component Hamiltonian $\\hat{H}_j=\\lambda P_j \\otimes P_j$:**\n",
    "\n",
    "$$ \\lambda (R_\\hat{n}\\otimes R_\\hat{n}) e^{-itZ\\otimes Z} (R_\\hat{n} \\otimes R_\\hat{n}),$$ \n",
    "\n",
    "where $R_{\\hat{n}} \\in \\{R_x, R_y, R_z \\}$ is a local rotation (one-qubit gate) around the $\\hat{n}$-axis.\n",
    "\n",
    "**2) Compute the eigenvalues/parity information (phase shift) in the $|ij\\rangle$ basis (usually implemented with CNOT gates):**\n",
    "\n",
    "$$(Z \\otimes Z)|ij\\rangle = (-1)^{i \\oplus j }|ij\\rangle,$$ \n",
    "\n",
    "where $\\oplus$ denotes the exclusive-OR symbol that represents the \"direct sum\" in mathematics and the parity in quantum mechanics.\n",
    "\n",
    "**3) Compute the gate that kicks back the right parity (phase) information:**\n",
    "\n",
    "$$e^{-i\\lambda(-1)^{i\\oplus j}\\: Zt}.$$\n",
    "\n",
    "**4) Uncompute the parity information. This is done by applying the Hermitian conjugate of the gate used to compute the parity.**"
   ]
  },
  {
   "cell_type": "markdown",
   "metadata": {
    "id": "SM8y11x3-J1m"
   },
   "source": [
    "## The $e^{-itZZ}$ gate"
   ]
  },
  {
   "cell_type": "markdown",
   "metadata": {
    "id": "StBSa_8gAHe3"
   },
   "source": [
    "The $e^{-itZZ}$ gate (a.k.a [RZZ](https://qiskit.org/documentation/stubs/qiskit.circuit.library.RZZGate.html)(2t)) has the following representation:\n",
    "\n",
    "\\begin{equation}\n",
    "R_{zz}(2t)= \\exp(-it Z\\otimes Z)=cos\\left(t\\right)(\\mathbb{I}_2\\otimes \\mathbb{I}_2)-isin\\left(t\\right)(Z\\otimes Z).\n",
    "\\end{equation}"
   ]
  },
  {
   "cell_type": "markdown",
   "metadata": {
    "id": "dEgaR4z2DmrO"
   },
   "source": [
    "IBM supplementary material provides the following quantum circuit for the $e^{-itZZ}$ gate:"
   ]
  },
  {
   "cell_type": "code",
   "execution_count": null,
   "metadata": {
    "colab": {
     "base_uri": "https://localhost:8080/",
     "height": 94
    },
    "executionInfo": {
     "elapsed": 1232,
     "status": "ok",
     "timestamp": 1656420069301,
     "user": {
      "displayName": "Lucas Camponogara Viera",
      "userId": "14322290658374940800"
     },
     "user_tz": -480
    },
    "id": "7pUykyDoAjYs",
    "outputId": "4200ca96-e3ba-4b4e-c48e-b5d0b8e65fbb"
   },
   "outputs": [
    {
     "data": {
      "text/html": [
       "<pre style=\"word-wrap: normal;white-space: pre;background: #fff0;line-height: 1.1;font-family: &quot;Courier New&quot;,Courier,monospace\">                          \n",
       "q_0: ──■───────────────■──\n",
       "     ┌─┴─┐┌─────────┐┌─┴─┐\n",
       "q_1: ┤ X ├┤ Rz(2*t) ├┤ X ├\n",
       "     └───┘└─────────┘└───┘</pre>"
      ],
      "text/plain": [
       "                          \n",
       "q_0: ──■───────────────■──\n",
       "     ┌─┴─┐┌─────────┐┌─┴─┐\n",
       "q_1: ┤ X ├┤ Rz(2*t) ├┤ X ├\n",
       "     └───┘└─────────┘└───┘"
      ]
     },
     "execution_count": 17,
     "metadata": {},
     "output_type": "execute_result"
    }
   ],
   "source": [
    "# e^{(-itZZ)}\n",
    "\n",
    "'''\n",
    "from qiskit import QuantumCircuit\n",
    "from qiskit.circuit import Parameter\n",
    "'''\n",
    "\n",
    "t = Parameter('t')\n",
    "qc = QuantumCircuit(2)\n",
    "qc.cnot(0,1)\n",
    "qc.rz(2 * t, 1)\n",
    "qc.cnot(0,1)\n",
    "#qc.draw(output='mpl') # Requires 'pip install pylatexenc' library to use 'MatplotlibDrawer'.\n",
    "qc.draw()"
   ]
  },
  {
   "cell_type": "markdown",
   "metadata": {
    "id": "E_yeisK3rbzq"
   },
   "source": [
    "The above circuit can be obtained using the parity trick, where the first CNOT gate computes the parity, and the second CNOT gate uncomputes the operation, since the CNOT (or CX) gate is both Unitary and Hermitian operator ($CX \\cdot CX = CX \\cdot CX^{\\dagger} = \\mathbb{I}$)."
   ]
  },
  {
   "cell_type": "markdown",
   "metadata": {},
   "source": [
    "**Verification:**\n",
    "\n",
    "**1)** This gate is already diagonalized in the Z-basis. \n",
    "\n",
    "To see this is true, recall from the spectral decomposition theorem for Normal matrices that any Normal operator $\\hat{O}$ in a Hilbert space $\\mathcal{H}$ of dimension $\\dim \\mathcal{H} =d$ is unitarily diagonalizable and has a spectral (eigenvalue) decomposition in terms of the outer product representation, and in the basis of its eigenvectors, of the form:\n",
    "\n",
    "$$ \\hat{O} = \\sum_{j=1}^{d}= o_j P_{o_j} = \\sum_{j=1}^{d} o_j |o_j \\rangle \\langle o_j|.$$\n",
    "\n",
    "Where:\n",
    "\n",
    "- $o_j$ and $P_{o_j}$ are the corresponding eigenvalue and projector operator of the observable $\\hat{O}$, respectively. \n",
    "\n",
    "- $\\{o_j\\}|_{j=1}^d$ is a basis set of $d$ linearly independent orthonormal eigenvectors $|o_j\\rangle$ of $\\hat{O}$ with eigenvalue $o_j$.\n",
    "\n",
    "Note that:\n",
    "\n",
    "$$ \\Bigg( \\sum_{j=1}^{d} o_j |o_j \\rangle \\langle o_j| \\Bigg) |o_k \\rangle =  \\sum_{j=1}^{d} o_j |o_j \\rangle \\delta_{jk}= o_k |o_k \\rangle = \\hat{O} |o_k \\rangle.$$\n",
    "\n",
    "Since Pauli operators are all involutory operators, i.e, their eigenvalues are $o_j = \\pm 1$, one then has \n",
    "\n",
    "$$Z=|0\\rangle\\langle 0|-|1\\rangle\\langle 1|.$$"
   ]
  },
  {
   "cell_type": "markdown",
   "metadata": {
    "id": "E4p8FcXo-IBY"
   },
   "source": [
    "**2)** Computing the parity information by acting with the $ZZ$ operator:\n",
    "\n",
    "\\begin{eqnarray}\n",
    "ZZ|00\\rangle &=& |00\\rangle, \\\\\n",
    "ZZ|10\\rangle &=& -|10\\rangle, \\\\\n",
    "ZZ|01\\rangle &=& -|01\\rangle, \\\\\n",
    "ZZ|11\\rangle &=& |11\\rangle. \\\\\n",
    "\\end{eqnarray}\n",
    "\n",
    "One can see that a minus sign (phase) is introduced whenever the basis state has odd parity (01 or 10). Therefore, in the computational basis, a phase shift will be applied to the system according to $e^{i\\Delta t}$ if the parity of the $n$ qubits in the computational basis is odd, otherwise, the phase shift will be $e^{-i\\Delta t}$ if the parity is even (see Ref. [[1](#ref1)], Sec. 4.7.3). \n",
    "\n",
    "This becomes evident after realizing that \n",
    "\n",
    "\\begin{align*}\n",
    "Z&=|0\\rangle\\langle 0|-|1\\rangle\\langle 1|\\\\\n",
    "\\implies Z\\otimes Z &= (|0\\rangle\\langle 0|-|1\\rangle\\langle 1|)\\otimes(|0\\rangle\\langle 0|-|1\\rangle\\langle 1|)=|00\\rangle\\langle 00|-|01\\rangle\\langle 01|-|10\\rangle\\langle 10|+|11\\rangle\\langle 11|\\\\\n",
    "&=\n",
    "\\begin{bmatrix} \n",
    "1 & 0 & 0 & 0 \\\\ 0 & -1 & 0 & 0 \\\\ 0 & 0 & -1 & 0 \\\\ 0 & 0 & 0 & 1  \n",
    "\\end{bmatrix}\\\\\n",
    "\\implies e^{-itZZ} \\equiv e^{-itZ \\otimes Z} &=\n",
    "\\begin{bmatrix} \n",
    "e^{-it} & 0 & 0 & 0 \\\\ 0 & e^{it} & 0 & 0 \\\\ 0 & 0 & e^{it} & 0 \\\\ 0 & 0 & 0 & e^{-it}  \n",
    "\\end{bmatrix} \\\\\n",
    "&= e^{-it}|00\\rangle\\langle 00| + e^{it}|01\\rangle\\langle 01| + e^{it}|10\\rangle\\langle 10| + e^{-it}|11\\rangle\\langle 11|.\n",
    "\\end{align*}\n",
    "\n",
    "\n",
    "To verify this result, recall that a Hermitian or Unitary operator $\\hat{O}$ is also a Normal operator and, therefore, has a spectral decomposition in terms of the outer product representation in the form $\\hat{O} = \\sum_j o_j|o_j\\rangle \\langle o_j|$ according to the spectral decomposition theorem for Normal matrices. In this case, it is possible to write the operator function (matrix function) on a normal matrix as:\n",
    "\n",
    "$$f(\\hat{O})= \\sum_j f(o_j) |o_j\\rangle \\langle o_j|,$$\n",
    "\n",
    "which is equivalent to (writing $\\hat{O} = UDU^{\\dagger}$)\n",
    "\n",
    "\\begin{eqnarray}\n",
    "f(\\hat{O}) = Uf(D)U^{\\dagger}.\n",
    "\\end{eqnarray}\n",
    "\n",
    "\n",
    "For the exponential function over the field of the complex numbers, this becomes:\n",
    "\n",
    "$$ e^{-i\\theta\\hat{O}} = \\sum_{j=1}^n e^{-i\\theta o_j} |o_j\\rangle \\langle o_j| = e^{-i\\theta o_1} |o_{1}\\rangle \\langle o_{1}| + \\cdots + e^{-i\\theta o_n} |o_{n}\\rangle \\langle o_{n}|.$$\n",
    "\n",
    "To see this is true, recall that the eigenvalues of a matrix are multiplied by a scalar when the matrix is multiplied by the same scalar, while the eigenvectors are left unchanged. One can extend this identity to a Kronecker product of Normal operators noting that `the Kronecker product of two Hermitian operators is another Hermitian operator`."
   ]
  },
  {
   "cell_type": "code",
   "execution_count": 86,
   "metadata": {},
   "outputs": [
    {
     "data": {
      "text/plain": [
       "(array([ 1., -1.]),\n",
       " array([[1., 0.],\n",
       "        [0., 1.]]))"
      ]
     },
     "execution_count": 86,
     "metadata": {},
     "output_type": "execute_result"
    }
   ],
   "source": [
    "'''Eiganvalues and Eigenvectors of Z.'''\n",
    "\n",
    "zero=np.array([[1,0]])      # row-like numpy array representing the state |0>.\n",
    "one=np.array([[0,1]])       # row-like numpy array representing the state |1>.\n",
    "Z=(zero.T@zero)-(one.T@one) # |0><0| - |1><1|\n",
    "\n",
    "np.linalg.eig(Z)            # Eigenvalues: +1, -1 | Eigenvectors: |0⟩, |1⟩."
   ]
  },
  {
   "cell_type": "code",
   "execution_count": 87,
   "metadata": {},
   "outputs": [
    {
     "data": {
      "text/plain": [
       "(array([ 1., -1., -1.,  1.]),\n",
       " array([[1., 0., 0., 0.],\n",
       "        [0., 1., 0., 0.],\n",
       "        [0., 0., 1., 0.],\n",
       "        [0., 0., 0., 1.]]))"
      ]
     },
     "execution_count": 87,
     "metadata": {},
     "output_type": "execute_result"
    }
   ],
   "source": [
    "'''Eiganvalues and Eigenvectors of ZZ.'''\n",
    "\n",
    "ZZ = np.kron(Z,Z) # Z⊗Z.\n",
    "\n",
    "np.linalg.eig(ZZ) # Eigenvalues: +1, -1, -1, +1 | Eigenvectors: |00⟩, |01⟩, |10⟩, |11⟩."
   ]
  },
  {
   "cell_type": "markdown",
   "metadata": {},
   "source": [
    "**3)** One should recall that $RZ(2t) = e^{-itZ}$.\n",
    "\n",
    "**Implementing the CNOT gates and the $RZ(2t)$ gate for the parity computation circuit according to steps 2) and 4):**\n",
    "\n",
    "\\begin{eqnarray}\n",
    "CX^{01}\\big(\\mathbb{I} \\otimes RZ(2t)\\big)CX^{01} =\n",
    "CX^{01}\\big(\\mathbb{I} \\otimes e^{-itZ}\\big)CX^{01}\\\\ \n",
    "\\end{eqnarray}\n",
    "\n",
    "Using the equation for a generic CU gate, one can write $CX^{01} = \\mathbb{I} \\otimes |0\\rangle\\langle 0\\rangle + X \\otimes |1 \\rangle \\langle 1|$. However, in textbook convention this gate reads $CX^{01}=|0\\rangle\\langle 0|\\otimes \\mathbb{I} +|1\\rangle\\langle 1|\\otimes X$. One then has:\n",
    "\n",
    "\\begin{eqnarray}\n",
    "CX^{01}\\big(\\mathbb{I} \\otimes e^{-itZ}\\big)CX^{01}=(|0\\rangle\\langle 0|\\otimes \\mathbb{I} +|1\\rangle\\langle 1|\\otimes X)\\big( \\mathbb{I} \\otimes e^{-itZ}\\big)\\big(|0\\rangle\\langle 0|\\otimes \\mathbb{I}  +|1\\rangle\\langle 1|\\otimes X \\big).\n",
    "\\end{eqnarray}\n",
    "\n",
    "From here, the distributivity property for matrix product with respect to matrix addition yelds:\n",
    "\n",
    "$$\\big(\\mathbb{I}\\otimes e^{-itZ}\\big)\\big(|0\\rangle\\langle 0|\\otimes \\mathbb{I} +|1\\rangle\\langle 1|\\otimes X \\big) = \\big(\\mathbb{I}\\otimes e^{-itZ}\\big) \\big(|0\\rangle\\langle 0|\\otimes \\mathbb{I} \\big) + \\big(\\mathbb{I} \\otimes e^{-itZ}\\big)\\big(|1\\rangle\\langle 1|\\otimes X \\big),$$\n",
    "\n",
    "Using $(A\\otimes B)\\cdot(C\\otimes D)=A\\cdot C\\otimes B\\cdot D$, the last term becomes:\n",
    "\n",
    "$$\\big(\\mathbb{I} \\cdot |0\\rangle\\langle 0|\\otimes e^{-itZ} + \\mathbb{I} \\cdot |1\\rangle\\langle 1|\\otimes e^{-itZ}X \\big) = \\big(|0\\rangle\\langle 0|\\otimes e^{-itZ} + |1\\rangle\\langle 1|\\otimes e^{-itZ}X \\big) .$$ \n",
    "\n",
    "The final steps carry on as follows:\n",
    "\n",
    "\\begin{eqnarray}\n",
    "CX^{01}\\big(\\mathbb{I}\\otimes e^{-itZ}\\big)CX^{01} &=& \\big(|0\\rangle\\langle 0|\\otimes \\mathbb{I} +|1\\rangle\\langle 1|\\otimes X \\big)\\big(|0\\rangle\\langle 0|\\otimes e^{-itZ} +|1\\rangle\\langle 1|\\otimes e^{-itZ}X \\big) \\\\\n",
    "&=& |0\\rangle\\langle 0|\\otimes e^{-itZ} +|1\\rangle\\langle 1|\\otimes Xe^{-itZ}X \\\\ \n",
    "&=& |0\\rangle\\langle 0|\\otimes \\big(e^{-it}|0\\rangle\\langle 0|+e^{it}|1\\rangle\\langle 1|\\big) +|1\\rangle\\langle 1|\\otimes X \\big(e^{-it}|0\\rangle\\langle 0|+e^{it}|1\\rangle\\langle 1|\\big)X,\n",
    "\\end{eqnarray}\n",
    "\n",
    "and noting that $X|0\\rangle = |1\\rangle$ and $X|1\\rangle = |0\\rangle$, one gets:\n",
    "\n",
    "\\begin{eqnarray}\n",
    "CX^{01}\\big(\\mathbb{I}\\otimes e^{-itZ}\\big)CX^{01}&=& |0\\rangle\\langle 0|\\otimes \\big(e^{-it}|0\\rangle\\langle 0|+e^{it}|1\\rangle\\langle 1|\\big) +|1\\rangle\\langle 1|\\otimes \\big(e^{-it}|1\\rangle\\langle 1|+e^{it}|0\\rangle\\langle 0|\\big) \\\\\n",
    "&=& e^{-it}|00\\rangle\\langle 00| + e^{it}|01\\rangle\\langle 01| + e^{it}|10\\rangle\\langle 10| + e^{-it}|11\\rangle\\langle 11| \\\\\n",
    "&=& e^{-itZZ}.\n",
    "\\end{eqnarray}"
   ]
  },
  {
   "cell_type": "markdown",
   "metadata": {
    "id": "oPXl4jCU-SrS"
   },
   "source": [
    "## The $e^{-itXX}$ gate"
   ]
  },
  {
   "cell_type": "markdown",
   "metadata": {
    "id": "5mLJIk2lD6c3"
   },
   "source": [
    "IBM supplementary material provides the following quantum circuit for $e^{-itXX}$:"
   ]
  },
  {
   "cell_type": "code",
   "execution_count": null,
   "metadata": {
    "colab": {
     "base_uri": "https://localhost:8080/",
     "height": 94
    },
    "executionInfo": {
     "elapsed": 276,
     "status": "ok",
     "timestamp": 1656420078748,
     "user": {
      "displayName": "Lucas Camponogara Viera",
      "userId": "14322290658374940800"
     },
     "user_tz": -480
    },
    "id": "FMY8BYH_BS_c",
    "outputId": "e5e7597b-be5c-4bdf-e976-9b7739773731"
   },
   "outputs": [
    {
     "data": {
      "text/html": [
       "<pre style=\"word-wrap: normal;white-space: pre;background: #fff0;line-height: 1.1;font-family: &quot;Courier New&quot;,Courier,monospace\">     ┌─────────┐                     ┌──────────┐\n",
       "q_0: ┤ Ry(π/2) ├──■───────────────■──┤ Ry(-π/2) ├\n",
       "     ├─────────┤┌─┴─┐┌─────────┐┌─┴─┐├──────────┤\n",
       "q_1: ┤ Ry(π/2) ├┤ X ├┤ Rz(2*t) ├┤ X ├┤ Ry(-π/2) ├\n",
       "     └─────────┘└───┘└─────────┘└───┘└──────────┘</pre>"
      ],
      "text/plain": [
       "     ┌─────────┐                     ┌──────────┐\n",
       "q_0: ┤ Ry(π/2) ├──■───────────────■──┤ Ry(-π/2) ├\n",
       "     ├─────────┤┌─┴─┐┌─────────┐┌─┴─┐├──────────┤\n",
       "q_1: ┤ Ry(π/2) ├┤ X ├┤ Rz(2*t) ├┤ X ├┤ Ry(-π/2) ├\n",
       "     └─────────┘└───┘└─────────┘└───┘└──────────┘"
      ]
     },
     "execution_count": 18,
     "metadata": {},
     "output_type": "execute_result"
    }
   ],
   "source": [
    "# e^{(-itXX)}\n",
    "\n",
    "'''\n",
    "from qiskit import QuantumCircuit\n",
    "from qiskit.circuit import Parameter\n",
    "'''\n",
    "\n",
    "t = Parameter('t')\n",
    "qc = QuantumCircuit(2)\n",
    "qc.ry(np.pi/2,[0,1])\n",
    "qc.cnot(0,1)\n",
    "qc.rz(2 * t, 1)\n",
    "qc.cnot(0,1)\n",
    "qc.ry(-np.pi/2,[0,1])\n",
    "\n",
    "qc.draw()"
   ]
  },
  {
   "cell_type": "markdown",
   "metadata": {
    "id": "kfj_F29DCB2Y"
   },
   "source": [
    "From the fact that \n",
    "\n",
    "$$H|0\\rangle = R_y(\\pi/2)|0\\rangle = \\frac{1}{\\sqrt{2}}(|0\\rangle+|1\\rangle) \\equiv |+\\rangle,$$ \n",
    "\n",
    "and \n",
    "\n",
    "$$H|1\\rangle = R_y(-\\pi/2)|0\\rangle = \\frac{1}{\\sqrt{2}}(|0\\rangle-|1\\rangle) \\equiv |-\\rangle,$$ \n",
    "\n",
    "one equivalent quantum circuit is:"
   ]
  },
  {
   "cell_type": "code",
   "execution_count": null,
   "metadata": {
    "colab": {
     "base_uri": "https://localhost:8080/",
     "height": 94
    },
    "executionInfo": {
     "elapsed": 277,
     "status": "ok",
     "timestamp": 1656420086230,
     "user": {
      "displayName": "Lucas Camponogara Viera",
      "userId": "14322290658374940800"
     },
     "user_tz": -480
    },
    "id": "21rPcyejCEhf",
    "outputId": "aa523526-1a73-4e5a-fa7b-81560127d797"
   },
   "outputs": [
    {
     "data": {
      "text/html": [
       "<pre style=\"word-wrap: normal;white-space: pre;background: #fff0;line-height: 1.1;font-family: &quot;Courier New&quot;,Courier,monospace\">     ┌───┐                     ┌───┐\n",
       "q_0: ┤ H ├──■───────────────■──┤ H ├\n",
       "     ├───┤┌─┴─┐┌─────────┐┌─┴─┐├───┤\n",
       "q_1: ┤ H ├┤ X ├┤ Rz(2*t) ├┤ X ├┤ H ├\n",
       "     └───┘└───┘└─────────┘└───┘└───┘</pre>"
      ],
      "text/plain": [
       "     ┌───┐                     ┌───┐\n",
       "q_0: ┤ H ├──■───────────────■──┤ H ├\n",
       "     ├───┤┌─┴─┐┌─────────┐┌─┴─┐├───┤\n",
       "q_1: ┤ H ├┤ X ├┤ Rz(2*t) ├┤ X ├┤ H ├\n",
       "     └───┘└───┘└─────────┘└───┘└───┘"
      ]
     },
     "execution_count": 19,
     "metadata": {},
     "output_type": "execute_result"
    }
   ],
   "source": [
    "# Equivalent circuit:\n",
    "\n",
    "qc = QuantumCircuit(2)\n",
    "qc.h([0,1])\n",
    "qc.cx(0, 1)\n",
    "qc.rz(2 * t, 1)\n",
    "qc.cx(0, 1)\n",
    "qc.h([0,1])\n",
    "qc.draw()"
   ]
  },
  {
   "cell_type": "markdown",
   "metadata": {
    "id": "8k--Wn8Krbzs"
   },
   "source": [
    "The above circuit can be obtained using the parity trick and a basis change between the Pauli $X$ and $Z$ bases by applying local Hadamard gates on each register. Since the $e^{-itXX}$ gate is not diagonalized in the computational basis (Z-basis), the first pair of Hadamard gates are used to do a basis change (rotation) to the $X$-basis, while the second pair of Hadamard gates change the basis from $X$ back to $Z$ because measurements are made in the Z-basis. The intermediate circuit (the circuit between the Hadamard gates) computes the parity."
   ]
  },
  {
   "cell_type": "markdown",
   "metadata": {
    "id": "zENoZYv6ZSKl"
   },
   "source": [
    "**Verification:**\n",
    "\n"
   ]
  },
  {
   "cell_type": "markdown",
   "metadata": {},
   "source": [
    "Computing the parity information by acting with the $XX$ operator:\n",
    "\n",
    "\n",
    "$$XX|++⟩=|++⟩,$$\n",
    "\n",
    "$$XX|+-⟩=-|+-⟩,$$\n",
    "\n",
    "$$XX|-+⟩=-|-+⟩,$$\n",
    "\n",
    "$$XX|--⟩=|--⟩.$$"
   ]
  },
  {
   "cell_type": "markdown",
   "metadata": {
    "id": "nz6ldz_j1sYc"
   },
   "source": [
    "One should note that $e^{-itXX}$ is shorthand for $e^{-itX \\otimes X}.$ From the spectral decomposition theorem for Normal matrices, one has \n",
    "\n",
    "$$X = \\sum_{j=1}^{d} x_j |x_j \\rangle \\langle x_j| = |+\\rangle\\langle +|-|-\\rangle\\langle -|.$$\n",
    "\n",
    "Where $$ |\\pm\\rangle \\equiv \\frac{1}{\\sqrt{2}}(|0\\rangle\\pm|1\\rangle)$$ \n",
    "\n",
    "denotes the two orthonormal eigenstates (eigenvectors) of the Pauli $X$-gate according to:\n",
    "\n",
    "$$X |+\\rangle = \\frac{1}{\\sqrt{2}}(X|0\\rangle+X|1\\rangle)=\\frac{1}{\\sqrt{2}}(|1\\rangle+|0\\rangle)=|+\\rangle,$$\n",
    "$$X |-\\rangle = \\frac{1}{\\sqrt{2}}(X|0\\rangle-X|1\\rangle) =\\frac{1}{\\sqrt{2}}(|1\\rangle-|0\\rangle)=-|-\\rangle.$$\n",
    "\n",
    "With that, one then gets:\n",
    "\n",
    "\\begin{eqnarray}\n",
    "XX &\\equiv& X\\otimes X = (|+\\rangle\\langle +|-|-\\rangle\\langle -|)\\otimes(|+\\rangle\\langle +|-|-\\rangle\\langle -|) \\tag{1}\\\\\n",
    "&=& (|+\\rangle\\langle +|) \\otimes (|+\\rangle\\langle +|) - (|+\\rangle\\langle +|) \\otimes (|-\\rangle\\langle -|) - (|-\\rangle\\langle -|)\\otimes (|+\\rangle\\langle +|) + (|-\\rangle\\langle -|) \\otimes (|-\\rangle\\langle -|) \\tag{2} \\\\\n",
    "&=& (|++\\rangle\\langle ++|)+(|--\\rangle\\langle --|)-(|+-\\rangle\\langle +-|)-(|-+\\rangle\\langle -+|) \\tag{3} \\\\\n",
    "&\\implies & e^{-itX \\otimes X} = e^{-it}\\bigg(|++\\rangle\\langle ++|+|--\\rangle\\langle --|\\bigg)+e^{it}\\bigg(|+-\\rangle\\langle +-|+|-+\\rangle\\langle -+|\\bigg) \\tag{4}.\n",
    "\\end{eqnarray}\n",
    "\n",
    "- Eq. (2) was obtained from Eq. (1) using the distributive property:\n",
    "\n",
    "$$(|a\\rangle + |b\\rangle)\\otimes(|c\\rangle + |d\\rangle)=|a\\rangle \\otimes |c\\rangle + |a\\rangle \\otimes |d\\rangle + |b\\rangle \\otimes |c\\rangle + |b\\rangle \\otimes |d\\rangle. $$\n",
    "\n",
    "- Eq. (3) was obtained from Eq. (2) using $(A\\otimes B)(C\\otimes D)=AC\\otimes BD$, or equivalently:\n",
    "\n",
    "$$|a\\rangle \\langle c| \\otimes |b\\rangle \\langle d|  = (|a\\rangle \\otimes |b\\rangle)(\\langle c| \\otimes \\langle d|) \\doteq |ab\\rangle\\langle cd|.$$\n",
    "\n",
    "- Eq. (4) is obtained in the same spirit as the previous problem: either by applying the parity of the state directly, or by using the spectral decomposition theorem for Normal matrices, along with $e^{-i\\theta\\hat{O}} = \\sum_{j=1}^n e^{-i\\theta o_j} |o_j\\rangle \\langle o_j|$. "
   ]
  },
  {
   "cell_type": "markdown",
   "metadata": {},
   "source": [
    "Finally, applying a Hadamard gate to change between the $X$ and $Z$ bases ($H|0\\rangle = R_y(\\pi/2)|0\\rangle = |+\\rangle$ and $H|1\\rangle = R_y(-\\pi/2)|0\\rangle = |-\\rangle$), yields\n",
    "\n",
    "\\begin{eqnarray}\n",
    "e^{-itX \\otimes X} &=& e^{-it}\\left[(H\\otimes H)|00\\rangle\\langle 00|(H\\otimes H)+(H\\otimes H)|11\\rangle\\langle 11|(H\\otimes H)\\right]+e^{it}\\left[(H\\otimes H)|01\\rangle\\langle 01|(H\\otimes H)+(H\\otimes H)|10\\rangle\\langle 10|(H\\otimes H)\\right] \\\\\n",
    "& =& (H\\otimes H)\\left[e^{-it}(|00\\rangle\\langle 00|+|11\\rangle\\langle 11|)+e^{it}(|01\\rangle\\langle 01|+|10\\rangle\\langle 10|)\\right](H\\otimes H) \\\\\n",
    "& =& (H\\otimes H)e^{-itZ\\otimes Z}(H\\otimes H) \\\\\n",
    "& =& (H\\otimes H)C_{x}^{01}\\big(\\mathbb{I}\\otimes e^{-itZ}\\big)C_{x}^{01}(H\\otimes H) \\\\\n",
    "&  =& (H\\otimes H)C_{x}^{01}\\big(\\mathbb{I}\\otimes RZ(2t)\\big)C_{x}^{01}(H\\otimes H).\n",
    "\\end{eqnarray}"
   ]
  },
  {
   "cell_type": "markdown",
   "metadata": {
    "id": "hHQ6YjE5y_Z-"
   },
   "source": [
    "**Note**: *some steps have been omitted. I encourage the reader to verify them.*\n",
    "\n",
    "Specifically, show (algebraically) that:\n",
    "\n",
    "\\begin{eqnarray}\n",
    "(|a\\rangle + |b\\rangle)\\otimes(|c\\rangle + |d\\rangle)&=&|a\\rangle \\otimes |c\\rangle + |a\\rangle \\otimes |d\\rangle + |b\\rangle \\otimes |c\\rangle + |b\\rangle \\otimes |d\\rangle, \\\\\n",
    "(|a\\rangle \\langle c|) \\otimes (|b\\rangle \\langle d|)  &=& \\big(|a\\rangle \\otimes |b\\rangle\\big)\\big(\\langle c| \\otimes \\langle d|\\big),\\\\\n",
    "|++\\rangle\\langle ++|&=&(H\\otimes H)|00\\rangle\\langle 00|(H\\otimes H),\\\\\n",
    "|--\\rangle\\langle --|&=&(H\\otimes H)|11\\rangle\\langle 11|(H\\otimes H),\\\\\n",
    "|+-\\rangle\\langle +-|&=&(H\\otimes H)|01\\rangle\\langle 01|(H\\otimes H),\\\\\n",
    "|-+\\rangle\\langle -+|&=&(H\\otimes H)|10\\rangle\\langle 10|(H\\otimes H),\\\\\n",
    "\\end{eqnarray}\n",
    "\n",
    "You can open a pool request to share your contribution."
   ]
  },
  {
   "cell_type": "markdown",
   "metadata": {},
   "source": [
    "<div class=\"alert alert-block alert-info\">\n",
    "<b>Eigenvalues\\Eigenvectors of X and XX</b>. \n",
    "</div>"
   ]
  },
  {
   "cell_type": "code",
   "execution_count": 55,
   "metadata": {},
   "outputs": [
    {
     "data": {
      "text/plain": [
       "(array([ 1., -1.]),\n",
       " array([[ 0.70710678, -0.70710678],\n",
       "        [ 0.70710678,  0.70710678]]))"
      ]
     },
     "execution_count": 55,
     "metadata": {},
     "output_type": "execute_result"
    }
   ],
   "source": [
    "'''Eiganvalues and Eigenvectors of X.'''\n",
    "\n",
    "#Note: the eigenvalues of the printed numpy.ndarray are not necessarily ordered.\n",
    "\n",
    "plus=1/(np.sqrt(2))*(zero+one)      # 1/[sqrt(2)](|0> + |1>).\n",
    "minus=1/(np.sqrt(2))*(zero-one)     # 1/[sqrt(2)](|0> - |1>).\n",
    "X=(plus.T@plus)-(minus.T@minus)     # |+><+|-|-><-|\n",
    "\n",
    "np.linalg.eig(X)                    # Eigenvalues: +1, -1 | Eigenvectors: |+⟩, |-⟩."
   ]
  },
  {
   "cell_type": "code",
   "execution_count": 71,
   "metadata": {},
   "outputs": [
    {
     "data": {
      "text/plain": [
       "(array([ 1., -1.,  1., -1.]),\n",
       " array([[ 0.70710678,  0.70710678,  0.        ,  0.        ],\n",
       "        [ 0.        ,  0.        ,  0.70710678, -0.70710678],\n",
       "        [ 0.        ,  0.        ,  0.70710678,  0.70710678],\n",
       "        [ 0.70710678, -0.70710678, -0.        ,  0.        ]]))"
      ]
     },
     "execution_count": 71,
     "metadata": {},
     "output_type": "execute_result"
    }
   ],
   "source": [
    "'''Eiganvalues and Eigenvectors of XX.'''\n",
    "\n",
    "XX = np.kron(X,X) # X⊗X.\n",
    "\n",
    "np.linalg.eig(XX) # Eigenvalues: +1, -1, +1, -1."
   ]
  },
  {
   "cell_type": "markdown",
   "metadata": {},
   "source": [
    "$$XX|++⟩=|++⟩$$"
   ]
  },
  {
   "cell_type": "code",
   "execution_count": 74,
   "metadata": {},
   "outputs": [
    {
     "data": {
      "text/plain": [
       "array([[0.5],\n",
       "       [0.5],\n",
       "       [0.5],\n",
       "       [0.5]])"
      ]
     },
     "execution_count": 74,
     "metadata": {},
     "output_type": "execute_result"
    }
   ],
   "source": [
    "np.kron(plus.T,plus.T) # |++⟩"
   ]
  },
  {
   "cell_type": "code",
   "execution_count": 75,
   "metadata": {},
   "outputs": [
    {
     "data": {
      "text/plain": [
       "array([[0.5],\n",
       "       [0.5],\n",
       "       [0.5],\n",
       "       [0.5]])"
      ]
     },
     "execution_count": 75,
     "metadata": {},
     "output_type": "execute_result"
    }
   ],
   "source": [
    "XX@(np.kron(plus.T,plus.T)) # 𝑋𝑋|++⟩=|++⟩"
   ]
  },
  {
   "cell_type": "markdown",
   "metadata": {},
   "source": [
    "$$XX|+-⟩=-|+-⟩$$"
   ]
  },
  {
   "cell_type": "code",
   "execution_count": 76,
   "metadata": {},
   "outputs": [
    {
     "data": {
      "text/plain": [
       "array([[ 0.5],\n",
       "       [-0.5],\n",
       "       [ 0.5],\n",
       "       [-0.5]])"
      ]
     },
     "execution_count": 76,
     "metadata": {},
     "output_type": "execute_result"
    }
   ],
   "source": [
    "np.kron(plus.T,minus.T) # |+−⟩"
   ]
  },
  {
   "cell_type": "code",
   "execution_count": 77,
   "metadata": {},
   "outputs": [
    {
     "data": {
      "text/plain": [
       "array([[-0.5],\n",
       "       [ 0.5],\n",
       "       [-0.5],\n",
       "       [ 0.5]])"
      ]
     },
     "execution_count": 77,
     "metadata": {},
     "output_type": "execute_result"
    }
   ],
   "source": [
    "XX@(np.kron(plus.T,minus.T)) # 𝑋𝑋|+−⟩=−|+−⟩"
   ]
  },
  {
   "cell_type": "markdown",
   "metadata": {},
   "source": [
    "$$XX|-+⟩=-|-+⟩$$"
   ]
  },
  {
   "cell_type": "code",
   "execution_count": 80,
   "metadata": {},
   "outputs": [
    {
     "data": {
      "text/plain": [
       "array([[ 0.5],\n",
       "       [ 0.5],\n",
       "       [-0.5],\n",
       "       [-0.5]])"
      ]
     },
     "execution_count": 80,
     "metadata": {},
     "output_type": "execute_result"
    }
   ],
   "source": [
    "np.kron(minus.T,plus.T) # |−+⟩"
   ]
  },
  {
   "cell_type": "code",
   "execution_count": 81,
   "metadata": {},
   "outputs": [
    {
     "data": {
      "text/plain": [
       "array([[-0.5],\n",
       "       [-0.5],\n",
       "       [ 0.5],\n",
       "       [ 0.5]])"
      ]
     },
     "execution_count": 81,
     "metadata": {},
     "output_type": "execute_result"
    }
   ],
   "source": [
    "XX@(np.kron(minus.T,plus.T)) # 𝑋𝑋|−+⟩=−|−+⟩"
   ]
  },
  {
   "cell_type": "markdown",
   "metadata": {},
   "source": [
    "$$XX|--⟩=|--⟩$$"
   ]
  },
  {
   "cell_type": "code",
   "execution_count": 84,
   "metadata": {},
   "outputs": [
    {
     "data": {
      "text/plain": [
       "array([[ 0.5],\n",
       "       [-0.5],\n",
       "       [-0.5],\n",
       "       [ 0.5]])"
      ]
     },
     "execution_count": 84,
     "metadata": {},
     "output_type": "execute_result"
    }
   ],
   "source": [
    "np.kron(minus.T,minus.T) # |−−⟩"
   ]
  },
  {
   "cell_type": "code",
   "execution_count": 85,
   "metadata": {},
   "outputs": [
    {
     "data": {
      "text/plain": [
       "array([[ 0.5],\n",
       "       [-0.5],\n",
       "       [-0.5],\n",
       "       [ 0.5]])"
      ]
     },
     "execution_count": 85,
     "metadata": {},
     "output_type": "execute_result"
    }
   ],
   "source": [
    "XX@(np.kron(minus.T,minus.T)) # 𝑋𝑋|−−⟩=|−−⟩"
   ]
  },
  {
   "cell_type": "markdown",
   "metadata": {},
   "source": [
    "<div class=\"alert alert-block alert-info\">\n",
    "<b>Identities:</b> verifying some of the above identities using <b>NumPy</b>. \n",
    "</div>"
   ]
  },
  {
   "cell_type": "markdown",
   "metadata": {},
   "source": [
    "$$XX \\equiv X\\otimes X :$$"
   ]
  },
  {
   "cell_type": "code",
   "execution_count": 57,
   "metadata": {},
   "outputs": [
    {
     "data": {
      "text/plain": [
       "array([[0., 0., 0., 1.],\n",
       "       [0., 0., 1., 0.],\n",
       "       [0., 1., 0., 0.],\n",
       "       [1., 0., 0., 0.]])"
      ]
     },
     "execution_count": 57,
     "metadata": {},
     "output_type": "execute_result"
    }
   ],
   "source": [
    "XX"
   ]
  },
  {
   "cell_type": "markdown",
   "metadata": {},
   "source": [
    "$$XX \\equiv X\\otimes X = (|+\\rangle\\langle +|-|-\\rangle\\langle -|)\\otimes(|+\\rangle\\langle +|-|-\\rangle\\langle -|):$$"
   ]
  },
  {
   "cell_type": "code",
   "execution_count": 45,
   "metadata": {},
   "outputs": [
    {
     "data": {
      "text/plain": [
       "array([[0., 0., 0., 1.],\n",
       "       [0., 0., 1., 0.],\n",
       "       [0., 1., 0., 0.],\n",
       "       [1., 0., 0., 0.]])"
      ]
     },
     "execution_count": 45,
     "metadata": {},
     "output_type": "execute_result"
    }
   ],
   "source": [
    "np.kron((plus.T@plus)-(minus.T@minus), (plus.T@plus)-(minus.T@minus))"
   ]
  },
  {
   "cell_type": "markdown",
   "metadata": {},
   "source": [
    "$$XX \\equiv X\\otimes X = (|+\\rangle\\langle +|) \\otimes (|+\\rangle\\langle +|) - (|+\\rangle\\langle +|) \\otimes (|-\\rangle\\langle -|) - (|-\\rangle\\langle -|)\\otimes (|+\\rangle\\langle +|) + (|-\\rangle\\langle -|) \\otimes (|-\\rangle\\langle -|):$$"
   ]
  },
  {
   "cell_type": "code",
   "execution_count": 46,
   "metadata": {},
   "outputs": [
    {
     "data": {
      "text/plain": [
       "array([[0., 0., 0., 1.],\n",
       "       [0., 0., 1., 0.],\n",
       "       [0., 1., 0., 0.],\n",
       "       [1., 0., 0., 0.]])"
      ]
     },
     "execution_count": 46,
     "metadata": {},
     "output_type": "execute_result"
    }
   ],
   "source": [
    "np.kron((plus.T@plus),(plus.T@plus))-np.kron((plus.T@plus),(minus.T@minus))-np.kron((minus.T@minus),(plus.T@plus))+np.kron((minus.T@minus),(minus.T@minus))"
   ]
  },
  {
   "cell_type": "markdown",
   "metadata": {},
   "source": [
    "$$XX \\equiv X\\otimes X =(|++\\rangle\\langle ++|)+(|--\\rangle\\langle --|)-(|+-\\rangle\\langle +-|)-(|-+\\rangle\\langle -+|)$$"
   ]
  },
  {
   "cell_type": "code",
   "execution_count": 48,
   "metadata": {},
   "outputs": [
    {
     "data": {
      "text/plain": [
       "array([[0., 0., 0., 1.],\n",
       "       [0., 0., 1., 0.],\n",
       "       [0., 1., 0., 0.],\n",
       "       [1., 0., 0., 0.]])"
      ]
     },
     "execution_count": 48,
     "metadata": {},
     "output_type": "execute_result"
    }
   ],
   "source": [
    "(np.kron(plus.T,plus.T)@np.kron(plus,plus))+(np.kron(minus.T,minus.T)@np.kron(minus,minus))-(np.kron(plus.T,minus.T)@np.kron(plus,minus))-(np.kron(minus.T,plus.T)@np.kron(minus,plus))"
   ]
  },
  {
   "cell_type": "markdown",
   "metadata": {
    "id": "b7j1XOai-Uj-"
   },
   "source": [
    "## The $e^{-itYY}$ gate"
   ]
  },
  {
   "cell_type": "markdown",
   "metadata": {
    "id": "8F6ZU3lwD89K"
   },
   "source": [
    "IBM supplementary material provides the following quantum circuit for $e^{-itYY}$:"
   ]
  },
  {
   "cell_type": "code",
   "execution_count": null,
   "metadata": {
    "colab": {
     "base_uri": "https://localhost:8080/",
     "height": 94
    },
    "executionInfo": {
     "elapsed": 282,
     "status": "ok",
     "timestamp": 1656420248044,
     "user": {
      "displayName": "Lucas Camponogara Viera",
      "userId": "14322290658374940800"
     },
     "user_tz": -480
    },
    "id": "Hhy5c_17ByeX",
    "outputId": "07522722-0d39-46a0-e1b3-03959bcf448d"
   },
   "outputs": [
    {
     "data": {
      "text/html": [
       "<pre style=\"word-wrap: normal;white-space: pre;background: #fff0;line-height: 1.1;font-family: &quot;Courier New&quot;,Courier,monospace\">     ┌─────────┐                     ┌──────────┐\n",
       "q_0: ┤ Rx(π/2) ├──■───────────────■──┤ Rx(-π/2) ├\n",
       "     ├─────────┤┌─┴─┐┌─────────┐┌─┴─┐├──────────┤\n",
       "q_1: ┤ Rx(π/2) ├┤ X ├┤ Rz(2*t) ├┤ X ├┤ Rx(-π/2) ├\n",
       "     └─────────┘└───┘└─────────┘└───┘└──────────┘</pre>"
      ],
      "text/plain": [
       "     ┌─────────┐                     ┌──────────┐\n",
       "q_0: ┤ Rx(π/2) ├──■───────────────■──┤ Rx(-π/2) ├\n",
       "     ├─────────┤┌─┴─┐┌─────────┐┌─┴─┐├──────────┤\n",
       "q_1: ┤ Rx(π/2) ├┤ X ├┤ Rz(2*t) ├┤ X ├┤ Rx(-π/2) ├\n",
       "     └─────────┘└───┘└─────────┘└───┘└──────────┘"
      ]
     },
     "execution_count": 22,
     "metadata": {},
     "output_type": "execute_result"
    }
   ],
   "source": [
    "# e^{(-itZZ)}\n",
    "\n",
    "'''\n",
    "from qiskit import QuantumCircuit\n",
    "from qiskit.circuit import Parameter\n",
    "'''\n",
    "\n",
    "t = Parameter('t')\n",
    "qc = QuantumCircuit(2)\n",
    "qc.rx(np.pi/2,[0,1])\n",
    "qc.cnot(0,1)\n",
    "qc.rz(2 * t, 1)\n",
    "qc.cnot(0,1)\n",
    "qc.rx(-np.pi/2,[0,1])\n",
    "\n",
    "qc.draw()"
   ]
  },
  {
   "cell_type": "markdown",
   "metadata": {
    "id": "lJ4D8ciU3Puo"
   },
   "source": [
    "From the fact that \n",
    "\n",
    "$$SH|0\\rangle = R_x(-\\pi/2)|0\\rangle = \\frac{1}{\\sqrt{2}}(|0\\rangle+i|1\\rangle) \\equiv |\\oplus\\rangle,$$ \n",
    "\n",
    "and \n",
    "\n",
    "$$SH|1\\rangle = R_x(\\pi/2)|0\\rangle = \\frac{1}{\\sqrt{2}}(|0\\rangle-i|1\\rangle) \\equiv |\\ominus\\rangle,$$ \n",
    "\n",
    "one equivalent quantum circuit is:"
   ]
  },
  {
   "cell_type": "code",
   "execution_count": null,
   "metadata": {
    "colab": {
     "base_uri": "https://localhost:8080/",
     "height": 94
    },
    "executionInfo": {
     "elapsed": 283,
     "status": "ok",
     "timestamp": 1656420115969,
     "user": {
      "displayName": "Lucas Camponogara Viera",
      "userId": "14322290658374940800"
     },
     "user_tz": -480
    },
    "id": "P7xS9zvKCKYD",
    "outputId": "9ea385c1-a0f5-46f9-b31c-79cb0a8b79ee"
   },
   "outputs": [
    {
     "data": {
      "text/html": [
       "<pre style=\"word-wrap: normal;white-space: pre;background: #fff0;line-height: 1.1;font-family: &quot;Courier New&quot;,Courier,monospace\">     ┌─────┐┌───┐                     ┌───┐┌───┐\n",
       "q_0: ┤ Sdg ├┤ H ├──■───────────────■──┤ H ├┤ S ├\n",
       "     ├─────┤├───┤┌─┴─┐┌─────────┐┌─┴─┐├───┤├───┤\n",
       "q_1: ┤ Sdg ├┤ H ├┤ X ├┤ Rz(2*t) ├┤ X ├┤ H ├┤ S ├\n",
       "     └─────┘└───┘└───┘└─────────┘└───┘└───┘└───┘</pre>"
      ],
      "text/plain": [
       "     ┌─────┐┌───┐                     ┌───┐┌───┐\n",
       "q_0: ┤ Sdg ├┤ H ├──■───────────────■──┤ H ├┤ S ├\n",
       "     ├─────┤├───┤┌─┴─┐┌─────────┐┌─┴─┐├───┤├───┤\n",
       "q_1: ┤ Sdg ├┤ H ├┤ X ├┤ Rz(2*t) ├┤ X ├┤ H ├┤ S ├\n",
       "     └─────┘└───┘└───┘└─────────┘└───┘└───┘└───┘"
      ]
     },
     "execution_count": 21,
     "metadata": {},
     "output_type": "execute_result"
    }
   ],
   "source": [
    "# Equivalent circuit:\n",
    "\n",
    "qc = QuantumCircuit(2)\n",
    "qc.sdg([0,1])\n",
    "qc.h([0,1])\n",
    "qc.cx(0, 1)\n",
    "qc.rz(2 * t, 1)\n",
    "qc.cx(0, 1)\n",
    "qc.h([0,1])\n",
    "qc.s([0,1])\n",
    "qc.draw()"
   ]
  },
  {
   "cell_type": "markdown",
   "metadata": {
    "id": "V_3tkJiHZQj5"
   },
   "source": [
    "**Verification:**\n"
   ]
  },
  {
   "cell_type": "markdown",
   "metadata": {
    "id": "NKTmSrCK4Czi"
   },
   "source": [
    "One should note that $e^{-itYY}$ is shorthand for $e^{-itY \\otimes Y}$. Following a similar thought process as before, one writes the Pauli operator $Y$ in the basis of its eigenvectors:\n",
    "\n",
    "$$Y=|\\oplus\\rangle\\langle \\oplus|-|\\ominus\\rangle\\langle \\ominus|,$$\n",
    "\n",
    "where\n",
    "\n",
    "$$|+y\\rangle \\equiv |\\oplus\\rangle = \\frac{1}{\\sqrt{2}}(|0\\rangle+i|1\\rangle) \\text{ and } |-y\\rangle \\equiv |\\ominus\\rangle = \\frac{1}{\\sqrt{2}}(|0\\rangle-i|1\\rangle).$$\n",
    "\n",
    "Therefore,\n",
    "\n",
    "\\begin{eqnarray}\n",
    "YY &\\equiv& Y \\otimes Y = (|\\oplus\\oplus\\rangle\\langle \\oplus\\oplus|+|\\ominus\\ominus\\rangle\\langle \\ominus\\ominus|)-(|\\oplus\\ominus\\rangle\\langle \\oplus\\ominus|+|\\ominus\\oplus\\rangle\\langle \\ominus\\oplus|) \\\\\n",
    "&\\implies& e^{-itY\\otimes Y} = e^{-it}(|\\oplus\\oplus\\rangle\\langle \\oplus\\oplus|+|\\ominus\\ominus\\rangle\\langle \\ominus\\ominus|) + e^{it}(|\\oplus\\ominus\\rangle\\langle \\oplus\\ominus|+|\\ominus\\oplus\\rangle\\langle \\ominus\\oplus|).\n",
    "\\end{eqnarray}\n",
    "\n",
    "The next step is to apply a basis change, as follows:\n",
    "\n",
    "$$|\\oplus\\rangle = SH|0\\rangle = R_x(-\\pi/2)|0\\rangle  \\text{ and }  |\\ominus\\rangle = SH|1\\rangle = R_x(\\pi/2)|0\\rangle,$$\n",
    "\n",
    "such that\n",
    "\n",
    "\\begin{align}\n",
    "e^{-itY\\otimes Y} & = (S\\otimes S)(H\\otimes H)\\Big(e^{-it}(|00\\rangle\\langle 00|+|11\\rangle\\langle 11|)+e^{it}(|01\\rangle\\langle 01|+|10\\rangle\\langle 10|)\\Big)(H\\otimes H)(S^{\\dagger}\\otimes S^{\\dagger}) \\\\\n",
    "& = (S\\otimes S)(H\\otimes H)e^{-itZ \\otimes Z}(H\\otimes H)(S^{\\dagger}\\otimes S^{\\dagger}) \\\\\n",
    "& = (S\\otimes S)e^{-itX\\otimes X}(S^{\\dagger}\\otimes S^{\\dagger}) \\\\\n",
    "& = (S\\otimes S)(H\\otimes H)C_{x}^{01}\\big(\\mathbb{I}\\otimes e^{-itZ}\\big)C_{x}^{01}(H\\otimes H)(S^{\\dagger}\\otimes S^{\\dagger}) \\\\\n",
    "& = (S\\otimes S)(H\\otimes H)C_{x}^{01}\\big(\\mathbb{I}\\otimes RZ(2t)\\big)C_{x}^{01}(H\\otimes H)(S^{\\dagger}\\otimes S^{\\dagger}).\n",
    "\\end{align}"
   ]
  },
  {
   "cell_type": "markdown",
   "metadata": {},
   "source": [
    "Note that \n",
    "\n",
    "$$(SHCX)^{\\dagger} = (CX)^{\\dagger}(SH)^{\\dagger} = (CX)H^{\\dagger}S^{\\dagger} = CXHS^{\\dagger},$$ \n",
    "\n",
    "$$[(S\\otimes S)(H\\otimes H)CX]^{\\dagger} = [(H\\otimes H)CX]^{\\dagger}(S\\otimes S)^{\\dagger}= (CX)^{\\dagger}(H\\otimes H)^{\\dagger}(S\\otimes S)^{\\dagger} = CX (H\\otimes H) (S^{\\dagger} \\otimes S^{\\dagger}),$$\n",
    "\n",
    "where it was used identities $(AB)^{\\dagger}=B^{\\dagger}A^{\\dagger}$ and $(A \\otimes B)^{\\dagger}=A^{\\dagger} \\otimes B^{\\dagger}$.\n",
    "\n",
    "This can be verified using qiskit.opflow:"
   ]
  },
  {
   "cell_type": "code",
   "execution_count": 25,
   "metadata": {},
   "outputs": [
    {
     "data": {
      "text/plain": [
       "(True, True)"
      ]
     },
     "execution_count": 25,
     "metadata": {},
     "output_type": "execute_result"
    }
   ],
   "source": [
    "from qiskit.opflow import S, H, CX, I\n",
    "\n",
    "SS = S.tensor(S)\n",
    "HH = H.tensor(H)\n",
    "SSdagg=S.adjoint().tensor(S.adjoint())\n",
    "\n",
    "(S@H@CX).adjoint() == (CX@H@S.adjoint()), (SS@HH@CX).adjoint() == (CX@HH@SSdagg)"
   ]
  },
  {
   "cell_type": "markdown",
   "metadata": {},
   "source": [
    "Such that \n",
    "\n",
    "$$ SHCXCXHS^{\\dagger}= \\mathbb{I},$$\n",
    "\n",
    "$$ (S\\otimes S) (H\\otimes H)CXCX(H\\otimes H)(S^{\\dagger}  \\otimes S^{\\dagger})= \\mathbb{I},$$\n",
    "\n",
    "which can also be verified using qiskit.opflow:"
   ]
  },
  {
   "cell_type": "code",
   "execution_count": 44,
   "metadata": {},
   "outputs": [
    {
     "data": {
      "text/plain": [
       "array([[1.+0.j, 0.+0.j, 0.+0.j, 0.+0.j],\n",
       "       [0.+0.j, 1.+0.j, 0.+0.j, 0.+0.j],\n",
       "       [0.+0.j, 0.+0.j, 1.+0.j, 0.+0.j],\n",
       "       [0.+0.j, 0.+0.j, 0.+0.j, 1.+0.j]])"
      ]
     },
     "execution_count": 44,
     "metadata": {},
     "output_type": "execute_result"
    }
   ],
   "source": [
    "(S@H@CX@CX@H@S.adjoint()).to_matrix()"
   ]
  },
  {
   "cell_type": "code",
   "execution_count": 45,
   "metadata": {},
   "outputs": [
    {
     "data": {
      "text/plain": [
       "array([[1.+0.j, 0.+0.j, 0.+0.j, 0.+0.j],\n",
       "       [0.+0.j, 1.+0.j, 0.+0.j, 0.+0.j],\n",
       "       [0.+0.j, 0.+0.j, 1.+0.j, 0.+0.j],\n",
       "       [0.+0.j, 0.+0.j, 0.+0.j, 1.+0.j]])"
      ]
     },
     "execution_count": 45,
     "metadata": {},
     "output_type": "execute_result"
    }
   ],
   "source": [
    "((SS)@(HH)@CX@CX@(HH)@(SSdagg)).to_matrix()"
   ]
  },
  {
   "cell_type": "code",
   "execution_count": 46,
   "metadata": {},
   "outputs": [
    {
     "data": {
      "text/plain": [
       "array([[1.+0.j, 0.+0.j, 0.+0.j, 0.+0.j],\n",
       "       [0.+0.j, 1.+0.j, 0.+0.j, 0.+0.j],\n",
       "       [0.+0.j, 0.+0.j, 1.+0.j, 0.+0.j],\n",
       "       [0.+0.j, 0.+0.j, 0.+0.j, 1.+0.j]])"
      ]
     },
     "execution_count": 46,
     "metadata": {},
     "output_type": "execute_result"
    }
   ],
   "source": [
    "(I.tensor(I)).to_matrix()"
   ]
  },
  {
   "cell_type": "markdown",
   "metadata": {
    "id": "_v4DYg-_1IBi"
   },
   "source": [
    "# State Fidelity<a name=\"fid\" />  "
   ]
  },
  {
   "cell_type": "markdown",
   "metadata": {
    "id": "X9uqfLjV1JWJ"
   },
   "source": [
    "In noisy environments, the evolved quantum state must be represented by a mixed density operator. The fidelity between two mixed density operators (density matrices) $\\rho$ and $\\sigma$ is:\n",
    "\n",
    "\\begin{align}\n",
    "F(\\rho,\\sigma) = \\left(tr \\sqrt{\\rho^{1/2} \\sigma \\rho^{1/2}}\\right)^2,\n",
    "\\end{align}\n",
    "\n",
    "with $\\rho= p_j\\sum_j|\\psi_{j}\\rangle \\langle \\psi_{j}|$ and $\\sigma=p_k\\sum_k|\\psi_{k}\\rangle \\langle \\psi_{k}|$, where $p_j$ and $p_k$ are the corresponding (eigenvalue) probability distributions.\n",
    "\n",
    "If one of the states is a pure state ($\\rho=|\\psi_{\\rho}\\rangle \\langle \\psi_{\\rho}|$), the above result boils down to the fidelity between a pure and a mixed state:\n",
    "\n",
    "\\begin{align}\n",
    "F(\\sigma, |\\psi_{\\rho}\\rangle) = \\langle\\psi_{\\rho}|\\sigma|\\psi_{\\rho}\\rangle = \\sum_{j,k=0}^{d-1}\\psi_{j}^{*}\\sigma_{j,k}\\psi_{k}.\n",
    "\\end{align}\n",
    "\n",
    "In a noise-free environment, both the evolved state and the target states are pure states, the state fidelity thus becomes:\n",
    "\n",
    "\\begin{align}\n",
    "F(\\rho, \\sigma) = |\\langle\\psi_{\\rho}|\\psi_{\\sigma}\\rangle|^2.\n",
    "\\end{align}"
   ]
  },
  {
   "cell_type": "markdown",
   "metadata": {
    "id": "FG2BFvzoR1Mh"
   },
   "source": [
    "# &nbsp; <a href=\"#\"><img valign=\"middle\" height=\"45px\" src=\"https://img.icons8.com/book\" width=\"45\" hspace=\"0px\" vspace=\"0px\"></a> References<a name=\"ref\" />"
   ]
  },
  {
   "cell_type": "markdown",
   "metadata": {
    "id": "lTRHOvEiR3Tj"
   },
   "source": [
    "\\[1] Nielsen MA, Chuang IL. 2010. Quantum Computation and Quantum Information. New York: [Cambridge Univ. Press.](https://doi.org/10.1017/CBO9780511976667) 10th Anniv. Ed.<a name=\"ref1\" />  \n",
    "- Corollary 4.2, pg. 176: Gate decomposition.\n",
    "- Theorem 4.3, pg. 207: Trotter formula. \n",
    "- Chapter 4.7.2, pg. 206: The quantum simulation algorithm. \n",
    "- Chapter 9.2.2, pg. 409: State fidelity.\n",
    "  \n",
    "\\[2] Griffiths, David J., and Darrell F. Schroeter. Introduction to quantum mechanics. Cambridge University Press, 2018.\n",
    "- Section 3.2.3, pg. 103: scalar wave function.\n",
    "\n",
    "\\[3] [ibmq-qsim-challenge.ipynb](https://github.com/qiskit-community/open-science-prize-2021/blob/main/ibmq-qsim-challenge.ipynb).\n",
    "\n",
    "\\[4] [ibmq-qsim-sup-mat.ipynb](https://github.com/qiskit-community/open-science-prize-2021/blob/main/ibmq-qsim-sup-mat.ipynb).\n",
    "\n",
    "\\[5] [YQIS 6 Invited 8: Yuan Su, Trotterization and Trotter error](https://www.youtube.com/watch?v=KPofFJc57gU).<a name=\"ref5\" />  \n",
    "\n",
    "\\[6] [Quantum Algorithms for Hamiltonian Simulation | Quantum Colloquium](https://www.youtube.com/watch?v=X4gegxIuh1o).<a name=\"ref6\" />  "
   ]
  }
 ],
 "metadata": {
  "colab": {
   "collapsed_sections": [
    "72IOow2hGRDa",
    "fdYp7ZX3fKPF",
    "m8xcJoamftJC",
    "fUO4uIAzPXAA",
    "XdWMm1vR_OAJ",
    "1dQeZv-L_RqK",
    "S9EbvVXx_YpK",
    "9PZ9sOr9B5oC",
    "29l2z2xgDTZj",
    "HCTVLpJCStKI",
    "LpoS-zbneiaY",
    "x-_HQ2XgefUI",
    "M8ZZFYFe9Uh7",
    "l6fBHb8k2VV5",
    "bupirY8vxW5B",
    "GzqPiRiByOdF",
    "_2jTzSs6sKG_",
    "qitwJvl6_zmE",
    "yWzvruE81BCk",
    "t0W4pvCvy8tw",
    "SM8y11x3-J1m",
    "oPXl4jCU-SrS",
    "b7j1XOai-Uj-",
    "_v4DYg-_1IBi",
    "FG2BFvzoR1Mh"
   ],
   "name": "supplementary.ipynb",
   "provenance": []
  },
  "kernelspec": {
   "display_name": "Python 3 (ipykernel)",
   "language": "python",
   "name": "python3"
  },
  "language_info": {
   "codemirror_mode": {
    "name": "ipython",
    "version": 3
   },
   "file_extension": ".py",
   "mimetype": "text/x-python",
   "name": "python",
   "nbconvert_exporter": "python",
   "pygments_lexer": "ipython3",
   "version": "3.8.8"
  },
  "latex_envs": {
   "LaTeX_envs_menu_present": true,
   "autoclose": false,
   "autocomplete": true,
   "bibliofile": "biblio.bib",
   "cite_by": "apalike",
   "current_citInitial": 1,
   "eqLabelWithNumbers": true,
   "eqNumInitial": 1,
   "hotkeys": {
    "equation": "Ctrl-E",
    "itemize": "Ctrl-I"
   },
   "labels_anchors": false,
   "latex_user_defs": false,
   "report_style_numbering": false,
   "user_envs_cfg": false
  }
 },
 "nbformat": 4,
 "nbformat_minor": 1
}
