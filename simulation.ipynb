{
 "cells": [
  {
   "cell_type": "markdown",
   "id": "jQBjOIACAQ91",
   "metadata": {
    "id": "jQBjOIACAQ91"
   },
   "source": [
    "<!-- Badges: -->\n",
    "[![Donate](https://img.shields.io/badge/Donate-PayPal-green.svg?logo=paypal&style=flat-square)](https://www.paypal.me/CamponogaraViera/100)\n",
    "[![Open In Colab](https://colab.research.google.com/assets/colab-badge.svg)](https://colab.research.google.com/github/QuCAI-Lab/ibm2021-open-science-prize/blob/dev/simulation.ipynb)\n",
    "[![License](https://img.shields.io/github/license/QuCAI-Lab/ibm2021-open-science-prize.svg?logo=CreativeCommons&style=flat-square)](https://github.com/QuCAI-Lab/ibm2021-open-science-prize/blob/dev/LICENSE.md)\n",
    "[![Contributions](https://img.shields.io/badge/contributions-welcome-orange?style=flat-square)](https://github.com/QuCAI-Lab/ibm2021-open-science-prize/pulls)\n",
    "[![Maintenance](https://img.shields.io/badge/Maintained%3F-yes-green.svg)](https://github.com/QuCAI-Lab/ibm2021-open-science-prize/graphs/commit-activity)\n",
    "[![Release](https://img.shields.io/github/release/QuCAI-Lab/ibm2021-open-science-prize.svg)](https://github.com/QuCAI-Lab/ibm2021-open-science-prize/releases)\n",
    "\n",
    "<!-- Title: -->\n",
    "<div align=\"center\">\n",
    "  <h1> <a href=\"https://research.ibm.com/blog/quantum-open-science-prize\"> 2021 IBM Open Science Prize </a></h1>\n",
    "  <h1> Simulating the XXX Heisenberg Model Hamiltonian for a System of Three Interacting Spin-1/2 Particles on IBM Quantum’s 7-qubit Jakarta Processor </h1>\n",
    "</div>\n",
    "<br> \n",
    "\n",
    "<div align=\"center\">\n",
    "The simulation presented here does not solve the challenge, however, the reader will find discussions on different approaches.\n",
    "</div>\n",
    "<br> \n",
    "\n",
    "<!-- Author: -->\n",
    "<div align=\"center\">\n",
    "<b>Developers: ¹Lucas Camponogara Viera</b>\n",
    "<br>\n",
    "<b><a target=\"_blank\" href=\"https://en.ntnu.edu.tw/\">¹National Taiwan Normal University - NTNU, Taipei, Taiwan</a></b>.\n",
    "</div>"
   ]
  },
  {
   "cell_type": "markdown",
   "id": "-etas5dXAT3V",
   "metadata": {
    "id": "-etas5dXAT3V"
   },
   "source": [
    "<br>\n",
    "\n",
    "[comment]: <> ()\n",
    "<table class=\"tfo-notebook-buttons\" align=\"head\">\n",
    "  <td>\n",
    "    <a target=\"_blank\" href=\"https://github.com/QuCAI-Lab/ibm2021-open-science-prize\"><img src=\"https://www.tensorflow.org/images/GitHub-Mark-32px.png\" /></a>\n",
    "  </td>\n",
    "</table>\n",
    "\n",
    "<center><a href=\"https://github.com/QuCAI-Lab/ibm2021-open-science-prize\"><b>View on GitHub</b></a></center>\n",
    "\n",
    "    \n"
   ]
  },
  {
   "cell_type": "code",
   "execution_count": 1,
   "id": "My0Bh-1pAWTg",
   "metadata": {
    "colab": {
     "base_uri": "https://localhost:8080/",
     "height": 35
    },
    "executionInfo": {
     "elapsed": 13,
     "status": "ok",
     "timestamp": 1649654990100,
     "user": {
      "displayName": "Lucas Camponogara Viera",
      "userId": "13421704742725721901"
     },
     "user_tz": -480
    },
    "id": "My0Bh-1pAWTg",
    "outputId": "1f2de062-a5d3-41a4-f326-ee8a4a80f6b1"
   },
   "outputs": [
    {
     "data": {
      "application/javascript": [
       "IPython.notebook.set_autosave_interval(30000)"
      ]
     },
     "metadata": {},
     "output_type": "display_data"
    },
    {
     "name": "stdout",
     "output_type": "stream",
     "text": [
      "Autosaving every 30 seconds\n"
     ]
    }
   ],
   "source": [
    "%autosave 30"
   ]
  },
  {
   "cell_type": "markdown",
   "id": "hiLA0I5UAoEe",
   "metadata": {
    "id": "hiLA0I5UAoEe"
   },
   "source": [
    "---\n",
    "In this jupyter notebook, the reader will find classical and quantum simulations for the Trotter evolution of the quantum state |110> to time t=pi under the XXX Heisenberg model Hamiltonian for a system of three interacting spin-1/2 particles. The code implementation of the quantum simulation using qubits 5, 3, and 1 from the IBM Quantum 7-qubit Jakarta processor is the one provided by IBM without any modification. This work is not a final solution to the posed IBM challenge, however, the reader may use it as a guide.\n",
    "\n",
    "---"
   ]
  },
  {
   "cell_type": "markdown",
   "id": "CP90ECuVAyxY",
   "metadata": {
    "id": "CP90ECuVAyxY"
   },
   "source": [
    "# &nbsp; <a href=\"https://creativecommons.org/licenses/by/4.0/\"><img valign=\"middle\" src=\"https://img.icons8.com/copyright\" width=\"50\"></a> License"
   ]
  },
  {
   "cell_type": "code",
   "execution_count": 2,
   "id": "4n33jeIfCpyY",
   "metadata": {
    "cellView": "form",
    "id": "4n33jeIfCpyY"
   },
   "outputs": [],
   "source": [
    "#@title Copyright 2022.\n",
    "# This code is part of heisenberg-model.\n",
    "#\n",
    "# (C) Copyright NTNU QuCAI-Lab, 2022.\n",
    "#\n",
    "# This code is licensed under the Creative Commons Zero v1.0 Universal License. \n",
    "# You may obtain a copy of the License at https://github.com/QuCAI-Lab/ibm2021-open-science-prize/blob/dev/LICENSE.md."
   ]
  },
  {
   "cell_type": "markdown",
   "id": "0298c8d9",
   "metadata": {},
   "source": [
    "# &nbsp; <a href=\"https://colab.research.google.com/\"><img valign=\"middle\" src=\"https://www.tensorflow.org/images/colab_logo_32px.png\" width=\"50\"></a> Pip Install\n",
    "\n",
    "* **Run the following cells only if you are running this Jupyter notebook outside the [heisenberg_model environment](https://github.com/QuCAI-Lab/ibm2021-open-science-prize/blob/dev/environment.yml).**\n",
    "\n",
    "Installing `Qiskit`, `NumPy`, and `pylatexenc`."
   ]
  },
  {
   "cell_type": "code",
   "execution_count": 3,
   "id": "64efa5df",
   "metadata": {},
   "outputs": [
    {
     "data": {
      "text/plain": [
       "'\\n# Installing a non-default library\\n\\n!python3 -m pip install <library_name>\\n\\n# Alternative \\n\\n!apt-get -qq install -y <library_name> && python3 -m pip install -U <library_name> \\n\\n# Upgrading an installed library\\n\\n!python3 -m pip install -U --upgrade <library_name> \\n'"
      ]
     },
     "execution_count": 3,
     "metadata": {},
     "output_type": "execute_result"
    }
   ],
   "source": [
    "'''\n",
    "# Installing a non-default library\n",
    "\n",
    "!python3 -m pip install <library_name>\n",
    "\n",
    "# Alternative \n",
    "\n",
    "!apt-get -qq install -y <library_name> && python3 -m pip install -U <library_name> \n",
    "\n",
    "# Upgrading an installed library\n",
    "\n",
    "!python3 -m pip install -U --upgrade <library_name> \n",
    "'''"
   ]
  },
  {
   "cell_type": "code",
   "execution_count": 4,
   "id": "673dad0c",
   "metadata": {},
   "outputs": [
    {
     "name": "stdout",
     "output_type": "stream",
     "text": [
      "22.0.4\n"
     ]
    }
   ],
   "source": [
    "try:\n",
    "  import pip, pkg_resources\n",
    "  pkg_resources.require(\"pip>=21.1.3\") # Latest version: 22.0.4\n",
    "  print(pip.__version__)\n",
    "except:\n",
    "  import subprocess, sys\n",
    "  cmd = \"python3 -m pip install --upgrade pip\"\n",
    "  process = subprocess.Popen(cmd,shell=True,bufsize=1,stdout=subprocess.PIPE,\n",
    "                             stderr=subprocess.STDOUT,encoding='utf-8',errors='replace') \n",
    "  while True:\n",
    "    out = process.stdout.readline()\n",
    "    if out == '' and process.poll() is not None:\n",
    "      break\n",
    "    if out:\n",
    "      print(out.strip(), flush=False)\n",
    "      sys.stdout.flush()\n",
    "  #raise"
   ]
  },
  {
   "cell_type": "code",
   "execution_count": 5,
   "id": "acef8741",
   "metadata": {},
   "outputs": [
    {
     "name": "stdout",
     "output_type": "stream",
     "text": [
      "pip 22.0.4 from C:\\Users\\Qulab\\.conda\\envs\\heisenberg-model\\lib\\site-packages\\pip (python 3.7)\n",
      "\n"
     ]
    }
   ],
   "source": [
    "#!python3 -m pip install pip==version_number # To downgrade pip.\n",
    "!pip --version"
   ]
  },
  {
   "cell_type": "markdown",
   "id": "fe51c675",
   "metadata": {},
   "source": [
    "**NumPy:**"
   ]
  },
  {
   "cell_type": "code",
   "execution_count": null,
   "id": "f55f43bd",
   "metadata": {},
   "outputs": [],
   "source": [
    "!python3 -m pip install numpy==1.20.1"
   ]
  },
  {
   "cell_type": "markdown",
   "id": "ee7be2c1",
   "metadata": {},
   "source": [
    "**Qiskit:**"
   ]
  },
  {
   "cell_type": "code",
   "execution_count": null,
   "id": "73e672e5",
   "metadata": {},
   "outputs": [],
   "source": [
    "!python3 -m pip install qiskit==0.35.0"
   ]
  },
  {
   "cell_type": "markdown",
   "id": "dbd0d90f",
   "metadata": {},
   "source": [
    "**pylatexenc**:"
   ]
  },
  {
   "cell_type": "code",
   "execution_count": null,
   "id": "aabb9817",
   "metadata": {},
   "outputs": [],
   "source": [
    "# The 'pylatexenc' library is required to use 'MatplotlibDrawer'.\n",
    "\n",
    "!python -m pip install pylatexenc==2.10"
   ]
  },
  {
   "cell_type": "markdown",
   "id": "e-hWPrpbDbgf",
   "metadata": {
    "id": "e-hWPrpbDbgf"
   },
   "source": [
    "# &nbsp; <a href=\"#\"><img valign=\"middle\" height=\"45px\" src=\"https://img.icons8.com/python\" width=\"45\" hspace=\"0px\" vspace=\"0px\"></a> Requirements"
   ]
  },
  {
   "cell_type": "code",
   "execution_count": 6,
   "id": "uNrFKvfgFsOI",
   "metadata": {
    "colab": {
     "base_uri": "https://localhost:8080/"
    },
    "executionInfo": {
     "elapsed": 8323,
     "status": "ok",
     "timestamp": 1649749470268,
     "user": {
      "displayName": "Lucas Camponogara Viera",
      "userId": "13421704742725721901"
     },
     "user_tz": -480
    },
    "id": "uNrFKvfgFsOI",
    "outputId": "35b58654-8db9-410f-9824-e25d22635a74"
   },
   "outputs": [],
   "source": [
    "import sys\n",
    "import IPython\n",
    "import qiskit\n",
    "import numpy as np \n",
    "import matplotlib\n",
    "\n",
    "# Suppress warnings\n",
    "import warnings\n",
    "warnings.filterwarnings('ignore')"
   ]
  },
  {
   "cell_type": "code",
   "execution_count": 7,
   "id": "06a2a8f9",
   "metadata": {},
   "outputs": [
    {
     "name": "stdout",
     "output_type": "stream",
     "text": [
      "2.3.0\n"
     ]
    }
   ],
   "source": [
    "### If using Google Colab, one needs to restart Colab Runtime after pip install. ###\n",
    "\n",
    "try:\n",
    "  import pkg_resources, watermark\n",
    "  pkg_resources.require(\"watermark>=2.3.0\") # Force watermark version.\n",
    "  print(watermark.__version__)\n",
    "except:\n",
    "  import subprocess, sys\n",
    "  if \"google.colab\" in sys.modules:\n",
    "    cmd = \"python3 -m pip install --upgrade watermark\" # Upgrade watermak.\n",
    "\n",
    "    process = subprocess.Popen(cmd,shell=True,bufsize=1,stdout=subprocess.PIPE, \\\n",
    "                              stderr=subprocess.STDOUT,encoding='utf-8',errors='replace') \n",
    "    while True: \n",
    "      out = process.stdout.readline() # The first line of the file.\n",
    "      if out == '' and process.poll() is not None: # Run the loop until condition is True.\n",
    "        break \n",
    "      if out:\n",
    "        print(out.strip(), flush=False) # Removes leading and trailing empty spaces. \n",
    "        sys.stdout.flush()\n",
    "    #raise # To raise the import error. Upgrade will be successful regardless."
   ]
  },
  {
   "cell_type": "code",
   "execution_count": 8,
   "id": "236fea08",
   "metadata": {},
   "outputs": [
    {
     "name": "stdout",
     "output_type": "stream",
     "text": [
      "Author: LucasCamponogaraViera\n",
      "\n",
      "Github username: QuCAI-Lab\n",
      "\n",
      "Website: https://github.com/QuCAI-Lab/ibm2021-open-science-prize\n",
      "\n",
      "Last updated: 2022-04-27\n",
      "\n",
      "Python implementation: CPython\n",
      "Python version       : 3.7.13\n",
      "IPython version      : 7.32.0\n",
      "\n",
      "Compiler    : MSC v.1916 64 bit (AMD64)\n",
      "OS          : Windows\n",
      "Release     : 10\n",
      "Machine     : AMD64\n",
      "Processor   : Intel64 Family 6 Model 158 Stepping 10, GenuineIntel\n",
      "CPU cores   : 6\n",
      "Architecture: 64bit\n",
      "\n",
      "qiskit    : 0.35.0\n",
      "pip       : 22.0.4\n",
      "watermark : 2.3.0\n",
      "matplotlib: 3.5.1\n",
      "IPython   : 7.32.0\n",
      "numpy     : 1.20.1\n",
      "sys       : 3.7.13 (default, Mar 28 2022, 08:03:21) [MSC v.1916 64 bit (AMD64)]\n",
      "\n",
      "Watermark: 2.3.0\n",
      "\n"
     ]
    }
   ],
   "source": [
    "# If you get hit by the error \"No module named watermark\", run this cell twice!\n",
    "\n",
    "#%load_ext watermark\n",
    "%reload_ext watermark\n",
    "%watermark -a 'LucasCamponogaraViera' -gu 'QuCAI-Lab' -ws 'https://github.com/QuCAI-Lab/ibm2021-open-science-prize' -w -u -d -v -m -iv"
   ]
  },
  {
   "cell_type": "code",
   "execution_count": 9,
   "id": "28bcee83",
   "metadata": {},
   "outputs": [
    {
     "name": "stdout",
     "output_type": "stream",
     "text": [
      "{'commit_hash': 'e84cee846',\n",
      " 'commit_source': 'installation',\n",
      " 'default_encoding': 'cp950',\n",
      " 'ipython_path': 'C:\\\\Users\\\\Qulab\\\\.conda\\\\envs\\\\heisenberg-model\\\\lib\\\\site-packages\\\\IPython',\n",
      " 'ipython_version': '7.32.0',\n",
      " 'os_name': 'nt',\n",
      " 'platform': 'Windows-10-10.0.19041-SP0',\n",
      " 'sys_executable': 'C:\\\\Users\\\\Qulab\\\\.conda\\\\envs\\\\heisenberg-model\\\\python.exe',\n",
      " 'sys_platform': 'win32',\n",
      " 'sys_version': '3.7.13 (default, Mar 28 2022, 08:03:21) [MSC v.1916 64 bit '\n",
      "                '(AMD64)]'}\n"
     ]
    }
   ],
   "source": [
    "print(IPython.sys_info())"
   ]
  },
  {
   "cell_type": "markdown",
   "id": "f6253f4b",
   "metadata": {
    "id": "f6253f4b"
   },
   "source": [
    "# &nbsp; <a href=\"#\"><img valign=\"middle\" height=\"45px\" src=\"https://img.icons8.com/bot\" width=\"45\" hspace=\"0px\" vspace=\"0px\"></a> Classical Simulation"
   ]
  },
  {
   "cell_type": "code",
   "execution_count": 13,
   "id": "3a0737df",
   "metadata": {
    "id": "3a0737df"
   },
   "outputs": [],
   "source": [
    "from qiskit.quantum_info import state_fidelity\n",
    "from qiskit.opflow import Zero, One, I, X, Y, Z\n",
    "import matplotlib.pyplot as plt\n",
    "import scipy\n",
    "from scipy.linalg import expm\n",
    "\n",
    "plt.rcParams.update({'font.size': 11})  # enlarge matplotlib fonts"
   ]
  },
  {
   "cell_type": "markdown",
   "id": "b8c74efc",
   "metadata": {
    "id": "b8c74efc"
   },
   "source": [
    "**XXX Heisenberg Hamiltonian Operator:**\n",
    "\n",
    "\\begin{eqnarray}\n",
    "H_{heis3} &=& \\sigma_x^{(0)}\\otimes\\sigma_x^{(1)}\\otimes I^{(2)} + I^{(0)} \\otimes\\sigma_x^{(1)}\\otimes\\sigma_x^{(2)} + \\sigma_y^{(0)}\\otimes\\sigma_y^{(1)}\\otimes I^{(2)} + I^{(0)} \\otimes \\sigma_y^{(1)}\\otimes\\sigma_y^{(2)} + I^{(0)} \\otimes\\sigma_z^{(0)}\\otimes\\sigma_z^{(1)} + I^{(0)}\\otimes\\sigma_z^{(1)}\\otimes\\sigma_z^{(2)}.\n",
    "\\end{eqnarray}\n",
    "\n",
    "\\begin{align}\n",
    "H_{heis3} = X\\otimes X\\otimes I + I\\otimes X\\otimes X + Y\\otimes Y\\otimes I + I\\otimes Y\\otimes Y + Z\\otimes Z\\otimes I + I\\otimes Z\\otimes Z.\n",
    "\\end{align}\n",
    "\n",
    "- See the `supplementary.ipynb` material for derivations."
   ]
  },
  {
   "cell_type": "code",
   "execution_count": 14,
   "id": "a2f94e1e",
   "metadata": {
    "id": "a2f94e1e",
    "outputId": "cd89db3f-1ceb-4508-9f91-dca4047bbae1"
   },
   "outputs": [
    {
     "name": "stdout",
     "output_type": "stream",
     "text": [
      "1.0 * IXX\n",
      "+ 1.0 * XXI\n",
      "+ 1.0 * IYY\n",
      "+ 1.0 * YYI\n",
      "+ 1.0 * IZZ\n",
      "+ 1.0 * ZZI\n"
     ]
    }
   ],
   "source": [
    "def hamiltonian_operator():\n",
    "    '''\n",
    "    Function to compute the XXX Heisenberg Hamiltonian for a system of three interacting spin-1/2 particles in a 1D-chain.\n",
    "    \n",
    "    The parentheses between sums are required to preserve the order of operations.\n",
    "    Carrot symbol ^ denotes tensor product between matrices.\n",
    "    Plus sign + denotes addition operation between matrices.\n",
    "          \n",
    "    Returns:\n",
    "      - h_heis3 (qiskit.opflow.primitive_ops.pauli_sum_op.PauliSumOp): the matrix representation of the XXX Heisemberg Hamiltonian operator.\n",
    "    '''\n",
    "    XXs = (I^X^X) + (X^X^I)\n",
    "    YYs = (I^Y^Y) + (Y^Y^I)\n",
    "    ZZs = (I^Z^Z) + (Z^Z^I)\n",
    "    h_heis3 = XXs + YYs + ZZs\n",
    "    return h_heis3\n",
    "\n",
    "print(hamiltonian_operator())"
   ]
  },
  {
   "cell_type": "markdown",
   "id": "653e7ae5",
   "metadata": {
    "id": "653e7ae5"
   },
   "source": [
    "**Unitary Evolution Operator:**\n",
    "\n",
    "\\begin{eqnarray}\n",
    "\\hat{U}(t) = e^{-i\\hat{H}t / \\hbar}.\n",
    "\\end{eqnarray}\n",
    "\n",
    "\\begin{eqnarray}\n",
    "U_{heis3}=e^{-iH_{heis3}t / \\hbar}.\n",
    "\\end{eqnarray}\n",
    "\n",
    "- See the `supplementary.ipynb` material for derivations."
   ]
  },
  {
   "cell_type": "code",
   "execution_count": null,
   "id": "384aa3b5",
   "metadata": {
    "id": "384aa3b5",
    "outputId": "423f8837-40ac-42f3-fe6e-3f8ba50c6239"
   },
   "outputs": [
    {
     "data": {
      "text/plain": [
       "EvolvedOp(PauliSumOp(SparsePauliOp(['IXX', 'XXI', 'IYY', 'YYI', 'IZZ', 'ZZI'],\n",
       "              coeffs=[3.14159265+0.j, 3.14159265+0.j, 3.14159265+0.j, 3.14159265+0.j,\n",
       " 3.14159265+0.j, 3.14159265+0.j]), coeff=1), coeff=1.0)"
      ]
     },
     "execution_count": 6,
     "metadata": {},
     "output_type": "execute_result"
    }
   ],
   "source": [
    "def evolution_operator(time, hamiltonian):\n",
    "    '''\n",
    "    Function to compute the corresponding Unitary Evolution Operator of the XXX Hamiltonian.\n",
    "    \n",
    "    In this function, the reduced Planck's constant \"hbar\" is set to one.\n",
    "    \n",
    "    Args:\n",
    "      - time (float): an instant of time.\n",
    "      - hamiltonian (function): a function that returns the matrix representation of the Hamiltonian operator of interest.\n",
    "    \n",
    "    Returns:\n",
    "      - unitary_evolution (qiskit.opflow.evolutions.evolved_op.EvolvedOp): the matrix corresponding to the Evolution operator at a given time.\n",
    "    '''\n",
    "    unitary_evolution = (float(time) * hamiltonian).exp_i()\n",
    "    return unitary_evolution\n",
    "\n",
    "evolution_operator(np.pi, hamiltonian_operator()) # Evolution operator at time t=pi."
   ]
  },
  {
   "cell_type": "markdown",
   "id": "1bb5fb5c",
   "metadata": {
    "id": "1bb5fb5c"
   },
   "source": [
    "**Probability of state $|110\\rangle$ over time $t=\\pi$ under $H_{heis3}$:**\n",
    "\n",
    "\\begin{eqnarray}|\n",
    "P_t(|o_j\\rangle) &=& |\\langle o_j | \\hat{U}(t) |\\psi(0)\\rangle|^2 \\\\\n",
    "&=& |\\langle o_j |\\psi(t)\\rangle|^2.\n",
    "\\end{eqnarray}\n",
    "\n",
    "When $|o_j\\rangle=|\\psi(0)\\rangle \\implies P_t(|o_j\\rangle) = \\langle \\psi(0) |\\hat{U}(t)|\\psi(0)\\rangle = \\langle \\hat{U}(t) \\rangle$ according to $\\langle \\psi(0) |U^{\\dagger}(t)\\hat{\\mathcal{O}}\\hat{U}(t)|\\psi(0)\\rangle$, for $=\\hat{\\mathcal{O}}=\\hat{U}(t)$.\n",
    "\n",
    "\\begin{eqnarray}\n",
    "P_{t=\\pi}(|110\\rangle) &=& |\\langle 110 | U_{heis3}(t=\\pi) |110\\rangle|^2 \\\\\n",
    "&=& |\\langle 110 |e^{-i\\pi H_{heis3}/ \\hbar} |110\\rangle|^2 \\\\\n",
    "&=& |\\langle U_{heis3} \\rangle|^2.\n",
    "\\end{eqnarray}\n",
    "\n",
    "- See the `supplementary.ipynb` material for derivations."
   ]
  },
  {
   "cell_type": "code",
   "execution_count": null,
   "id": "4640ebf8",
   "metadata": {
    "id": "4640ebf8"
   },
   "outputs": [],
   "source": [
    "def probability(measured_state, prepared_state, time_window, unitary_evolution, hamiltonian, *args):\n",
    "    '''    \n",
    "    Function that computes the probability of measuring a given reference state of a quantum system evolving over time.\n",
    "    \n",
    "    When the reference_state is equal to the prepared_state, this function computes the modulus squared of the expectation value of a given operator over a given time window.\n",
    "    The tilde symbol ~ denotes de dagger operation and returns the adjoint (conjugate transpose) of a vector. \n",
    "    The at sign @ is short hand for matrix multiplication.\n",
    "    The (...).eval() method from qiskit.opflow returns the inner product.\n",
    "\n",
    "    Args:\n",
    "      - measured_state (qiskit.opflow.state_fns.dict_state_fn.DictStateFn): a column (ket) vector representing the quantum state to be measured.\n",
    "      - prepared_state (qiskit.opflow.state_fns.dict_state_fn.DictStateFn): a column (ket) vector representing the state in which the quantum system was prepared.\n",
    "      - time_window (numpy.ndarray): array of time instants of the state evolution.\n",
    "      - unitary_evolution (function): a function that returns the Evolution operator with type=qiskit.opflow.evolutions.evolved_op.EvolvedOp.\n",
    "      - hamiltonian (qiskit.opflow.primitive_ops.pauli_sum_op.PauliSumOp): the Hamiltonian operator.\n",
    "      - *args (int): the number of Trotter steps, if applied.\n",
    "\n",
    "    Returns:\n",
    "      - probability (list): a list with the individual probabilities of finding the quantum system in a given reference state at a given time instant.\n",
    "    '''\n",
    "    probability = [np.abs((~measured_state @ unitary_evolution(t, hamiltonian, *args) @ prepared_state).eval())**2 for t in time_window]\n",
    "    return probability"
   ]
  },
  {
   "cell_type": "markdown",
   "id": "ba7eb00c",
   "metadata": {
    "id": "ba7eb00c"
   },
   "source": [
    "**Dynamics (evolution) of the state $|110\\rangle$ under $h_{heis3}$:** "
   ]
  },
  {
   "cell_type": "code",
   "execution_count": null,
   "id": "98266f23",
   "metadata": {
    "id": "98266f23",
    "outputId": "65bea203-f32e-449f-a792-e75fb38dd76f"
   },
   "outputs": [
    {
     "data": {
      "image/png": "[encoded data removed]",
      "text/plain": [
       "<Figure size 600x400 with 1 Axes>"
      ]
     },
     "metadata": {
      "needs_background": "light"
     },
     "output_type": "display_data"
    }
   ],
   "source": [
    "def plot(xlabel, ylabel, title, legends=True, size=False, **kwargs):\n",
    "    '''\n",
    "    Function for plot visualization.\n",
    "    \n",
    "    Args:\n",
    "      - xlabel (str): the X-axis label.\n",
    "      - ylabel (str): the Y-axis label.\n",
    "      - title (str): the title of the plot.\n",
    "      - legends (bool): boolean value to determine if labels are applied. Default is True.\n",
    "      - size (bool): boolean value to determine if image size, resolution and plot are applied. Default is False.\n",
    "    \n",
    "    **kwargs\n",
    "      - x (numpy.ndarray): set of X-axis values.\n",
    "      - y (list): set of Y-axis values.\n",
    "      - w (int): width of the plot figure in unit inches.\n",
    "      - h (int): height of the plot figure in unit inches.\n",
    "      - dpi (int): resolution in dots per inch.\n",
    "    '''\n",
    "    if kwargs:\n",
    "        x, y, w, h, dpi = kwargs.values()\n",
    "    if size:\n",
    "        plt.figure(figsize = (w,h), dpi = dpi)\n",
    "        plt.plot(x, y)\n",
    "    plt.xlabel(xlabel)\n",
    "    plt.ylabel(ylabel)\n",
    "    if legends:\n",
    "        plt.legend(bbox_to_anchor=(1, 1), loc='upper left')\n",
    "    plt.title(title)\n",
    "    plt.grid()\n",
    "    plt.show()\n",
    "\n",
    "#time_window=np.linspace(0, 3*np.pi, 100)\n",
    "time_window=np.arange(start=0, stop=2*np.pi, step=0.01)\n",
    "prepared_state=One^One^Zero\n",
    "measured_state=prepared_state\n",
    "probs_heis3=probability(measured_state, prepared_state, time_window, evolution_operator, hamiltonian_operator())\n",
    "\n",
    "plot(xlabel='Time', ylabel=r'Probability of state $|110\\rangle$', \\\n",
    "     title=r'Evolution of $|110\\rangle$ under $U_{heis3}(t=2\\pi)$. Periodicity: $\\pi$', legends=False, size=True, \\\n",
    "     x=time_window, y=probs_heis3, w=6, h=4, dpi=100)"
   ]
  },
  {
   "cell_type": "markdown",
   "id": "f3672874",
   "metadata": {
    "id": "f3672874"
   },
   "source": [
    "**Trotterization:**"
   ]
  },
  {
   "cell_type": "markdown",
   "id": "423d618f",
   "metadata": {
    "id": "423d618f"
   },
   "source": [
    "Consider the following decomposition for $H_{heis3}$:\n",
    "\n",
    "\\begin{align}\n",
    "H_{heis3} = H_a^{(0,1)} + H_b^{(1,2)},\n",
    "\\end{align}\n",
    "where\n",
    "\\begin{align}\n",
    "H_a^{(0,1)}  =\\big(X^{(0)} \\otimes X^{(1)} + Y^{(0)}\\otimes Y^{(1)} + Z^{(0)}\\otimes Z^{(1)}\\big)\\otimes I^{(2)}, \\\\\n",
    "H_b^{(1,2)} =I^{(0)}\\otimes \\big(X^{(1)}\\otimes X^{(2)} +  Y^{(1)}\\otimes Y^{(2)} +  Z^{(1)}\\otimes Z^{(2)}\\big),\n",
    "\\end{align}\n",
    "\n",
    "with $[H_a^{(0,1)},H_b^{(1,2)}]\\ne\\mathbb{O}$.\n",
    "\n",
    "The unitary evolution operator according to the Trotter-Suzuki decomposition thus becomes ($\\hbar\\equiv1$):\n",
    "\n",
    "\\begin{align}\n",
    "U_{Trotter}(t) &= e^{-itH_{heis3}} = e^{-it\\Big(H_a^{(0,1)} + H_b^{(1,2)}\\Big)} = \\lim_{N\\rightarrow\\infty}\\Big(e^{-it H_a/N}e^{-it H_b /N}\\Big)^{N} \\\\\n",
    "&= \\lim_{N\\rightarrow\\infty}\\left(\\Big(e^{-it X\\otimes X/N}e^{-it Y\\otimes Y/N}e^{-it Z\\otimes Z/N}\\otimes I\\Big)\\Big(I\\otimes e^{-it X\\otimes X/N}e^{-it Y\\otimes Y/N}e^{-it Z \\otimes Z/N}\\Big)\\right)^{N}.\n",
    "\\end{align}"
   ]
  },
  {
   "cell_type": "markdown",
   "id": "d7c46e50",
   "metadata": {
    "id": "d7c46e50"
   },
   "source": [
    "**NumPy and qiskit.opflow implementations of Trotterization:**"
   ]
  },
  {
   "cell_type": "code",
   "execution_count": null,
   "id": "41dcefc0",
   "metadata": {
    "id": "41dcefc0"
   },
   "outputs": [],
   "source": [
    "sigma0 = np.array([[1,0],[0,1]])\n",
    "sigma1 = np.array([[0,1],[1,0]])\n",
    "sigma2 = np.array([[0,-1j],[1j,0]])\n",
    "sigma3 = np.array([[1,0],[0,-1]])\n",
    "\n",
    "def ham_decomposition_qiskit():\n",
    "    '''\n",
    "    Function that decomposes the XXX Heisenberg Hamiltonian using qiskit.opflow.\n",
    "    \n",
    "    Returns:\n",
    "      - h_a, h_b (tuple): the reduced Hamiltonians of the decomposition, each of type=qiskit.opflow.primitive_ops.pauli_sum_op.PauliSumOp.\n",
    "    '''\n",
    "    global ham_qiskit\n",
    "    ham_qiskit = (X^X) + (Y^Y) + (Z^Z)\n",
    "    h_a = ham_qiskit^I\n",
    "    h_b = I^ham_qiskit\n",
    "    return h_a, h_b\n",
    "\n",
    "def ham_decomposition_num():\n",
    "    '''\n",
    "    Function that decomposes the XXX Heisenberg Hamiltonian using NumPy.\n",
    "    \n",
    "    Returns:\n",
    "      - h_a, h_b (tuple): the reduced Hamiltonians of the decomposition, each of type=numpy.ndarray.\n",
    "    '''\n",
    "    global ham_num\n",
    "    ham_num = np.kron(sigma1, sigma1) + np.kron(sigma2, sigma2) + np.kron(sigma3, sigma3)\n",
    "    h_a = np.kron(ham_num, sigma0)\n",
    "    h_b = np.kron(sigma0, ham_num)\n",
    "    return h_a, h_b\n",
    "\n",
    "def trotter_evolution_qiskit(time, hamiltonian, trotter_steps):\n",
    "    '''\n",
    "    Function that computes the Trotterization of the Evolution operator given the XXX Heisenberg Hamiltonian using qiskit.opflow.\n",
    "    \n",
    "    Returns:\n",
    "      - power (qiskit.opflow.list_ops.composed_op.ComposedOp): the Evolution operator to the power of trotter_steps.\n",
    "    '''\n",
    "    h_a, h_b = hamiltonian\n",
    "    evolution_operator_a=(float(time/trotter_steps) * h_a).exp_i()\n",
    "    evolution_operator_b=(float(time/trotter_steps) * h_b).exp_i()\n",
    "    evolution_operator=evolution_operator_a@evolution_operator_b\n",
    "    power=evolution_operator.power(trotter_steps)\n",
    "    return power\n",
    "\n",
    "def trotter_evolution_num(time, hamiltonian, trotter_steps):\n",
    "    '''\n",
    "    Function that computes the Trotterization of the Evolution Operator given the XXX Heisenberg Hamiltonian using NumPy.\n",
    "    \n",
    "    Returns:\n",
    "      - power (numpy.ndarray): the matrix representing the Evolution operator to the power of trotter_steps.\n",
    "    '''\n",
    "    h_a, h_b = hamiltonian\n",
    "    evolution_operator_a=expm(-1j*float(time/trotter_steps)*h_a)\n",
    "    evolution_operator_b=expm(-1j*float(time/trotter_steps)*h_b)\n",
    "    evolution_operator=np.dot(evolution_operator_a, evolution_operator_b)\n",
    "    power=np.linalg.matrix_power(evolution_operator, trotter_steps)\n",
    "    return power \n",
    "\n",
    "a,b=ham_decomposition_qiskit(),ham_decomposition_num()"
   ]
  },
  {
   "cell_type": "code",
   "execution_count": null,
   "id": "e3877ab1",
   "metadata": {
    "id": "e3877ab1"
   },
   "outputs": [],
   "source": [
    "#n=3\n",
    "#X.power(n) == X**n # >>> True"
   ]
  },
  {
   "cell_type": "code",
   "execution_count": null,
   "id": "7e2ca29d",
   "metadata": {
    "id": "7e2ca29d"
   },
   "outputs": [],
   "source": [
    "#np.dot(sigma1,sigma2) == (X@Y).to_matrix() # >>> True"
   ]
  },
  {
   "cell_type": "code",
   "execution_count": null,
   "id": "2e1659e6",
   "metadata": {
    "id": "2e1659e6"
   },
   "outputs": [],
   "source": [
    "#np.kron(sigma1,sigma2) == (X^Y).to_matrix() # >>> True"
   ]
  },
  {
   "cell_type": "code",
   "execution_count": null,
   "id": "7aadae08",
   "metadata": {
    "id": "7aadae08"
   },
   "outputs": [],
   "source": [
    "#ham_num == ham_qiskit.to_matrix() # >>> True"
   ]
  },
  {
   "cell_type": "code",
   "execution_count": null,
   "id": "504312ab",
   "metadata": {
    "id": "504312ab"
   },
   "outputs": [],
   "source": [
    "#np.kron(ham_num, sigma0)==(ham_qiskit^I).to_matrix() # >>> True"
   ]
  },
  {
   "cell_type": "code",
   "execution_count": null,
   "id": "7469064a",
   "metadata": {
    "id": "7469064a"
   },
   "outputs": [],
   "source": [
    "#np.kron(sigma0, ham_num)==(I^ham_qiskit).to_matrix() # >>> True"
   ]
  },
  {
   "cell_type": "code",
   "execution_count": null,
   "id": "fa8b1413",
   "metadata": {
    "id": "fa8b1413"
   },
   "outputs": [],
   "source": [
    "#expm(-1j*np.pi*(np.kron(ham_num, sigma0))) == (np.pi * (ham_qiskit^I)).exp_i().to_matrix() #>>> True"
   ]
  },
  {
   "cell_type": "code",
   "execution_count": null,
   "id": "fd6ff4be",
   "metadata": {
    "id": "fd6ff4be"
   },
   "outputs": [],
   "source": [
    "#expm(-1j*np.pi*(np.kron(sigma0, ham_num))) == (np.pi * (I^ham_qiskit)).exp_i().to_matrix() #>>> True"
   ]
  },
  {
   "cell_type": "code",
   "execution_count": null,
   "id": "30547a68",
   "metadata": {
    "id": "30547a68",
    "outputId": "06420c87-8734-4d59-f2cf-456411c07e73"
   },
   "outputs": [
    {
     "data": {
      "text/plain": [
       "((0.9999999999999991+6.752467318534805e-17j),\n",
       " (0.9999999999999991+6.752467318534806e-17j))"
      ]
     },
     "execution_count": 18,
     "metadata": {},
     "output_type": "execute_result"
    }
   ],
   "source": [
    "# Some values may be slightly different.\n",
    "\n",
    "trotter_evolution_num(np.pi, ham_decomposition_num(), 1)[1][1], \\\n",
    "trotter_evolution_qiskit(np.pi, ham_decomposition_qiskit(), 1).to_matrix()[1][1]"
   ]
  },
  {
   "cell_type": "code",
   "execution_count": null,
   "id": "9bd12514",
   "metadata": {
    "id": "9bd12514",
    "outputId": "f9da4f2e-1a31-4fe2-ad43-82bd3e3a1238"
   },
   "outputs": [
    {
     "data": {
      "text/plain": [
       "array([[ True,  True,  True,  True,  True,  True,  True,  True],\n",
       "       [ True,  True,  True,  True,  True,  True,  True,  True],\n",
       "       [ True,  True,  True,  True,  True,  True,  True,  True],\n",
       "       [ True,  True,  True,  True,  True,  True,  True,  True],\n",
       "       [ True,  True,  True,  True,  True,  True,  True,  True],\n",
       "       [ True,  True,  True,  True,  True,  True,  True,  True],\n",
       "       [ True,  True,  True,  True,  True,  True,  True,  True],\n",
       "       [ True,  True,  True,  True,  True,  True,  True,  True]])"
      ]
     },
     "execution_count": 19,
     "metadata": {},
     "output_type": "execute_result"
    }
   ],
   "source": [
    "# After the values are rounded both implementations match, as they should.\n",
    "\n",
    "trotter_evolution_num(np.pi, ham_decomposition_num(), 1).round() == \\\n",
    "trotter_evolution_qiskit(np.pi, ham_decomposition_qiskit(), 1).to_matrix().round()"
   ]
  },
  {
   "cell_type": "markdown",
   "id": "b80625ee",
   "metadata": {
    "id": "b80625ee"
   },
   "source": [
    "**State Fidelity:** "
   ]
  },
  {
   "cell_type": "markdown",
   "id": "f0f97331",
   "metadata": {
    "id": "f0f97331"
   },
   "source": [
    "The fidelity between two mixed density operators (matrices) $\\rho$ and $\\sigma$ is:\n",
    "\n",
    "\\begin{align}\n",
    "F(\\rho,\\sigma) = \\left(tr \\sqrt{\\sqrt{\\rho} \\sigma \\sqrt{\\rho}}\\right)^2,\n",
    "\\end{align}\n",
    "\n",
    "with $\\rho= |\\psi_{\\rho}\\rangle \\langle \\psi_{\\rho}|$ and $\\sigma=|\\psi_{\\sigma}\\rangle \\langle \\psi_{\\sigma}|$.\n",
    "\n",
    "If one of the states is a pure state ($\\rho=|\\psi_{\\rho}\\rangle \\langle \\psi_{\\rho}|$), it reduces to the fidelity between a pure and a mixed state:\n",
    "\n",
    "\\begin{align}\n",
    "F(\\sigma, |\\psi\\rangle) = \\langle\\psi_{\\rho}|\\sigma|\\psi_{\\rho}\\rangle = \\sum_{j,k=0}^{d-1}\\psi_{j}^{*}\\sigma_{j,k}\\psi_{k}.\n",
    "\\end{align}\n",
    "\n",
    "If both states are pure states, then\n",
    "\n",
    "\\begin{align}\n",
    "F(\\rho, \\sigma) = |\\langle\\psi_{\\rho}|\\psi_{\\sigma}\\rangle|^2.\n",
    "\\end{align}"
   ]
  },
  {
   "cell_type": "markdown",
   "id": "14995b03",
   "metadata": {
    "id": "14995b03"
   },
   "source": [
    "**Computing State Fidelity for pure states with NumPy:** "
   ]
  },
  {
   "cell_type": "code",
   "execution_count": null,
   "id": "f871c8c6",
   "metadata": {
    "id": "f871c8c6"
   },
   "outputs": [],
   "source": [
    "def state_fidelity_num(measured_state, prepared_state, time_window, unitary_evolution, hamiltonian, trotter_steps):\n",
    "    '''    \n",
    "    Function that computes the probability of measuring a given reference state of a quantum system evolving over time.\n",
    "    \n",
    "    If the reference_state is equal to the prepared_state, this function computes the modulus squared of the expectation value of a given operator over a given time window.\n",
    "\n",
    "    Args:\n",
    "      - measured_state (numpy.ndarray): a column (ket) vector representing the quantum state to be measured.\n",
    "      - prepared_state (numpy.ndarray): a column (ket) vector representing the state in which the quantum system was prepared.\n",
    "      - time_window (numpy.ndarray): array of time instants of the state evolution.\n",
    "      - unitary_evolution (function): a function that returns the matrix representation (numpy.ndarray) of the Trottered Evolution operator.\n",
    "      - hamiltonian (tuple): the reduced Hamiltonians from the decomposition, each of type=numpy.ndarray.\n",
    "      - trotter_steps (int): the number of Trotter steps.\n",
    "\n",
    "    Returns:\n",
    "      - probability_array (numpy.ndarray): array with the individual probabilities of finding the quantum system in a given reference state at a given time instant.\n",
    "    '''\n",
    "    probability_array=np.zeros(len(time_window))\n",
    "    adjoint = measured_state.conj().T\n",
    "    for i in range(len(time_window)):\n",
    "        unitary=unitary_evolution(time_window[i],hamiltonian,trotter_steps)\n",
    "        evolved_state=np.dot(unitary, prepared_state)\n",
    "        inner_product = np.dot(adjoint,evolved_state)\n",
    "        probability_array[i] = np.abs(inner_product)**2   \n",
    "        \n",
    "    return probability_array"
   ]
  },
  {
   "cell_type": "markdown",
   "id": "d266910d",
   "metadata": {
    "id": "d266910d"
   },
   "source": [
    "**Dynamics (evolution) of State Fidelity for the state $|110\\rangle$ under $U_{Trotter}(t=\\pi)$:** "
   ]
  },
  {
   "cell_type": "code",
   "execution_count": null,
   "id": "cadb2a56",
   "metadata": {
    "id": "cadb2a56",
    "outputId": "f7639608-5a82-4f13-d91b-841e0246d7cf",
    "scrolled": true
   },
   "outputs": [
    {
     "data": {
      "image/png": "[encoded data removed]",
      "text/plain": [
       "<Figure size 510x340 with 1 Axes>"
      ]
     },
     "metadata": {
      "needs_background": "light"
     },
     "output_type": "display_data"
    }
   ],
   "source": [
    "# Plot for Trotterization implemented with NumPy.\n",
    "\n",
    "time_window=np.arange(start=0, stop=np.pi+0.01, step=0.01)\n",
    "measured_state=(One^One^Zero).to_matrix()\n",
    "prepared_state=measured_state\n",
    "fidelity=[]\n",
    "plt.figure(figsize = (6,4), dpi = 85)\n",
    "for i in range(9):\n",
    "    fids=state_fidelity_num(measured_state, prepared_state, time_window, trotter_evolution_num, \\\n",
    "                          ham_decomposition_num(), trotter_steps=i+1)\n",
    "    fidelity.append(fids[len(time_window)-1])\n",
    "    plt.plot(time_window, fids, label = f\"F{i+1}\")\n",
    "\n",
    "plot('Time', r'Probability of state $|110\\rangle$',r'Fidelity of $|110\\rangle$ under $U_{Trotter}(t=\\pi)$.',True,False)"
   ]
  },
  {
   "cell_type": "code",
   "execution_count": null,
   "id": "e2d6e7f6",
   "metadata": {
    "id": "e2d6e7f6",
    "outputId": "cf8a4043-6663-4a37-c437-7452e6bedc74",
    "scrolled": true
   },
   "outputs": [
    {
     "name": "stdout",
     "output_type": "stream",
     "text": [
      "F1=0.9997172927505018\n",
      "F2=0.9997173027412787\n",
      "F3=0.07441607773249213\n",
      "F4=0.00015902844790257662\n",
      "F5=0.25775363032243487\n",
      "F6=0.5765991261868874\n",
      "F7=0.7625355067869187\n",
      "F8=0.8611366833624894\n",
      "F9=0.91466455372391\n"
     ]
    }
   ],
   "source": [
    "for value in fidelity:\n",
    "    print(f'F{fidelity.index(value)+1}={value}')  "
   ]
  },
  {
   "cell_type": "code",
   "execution_count": null,
   "id": "c0cd418a",
   "metadata": {
    "id": "c0cd418a",
    "outputId": "6311aca9-5ff6-4940-f9d0-aaa22edb6d44"
   },
   "outputs": [
    {
     "data": {
      "image/png": "[encoded data removed]",
      "text/plain": [
       "<Figure size 600x400 with 1 Axes>"
      ]
     },
     "metadata": {
      "needs_background": "light"
     },
     "output_type": "display_data"
    }
   ],
   "source": [
    "# Plot for Trotterization implemented with qiskit.opflow. \n",
    "# It works, but it takes longer to compute! \n",
    "\n",
    "time_window=np.arange(start=0, stop=np.pi+0.01, step=0.01)\n",
    "measured_state=(One^One^Zero)\n",
    "prepared_state=measured_state\n",
    "fidelity=[]\n",
    "plt.figure(figsize = (6,4), dpi = 100)\n",
    "for i in range(9):\n",
    "    fids=probability(measured_state, prepared_state, time_window, trotter_evolution_qiskit, \\\n",
    "                      ham_decomposition_qiskit(), i+1)\n",
    "    fidelity.append(fids[len(time_window)-1])\n",
    "    plt.plot(time_window, fids, label = f\"F{i+1}\")\n",
    "plot('Time', r'Probability of state $|110\\rangle$', r'Fidelity of $|110\\rangle$ under $U_{Trotter}(t=\\pi)$.',True, False)"
   ]
  },
  {
   "cell_type": "code",
   "execution_count": null,
   "id": "07785e1b",
   "metadata": {
    "id": "07785e1b",
    "outputId": "e61a587b-938a-481f-ce64-81252f765ca4"
   },
   "outputs": [
    {
     "name": "stdout",
     "output_type": "stream",
     "text": [
      "F1=0.9997172927505018\n",
      "F2=0.9997173027412785\n",
      "F3=0.07441607773249213\n",
      "F4=0.00015902844790257657\n",
      "F5=0.25775363032243465\n",
      "F6=0.5765991261868874\n",
      "F7=0.7625355067869187\n",
      "F8=0.8611366833624895\n",
      "F9=0.91466455372391\n"
     ]
    }
   ],
   "source": [
    "for value in fidelity:\n",
    "    print(f'F{fidelity.index(value)+1}={value}')  "
   ]
  },
  {
   "cell_type": "markdown",
   "id": "1f681a72",
   "metadata": {
    "id": "1f681a72"
   },
   "source": [
    "The classical simulation reveals that state fidelity does not increase with increasing number of trotter steps, since:\n",
    "\n",
    "\\begin{eqnarray}\n",
    "F_{4}(t=\\pi)<F_{3}(t=\\pi)<F_{2}(t=\\pi).\n",
    "\\end{eqnarray}\n",
    "\n",
    "Furthermore, the classical simulation suggests a minimum number of $N_{min}=6$ trotter steps ($F_6=0.576599...$) to comply with the competition judging criteria for $N\\geq 4$."
   ]
  },
  {
   "cell_type": "markdown",
   "id": "Gd4rQeUjM7Y8",
   "metadata": {
    "id": "Gd4rQeUjM7Y8"
   },
   "source": [
    "# &nbsp; <a href=\"#\"><img valign=\"middle\" height=\"45px\" src=\"https://img.icons8.com/physics\" width=\"45\" hspace=\"0px\" vspace=\"0px\"></a> Quantum Simulation"
   ]
  },
  {
   "cell_type": "markdown",
   "id": "69d65608",
   "metadata": {
    "id": "69d65608"
   },
   "source": [
    "**Dependencies:**"
   ]
  },
  {
   "cell_type": "code",
   "execution_count": 31,
   "id": "8c2a8dd1",
   "metadata": {
    "id": "8c2a8dd1"
   },
   "outputs": [],
   "source": [
    "# Importing standard Qiskit modules\n",
    "from qiskit import QuantumCircuit, QuantumRegister, IBMQ, execute, transpile\n",
    "from qiskit.providers.aer import QasmSimulator\n",
    "from qiskit.tools.monitor import job_monitor\n",
    "from qiskit.circuit import Parameter\n",
    "from qiskit.opflow import Zero, One\n",
    "\n",
    "# Import state tomography modules\n",
    "from qiskit.ignis.verification.tomography import state_tomography_circuits, StateTomographyFitter\n",
    "from qiskit.quantum_info import state_fidelity\n",
    "\n",
    "import numpy as np"
   ]
  },
  {
   "cell_type": "code",
   "execution_count": 3,
   "id": "fc9dda22",
   "metadata": {
    "id": "fc9dda22",
    "outputId": "a0925bf1-0aa2-4b0d-9569-e08a8afa659c"
   },
   "outputs": [
    {
     "data": {
      "text/html": [
       "<h3>Version Information</h3><table><tr><th>Qiskit Software</th><th>Version</th></tr><tr><td><code>qiskit-terra</code></td><td>0.20.0</td></tr><tr><td><code>qiskit-aer</code></td><td>0.10.3</td></tr><tr><td><code>qiskit-ignis</code></td><td>0.7.0</td></tr><tr><td><code>qiskit-ibmq-provider</code></td><td>0.18.3</td></tr><tr><td><code>qiskit</code></td><td>0.35.0</td></tr><tr><th>System information</th></tr><tr><td>Python version</td><td>3.7.13</td></tr><tr><td>Python compiler</td><td>MSC v.1916 64 bit (AMD64)</td></tr><tr><td>Python build</td><td>default, Mar 28 2022 08:03:21</td></tr><tr><td>OS</td><td>Windows</td></tr><tr><td>CPUs</td><td>6</td></tr><tr><td>Memory (Gb)</td><td>7.850372314453125</td></tr><tr><td colspan='2'>Wed Apr 27 17:13:12 2022 Taipei Standard Time</td></tr></table>"
      ],
      "text/plain": [
       "<IPython.core.display.HTML object>"
      ]
     },
     "metadata": {},
     "output_type": "display_data"
    }
   ],
   "source": [
    "import qiskit.tools.jupyter\n",
    "%qiskit_version_table"
   ]
  },
  {
   "cell_type": "markdown",
   "id": "n-SX0E9jq_Mb",
   "metadata": {
    "id": "n-SX0E9jq_Mb"
   },
   "source": [
    "**Reading personal token from external file and loading IBMQ Account data:**"
   ]
  },
  {
   "cell_type": "code",
   "execution_count": 2,
   "id": "f1958483",
   "metadata": {
    "id": "f1958483"
   },
   "outputs": [],
   "source": [
    "%run ibm_token.py # Magic command. use `%run?` for help or read the documentation at https://ipython.readthedocs.io/en/stable/interactive/magics.html\n",
    "#%run?"
   ]
  },
  {
   "cell_type": "code",
   "execution_count": 6,
   "id": "ce977720",
   "metadata": {
    "id": "ce977720"
   },
   "outputs": [],
   "source": [
    "# load IBMQ Account data\n",
    "\n",
    "IBMQ.save_account(TOKEN, overwrite=True) \n",
    "provider = IBMQ.load_account()"
   ]
  },
  {
   "cell_type": "markdown",
   "id": "37371f9f",
   "metadata": {
    "id": "37371f9f"
   },
   "source": [
    "**Connecting to IBM provider:**"
   ]
  },
  {
   "cell_type": "code",
   "execution_count": 7,
   "id": "2897c520",
   "metadata": {
    "id": "2897c520"
   },
   "outputs": [],
   "source": [
    "# Get the Real Jakarta backend for experiment:\n",
    "\n",
    "provider = IBMQ.get_provider(hub='ibm-q-community', group='ibmquantumawards', project='open-science-22')\n",
    "jakarta = provider.get_backend('ibmq_jakarta')"
   ]
  },
  {
   "cell_type": "code",
   "execution_count": 8,
   "id": "8ff590c9",
   "metadata": {
    "id": "8ff590c9",
    "outputId": "53a7e5f3-432f-443b-c90b-c3f78aa373ae"
   },
   "outputs": [
    {
     "data": {
      "text/plain": [
       "<qiskit.providers.models.backendproperties.BackendProperties at 0x1f2673a3988>"
      ]
     },
     "execution_count": 8,
     "metadata": {},
     "output_type": "execute_result"
    }
   ],
   "source": [
    "properties = jakarta.properties()\n",
    "properties"
   ]
  },
  {
   "cell_type": "code",
   "execution_count": null,
   "id": "ec81ed42",
   "metadata": {
    "id": "ec81ed42",
    "outputId": "6ae43150-7827-4721-b43d-b577d113bb18"
   },
   "outputs": [
    {
     "name": "stdout",
     "output_type": "stream",
     "text": [
      "ibmq_jakarta                 ibmq_manila                  ibmq_quito\n",
      "------------                 -----------                  ----------\n",
      "Num. Qubits:  7              Num. Qubits:  5              Num. Qubits:  5\n",
      "Pending Jobs: 1897           Pending Jobs: 6              Pending Jobs: 7\n",
      "Least busy:   False          Least busy:   False          Least busy:   False\n",
      "Operational:  True           Operational:  True           Operational:  True\n",
      "Avg. T1:      141.4          Avg. T1:      135.8          Avg. T1:      103.3\n",
      "Avg. T2:      43.7           Avg. T2:      55.0           Avg. T2:      105.1\n",
      "\n",
      "\n",
      "\n",
      "ibmq_belem                   ibmq_lima                    ibmq_bogota\n",
      "----------                   ---------                    -----------\n",
      "Num. Qubits:  5              Num. Qubits:  5              Num. Qubits:  5\n",
      "Pending Jobs: 7              Pending Jobs: 0              Pending Jobs: 21\n",
      "Least busy:   False          Least busy:   True           Least busy:   False\n",
      "Operational:  True           Operational:  True           Operational:  True\n",
      "Avg. T1:      96.7           Avg. T1:      103.6          Avg. T1:      181.9\n",
      "Avg. T2:      115.1          Avg. T2:      125.2          Avg. T2:      197.0\n",
      "\n",
      "\n",
      "\n",
      "ibmq_santiago                ibmq_armonk\n",
      "-------------                -----------\n",
      "Num. Qubits:  5              Num. Qubits:  1\n",
      "Pending Jobs: 5              Pending Jobs: 2\n",
      "Least busy:   False          Least busy:   False\n",
      "Operational:  True           Operational:  True\n",
      "Avg. T1:      159.6          Avg. T1:      203.7\n",
      "Avg. T2:      129.4          Avg. T2:      213.8\n",
      "\n",
      "\n",
      "\n"
     ]
    }
   ],
   "source": [
    "backend_overview()"
   ]
  },
  {
   "cell_type": "code",
   "execution_count": null,
   "id": "b94730e8",
   "metadata": {
    "id": "b94730e8",
    "outputId": "d720244d-418e-4dc7-c4c4-d9b1081a9321"
   },
   "outputs": [
    {
     "name": "stdout",
     "output_type": "stream",
     "text": [
      "ibmq_jakarta\n",
      "============\n",
      "Configuration\n",
      "-------------\n",
      "    n_qubits: 7\n",
      "    operational: True\n",
      "    status_msg: dedicated\n",
      "    pending_jobs: 1896\n",
      "    backend_version: 1.0.33\n",
      "    basis_gates: ['id', 'rz', 'sx', 'x', 'cx', 'reset']\n",
      "    local: False\n",
      "    simulator: False\n",
      "    meas_kernels: ['hw_qmfk']\n",
      "    dt: 0.2222222222222222\n",
      "    rep_times: [1000.0]\n",
      "    conditional_latency: []\n",
      "    clops: 2438\n",
      "    coupling_map: [[0, 1], [1, 0], [1, 2], [1, 3], [2, 1], [3, 1], [3, 5], [4, 5], [5, 3], [5, 4], [5, 6], [6, 5]]\n",
      "    n_registers: 1\n",
      "    qubit_lo_range: [[4.736543849967877, 5.736543849967877], [4.514439979550949, 5.514439979550949], [4.608541836310971, 5.608541836310971], [4.67814547492645, 5.67814547492645], [4.713028496681162, 5.713028496681162], [4.563258609964804, 5.563258609964804], [4.800705834279577, 5.800705834279577]]\n",
      "    n_uchannels: 12\n",
      "    conditional: False\n",
      "    memory: True\n",
      "    parametric_pulses: ['gaussian', 'gaussian_square', 'drag', 'constant']\n",
      "    allow_object_storage: True\n",
      "    sample_name: family: Falcon, revision: 5.11, segment: H\n",
      "    description: 7 qubit device\n",
      "    url: None\n",
      "    supported_features: ['qobj']\n",
      "    meas_lo_range: [[6.7785974410000005, 7.7785974410000005], [6.8378845980000005, 7.8378845980000005], [6.714907823000001, 7.714907823000001], [6.6704098300000005, 7.6704098300000005], [6.858479454, 7.858479454], [6.604928027000001, 7.604928027000001], [6.742139368, 7.742139368]]\n",
      "    meas_map: [[0, 1, 2, 3, 4, 5, 6]]\n",
      "    max_shots: 100000\n",
      "    max_experiments: 300\n",
      "    dtm: 0.2222222222222222\n",
      "    live_data: False\n",
      "    qubit_channel_mapping: [['d0', 'u0', 'm0', 'u1'], ['u0', 'u5', 'u4', 'u2', 'u1', 'u3', 'd1', 'm1'], ['m2', 'd2', 'u2', 'u4'], ['u6', 'm3', 'u8', 'u5', 'd3', 'u3'], ['d4', 'u7', 'm4', 'u9'], ['u7', 'u6', 'u8', 'u9', 'd5', 'u10', 'm5', 'u11'], ['u10', 'u11', 'd6', 'm6']]\n",
      "    u_channel_lo: [[{'q': 1, 'scale': (1+0j)}], [{'q': 0, 'scale': (1+0j)}], [{'q': 2, 'scale': (1+0j)}], [{'q': 3, 'scale': (1+0j)}], [{'q': 1, 'scale': (1+0j)}], [{'q': 1, 'scale': (1+0j)}], [{'q': 5, 'scale': (1+0j)}], [{'q': 5, 'scale': (1+0j)}], [{'q': 3, 'scale': (1+0j)}], [{'q': 4, 'scale': (1+0j)}], [{'q': 6, 'scale': (1+0j)}], [{'q': 5, 'scale': (1+0j)}]]\n",
      "    credits_required: True\n",
      "    meas_levels: [1, 2]\n",
      "    quantum_volume: 16\n",
      "    dynamic_reprate_enabled: True\n",
      "    default_rep_delay: 250.0\n",
      "    timing_constraints: {'acquire_alignment': 16, 'granularity': 16, 'min_length': 64, 'pulse_alignment': 1}\n",
      "    discriminators: ['linear_discriminator', 'quadratic_discriminator', 'hw_qmfk']\n",
      "    rep_delay_range: [0.0, 500.0]\n",
      "    processor_type: {'family': 'Falcon', 'revision': '5.11', 'segment': 'H'}\n",
      "    pulse_num_channels: 9\n",
      "    input_allowed: ['job', 'runtime']\n",
      "    multi_meas_enabled: True\n",
      "    channels: {'acquire0': {'operates': {'qubits': [0]}, 'purpose': 'acquire', 'type': 'acquire'}, 'acquire1': {'operates': {'qubits': [1]}, 'purpose': 'acquire', 'type': 'acquire'}, 'acquire2': {'operates': {'qubits': [2]}, 'purpose': 'acquire', 'type': 'acquire'}, 'acquire3': {'operates': {'qubits': [3]}, 'purpose': 'acquire', 'type': 'acquire'}, 'acquire4': {'operates': {'qubits': [4]}, 'purpose': 'acquire', 'type': 'acquire'}, 'acquire5': {'operates': {'qubits': [5]}, 'purpose': 'acquire', 'type': 'acquire'}, 'acquire6': {'operates': {'qubits': [6]}, 'purpose': 'acquire', 'type': 'acquire'}, 'd0': {'operates': {'qubits': [0]}, 'purpose': 'drive', 'type': 'drive'}, 'd1': {'operates': {'qubits': [1]}, 'purpose': 'drive', 'type': 'drive'}, 'd2': {'operates': {'qubits': [2]}, 'purpose': 'drive', 'type': 'drive'}, 'd3': {'operates': {'qubits': [3]}, 'purpose': 'drive', 'type': 'drive'}, 'd4': {'operates': {'qubits': [4]}, 'purpose': 'drive', 'type': 'drive'}, 'd5': {'operates': {'qubits': [5]}, 'purpose': 'drive', 'type': 'drive'}, 'd6': {'operates': {'qubits': [6]}, 'purpose': 'drive', 'type': 'drive'}, 'm0': {'operates': {'qubits': [0]}, 'purpose': 'measure', 'type': 'measure'}, 'm1': {'operates': {'qubits': [1]}, 'purpose': 'measure', 'type': 'measure'}, 'm2': {'operates': {'qubits': [2]}, 'purpose': 'measure', 'type': 'measure'}, 'm3': {'operates': {'qubits': [3]}, 'purpose': 'measure', 'type': 'measure'}, 'm4': {'operates': {'qubits': [4]}, 'purpose': 'measure', 'type': 'measure'}, 'm5': {'operates': {'qubits': [5]}, 'purpose': 'measure', 'type': 'measure'}, 'm6': {'operates': {'qubits': [6]}, 'purpose': 'measure', 'type': 'measure'}, 'u0': {'operates': {'qubits': [0, 1]}, 'purpose': 'cross-resonance', 'type': 'control'}, 'u1': {'operates': {'qubits': [1, 0]}, 'purpose': 'cross-resonance', 'type': 'control'}, 'u10': {'operates': {'qubits': [5, 6]}, 'purpose': 'cross-resonance', 'type': 'control'}, 'u11': {'operates': {'qubits': [6, 5]}, 'purpose': 'cross-resonance', 'type': 'control'}, 'u2': {'operates': {'qubits': [1, 2]}, 'purpose': 'cross-resonance', 'type': 'control'}, 'u3': {'operates': {'qubits': [1, 3]}, 'purpose': 'cross-resonance', 'type': 'control'}, 'u4': {'operates': {'qubits': [2, 1]}, 'purpose': 'cross-resonance', 'type': 'control'}, 'u5': {'operates': {'qubits': [3, 1]}, 'purpose': 'cross-resonance', 'type': 'control'}, 'u6': {'operates': {'qubits': [3, 5]}, 'purpose': 'cross-resonance', 'type': 'control'}, 'u7': {'operates': {'qubits': [4, 5]}, 'purpose': 'cross-resonance', 'type': 'control'}, 'u8': {'operates': {'qubits': [5, 3]}, 'purpose': 'cross-resonance', 'type': 'control'}, 'u9': {'operates': {'qubits': [5, 4]}, 'purpose': 'cross-resonance', 'type': 'control'}}\n",
      "    supported_instructions: ['delay', 'play', 'acquire', 'sx', 'x', 'cx', 'shiftf', 'reset', 'id', 'u1', 'u2', 'u3', 'setf', 'rz', 'measure']\n",
      "    open_pulse: True\n",
      "    allow_q_object: True\n",
      "    uchannels_enabled: True\n",
      "    measure_esp_enabled: False\n",
      "    online_date: 2021-04-28 04:00:00+00:00\n",
      "    backend_name: ibmq_jakarta\n",
      "    acquisition_latency: []\n",
      "    hamiltonian: {'description': 'Qubits are modeled as Duffing oscillators. In this case, the system includes higher energy states, i.e. not just |0> and |1>. The Pauli operators are generalized via the following set of transformations:\\n\\n$(\\\\mathbb{I}-\\\\sigma_{i}^z)/2 \\\\rightarrow O_i \\\\equiv b^\\\\dagger_{i} b_{i}$,\\n\\n$\\\\sigma_{+} \\\\rightarrow b^\\\\dagger$,\\n\\n$\\\\sigma_{-} \\\\rightarrow b$,\\n\\n$\\\\sigma_{i}^X \\\\rightarrow b^\\\\dagger_{i} + b_{i}$.\\n\\nQubits are coupled through resonator buses. The provided Hamiltonian has been projected into the zero excitation subspace of the resonator buses leading to an effective qubit-qubit flip-flop interaction. The qubit resonance frequencies in the Hamiltonian are the cavity dressed frequencies and not exactly what is returned by the backend defaults, which also includes the dressing due to the qubit-qubit interactions.\\n\\nQuantities are returned in angular frequencies, with units 2*pi*GHz.\\n\\nWARNING: Currently not all system Hamiltonian information is available to the public, missing values have been replaced with 0.\\n', 'h_latex': '\\\\begin{align} \\\\mathcal{H}/\\\\hbar = & \\\\sum_{i=0}^{6}\\\\left(\\\\frac{\\\\omega_{q,i}}{2}(\\\\mathbb{I}-\\\\sigma_i^{z})+\\\\frac{\\\\Delta_{i}}{2}(O_i^2-O_i)+\\\\Omega_{d,i}D_i(t)\\\\sigma_i^{X}\\\\right) \\\\\\\\ & + J_{0,1}(\\\\sigma_{0}^{+}\\\\sigma_{1}^{-}+\\\\sigma_{0}^{-}\\\\sigma_{1}^{+}) + J_{1,2}(\\\\sigma_{1}^{+}\\\\sigma_{2}^{-}+\\\\sigma_{1}^{-}\\\\sigma_{2}^{+}) + J_{4,5}(\\\\sigma_{4}^{+}\\\\sigma_{5}^{-}+\\\\sigma_{4}^{-}\\\\sigma_{5}^{+}) + J_{5,6}(\\\\sigma_{5}^{+}\\\\sigma_{6}^{-}+\\\\sigma_{5}^{-}\\\\sigma_{6}^{+}) \\\\\\\\ & + J_{1,3}(\\\\sigma_{1}^{+}\\\\sigma_{3}^{-}+\\\\sigma_{1}^{-}\\\\sigma_{3}^{+}) + J_{3,5}(\\\\sigma_{3}^{+}\\\\sigma_{5}^{-}+\\\\sigma_{3}^{-}\\\\sigma_{5}^{+}) \\\\\\\\ & + \\\\Omega_{d,0}(U_{0}^{(0,1)}(t))\\\\sigma_{0}^{X} + \\\\Omega_{d,1}(U_{1}^{(1,0)}(t)+U_{3}^{(1,3)}(t)+U_{2}^{(1,2)}(t))\\\\sigma_{1}^{X} \\\\\\\\ & + \\\\Omega_{d,2}(U_{4}^{(2,1)}(t))\\\\sigma_{2}^{X} + \\\\Omega_{d,3}(U_{5}^{(3,1)}(t)+U_{6}^{(3,5)}(t))\\\\sigma_{3}^{X} \\\\\\\\ & + \\\\Omega_{d,4}(U_{7}^{(4,5)}(t))\\\\sigma_{4}^{X} + \\\\Omega_{d,5}(U_{8}^{(5,3)}(t)+U_{10}^{(5,6)}(t)+U_{9}^{(5,4)}(t))\\\\sigma_{5}^{X} \\\\\\\\ & + \\\\Omega_{d,6}(U_{11}^{(6,5)}(t))\\\\sigma_{6}^{X} \\\\\\\\ \\\\end{align}', 'h_str': ['_SUM[i,0,6,wq{i}/2*(I{i}-Z{i})]', '_SUM[i,0,6,delta{i}/2*O{i}*O{i}]', '_SUM[i,0,6,-delta{i}/2*O{i}]', '_SUM[i,0,6,omegad{i}*X{i}||D{i}]', 'jq0q1*Sp0*Sm1', 'jq0q1*Sm0*Sp1', 'jq1q2*Sp1*Sm2', 'jq1q2*Sm1*Sp2', 'jq4q5*Sp4*Sm5', 'jq4q5*Sm4*Sp5', 'jq5q6*Sp5*Sm6', 'jq5q6*Sm5*Sp6', 'jq1q3*Sp1*Sm3', 'jq1q3*Sm1*Sp3', 'jq3q5*Sp3*Sm5', 'jq3q5*Sm3*Sp5', 'omegad1*X0||U0', 'omegad0*X1||U1', 'omegad3*X1||U3', 'omegad2*X1||U2', 'omegad1*X2||U4', 'omegad1*X3||U5', 'omegad5*X3||U6', 'omegad5*X4||U7', 'omegad3*X5||U8', 'omegad6*X5||U10', 'omegad4*X5||U9', 'omegad5*X6||U11'], 'osc': {}, 'qub': {'0': 3, '1': 3, '2': 3, '3': 3, '4': 3, '5': 3, '6': 3}, 'vars': {'delta0': -2.13555173817207, 'delta1': -2.1563927057817027, 'delta2': -2.146430374895862, 'delta3': -2.143302106510836, 'delta4': -2.1315918993490253, 'delta5': -2.1443842681217924, 'delta6': -2.126003036762104, 'jq0q1': 0.012286377631357464, 'jq1q2': 0.012580420010373893, 'jq1q3': 0.012895897946888989, 'jq3q5': 0.012535018234570119, 'jq4q5': 0.012857428747059304, 'jq5q6': 0.01314290048759992, 'omegad0': 0.9620941014777419, 'omegad1': 0.9924303189957618, 'omegad2': 0.9930827355235464, 'omegad3': 0.9848038551179722, 'omegad4': 0.9934515075377649, 'omegad5': 1.0174929849512073, 'omegad6': 0.98427224501646, 'wq0': 32.902175378519786, 'wq1': 31.50665560324843, 'wq2': 32.09791500702132, 'wq3': 32.53524756649633, 'wq4': 32.754424056255566, 'wq5': 31.813392104581396, 'wq6': 33.30531701562655}}\n",
      "    pulse_num_qubits: 3\n",
      "\n",
      "Qubits [Name / Freq / T1 / T2 / RZ err / SX err / X err / Readout err]\n",
      "----------------------------------------------------------------------\n",
      "    Q0 / 5.23654 GHz / 103.99479 us / 43.41021 us / 0.00000 / 0.00036 / 0.00036 / 0.04040 \n",
      "    Q1 / 5.01444 GHz / 131.89668 us / 26.47706 us / 0.00000 / 0.00034 / 0.00034 / 0.04870 \n",
      "    Q2 / 5.10854 GHz / 202.08825 us / 23.54978 us / 0.00000 / 0.00024 / 0.00024 / 0.02440 \n",
      "    Q3 / 5.17815 GHz / 147.95557 us / 40.47338 us / 0.00000 / 0.00020 / 0.00020 / 0.01640 \n",
      "    Q4 / 5.21303 GHz / 142.28082 us / 92.40474 us / 0.00000 / 0.00018 / 0.00018 / 0.01830 \n",
      "    Q5 / 5.06326 GHz / 140.48250 us / 63.34546 us / 0.00000 / 0.00019 / 0.00019 / 0.03240 \n",
      "    Q6 / 5.30071 GHz / 121.41761 us / 16.28803 us / 0.00000 / 0.00776 / 0.00776 / 0.08820 \n",
      "\n",
      "Multi-Qubit Gates [Name / Type / Gate Error]\n",
      "--------------------------------------------\n",
      "    cx5_4 / cx / 0.00992\n",
      "    cx4_5 / cx / 0.00992\n",
      "    cx1_3 / cx / 0.00853\n",
      "    cx3_1 / cx / 0.00853\n",
      "    cx6_5 / cx / 0.04785\n",
      "    cx5_6 / cx / 0.04785\n",
      "    cx3_5 / cx / 0.00627\n",
      "    cx5_3 / cx / 0.00627\n",
      "    cx2_1 / cx / 0.01189\n",
      "    cx1_2 / cx / 0.01189\n",
      "    cx0_1 / cx / 0.00919\n",
      "    cx1_0 / cx / 0.00919\n"
     ]
    }
   ],
   "source": [
    "backend_monitor(jakarta)"
   ]
  },
  {
   "cell_type": "markdown",
   "id": "1b72ec5b",
   "metadata": {
    "id": "1b72ec5b"
   },
   "source": [
    "**Defining Jakarta-based quantum simulators:**"
   ]
  },
  {
   "cell_type": "code",
   "execution_count": 9,
   "id": "e14a70d7",
   "metadata": {
    "id": "e14a70d7"
   },
   "outputs": [],
   "source": [
    "# Simulated backend based on ibmq_jakarta's device noise profile\n",
    "sim_noisy_jakarta = QasmSimulator.from_backend(provider.get_backend('ibmq_jakarta'))\n",
    "\n",
    "# Noiseless simulated backend\n",
    "sim_noise_free = QasmSimulator()"
   ]
  },
  {
   "cell_type": "markdown",
   "id": "d34f4f9f",
   "metadata": {
    "id": "d34f4f9f"
   },
   "source": [
    "## Trotterization"
   ]
  },
  {
   "cell_type": "markdown",
   "id": "f3iYXczynfIA",
   "metadata": {
    "id": "f3iYXczynfIA"
   },
   "source": [
    "**The chosen Trotterization:**"
   ]
  },
  {
   "cell_type": "markdown",
   "id": "93fae684",
   "metadata": {
    "id": "93fae684"
   },
   "source": [
    "\\begin{align}\n",
    "U_{N=8} (\\pi)\\approx \\left(\\Big(e^{-i\\pi X\\otimes X/8}e^{-i\\pi Y\\otimes Y/8}e^{-i\\pi Z\\otimes Z/8}\\otimes I\\Big)\\Big(I\\otimes e^{-i\\pi X\\otimes X/8}e^{-i\\pi Y\\otimes Y/8}e^{-i\\pi Z \\otimes Z/8}\\Big)\\right)^{8}.\n",
    "\\end{align}\n",
    "\n",
    "- See the `supplementary.ipynb` material for derivations."
   ]
  },
  {
   "cell_type": "markdown",
   "id": "df5217d1",
   "metadata": {
    "id": "df5217d1"
   },
   "source": [
    "**Decomposition of $U_{\\text{heis3}}(t)$:**"
   ]
  },
  {
   "cell_type": "code",
   "execution_count": 13,
   "id": "037f46e2",
   "metadata": {
    "id": "037f46e2"
   },
   "outputs": [],
   "source": [
    "# Parameterize variable t to be evaluated at t=pi later\n",
    "t = Parameter('t')"
   ]
  },
  {
   "cell_type": "markdown",
   "id": "2cc623ee",
   "metadata": {
    "id": "2cc623ee"
   },
   "source": [
    "**The $e^{-itXX}$ gate:**"
   ]
  },
  {
   "cell_type": "code",
   "execution_count": 14,
   "id": "90231818",
   "metadata": {
    "id": "90231818"
   },
   "outputs": [],
   "source": [
    "# Build a subcircuit for XX(t) two-qubit gate\n",
    "XX_qr = QuantumRegister(2)\n",
    "XX_qc = QuantumCircuit(XX_qr, name='XX')\n",
    "\n",
    "XX_qc.ry(np.pi/2,[0,1])\n",
    "XX_qc.cnot(0,1)\n",
    "XX_qc.rz(2 * t, 1)\n",
    "XX_qc.cnot(0,1)\n",
    "XX_qc.ry(-np.pi/2,[0,1])\n",
    "\n",
    "# Convert custom quantum circuit into a gate\n",
    "XX = XX_qc.to_instruction()"
   ]
  },
  {
   "cell_type": "code",
   "execution_count": 15,
   "id": "affbfa90",
   "metadata": {
    "id": "affbfa90",
    "outputId": "21f6ff52-477c-4f9b-923e-c9532a558eeb"
   },
   "outputs": [
    {
     "data": {
      "text/html": [
       "<pre style=\"word-wrap: normal;white-space: pre;background: #fff0;line-height: 1.1;font-family: &quot;Courier New&quot;,Courier,monospace\">      ┌─────────┐                     ┌──────────┐\n",
       "q1_0: ┤ Ry(π/2) ├──■───────────────■──┤ Ry(-π/2) ├\n",
       "      ├─────────┤┌─┴─┐┌─────────┐┌─┴─┐├──────────┤\n",
       "q1_1: ┤ Ry(π/2) ├┤ X ├┤ Rz(2*t) ├┤ X ├┤ Ry(-π/2) ├\n",
       "      └─────────┘└───┘└─────────┘└───┘└──────────┘</pre>"
      ],
      "text/plain": [
       "      ┌─────────┐                     ┌──────────┐\n",
       "q1_0: ┤ Ry(π/2) ├──■───────────────■──┤ Ry(-π/2) ├\n",
       "      ├─────────┤┌─┴─┐┌─────────┐┌─┴─┐├──────────┤\n",
       "q1_1: ┤ Ry(π/2) ├┤ X ├┤ Rz(2*t) ├┤ X ├┤ Ry(-π/2) ├\n",
       "      └─────────┘└───┘└─────────┘└───┘└──────────┘"
      ]
     },
     "execution_count": 15,
     "metadata": {},
     "output_type": "execute_result"
    }
   ],
   "source": [
    "XX_qc.draw()"
   ]
  },
  {
   "cell_type": "markdown",
   "id": "61f1eb53",
   "metadata": {
    "id": "61f1eb53"
   },
   "source": [
    "From the fact that $H|0\\rangle = R_y(\\pi/2)|0\\rangle = |+\\rangle = \\frac{1}{\\sqrt{2}}(|0\\rangle+|1\\rangle)$, one equivalent quantum circuit is:"
   ]
  },
  {
   "cell_type": "code",
   "execution_count": 16,
   "id": "4d770f07",
   "metadata": {
    "id": "4d770f07",
    "outputId": "42560bf7-60d3-40e8-abe1-f4f5acfdcc2b"
   },
   "outputs": [
    {
     "data": {
      "text/html": [
       "<pre style=\"word-wrap: normal;white-space: pre;background: #fff0;line-height: 1.1;font-family: &quot;Courier New&quot;,Courier,monospace\">     ┌───┐                     ┌───┐\n",
       "q_0: ┤ H ├──■───────────────■──┤ H ├\n",
       "     ├───┤┌─┴─┐┌─────────┐┌─┴─┐├───┤\n",
       "q_1: ┤ H ├┤ X ├┤ Rz(2*t) ├┤ X ├┤ H ├\n",
       "     └───┘└───┘└─────────┘└───┘└───┘</pre>"
      ],
      "text/plain": [
       "     ┌───┐                     ┌───┐\n",
       "q_0: ┤ H ├──■───────────────■──┤ H ├\n",
       "     ├───┤┌─┴─┐┌─────────┐┌─┴─┐├───┤\n",
       "q_1: ┤ H ├┤ X ├┤ Rz(2*t) ├┤ X ├┤ H ├\n",
       "     └───┘└───┘└─────────┘└───┘└───┘"
      ]
     },
     "execution_count": 16,
     "metadata": {},
     "output_type": "execute_result"
    }
   ],
   "source": [
    "# Equivalent circuit:\n",
    "\n",
    "qc = QuantumCircuit(2)\n",
    "qc.h([0,1])\n",
    "qc.cx(0, 1)\n",
    "qc.rz(2 * t, 1)\n",
    "qc.cx(0, 1)\n",
    "qc.h([0,1])\n",
    "qc.draw()"
   ]
  },
  {
   "cell_type": "markdown",
   "id": "9532acd2",
   "metadata": {
    "id": "9532acd2"
   },
   "source": [
    "**The $e^{-itYY}$ gate:**"
   ]
  },
  {
   "cell_type": "code",
   "execution_count": 17,
   "id": "b5c43614",
   "metadata": {
    "id": "b5c43614"
   },
   "outputs": [],
   "source": [
    "# Build a subcircuit for YY(t) two-qubit gate\n",
    "YY_qr = QuantumRegister(2)\n",
    "YY_qc = QuantumCircuit(YY_qr, name='YY')\n",
    "\n",
    "YY_qc.rx(np.pi/2,[0,1])\n",
    "YY_qc.cnot(0,1)\n",
    "YY_qc.rz(2 * t, 1)\n",
    "YY_qc.cnot(0,1)\n",
    "YY_qc.rx(-np.pi/2,[0,1])\n",
    "\n",
    "# Convert custom quantum circuit into a gate\n",
    "YY = YY_qc.to_instruction()"
   ]
  },
  {
   "cell_type": "code",
   "execution_count": 18,
   "id": "d95267c0",
   "metadata": {
    "id": "d95267c0",
    "outputId": "01f891fc-36e8-4300-d584-1e04e1d392df"
   },
   "outputs": [
    {
     "data": {
      "text/html": [
       "<pre style=\"word-wrap: normal;white-space: pre;background: #fff0;line-height: 1.1;font-family: &quot;Courier New&quot;,Courier,monospace\">      ┌─────────┐                     ┌──────────┐\n",
       "q2_0: ┤ Rx(π/2) ├──■───────────────■──┤ Rx(-π/2) ├\n",
       "      ├─────────┤┌─┴─┐┌─────────┐┌─┴─┐├──────────┤\n",
       "q2_1: ┤ Rx(π/2) ├┤ X ├┤ Rz(2*t) ├┤ X ├┤ Rx(-π/2) ├\n",
       "      └─────────┘└───┘└─────────┘└───┘└──────────┘</pre>"
      ],
      "text/plain": [
       "      ┌─────────┐                     ┌──────────┐\n",
       "q2_0: ┤ Rx(π/2) ├──■───────────────■──┤ Rx(-π/2) ├\n",
       "      ├─────────┤┌─┴─┐┌─────────┐┌─┴─┐├──────────┤\n",
       "q2_1: ┤ Rx(π/2) ├┤ X ├┤ Rz(2*t) ├┤ X ├┤ Rx(-π/2) ├\n",
       "      └─────────┘└───┘└─────────┘└───┘└──────────┘"
      ]
     },
     "execution_count": 18,
     "metadata": {},
     "output_type": "execute_result"
    }
   ],
   "source": [
    "YY_qc.draw()"
   ]
  },
  {
   "cell_type": "markdown",
   "id": "dd60b7f9",
   "metadata": {
    "id": "dd60b7f9"
   },
   "source": [
    "From the fact that $ SH|0\\rangle = R_x(\\pi/2)|0\\rangle) = \\frac{1}{\\sqrt{2}}(|0\\rangle+i|1\\rangle) $, one equivalent quantum circuit is:"
   ]
  },
  {
   "cell_type": "code",
   "execution_count": 19,
   "id": "6786401c",
   "metadata": {
    "id": "6786401c",
    "outputId": "719c141a-fb00-4743-f02f-083b9b86a0db"
   },
   "outputs": [
    {
     "data": {
      "text/html": [
       "<pre style=\"word-wrap: normal;white-space: pre;background: #fff0;line-height: 1.1;font-family: &quot;Courier New&quot;,Courier,monospace\">     ┌─────┐┌───┐                     ┌───┐┌───┐\n",
       "q_0: ┤ Sdg ├┤ H ├──■───────────────■──┤ H ├┤ S ├\n",
       "     ├─────┤├───┤┌─┴─┐┌─────────┐┌─┴─┐├───┤├───┤\n",
       "q_1: ┤ Sdg ├┤ H ├┤ X ├┤ Rz(2*t) ├┤ X ├┤ H ├┤ S ├\n",
       "     └─────┘└───┘└───┘└─────────┘└───┘└───┘└───┘</pre>"
      ],
      "text/plain": [
       "     ┌─────┐┌───┐                     ┌───┐┌───┐\n",
       "q_0: ┤ Sdg ├┤ H ├──■───────────────■──┤ H ├┤ S ├\n",
       "     ├─────┤├───┤┌─┴─┐┌─────────┐┌─┴─┐├───┤├───┤\n",
       "q_1: ┤ Sdg ├┤ H ├┤ X ├┤ Rz(2*t) ├┤ X ├┤ H ├┤ S ├\n",
       "     └─────┘└───┘└───┘└─────────┘└───┘└───┘└───┘"
      ]
     },
     "execution_count": 19,
     "metadata": {},
     "output_type": "execute_result"
    }
   ],
   "source": [
    "# Equivalent circuit:\n",
    "\n",
    "qc = QuantumCircuit(2)\n",
    "qc.sdg([0,1])\n",
    "qc.h([0,1])\n",
    "qc.cx(0, 1)\n",
    "qc.rz(2 * t, 1)\n",
    "qc.cx(0, 1)\n",
    "qc.h([0,1])\n",
    "qc.s([0,1])\n",
    "qc.draw()"
   ]
  },
  {
   "cell_type": "markdown",
   "id": "d2ae900d",
   "metadata": {
    "id": "d2ae900d"
   },
   "source": [
    "**The $e^{-itZZ}$ gate:**"
   ]
  },
  {
   "cell_type": "code",
   "execution_count": 20,
   "id": "f986c80e",
   "metadata": {
    "id": "f986c80e"
   },
   "outputs": [],
   "source": [
    "# Build a subcircuit for ZZ(t) two-qubit gate\n",
    "ZZ_qr = QuantumRegister(2)\n",
    "ZZ_qc = QuantumCircuit(ZZ_qr, name='ZZ')\n",
    "\n",
    "ZZ_qc.cnot(0,1)\n",
    "ZZ_qc.rz(2 * t, 1)\n",
    "ZZ_qc.cnot(0,1)\n",
    "\n",
    "# Convert custom quantum circuit into a gate\n",
    "ZZ = ZZ_qc.to_instruction()"
   ]
  },
  {
   "cell_type": "code",
   "execution_count": 21,
   "id": "b71feb8c",
   "metadata": {
    "id": "b71feb8c",
    "outputId": "916ff577-30b3-4b4c-dd7c-d1d04c477d4e"
   },
   "outputs": [
    {
     "data": {
      "text/html": [
       "<pre style=\"word-wrap: normal;white-space: pre;background: #fff0;line-height: 1.1;font-family: &quot;Courier New&quot;,Courier,monospace\">                           \n",
       "q3_0: ──■───────────────■──\n",
       "      ┌─┴─┐┌─────────┐┌─┴─┐\n",
       "q3_1: ┤ X ├┤ Rz(2*t) ├┤ X ├\n",
       "      └───┘└─────────┘└───┘</pre>"
      ],
      "text/plain": [
       "                           \n",
       "q3_0: ──■───────────────■──\n",
       "      ┌─┴─┐┌─────────┐┌─┴─┐\n",
       "q3_1: ┤ X ├┤ Rz(2*t) ├┤ X ├\n",
       "      └───┘└─────────┘└───┘"
      ]
     },
     "execution_count": 21,
     "metadata": {},
     "output_type": "execute_result"
    }
   ],
   "source": [
    "#ZZ_qc.draw(output='mpl') # Requires 'pip install pylatexenc' library to use 'MatplotlibDrawer'.\n",
    "ZZ_qc.draw()"
   ]
  },
  {
   "cell_type": "markdown",
   "id": "85452d68",
   "metadata": {
    "id": "85452d68"
   },
   "source": [
    "**The full quantum circuit for one Trotter step:**"
   ]
  },
  {
   "cell_type": "code",
   "execution_count": 22,
   "id": "489f9d86",
   "metadata": {
    "id": "489f9d86"
   },
   "outputs": [],
   "source": [
    "# Combine subcircuits into a single multiqubit gate representing a single trotter step\n",
    "num_qubits = 3\n",
    "\n",
    "Trot_qr = QuantumRegister(num_qubits)\n",
    "Trot_qc = QuantumCircuit(Trot_qr, name='Trot')\n",
    "\n",
    "for i in range(0, num_qubits - 1):\n",
    "    Trot_qc.append(ZZ, [Trot_qr[i], Trot_qr[i+1]])\n",
    "    Trot_qc.append(YY, [Trot_qr[i], Trot_qr[i+1]])\n",
    "    Trot_qc.append(XX, [Trot_qr[i], Trot_qr[i+1]])\n",
    "\n",
    "# Convert custom quantum circuit into a gate\n",
    "Trot_gate = Trot_qc.to_instruction()"
   ]
  },
  {
   "cell_type": "code",
   "execution_count": 23,
   "id": "bfbbeb9c",
   "metadata": {
    "id": "bfbbeb9c",
    "outputId": "b2012153-4237-480e-dffa-5078ddd5ace8"
   },
   "outputs": [
    {
     "data": {
      "text/html": [
       "<pre style=\"word-wrap: normal;white-space: pre;background: #fff0;line-height: 1.1;font-family: &quot;Courier New&quot;,Courier,monospace\">      ┌────────┐┌────────┐┌────────┐                              \n",
       "q4_0: ┤0       ├┤0       ├┤0       ├──────────────────────────────\n",
       "      │  ZZ(t) ││  YY(t) ││  XX(t) │┌────────┐┌────────┐┌────────┐\n",
       "q4_1: ┤1       ├┤1       ├┤1       ├┤0       ├┤0       ├┤0       ├\n",
       "      └────────┘└────────┘└────────┘│  ZZ(t) ││  YY(t) ││  XX(t) │\n",
       "q4_2: ──────────────────────────────┤1       ├┤1       ├┤1       ├\n",
       "                                    └────────┘└────────┘└────────┘</pre>"
      ],
      "text/plain": [
       "      ┌────────┐┌────────┐┌────────┐                              \n",
       "q4_0: ┤0       ├┤0       ├┤0       ├──────────────────────────────\n",
       "      │  ZZ(t) ││  YY(t) ││  XX(t) │┌────────┐┌────────┐┌────────┐\n",
       "q4_1: ┤1       ├┤1       ├┤1       ├┤0       ├┤0       ├┤0       ├\n",
       "      └────────┘└────────┘└────────┘│  ZZ(t) ││  YY(t) ││  XX(t) │\n",
       "q4_2: ──────────────────────────────┤1       ├┤1       ├┤1       ├\n",
       "                                    └────────┘└────────┘└────────┘"
      ]
     },
     "execution_count": 23,
     "metadata": {},
     "output_type": "execute_result"
    }
   ],
   "source": [
    "Trot_qc.draw()"
   ]
  },
  {
   "cell_type": "code",
   "execution_count": 24,
   "id": "8b6c0129",
   "metadata": {
    "id": "8b6c0129",
    "outputId": "301da9ef-da5b-450b-e3a0-11f692100e92"
   },
   "outputs": [
    {
     "data": {
      "text/html": [
       "<pre style=\"word-wrap: normal;white-space: pre;background: #fff0;line-height: 1.1;font-family: &quot;Courier New&quot;,Courier,monospace\">                           ┌─────────┐                     ┌──────────┐»\n",
       "q4_0: ──■───────────────■──┤ Rx(π/2) ├──■───────────────■──┤ Rx(-π/2) ├»\n",
       "      ┌─┴─┐┌─────────┐┌─┴─┐├─────────┤┌─┴─┐┌─────────┐┌─┴─┐├──────────┤»\n",
       "q4_1: ┤ X ├┤ Rz(2*t) ├┤ X ├┤ Rx(π/2) ├┤ X ├┤ Rz(2*t) ├┤ X ├┤ Rx(-π/2) ├»\n",
       "      └───┘└─────────┘└───┘└─────────┘└───┘└─────────┘└───┘└──────────┘»\n",
       "q4_2: ─────────────────────────────────────────────────────────────────»\n",
       "                                                                       »\n",
       "«      ┌─────────┐                     ┌──────────┐                     »\n",
       "«q4_0: ┤ Ry(π/2) ├──■───────────────■──┤ Ry(-π/2) ├─────────────────────»\n",
       "«      ├─────────┤┌─┴─┐┌─────────┐┌─┴─┐├──────────┤                     »\n",
       "«q4_1: ┤ Ry(π/2) ├┤ X ├┤ Rz(2*t) ├┤ X ├┤ Ry(-π/2) ├──■───────────────■──»\n",
       "«      └─────────┘└───┘└─────────┘└───┘└──────────┘┌─┴─┐┌─────────┐┌─┴─┐»\n",
       "«q4_2: ────────────────────────────────────────────┤ X ├┤ Rz(2*t) ├┤ X ├»\n",
       "«                                                  └───┘└─────────┘└───┘»\n",
       "«                                                                             »\n",
       "«q4_0: ───────────────────────────────────────────────────────────────────────»\n",
       "«      ┌─────────┐                     ┌──────────┐┌─────────┐                »\n",
       "«q4_1: ┤ Rx(π/2) ├──■───────────────■──┤ Rx(-π/2) ├┤ Ry(π/2) ├──■─────────────»\n",
       "«      ├─────────┤┌─┴─┐┌─────────┐┌─┴─┐├──────────┤├─────────┤┌─┴─┐┌─────────┐»\n",
       "«q4_2: ┤ Rx(π/2) ├┤ X ├┤ Rz(2*t) ├┤ X ├┤ Rx(-π/2) ├┤ Ry(π/2) ├┤ X ├┤ Rz(2*t) ├»\n",
       "«      └─────────┘└───┘└─────────┘└───┘└──────────┘└─────────┘└───┘└─────────┘»\n",
       "«                       \n",
       "«q4_0: ─────────────────\n",
       "«           ┌──────────┐\n",
       "«q4_1: ──■──┤ Ry(-π/2) ├\n",
       "«      ┌─┴─┐├──────────┤\n",
       "«q4_2: ┤ X ├┤ Ry(-π/2) ├\n",
       "«      └───┘└──────────┘</pre>"
      ],
      "text/plain": [
       "                           ┌─────────┐                     ┌──────────┐»\n",
       "q4_0: ──■───────────────■──┤ Rx(π/2) ├──■───────────────■──┤ Rx(-π/2) ├»\n",
       "      ┌─┴─┐┌─────────┐┌─┴─┐├─────────┤┌─┴─┐┌─────────┐┌─┴─┐├──────────┤»\n",
       "q4_1: ┤ X ├┤ Rz(2*t) ├┤ X ├┤ Rx(π/2) ├┤ X ├┤ Rz(2*t) ├┤ X ├┤ Rx(-π/2) ├»\n",
       "      └───┘└─────────┘└───┘└─────────┘└───┘└─────────┘└───┘└──────────┘»\n",
       "q4_2: ─────────────────────────────────────────────────────────────────»\n",
       "                                                                       »\n",
       "«      ┌─────────┐                     ┌──────────┐                     »\n",
       "«q4_0: ┤ Ry(π/2) ├──■───────────────■──┤ Ry(-π/2) ├─────────────────────»\n",
       "«      ├─────────┤┌─┴─┐┌─────────┐┌─┴─┐├──────────┤                     »\n",
       "«q4_1: ┤ Ry(π/2) ├┤ X ├┤ Rz(2*t) ├┤ X ├┤ Ry(-π/2) ├──■───────────────■──»\n",
       "«      └─────────┘└───┘└─────────┘└───┘└──────────┘┌─┴─┐┌─────────┐┌─┴─┐»\n",
       "«q4_2: ────────────────────────────────────────────┤ X ├┤ Rz(2*t) ├┤ X ├»\n",
       "«                                                  └───┘└─────────┘└───┘»\n",
       "«                                                                             »\n",
       "«q4_0: ───────────────────────────────────────────────────────────────────────»\n",
       "«      ┌─────────┐                     ┌──────────┐┌─────────┐                »\n",
       "«q4_1: ┤ Rx(π/2) ├──■───────────────■──┤ Rx(-π/2) ├┤ Ry(π/2) ├──■─────────────»\n",
       "«      ├─────────┤┌─┴─┐┌─────────┐┌─┴─┐├──────────┤├─────────┤┌─┴─┐┌─────────┐»\n",
       "«q4_2: ┤ Rx(π/2) ├┤ X ├┤ Rz(2*t) ├┤ X ├┤ Rx(-π/2) ├┤ Ry(π/2) ├┤ X ├┤ Rz(2*t) ├»\n",
       "«      └─────────┘└───┘└─────────┘└───┘└──────────┘└─────────┘└───┘└─────────┘»\n",
       "«                       \n",
       "«q4_0: ─────────────────\n",
       "«           ┌──────────┐\n",
       "«q4_1: ──■──┤ Ry(-π/2) ├\n",
       "«      ┌─┴─┐├──────────┤\n",
       "«q4_2: ┤ X ├┤ Ry(-π/2) ├\n",
       "«      └───┘└──────────┘"
      ]
     },
     "execution_count": 24,
     "metadata": {},
     "output_type": "execute_result"
    }
   ],
   "source": [
    "Trot_qc.decompose().draw()"
   ]
  },
  {
   "cell_type": "markdown",
   "id": "86c0f796",
   "metadata": {
    "id": "86c0f796"
   },
   "source": [
    "**Trotterized Time Evolution:**"
   ]
  },
  {
   "cell_type": "code",
   "execution_count": 25,
   "id": "66def376",
   "metadata": {
    "id": "66def376",
    "outputId": "ba2a796a-dae5-49ba-dc20-f2787d37465f"
   },
   "outputs": [
    {
     "data": {
      "text/html": [
       "<pre style=\"word-wrap: normal;white-space: pre;background: #fff0;line-height: 1.1;font-family: &quot;Courier New&quot;,Courier,monospace\">                                                                   »\n",
       "q5_0: ─────────────────────────────────────────────────────────────»\n",
       "           ┌────────────┐┌────────────┐┌────────────┐┌────────────┐»\n",
       "q5_1: ─────┤0           ├┤0           ├┤0           ├┤0           ├»\n",
       "           │            ││            ││            ││            │»\n",
       "q5_2: ─────┤            ├┤            ├┤            ├┤            ├»\n",
       "      ┌───┐│            ││            ││            ││            │»\n",
       "q5_3: ┤ X ├┤1 Trot(π/8) ├┤1 Trot(π/8) ├┤1 Trot(π/8) ├┤1 Trot(π/8) ├»\n",
       "      └───┘│            ││            ││            ││            │»\n",
       "q5_4: ─────┤            ├┤            ├┤            ├┤            ├»\n",
       "      ┌───┐│            ││            ││            ││            │»\n",
       "q5_5: ┤ X ├┤2           ├┤2           ├┤2           ├┤2           ├»\n",
       "      └───┘└────────────┘└────────────┘└────────────┘└────────────┘»\n",
       "q5_6: ─────────────────────────────────────────────────────────────»\n",
       "                                                                   »\n",
       "c0: 3/═════════════════════════════════════════════════════════════»\n",
       "                                                                   »\n",
       "«                                                               ░          \n",
       "«q5_0: ─────────────────────────────────────────────────────────░──────────\n",
       "«      ┌────────────┐┌────────────┐┌────────────┐┌────────────┐ ░ ┌─┐      \n",
       "«q5_1: ┤0           ├┤0           ├┤0           ├┤0           ├─░─┤M├──────\n",
       "«      │            ││            ││            ││            │ ░ └╥┘      \n",
       "«q5_2: ┤            ├┤            ├┤            ├┤            ├─░──╫───────\n",
       "«      │            ││            ││            ││            │ ░  ║ ┌─┐   \n",
       "«q5_3: ┤1 Trot(π/8) ├┤1 Trot(π/8) ├┤1 Trot(π/8) ├┤1 Trot(π/8) ├─░──╫─┤M├───\n",
       "«      │            ││            ││            ││            │ ░  ║ └╥┘   \n",
       "«q5_4: ┤            ├┤            ├┤            ├┤            ├─░──╫──╫────\n",
       "«      │            ││            ││            ││            │ ░  ║  ║ ┌─┐\n",
       "«q5_5: ┤2           ├┤2           ├┤2           ├┤2           ├─░──╫──╫─┤M├\n",
       "«      └────────────┘└────────────┘└────────────┘└────────────┘ ░  ║  ║ └╥┘\n",
       "«q5_6: ─────────────────────────────────────────────────────────░──╫──╫──╫─\n",
       "«                                                               ░  ║  ║  ║ \n",
       "«c0: 3/════════════════════════════════════════════════════════════╩══╩══╩═\n",
       "«                                                                  0  1  2 </pre>"
      ],
      "text/plain": [
       "                                                                   »\n",
       "q5_0: ─────────────────────────────────────────────────────────────»\n",
       "           ┌────────────┐┌────────────┐┌────────────┐┌────────────┐»\n",
       "q5_1: ─────┤0           ├┤0           ├┤0           ├┤0           ├»\n",
       "           │            ││            ││            ││            │»\n",
       "q5_2: ─────┤            ├┤            ├┤            ├┤            ├»\n",
       "      ┌───┐│            ││            ││            ││            │»\n",
       "q5_3: ┤ X ├┤1 Trot(π/8) ├┤1 Trot(π/8) ├┤1 Trot(π/8) ├┤1 Trot(π/8) ├»\n",
       "      └───┘│            ││            ││            ││            │»\n",
       "q5_4: ─────┤            ├┤            ├┤            ├┤            ├»\n",
       "      ┌───┐│            ││            ││            ││            │»\n",
       "q5_5: ┤ X ├┤2           ├┤2           ├┤2           ├┤2           ├»\n",
       "      └───┘└────────────┘└────────────┘└────────────┘└────────────┘»\n",
       "q5_6: ─────────────────────────────────────────────────────────────»\n",
       "                                                                   »\n",
       "c0: 3/═════════════════════════════════════════════════════════════»\n",
       "                                                                   »\n",
       "«                                                               ░          \n",
       "«q5_0: ─────────────────────────────────────────────────────────░──────────\n",
       "«      ┌────────────┐┌────────────┐┌────────────┐┌────────────┐ ░ ┌─┐      \n",
       "«q5_1: ┤0           ├┤0           ├┤0           ├┤0           ├─░─┤M├──────\n",
       "«      │            ││            ││            ││            │ ░ └╥┘      \n",
       "«q5_2: ┤            ├┤            ├┤            ├┤            ├─░──╫───────\n",
       "«      │            ││            ││            ││            │ ░  ║ ┌─┐   \n",
       "«q5_3: ┤1 Trot(π/8) ├┤1 Trot(π/8) ├┤1 Trot(π/8) ├┤1 Trot(π/8) ├─░──╫─┤M├───\n",
       "«      │            ││            ││            ││            │ ░  ║ └╥┘   \n",
       "«q5_4: ┤            ├┤            ├┤            ├┤            ├─░──╫──╫────\n",
       "«      │            ││            ││            ││            │ ░  ║  ║ ┌─┐\n",
       "«q5_5: ┤2           ├┤2           ├┤2           ├┤2           ├─░──╫──╫─┤M├\n",
       "«      └────────────┘└────────────┘└────────────┘└────────────┘ ░  ║  ║ └╥┘\n",
       "«q5_6: ─────────────────────────────────────────────────────────░──╫──╫──╫─\n",
       "«                                                               ░  ║  ║  ║ \n",
       "«c0: 3/════════════════════════════════════════════════════════════╩══╩══╩═\n",
       "«                                                                  0  1  2 "
      ]
     },
     "execution_count": 25,
     "metadata": {},
     "output_type": "execute_result"
    }
   ],
   "source": [
    "# The final time of the state evolution\n",
    "target_time = np.pi\n",
    "\n",
    "# Number of trotter steps\n",
    "trotter_steps = 8  \n",
    "\n",
    "# Initialize quantum circuit for 3 qubits\n",
    "qr = QuantumRegister(7)\n",
    "qc = QuantumCircuit(qr)\n",
    "\n",
    "# Prepare initial state (remember we are only evolving 3 of the 7 qubits on jakarta qubits (q_5, q_3, q_1) corresponding to the state |110>)\n",
    "qc.x([3,5])  # DO NOT MODIFY (|q_5,q_3,q_1> = |110>)\n",
    "\n",
    "# Simulate time evolution under H_heis3 Hamiltonian\n",
    "for _ in range(trotter_steps):\n",
    "    qc.append(Trot_gate, [qr[1], qr[3], qr[5]])\n",
    "\n",
    "# Evaluate simulation at target_time (t=pi) meaning each trotter step evolves pi/trotter_steps in time\n",
    "qc = qc.bind_parameters({t: target_time/trotter_steps})\n",
    "\n",
    "# Generate state tomography circuits to evaluate fidelity of simulation\n",
    "st_qcs = state_tomography_circuits(qc, [qr[1], qr[3], qr[5]])\n",
    "\n",
    "# Display circuit for confirmation\n",
    "# st_qcs[-1].decompose().draw()  # view decomposition of trotter gates\n",
    "st_qcs[-1].draw()  # only view trotter gates"
   ]
  },
  {
   "cell_type": "markdown",
   "id": "7e17fae0",
   "metadata": {
    "id": "7e17fae0"
   },
   "source": [
    "## Running on Real/Fake Jakarta Backend"
   ]
  },
  {
   "cell_type": "code",
   "execution_count": 32,
   "id": "0e04a4fe",
   "metadata": {
    "id": "0e04a4fe",
    "outputId": "cd92eaf0-0494-4d39-b6b2-636be4a120de"
   },
   "outputs": [
    {
     "name": "stdout",
     "output_type": "stream",
     "text": [
      "Job ID b31780b5-473f-43c4-9872-d2db3c615bac\n",
      "Job ID da269c08-5249-4328-85da-58e4c30baa49\n",
      "Job ID 74452e75-4d6d-415d-bc38-9a3556bb95bc\n",
      "Job ID 6528543c-8c04-4cf4-a6ce-35403f9ed2d1\n",
      "Job ID d86a8d09-ac83-45f0-9d87-8b68af5426d9\n",
      "Job ID fd2cf159-22cf-4f1a-98bc-88c1183868d2\n",
      "Job ID 18021d22-ac1e-4e98-bea4-6d2036dc47dd\n",
      "Job ID 5ad7d934-b8c9-468c-bb77-2d6b7907ca4c\n"
     ]
    }
   ],
   "source": [
    "shots = 8192\n",
    "reps = 8 # Change to 8 and run it again!\n",
    "backend = sim_noisy_jakarta\n",
    "# backend = jakarta # Uncomment this line to run o the real Jakarta backend.\n",
    "\n",
    "jobs = []\n",
    "for _ in range(reps):\n",
    "    # execute\n",
    "    job = execute(st_qcs, backend, shots=shots)\n",
    "    print('Job ID', job.job_id())\n",
    "    jobs.append(job)"
   ]
  },
  {
   "cell_type": "code",
   "execution_count": 33,
   "id": "9e15de4f",
   "metadata": {
    "id": "9e15de4f",
    "outputId": "a9614433-fdfa-4b3e-e472-68513a85dee9"
   },
   "outputs": [
    {
     "name": "stdout",
     "output_type": "stream",
     "text": [
      "Job Status: job has successfully run\n",
      "Job Status: job has successfully run\n",
      "Job Status: job has successfully run\n",
      "Job Status: job has successfully run\n",
      "Job Status: job has successfully run\n",
      "Job Status: job has successfully run\n",
      "Job Status: job has successfully run\n",
      "Job Status: job has successfully run\n"
     ]
    }
   ],
   "source": [
    "for job in jobs:\n",
    "    job_monitor(job)\n",
    "    try:\n",
    "        if job.error_message() is not None:\n",
    "            print(job.error_message())\n",
    "    except:\n",
    "        pass"
   ]
  },
  {
   "cell_type": "code",
   "execution_count": 34,
   "id": "52155f6f",
   "metadata": {
    "id": "52155f6f",
    "outputId": "18526488-d825-443d-9dd0-423c0135d166"
   },
   "outputs": [
    {
     "name": "stdout",
     "output_type": "stream",
     "text": [
      "state tomography fidelity = 0.3240 ± 0.0023\n"
     ]
    }
   ],
   "source": [
    "# Compute the state tomography based on the st_qcs quantum circuits and the results from those ciricuits\n",
    "def state_tomo(result, st_qcs):\n",
    "    # The expected final state; necessary to determine state tomography fidelity\n",
    "    target_state = (One^One^Zero).to_matrix()  # DO NOT MODIFY (|q_5,q_3,q_1> = |110>)\n",
    "    # Fit state tomography results\n",
    "    tomo_fitter = StateTomographyFitter(result, st_qcs)\n",
    "    rho_fit = tomo_fitter.fit(method='lstsq')\n",
    "    # Compute fidelity\n",
    "    fid = state_fidelity(rho_fit, target_state)\n",
    "    return fid\n",
    "\n",
    "# Compute tomography fidelities for each repetition\n",
    "fids = []\n",
    "for job in jobs:\n",
    "    fid = state_tomo(job.result(), st_qcs)\n",
    "    fids.append(fid)\n",
    "    \n",
    "print('state tomography fidelity = {:.4f} \\u00B1 {:.4f}'.format(np.mean(fids), np.std(fids)))"
   ]
  },
  {
   "cell_type": "markdown",
   "id": "h8S-Zcr5MNGy",
   "metadata": {
    "id": "h8S-Zcr5MNGy"
   },
   "source": [
    "# &nbsp; <a href=\"#\"><img valign=\"middle\" height=\"45px\" src=\"https://img.icons8.com/book\" width=\"45\" hspace=\"0px\" vspace=\"0px\"></a> References"
   ]
  },
  {
   "cell_type": "markdown",
   "id": "Nz6n8K75MPSO",
   "metadata": {
    "id": "Nz6n8K75MPSO"
   },
   "source": [
    "\\[1] Nielsen MA, Chuang IL. 2010. Quantum Computation and Quantum Information. New York: [Cambridge Univ. Press.](https://doi.org/10.1017/CBO9780511976667) 10th Anniv. Ed. Chapter 4.7.2: The quantum simulation algorithm, pg. 207, Theorem 4.3: (Trotter formula). Chapter 9.2.2: Fidelity, pg. 409.\n",
    "  \n",
    "\\[2] Griffiths, David J., and Darrell F. Schroeter. Introduction to quantum mechanics. Cambridge University Press, 2018.\n",
    "\n",
    "\\[3] [ibmq-qsim-challenge.ipynb](https://github.com/qiskit-community/open-science-prize-2021/blob/main/ibmq-qsim-challenge.ipynb).\n",
    "\n",
    "\\[4] [ibmq-qsim-sup-mat.ipynb](https://github.com/qiskit-community/open-science-prize-2021/blob/main/ibmq-qsim-sup-mat.ipynb)."
   ]
  }
 ],
 "metadata": {
  "colab": {
   "collapsed_sections": [
    "o7T8z2f8IMiu",
    "CP90ECuVAyxY",
    "e-hWPrpbDbgf",
    "f6253f4b",
    "Gd4rQeUjM7Y8",
    "h8S-Zcr5MNGy"
   ],
   "name": "camponogara-lucas-qd-osp-2022.ipynb",
   "provenance": []
  },
  "kernelspec": {
   "display_name": "Python 3 (ipykernel)",
   "language": "python",
   "name": "python3"
  },
  "language_info": {
   "codemirror_mode": {
    "name": "ipython",
    "version": 3
   },
   "file_extension": ".py",
   "mimetype": "text/x-python",
   "name": "python",
   "nbconvert_exporter": "python",
   "pygments_lexer": "ipython3",
   "version": "3.7.13"
  }
 },
 "nbformat": 4,
 "nbformat_minor": 5
}
